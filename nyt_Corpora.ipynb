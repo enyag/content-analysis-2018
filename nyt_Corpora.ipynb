{
 "cells": [
  {
   "cell_type": "code",
   "execution_count": 198,
   "metadata": {
    "collapsed": true
   },
   "outputs": [],
   "source": [
    "import pandas\n",
    "import os\n",
    "from os import listdir\n",
    "from os.path import isfile, join\n",
    "import re"
   ]
  },
  {
   "cell_type": "code",
   "execution_count": 199,
   "metadata": {
    "collapsed": true
   },
   "outputs": [],
   "source": [
    "targetDir = '/Users/Enya/Desktop/content-analysis-2018/data/new_york_times'"
   ]
  },
  {
   "cell_type": "code",
   "execution_count": 221,
   "metadata": {
    "collapsed": true
   },
   "outputs": [],
   "source": [
    "def getText(x):\n",
    "    reResults = re.findall(r'(DOCUMENTS)(.*?)((Copyright)\\s+(\\d{4}))', x.replace('\\n', ' '), flags = re.M)\n",
    "    return[t[1] for t in reResults]\n",
    "\n",
    "def getDate(x) :\n",
    "    reResults = re.findall(r'(LOAD-DATE)(.*?)(LANGUAGE)', x.replace('\\n', ' '))\n",
    "    return[t[1] for t in reResults]"
   ]
  },
  {
   "cell_type": "code",
   "execution_count": 222,
   "metadata": {},
   "outputs": [],
   "source": [
    "nytText = []\n",
    "nytDate = []\n",
    "\n",
    "for file in (file for file in os.scandir(targetDir) if file.is_file() and not file.name.startswith('.')):\n",
    "    with open(file.path, encoding='utf-8') as f:\n",
    "        workingText = f.read()\n",
    "        workingText = str(workingText)\n",
    "        goodText = getText(workingText)\n",
    "        date = getDate(workingText)\n",
    "        nytText += goodText\n",
    "        nytDate += date\n",
    "\n",
    "nytDF = pandas.DataFrame({'date' : nytDate, 'article' : nytText})"
   ]
  },
  {
   "cell_type": "code",
   "execution_count": 223,
   "metadata": {},
   "outputs": [
    {
     "name": "stdout",
     "output_type": "stream",
     "text": [
      "                                                article                   date\n",
      "0                                    The New York Ti...    : January 6, 2014  \n",
      "1                                       The New York...   : January 10, 2014  \n",
      "2                                       The New York...   : January 15, 2014  \n",
      "3                                       The New York...   : January 17, 2014  \n",
      "4                                       The New York...   : January 18, 2014  \n",
      "5                                       The New York...   : January 22, 2014  \n",
      "6                                       The New York...   : January 20, 2014  \n",
      "7                                       The New York...   : January 20, 2014  \n",
      "8                                    The New York Ti...   : January 21, 2014  \n",
      "9                                    The New York Ti...   : January 22, 2014  \n",
      "10                                      The New York...   : January 24, 2014  \n",
      "11                                   The New York Ti...   : January 24, 2014  \n",
      "12                                   The New York Ti...   : January 27, 2014  \n",
      "13                                      The New York...   : January 28, 2014  \n",
      "14                                   The New York Ti...   : January 29, 2014  \n",
      "15                                   The New York Ti...   : January 29, 2014  \n",
      "16                                      The New York...   : January 30, 2014  \n",
      "17                                      The New York...   : January 31, 2014  \n",
      "18                                   The New York Ti...   : January 31, 2014  \n",
      "19                                      The New York...  : February 12, 2014  \n",
      "20                                   The New York Ti...  : February 14, 2014  \n",
      "21                                   The New York Ti...  : February 20, 2014  \n",
      "22                                      The New York...  : February 25, 2014  \n",
      "23                                      The New York...  : February 26, 2014  \n",
      "24                                      The New York...   : February 7, 2017  \n",
      "25                                   The New York Ti...  : February 28, 2014  \n",
      "26                                      The New York...      : March 2, 2014  \n",
      "27                                      The New York...      : March 3, 2014  \n",
      "28                                      The New York...      : March 5, 2014  \n",
      "29                                      The New York...      : March 6, 2014  \n",
      "...                                                 ...                    ...\n",
      "1922                                    The New York...   : October 29, 2015  \n",
      "1923                                    The New York...  : November 18, 2015  \n",
      "1924                                    The New York...   : November 1, 2015  \n",
      "1925                                    The New York...   : November 3, 2015  \n",
      "1926                                    The New York...   : November 5, 2015  \n",
      "1927                                    The New York...   : November 8, 2015  \n",
      "1928                                    The New York...  : November 11, 2015  \n",
      "1929                                    The New York...  : November 11, 2015  \n",
      "1930                                 The New York Ti...  : November 11, 2015  \n",
      "1931                                 The New York Ti...  : November 18, 2015  \n",
      "1932                                 The New York Ti...  : November 18, 2015  \n",
      "1933                                    The New York...  : November 17, 2015  \n",
      "1934                                    The New York...  : November 22, 2015  \n",
      "1935                                    The New York...  : November 24, 2015  \n",
      "1936                                    The New York...  : November 25, 2015  \n",
      "1937                                 The New York Ti...  : November 25, 2015  \n",
      "1938                                    The New York...  : November 26, 2015  \n",
      "1939                                    The New York...  : November 26, 2015  \n",
      "1940                                    The New York...  : November 29, 2015  \n",
      "1941                                    The New York...  : November 30, 2015  \n",
      "1942                                    The New York...   : December 1, 2015  \n",
      "1943                                 The New York Ti...   : December 1, 2015  \n",
      "1944                                    The New York...   : December 2, 2015  \n",
      "1945                                    The New York...   : December 4, 2015  \n",
      "1946                                 The New York Ti...  : December 10, 2015  \n",
      "1947                                    The New York...  : December 11, 2015  \n",
      "1948                                    The New York...  : December 13, 2015  \n",
      "1949                                    The New York...  : December 16, 2015  \n",
      "1950                                    The New York...  : December 20, 2015  \n",
      "1951                                    The New York...  : December 25, 2015  \n",
      "\n",
      "[1952 rows x 2 columns]\n"
     ]
    }
   ],
   "source": [
    "print(nytDF)"
   ]
  },
  {
   "cell_type": "code",
   "execution_count": 224,
   "metadata": {
    "collapsed": true
   },
   "outputs": [],
   "source": [
    "def cleanerUpper(x):\n",
    "    return re.sub(r'\\s+NEW YORK TIMES\\s+', '', x)\n",
    "\n",
    "# strip out NYT title lower case\n",
    "def cleanerLower(x):\n",
    "    return re.sub(r'\\s+The New York Times\\s+', '', x)\n",
    "\n",
    "#strip out useless text\n",
    "def cleanerText(x):\n",
    "    return re.sub(r'(January|February|March|April|May|June|July|August|September|October|November|December)(.*?)(LENGTH:)', '', x)\n",
    "\n",
    "# strip out copyright and year\n",
    "def cleanerCopy(x):\n",
    "    return re.sub(r'(Copyright)\\s+(\\d{4})', '', x)\n",
    "\n",
    "# simply the date\n",
    "def cleanerYear(x):\n",
    "    return re.sub(r'(\\D+)\\s(\\d{1,2})\\W', '', x)\n",
    "\n",
    "# behaves as advertised - destroys first comma found\n",
    "def destroyComma(x):\n",
    "    return re.sub(r',', '', x)\n",
    "\n",
    "# strip word count\n",
    "def cleanWordCount(x):\n",
    "    return re.sub(r'(\\d+).(words)', '', x)\n",
    "\n",
    "# death to datelines\n",
    "# not that clean. What does 25835 look like before this function?\n",
    "def cleanDateline(x):\n",
    "    return re.sub(r'(DATELINE:)\\s(\\w+)(,\\s(\\w+).\\s(\\d+))?', '', x)"
   ]
  },
  {
   "cell_type": "code",
   "execution_count": 225,
   "metadata": {},
   "outputs": [],
   "source": [
    "nytDF['date'] = nytDF['date'].apply(cleanerUpper)\n",
    "nytDF['date'] = nytDF['date'].apply(cleanerLower)\n",
    "#nytDF['date'] = nytDF['date'].apply(cleanerYear)\n",
    "nytDF['date'] = nytDF['date'].apply(destroyComma)\n",
    "\n",
    "#clean articles\n",
    "nytDF['article'] = nytDF['article'].apply(cleanerUpper)\n",
    "nytDF['article'] = nytDF['article'].apply(cleanerLower)\n",
    "nytDF['article'] = nytDF['article'].apply(cleanerText)\n",
    "nytDF['article'] = nytDF['article'].apply(cleanerCopy)\n",
    "nytDF['article'] = nytDF['article'].apply(cleanWordCount)\n",
    "nytDF['article'] = nytDF['article'].apply(cleanDateline)"
   ]
  },
  {
   "cell_type": "code",
   "execution_count": 226,
   "metadata": {},
   "outputs": [
    {
     "name": "stdout",
     "output_type": "stream",
     "text": [
      "                                                article                  date\n",
      "0     Blogs                                      (Bi...    : January 6 2014  \n",
      "1         Gabriel Vaughn, the commando turned human ...   : January 10 2014  \n",
      "2         WASHINGTON -- The National Security Agency...   : January 15 2014  \n",
      "3         TOKYO -- An arms race between the two most...   : January 17 2014  \n",
      "4         Following is the text of President Obama's...   : January 18 2014  \n",
      "5         WASHINGTON -- Google, which briefly consid...   : January 22 2014  \n",
      "6         If the Air Force cheating scandal disclose...   : January 20 2014  \n",
      "7         WASHINGTON -- The heads of the House and S...   : January 20 2014  \n",
      "8     Blogs                                (You're t...   : January 21 2014  \n",
      "9     Blogs                                      (Bi...   : January 22 2014  \n",
      "10        WASHINGTON -- A three-year study by the Pe...   : January 24 2014  \n",
      "11    Blogs                                    (Deal...   : January 24 2014  \n",
      "12    Blogs                                    (Deal...   : January 27 2014  \n",
      "13        Nearly six years after the financial crisi...   : January 28 2014  \n",
      "14    Blogs                                   (In Tr...   : January 29 2014  \n",
      "15    Blogs                                    (Arts...   : January 29 2014  \n",
      "16        Saying he wanted to avoid turning the tria...   : January 30 2014  \n",
      "17        WASHINGTON -- In nominating Vice Adm. Mich...   : January 31 2014  \n",
      "18    Blogs                         (The New York Ti...   : January 31 2014  \n",
      "19        Data breaches at Target and Neiman Marcus ...  : February 12 2014  \n",
      "20    Blogs                                   (In Tr...  : February 14 2014  \n",
      "21    Blogs                                   (Sinos...  : February 20 2014  \n",
      "22        WASHINGTON -- Not long after the uprising ...  : February 25 2014  \n",
      "23        CAMBRIDGE, Mass. -- THE conventional wisdo...  : February 26 2014  \n",
      "24         HIGHLIGHT: The Lunchbox,\" by Ritesh Batra...   : February 7 2017  \n",
      "25    Blogs                                   (India...  : February 28 2014  \n",
      "26        If anyone can make you root for the murder...      : March 2 2014  \n",
      "27        WASHINGTON -- Despite rising anxiety over ...      : March 3 2014  \n",
      "28        WASHINGTON -- Gen. Keith B. Alexander, the...      : March 5 2014  \n",
      "29        A French convert to Islam was convicted of...      : March 6 2014  \n",
      "...                                                 ...                   ...\n",
      "1922      Following is a transcript of the ''underca...   : October 29 2015  \n",
      "1923      The notices arrived in employee mailboxes:...  : November 18 2015  \n",
      "1924      THE BIG BOOK OF SHERLOCK HOLMES STORIESEdi...   : November 1 2015  \n",
      "1925      WASHINGTON --  A case about false informat...   : November 3 2015  \n",
      "1926      After a long period of quiet, the price of...   : November 5 2015  \n",
      "1927      These days, the programs being announced b...   : November 8 2015  \n",
      "1928      Billing it as the largest hacking case eve...  : November 11 2015  \n",
      "1929      Following is a transcript of the main Repu...  : November 11 2015  \n",
      "1930  Blogs                                      (Ne...  : November 11 2015  \n",
      "1931  Blogs                                      (We...  : November 18 2015  \n",
      "1932  Blogs                                      (We...  : November 18 2015  \n",
      "1933      If you are watching computer-generated may...  : November 17 2015  \n",
      "1934      As every American knows, after the turkey ...  : November 22 2015  \n",
      "1935      Last year on the Friday after Thanksgiving...  : November 24 2015  \n",
      "1936      WASHINGTON --  Four months after a histori...  : November 25 2015  \n",
      "1937  Blogs                                   (Dot E...  : November 25 2015  \n",
      "1938      In 1939, the nation's largest retailers se...  : November 26 2015  \n",
      "1939      Before lining up at a retail store or firi...  : November 26 2015  \n",
      "1940      Early one weekend morning in January 2014,...  : November 29 2015  \n",
      "1941      If the lines at Target or Macy's this Blac...  : November 30 2015  \n",
      "1942      Cyber Monday, the online version of Black ...   : December 1 2015  \n",
      "1943  Blogs                                  (Opinio...   : December 1 2015  \n",
      "1944      Something about the Council of Senior Cent...   : December 2 2015  \n",
      "1945      A federal appeals court declined on Thursd...   : December 4 2015  \n",
      "1946  Blogs                                    (Word...  : December 10 2015  \n",
      "1947      PHILADELPHIA --  Keenan Reynolds never cam...  : December 11 2015  \n",
      "1948      Tiny School, Bold Idea  In last week's Big...  : December 13 2015  \n",
      "1949      Following is a transcript of the main Repu...  : December 16 2015  \n",
      "1950      Why go through all the fuss and bother of ...  : December 20 2015  \n",
      "1951      George Osborne, the British chancellor of ...  : December 25 2015  \n",
      "\n",
      "[1952 rows x 2 columns]\n"
     ]
    }
   ],
   "source": [
    "print(nytDF)"
   ]
  },
  {
   "cell_type": "code",
   "execution_count": 233,
   "metadata": {},
   "outputs": [],
   "source": [
    "nytDF.to_csv('nytFull', index=False, header=True)"
   ]
  },
  {
   "cell_type": "code",
   "execution_count": null,
   "metadata": {
    "collapsed": true
   },
   "outputs": [],
   "source": []
  },
  {
   "cell_type": "code",
   "execution_count": null,
   "metadata": {
    "collapsed": true
   },
   "outputs": [],
   "source": []
  }
 ],
 "metadata": {
  "kernelspec": {
   "display_name": "Python 3",
   "language": "python",
   "name": "python3"
  },
  "language_info": {
   "codemirror_mode": {
    "name": "ipython",
    "version": 3
   },
   "file_extension": ".py",
   "mimetype": "text/x-python",
   "name": "python",
   "nbconvert_exporter": "python",
   "pygments_lexer": "ipython3",
   "version": "3.6.3"
  }
 },
 "nbformat": 4,
 "nbformat_minor": 2
}
