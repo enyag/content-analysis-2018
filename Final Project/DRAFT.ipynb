{
 "cells": [
  {
   "cell_type": "code",
   "execution_count": 1,
   "metadata": {
    "collapsed": true
   },
   "outputs": [],
   "source": [
    "import pandas\n",
    "import os\n",
    "from os import listdir\n",
    "from os.path import isfile, join\n",
    "import re"
   ]
  },
  {
   "cell_type": "code",
   "execution_count": 2,
   "metadata": {
    "collapsed": true
   },
   "outputs": [],
   "source": [
    "targetDir = '/Users/Enya/Desktop/content-analysis-2018/Speeches'"
   ]
  },
  {
   "cell_type": "code",
   "execution_count": 3,
   "metadata": {
    "collapsed": true
   },
   "outputs": [],
   "source": [
    "def getText(x):\n",
    "    reResults = re.findall(r'(TEXT:)(.*?)((END))', x.replace('\\n', ' '), flags = re.M)\n",
    "    return[t[1] for t in reResults]\n",
    "\n",
    "def getDate(x) :\n",
    "    reResults = re.findall(r'(DATE:)(.*?)(TITLE)', x.replace('\\n', ' '))\n",
    "    return[t[1] for t in reResults]\n",
    "\n",
    "def getCategory(x):\n",
    "    reResults = re.findall(r'(CATEGORY:)(.*?)(SPEECH)', x.replace('\\n', ' '))\n",
    "    return[t[1] for t in reResults]\n",
    "\n",
    "def getTitle(x):\n",
    "    reResults = re.findall(r'(TITLE:)(.*?)(TEXT)', x.replace('\\n', ' '))\n",
    "    return[t[1] for t in reResults]"
   ]
  },
  {
   "cell_type": "code",
   "execution_count": 4,
   "metadata": {
    "collapsed": true
   },
   "outputs": [],
   "source": [
    "speechestext = []\n",
    "speechesdate = []\n",
    "agency = []\n",
    "title = []\n",
    "\n",
    "for file in (file for file in os.scandir(targetDir) if file.is_file() and not file.name.startswith('.')):\n",
    "    with open(file.path, encoding='utf-8') as f:\n",
    "        workingText = f.read()\n",
    "        workingText = str(workingText)\n",
    "        goodText = getText(workingText)\n",
    "        date = getDate(workingText)\n",
    "        category = getCategory(workingText)\n",
    "        speechtitle = getTitle(workingText)\n",
    "        speechestext += goodText\n",
    "        speechesdate += date\n",
    "        agency += category\n",
    "        title += speechtitle\n",
    "\n",
    "speechesDF = pandas.DataFrame({'agency':agency, 'date' :speechesdate, 'title':title, 'text':speechestext})"
   ]
  },
  {
   "cell_type": "code",
   "execution_count": 5,
   "metadata": {},
   "outputs": [
    {
     "name": "stdout",
     "output_type": "stream",
     "text": [
      "   agency                  date  \\\n",
      "0    DOS     December 01, 2016    \n",
      "1    DOS     November 10, 2016    \n",
      "2    DOS      October 10, 2016    \n",
      "3    DOS      October 04, 2016    \n",
      "4    DOS    September 28, 2016    \n",
      "5    DOS    September 19, 2016    \n",
      "6    DOS         June 03, 2016    \n",
      "7    DOS          May 25, 2016    \n",
      "8    DOS          May 25, 2016    \n",
      "9    DOS        March 01, 2016    \n",
      "10   DOS     February 26, 2016    \n",
      "11   DOS     February 11, 2016    \n",
      "12   DOS         July 29, 2015    \n",
      "13   DOS          May 14, 2015    \n",
      "14   DOS          May 04, 2015    \n",
      "15   DOS     February 24, 2015    \n",
      "16   DOS      January 13, 2015    \n",
      "17   DOS        March 04, 2014    \n",
      "18   DOS     December 03, 2013    \n",
      "19   DOS      October 21, 2013    \n",
      "20   DOS     November 26, 2012    \n",
      "21   DOS      October 05, 2012    \n",
      "22   DOS    September 18, 2012    \n",
      "23   DOS       August 31, 2012    \n",
      "24   DOS        March 07, 2012    \n",
      "25   DOS     November 17, 2011    \n",
      "26   DOS      October 31, 2011    \n",
      "27   DOS      October 18, 2011    \n",
      "28   DOS          May 18, 2011    \n",
      "29   DOS          May 16, 2011    \n",
      "30   DOS        March 23, 2010    \n",
      "31   DOS    September 22, 2009    \n",
      "32   DHS         June 22, 2016    \n",
      "33   DHS     November 19, 2015    \n",
      "34   DHS      October 06, 2015    \n",
      "35   DHS        April 21, 2015    \n",
      "36   DHS     February 12, 2014    \n",
      "37   DHS         July 22, 2013    \n",
      "38   DHS        April 16, 2012    \n",
      "39   DHS      October 07, 2011    \n",
      "40   DHS     December 17, 2010    \n",
      "41   DHS      October 20, 2009    \n",
      "42   DHS        August 4, 2009    \n",
      "\n",
      "                                                 text  \\\n",
      "0    I would like to begin by thanking the UN Coun...   \n",
      "1    Thank you to Saira for that kind introduction...   \n",
      "2    Good morning! Thank you to Prime Minister Lee...   \n",
      "3    Hello, My name is Chris Painter, and I am the...   \n",
      "4    Introduction. Chairman Gardner, Ranking Membe...   \n",
      "5    Chairman Donilon, Vice Chairman Palmisano, an...   \n",
      "6    So what do zombies have to do with diplomacy?...   \n",
      "7    MODERATOR: Thank you, and thanks to everyone ...   \n",
      "8    Chairman Gardner, Ranking Member Cardin, memb...   \n",
      "9    Good afternoon, and thank you for that warm w...   \n",
      "10   Background: The Sixteenth Regular Session of ...   \n",
      "11   Good afternoon. I’m looking forward to our di...   \n",
      "12   Thank you for the opportunity to discuss deve...   \n",
      "13   Chairman Gardner, Ranking Member Cardin, memb...   \n",
      "14   Great. Well, thank you, and first of all good...   \n",
      "15   ASSISTANT ATTORNEY GENERAL CALDWELL: Thank yo...   \n",
      "16   Mr. Chairman, Ranking Member Engel, and Membe...   \n",
      "17   It’s a pleasure to be here today. I want to b...   \n",
      "18   MODERATOR: Good afternoon, and thank you all ...   \n",
      "19   Good morning, Minister, Chairman Sasongko, Mr...   \n",
      "20   MODERATOR: Good afternoon, everyone. The Fore...   \n",
      "21   I am delighted to be able to send greetings t...   \n",
      "22   Thank you, Colonel Brown, for your kind invit...   \n",
      "23   Good Morning. Mr. Assistant Secretary General...   \n",
      "24   I want to thank the Committee for the opportu...   \n",
      "25   Thank you for your kind introduction. I am ho...   \n",
      "26   MS. FULTON: All right. Thank you. And thanks ...   \n",
      "27   MR. PAINTER: Thanks, and thanks for coming he...   \n",
      "28   MODERATOR: Thank you, everyone, for coming to...   \n",
      "29   Well, thank you very much. As you can guess f...   \n",
      "30   Nina Fedoroff [Science and Technology Adviser...   \n",
      "31   Andrew Reynolds: So, good morning ladies and ...   \n",
      "32   This morning I realized that this summer mark...   \n",
      "33   I begin with something about Paris. As the Pr...   \n",
      "34   Good morning. Thank you very much Ann and tha...   \n",
      "35   Thank you for inviting me to speak here today...   \n",
      "36   Cybersecurity is one of the most important mi...   \n",
      "37   Welcome, Minister Clare, Minister Collins, Se...   \n",
      "38   Thank you for the introduction President Qayo...   \n",
      "39   Thanks for the introduction. Good morning eve...   \n",
      "40   Good morning. I'm happy to report it's snowin...   \n",
      "41   Good morning, I’m Homeland Security Secretary...   \n",
      "42   I want to thank the Secret Service, S&T [DHS ...   \n",
      "\n",
      "                                                title  \n",
      "0    Preventing the Exploitation of Information an...  \n",
      "1        Remarks on International Law and Stability    \n",
      "2    Keynote Address at the Singapore Internationa...  \n",
      "3    Video Remarks on Cybersecurity Awareness Mont...  \n",
      "4    The Persistent Threat of North Korea and Deve...  \n",
      "5    Statement Before the Presidential Commission ...  \n",
      "6                                  TEDx Tysons Talk    \n",
      "7    Briefing on the State Department Inspector Ge...  \n",
      "8    International Cybersecurity Strategy: Deterri...  \n",
      "9    Remarks by Attorney General Loretta E. Lynch ...  \n",
      "10   Inter-American Committee Against Terrorism (C...  \n",
      "11   The New Face of Terrorism: Countering Violent...  \n",
      "12   Remarks for Panel Session \"Development of Cyb...  \n",
      "13   Testimony Before Policy Hearing Titled: 'Cybe...  \n",
      "14   Department of Commerce Cybersecurity Trade Mi...  \n",
      "15                    New Reward for Cyber Fugitive    \n",
      "16   The North Korean Threat: Nuclear, Missiles an...  \n",
      "17   As Prepared Remarks at Georgetown University ...  \n",
      "18   Remarks at a Cyber Partnership Agreement Sign...  \n",
      "19           Remarks at High Level Leader's Meeting    \n",
      "20   Cyber Security: Project Cyber Monday 3 and Pr...  \n",
      "21   Video Remarks for the Budapest Cyber Conferen...  \n",
      "22                  International Law in Cyberspace    \n",
      "23   The Organization of American States' Inter-Am...  \n",
      "24     Strengthening Cyber Security in the Americas    \n",
      "25   Leading With Diplomacy to Strengthen Stabilit...  \n",
      "26   Background Briefing: Secretary Clinton's Part...  \n",
      "27                             Cybersecurity Update    \n",
      "28   Release of the Obama Administration's Interna...  \n",
      "29   Remarks on the Release of President Obama Adm...  \n",
      "30                Cyberspace - Taming the Wild West    \n",
      "31                      Future of the Cyber-Network    \n",
      "32   Remarks by Deputy Secretary Alejandro Mayorka...  \n",
      "33   Remarks by Secretary of Homeland Security Jeh...  \n",
      "34   Remarks by Deputy Secretary of Homeland Secur...  \n",
      "35   Remarks by Secretary of Homeland Security Jeh...  \n",
      "36   Remarks by Secretary of Homeland Security Jeh...  \n",
      "37   Secretary of Homeland Security Janet Napolita...  \n",
      "38   Remarks by Secretary Janet Napolitano at San ...  \n",
      "39   Secretary Janet Napolitano's Remarks at the M...  \n",
      "40   Remarks by Secretary Napolitano at the Atlant...  \n",
      "41   A New Challenge for Our Age: Securing America...  \n",
      "42   Remarks by Secretary Napolitano at the Global...  \n"
     ]
    }
   ],
   "source": [
    "print(speechesDF)"
   ]
  },
  {
   "cell_type": "code",
   "execution_count": 6,
   "metadata": {
    "collapsed": true
   },
   "outputs": [],
   "source": [
    "import lucem_illud #pip install git+git://github.com/Computational-Content-Analysis-2018/lucem_illud.git\n",
    "\n",
    "#All these packages need to be installed from pip\n",
    "import requests #for http requests\n",
    "import nltk #the Natural Language Toolkit\n",
    "import pandas #gives us DataFrames\n",
    "import matplotlib.pyplot as plt #For graphics\n",
    "import wordcloud #Makes word clouds\n",
    "import numpy as np #For divergences/distances\n",
    "import scipy #For divergences/distances\n",
    "import seaborn as sns #makes our plots look nicer\n",
    "import sklearn.manifold #For a manifold plot\n",
    "from nltk.corpus import stopwords #For stopwords\n",
    "import json #For API responses\n",
    "import urllib.parse #For joining urls\n",
    "\n",
    "#This 'magic' command makes the plots work better\n",
    "#in the notebook, don't use it outside of a notebook\n",
    "%matplotlib inline"
   ]
  },
  {
   "cell_type": "code",
   "execution_count": 7,
   "metadata": {
    "collapsed": true
   },
   "outputs": [],
   "source": [
    "speechesDF['tokenized-text'] = speechesDF['text'].apply(lambda x: nltk.word_tokenize(x))"
   ]
  },
  {
   "cell_type": "code",
   "execution_count": 8,
   "metadata": {
    "collapsed": true
   },
   "outputs": [],
   "source": [
    "speechesDF['word-counts'] = speechesDF['tokenized-text'].apply(lambda x: len(x))"
   ]
  },
  {
   "cell_type": "code",
   "execution_count": 9,
   "metadata": {},
   "outputs": [
    {
     "name": "stdout",
     "output_type": "stream",
     "text": [
      "   agency                  date  \\\n",
      "0    DOS     December 01, 2016    \n",
      "1    DOS     November 10, 2016    \n",
      "2    DOS      October 10, 2016    \n",
      "3    DOS      October 04, 2016    \n",
      "4    DOS    September 28, 2016    \n",
      "5    DOS    September 19, 2016    \n",
      "6    DOS         June 03, 2016    \n",
      "7    DOS          May 25, 2016    \n",
      "8    DOS          May 25, 2016    \n",
      "9    DOS        March 01, 2016    \n",
      "10   DOS     February 26, 2016    \n",
      "11   DOS     February 11, 2016    \n",
      "12   DOS         July 29, 2015    \n",
      "13   DOS          May 14, 2015    \n",
      "14   DOS          May 04, 2015    \n",
      "15   DOS     February 24, 2015    \n",
      "16   DOS      January 13, 2015    \n",
      "17   DOS        March 04, 2014    \n",
      "18   DOS     December 03, 2013    \n",
      "19   DOS      October 21, 2013    \n",
      "20   DOS     November 26, 2012    \n",
      "21   DOS      October 05, 2012    \n",
      "22   DOS    September 18, 2012    \n",
      "23   DOS       August 31, 2012    \n",
      "24   DOS        March 07, 2012    \n",
      "25   DOS     November 17, 2011    \n",
      "26   DOS      October 31, 2011    \n",
      "27   DOS      October 18, 2011    \n",
      "28   DOS          May 18, 2011    \n",
      "29   DOS          May 16, 2011    \n",
      "30   DOS        March 23, 2010    \n",
      "31   DOS    September 22, 2009    \n",
      "32   DHS         June 22, 2016    \n",
      "33   DHS     November 19, 2015    \n",
      "34   DHS      October 06, 2015    \n",
      "35   DHS        April 21, 2015    \n",
      "36   DHS     February 12, 2014    \n",
      "37   DHS         July 22, 2013    \n",
      "38   DHS        April 16, 2012    \n",
      "39   DHS      October 07, 2011    \n",
      "40   DHS     December 17, 2010    \n",
      "41   DHS      October 20, 2009    \n",
      "42   DHS        August 4, 2009    \n",
      "\n",
      "                                                 text  \\\n",
      "0    I would like to begin by thanking the UN Coun...   \n",
      "1    Thank you to Saira for that kind introduction...   \n",
      "2    Good morning! Thank you to Prime Minister Lee...   \n",
      "3    Hello, My name is Chris Painter, and I am the...   \n",
      "4    Introduction. Chairman Gardner, Ranking Membe...   \n",
      "5    Chairman Donilon, Vice Chairman Palmisano, an...   \n",
      "6    So what do zombies have to do with diplomacy?...   \n",
      "7    MODERATOR: Thank you, and thanks to everyone ...   \n",
      "8    Chairman Gardner, Ranking Member Cardin, memb...   \n",
      "9    Good afternoon, and thank you for that warm w...   \n",
      "10   Background: The Sixteenth Regular Session of ...   \n",
      "11   Good afternoon. I’m looking forward to our di...   \n",
      "12   Thank you for the opportunity to discuss deve...   \n",
      "13   Chairman Gardner, Ranking Member Cardin, memb...   \n",
      "14   Great. Well, thank you, and first of all good...   \n",
      "15   ASSISTANT ATTORNEY GENERAL CALDWELL: Thank yo...   \n",
      "16   Mr. Chairman, Ranking Member Engel, and Membe...   \n",
      "17   It’s a pleasure to be here today. I want to b...   \n",
      "18   MODERATOR: Good afternoon, and thank you all ...   \n",
      "19   Good morning, Minister, Chairman Sasongko, Mr...   \n",
      "20   MODERATOR: Good afternoon, everyone. The Fore...   \n",
      "21   I am delighted to be able to send greetings t...   \n",
      "22   Thank you, Colonel Brown, for your kind invit...   \n",
      "23   Good Morning. Mr. Assistant Secretary General...   \n",
      "24   I want to thank the Committee for the opportu...   \n",
      "25   Thank you for your kind introduction. I am ho...   \n",
      "26   MS. FULTON: All right. Thank you. And thanks ...   \n",
      "27   MR. PAINTER: Thanks, and thanks for coming he...   \n",
      "28   MODERATOR: Thank you, everyone, for coming to...   \n",
      "29   Well, thank you very much. As you can guess f...   \n",
      "30   Nina Fedoroff [Science and Technology Adviser...   \n",
      "31   Andrew Reynolds: So, good morning ladies and ...   \n",
      "32   This morning I realized that this summer mark...   \n",
      "33   I begin with something about Paris. As the Pr...   \n",
      "34   Good morning. Thank you very much Ann and tha...   \n",
      "35   Thank you for inviting me to speak here today...   \n",
      "36   Cybersecurity is one of the most important mi...   \n",
      "37   Welcome, Minister Clare, Minister Collins, Se...   \n",
      "38   Thank you for the introduction President Qayo...   \n",
      "39   Thanks for the introduction. Good morning eve...   \n",
      "40   Good morning. I'm happy to report it's snowin...   \n",
      "41   Good morning, I’m Homeland Security Secretary...   \n",
      "42   I want to thank the Secret Service, S&T [DHS ...   \n",
      "\n",
      "                                                title  \\\n",
      "0    Preventing the Exploitation of Information an...   \n",
      "1        Remarks on International Law and Stability     \n",
      "2    Keynote Address at the Singapore Internationa...   \n",
      "3    Video Remarks on Cybersecurity Awareness Mont...   \n",
      "4    The Persistent Threat of North Korea and Deve...   \n",
      "5    Statement Before the Presidential Commission ...   \n",
      "6                                  TEDx Tysons Talk     \n",
      "7    Briefing on the State Department Inspector Ge...   \n",
      "8    International Cybersecurity Strategy: Deterri...   \n",
      "9    Remarks by Attorney General Loretta E. Lynch ...   \n",
      "10   Inter-American Committee Against Terrorism (C...   \n",
      "11   The New Face of Terrorism: Countering Violent...   \n",
      "12   Remarks for Panel Session \"Development of Cyb...   \n",
      "13   Testimony Before Policy Hearing Titled: 'Cybe...   \n",
      "14   Department of Commerce Cybersecurity Trade Mi...   \n",
      "15                    New Reward for Cyber Fugitive     \n",
      "16   The North Korean Threat: Nuclear, Missiles an...   \n",
      "17   As Prepared Remarks at Georgetown University ...   \n",
      "18   Remarks at a Cyber Partnership Agreement Sign...   \n",
      "19           Remarks at High Level Leader's Meeting     \n",
      "20   Cyber Security: Project Cyber Monday 3 and Pr...   \n",
      "21   Video Remarks for the Budapest Cyber Conferen...   \n",
      "22                  International Law in Cyberspace     \n",
      "23   The Organization of American States' Inter-Am...   \n",
      "24     Strengthening Cyber Security in the Americas     \n",
      "25   Leading With Diplomacy to Strengthen Stabilit...   \n",
      "26   Background Briefing: Secretary Clinton's Part...   \n",
      "27                             Cybersecurity Update     \n",
      "28   Release of the Obama Administration's Interna...   \n",
      "29   Remarks on the Release of President Obama Adm...   \n",
      "30                Cyberspace - Taming the Wild West     \n",
      "31                      Future of the Cyber-Network     \n",
      "32   Remarks by Deputy Secretary Alejandro Mayorka...   \n",
      "33   Remarks by Secretary of Homeland Security Jeh...   \n",
      "34   Remarks by Deputy Secretary of Homeland Secur...   \n",
      "35   Remarks by Secretary of Homeland Security Jeh...   \n",
      "36   Remarks by Secretary of Homeland Security Jeh...   \n",
      "37   Secretary of Homeland Security Janet Napolita...   \n",
      "38   Remarks by Secretary Janet Napolitano at San ...   \n",
      "39   Secretary Janet Napolitano's Remarks at the M...   \n",
      "40   Remarks by Secretary Napolitano at the Atlant...   \n",
      "41   A New Challenge for Our Age: Securing America...   \n",
      "42   Remarks by Secretary Napolitano at the Global...   \n",
      "\n",
      "                                       tokenized-text  word-counts  \n",
      "0   [I, would, like, to, begin, by, thanking, the,...         1823  \n",
      "1   [Thank, you, to, Saira, for, that, kind, intro...         5935  \n",
      "2   [Good, morning, !, Thank, you, to, Prime, Mini...         1763  \n",
      "3   [Hello, ,, My, name, is, Chris, Painter, ,, an...          487  \n",
      "4   [Introduction, ., Chairman, Gardner, ,, Rankin...         2405  \n",
      "5   [Chairman, Donilon, ,, Vice, Chairman, Palmisa...         1661  \n",
      "6   [So, what, do, zombies, have, to, do, with, di...         2475  \n",
      "7   [MODERATOR, :, Thank, you, ,, and, thanks, to,...         1208  \n",
      "8   [Chairman, Gardner, ,, Ranking, Member, Cardin...         5220  \n",
      "9   [Good, afternoon, ,, and, thank, you, for, tha...         2294  \n",
      "10  [Background, :, The, Sixteenth, Regular, Sessi...         1825  \n",
      "11  [Good, afternoon, ., I, ’, m, looking, forward...         1776  \n",
      "12  [Thank, you, for, the, opportunity, to, discus...         1799  \n",
      "13  [Chairman, Gardner, ,, Ranking, Member, Cardin...         6635  \n",
      "14  [Great, ., Well, ,, thank, you, ,, and, first,...          687  \n",
      "15  [ASSISTANT, ATTORNEY, GENERAL, CALDWELL, :, Th...         2658  \n",
      "16  [Mr., Chairman, ,, Ranking, Member, Engel, ,, ...         2998  \n",
      "17  [It, ’, s, a, pleasure, to, be, here, today, ....         2396  \n",
      "18  [MODERATOR, :, Good, afternoon, ,, and, thank,...          444  \n",
      "19  [Good, morning, ,, Minister, ,, Chairman, Saso...         1420  \n",
      "20  [MODERATOR, :, Good, afternoon, ,, everyone, ....         1529  \n",
      "21  [I, am, delighted, to, be, able, to, send, gre...          230  \n",
      "22  [Thank, you, ,, Colonel, Brown, ,, for, your, ...         4716  \n",
      "23  [Good, Morning, ., Mr., Assistant, Secretary, ...          488  \n",
      "24  [I, want, to, thank, the, Committee, for, the,...         2590  \n",
      "25  [Thank, you, for, your, kind, introduction, .,...         2124  \n",
      "26  [MS., FULTON, :, All, right, ., Thank, you, .,...         1287  \n",
      "27  [MR., PAINTER, :, Thanks, ,, and, thanks, for,...         1708  \n",
      "28  [MODERATOR, :, Thank, you, ,, everyone, ,, for...         1577  \n",
      "29  [Well, ,, thank, you, very, much, ., As, you, ...         1568  \n",
      "30  [Nina, Fedoroff, [, Science, and, Technology, ...         8639  \n",
      "31  [Andrew, Reynolds, :, So, ,, good, morning, la...         6986  \n",
      "32  [This, morning, I, realized, that, this, summe...         2098  \n",
      "33  [I, begin, with, something, about, Paris, ., A...         3531  \n",
      "34  [Good, morning, ., Thank, you, very, much, Ann...         2355  \n",
      "35  [Thank, you, for, inviting, me, to, speak, her...         2166  \n",
      "36  [Cybersecurity, is, one, of, the, most, import...          786  \n",
      "37  [Welcome, ,, Minister, Clare, ,, Minister, Col...          461  \n",
      "38  [Thank, you, for, the, introduction, President...         3122  \n",
      "39  [Thanks, for, the, introduction, ., Good, morn...         2015  \n",
      "40  [Good, morning, ., I, 'm, happy, to, report, i...         2709  \n",
      "41  [Good, morning, ,, I, ’, m, Homeland, Security...         2617  \n",
      "42  [I, want, to, thank, the, Secret, Service, ,, ...         2094  \n"
     ]
    }
   ],
   "source": [
    "print(speechesDF)"
   ]
  },
  {
   "cell_type": "code",
   "execution_count": 11,
   "metadata": {},
   "outputs": [],
   "source": [
    "stop_words_nltk = stopwords.words('english')\n",
    "snowball = nltk.stem.snowball.SnowballStemmer('english')\n",
    "\n",
    "def normlizeTokens(tokenLst, stopwordLst = None, stemmer = None, lemmer = None):\n",
    "    #We can use a generator here as we just need to iterate over it\n",
    "\n",
    "    #Lowering the case and removing non-words\n",
    "    workingIter = (w.lower() for w in tokenLst if w.isalpha())\n",
    "\n",
    "    #Now we can use the semmer, if provided\n",
    "    if stemmer is not None:\n",
    "        workingIter = (stemmer.stem(w) for w in workingIter)\n",
    "        \n",
    "    #And the lemmer\n",
    "    if lemmer is not None:\n",
    "        workingIter = (lemmer.lemmatize(w) for w in workingIter)\n",
    "    \n",
    "    #And remove the stopwords\n",
    "    if stopwordLst is not None:\n",
    "        workingIter = (w for w in workingIter if w not in stopwordLst)\n",
    "    #We will return a list with the stopwords removed\n",
    "    return list(workingIter)\n",
    "\n",
    "\n",
    "speechesDF['normalized-text'] = speechesDF['tokenized-text'].apply(lambda x: normlizeTokens(x, stopwordLst = stop_words_nltk, stemmer = snowball))"
   ]
  },
  {
   "cell_type": "code",
   "execution_count": 18,
   "metadata": {},
   "outputs": [],
   "source": [
    "speechesfdist = nltk.ConditionalFreqDist(((len(w), w) for w in speechesDF['normalized-text'].sum()))"
   ]
  },
  {
   "cell_type": "code",
   "execution_count": 19,
   "metadata": {},
   "outputs": [],
   "source": [
    "import sklearn\n",
    "import sklearn.feature_extraction.text\n",
    "import sklearn.pipeline\n",
    "import sklearn.preprocessing\n",
    "import sklearn.datasets\n",
    "import sklearn.cluster\n",
    "import sklearn.decomposition\n",
    "import sklearn.metrics\n",
    "import scipy #For hierarchical clustering and some visuals\n",
    "#import scipy.cluster.hierarchy\n",
    "import gensim#For topic modeling"
   ]
  },
  {
   "cell_type": "code",
   "execution_count": 20,
   "metadata": {
    "collapsed": true
   },
   "outputs": [],
   "source": [
    "speechesCountVectorizer = sklearn.feature_extraction.text.CountVectorizer()\n",
    "speechesVects = speechesCountVectorizer.fit_transform(speechesDF['text'])"
   ]
  },
  {
   "cell_type": "code",
   "execution_count": 21,
   "metadata": {},
   "outputs": [
    {
     "data": {
      "text/plain": [
       "1549"
      ]
     },
     "execution_count": 21,
     "metadata": {},
     "output_type": "execute_result"
    }
   ],
   "source": [
    "speechesCountVectorizer.vocabulary_.get('cyberspace')"
   ]
  },
  {
   "cell_type": "code",
   "execution_count": 22,
   "metadata": {
    "collapsed": true
   },
   "outputs": [],
   "source": [
    "speechesTFTransformer = sklearn.feature_extraction.text.TfidfTransformer().fit(speechesVects)\n",
    "speechesTF = speechesTFTransformer.transform(speechesVects)"
   ]
  },
  {
   "cell_type": "code",
   "execution_count": 23,
   "metadata": {},
   "outputs": [
    {
     "data": {
      "text/plain": [
       "[('would', 0.006192151375533132),\n",
       " ('like', 0.01651915565340029),\n",
       " ('to', 0.3485429253286871),\n",
       " ('begin', 0.008685221349322399),\n",
       " ('by', 0.057593233841748775),\n",
       " ('thanking', 0.015583057346600806),\n",
       " ('the', 0.38523165431065415),\n",
       " ('un', 0.03808545848968145),\n",
       " ('counter', 0.17510021417264782),\n",
       " ('terrorism', 0.10943763385790488),\n",
       " ('committee', 0.0210894425644009),\n",
       " ('ctc', 0.03752378695624622),\n",
       " ('and', 0.4035760188016377),\n",
       " ('executive', 0.00983777221787942),\n",
       " ('directorate', 0.014559700686820718),\n",
       " ('cted', 0.01876189347812311),\n",
       " ('for', 0.08713573133217177),\n",
       " ('organizing', 0.014559700686820718),\n",
       " ('this', 0.07037284722288567),\n",
       " ('special', 0.011864057480844702)]"
      ]
     },
     "execution_count": 23,
     "metadata": {},
     "output_type": "execute_result"
    }
   ],
   "source": [
    "list(zip(speechesCountVectorizer.vocabulary_.keys(), speechesTF.data))[:20]"
   ]
  },
  {
   "cell_type": "code",
   "execution_count": 38,
   "metadata": {
    "collapsed": true
   },
   "outputs": [],
   "source": [
    "speechesTFVectorizer = sklearn.feature_extraction.text.TfidfVectorizer(max_df=0.5, max_features=1000, min_df=3, stop_words='english', norm='l2')\n",
    "speechesTFVects = speechesTFVectorizer.fit_transform(speechesDF['text'])"
   ]
  },
  {
   "cell_type": "code",
   "execution_count": 61,
   "metadata": {},
   "outputs": [
    {
     "name": "stdout",
     "output_type": "stream",
     "text": [
      "cyber is missing\n",
      "The available words are: ['begin', 'counter', 'terrorism', 'committee', 'executive', 'special', 'meeting', 'technical', 'morning', 'pleased', 'participate', 'december', 'issue', 'challenging', 'nature', 'terrorist', 'groups', 'especially', 'isil', 'known'] ...\n"
     ]
    }
   ],
   "source": [
    "try:\n",
    "    print(speechesTFVectorizer.vocabulary_['cyberspace'])\n",
    "except KeyError:\n",
    "    print('cyber is missing')\n",
    "    print('The available words are: {} ...'.format(list(speechesTFVectorizer.vocabulary_.keys())[:20]))"
   ]
  },
  {
   "cell_type": "code",
   "execution_count": 49,
   "metadata": {},
   "outputs": [],
   "source": [
    "numClusters =2\n",
    "km = sklearn.cluster.KMeans(n_clusters=numClusters, init='k-means++')"
   ]
  },
  {
   "cell_type": "code",
   "execution_count": 50,
   "metadata": {},
   "outputs": [
    {
     "data": {
      "text/plain": [
       "KMeans(algorithm='auto', copy_x=True, init='k-means++', max_iter=300,\n",
       "    n_clusters=2, n_init=10, n_jobs=1, precompute_distances='auto',\n",
       "    random_state=None, tol=0.0001, verbose=0)"
      ]
     },
     "execution_count": 50,
     "metadata": {},
     "output_type": "execute_result"
    }
   ],
   "source": [
    "km.fit(speechesTFVects)"
   ]
  },
  {
   "cell_type": "code",
   "execution_count": 51,
   "metadata": {},
   "outputs": [
    {
     "data": {
      "text/html": [
       "<div>\n",
       "<style scoped>\n",
       "    .dataframe tbody tr th:only-of-type {\n",
       "        vertical-align: middle;\n",
       "    }\n",
       "\n",
       "    .dataframe tbody tr th {\n",
       "        vertical-align: top;\n",
       "    }\n",
       "\n",
       "    .dataframe thead th {\n",
       "        text-align: right;\n",
       "    }\n",
       "</style>\n",
       "<table border=\"1\" class=\"dataframe\">\n",
       "  <thead>\n",
       "    <tr style=\"text-align: right;\">\n",
       "      <th></th>\n",
       "      <th>agency</th>\n",
       "      <th>date</th>\n",
       "      <th>text</th>\n",
       "      <th>title</th>\n",
       "      <th>tokenized-text</th>\n",
       "      <th>word-counts</th>\n",
       "      <th>normalized-text</th>\n",
       "      <th>kmeans_predictions</th>\n",
       "    </tr>\n",
       "  </thead>\n",
       "  <tbody>\n",
       "    <tr>\n",
       "      <th>0</th>\n",
       "      <td>DOS</td>\n",
       "      <td>December 01, 2016</td>\n",
       "      <td>I would like to begin by thanking the UN Coun...</td>\n",
       "      <td>Preventing the Exploitation of Information an...</td>\n",
       "      <td>[I, would, like, to, begin, by, thanking, the,...</td>\n",
       "      <td>1823</td>\n",
       "      <td>[would, like, begin, thank, un, committe, ctc,...</td>\n",
       "      <td>0</td>\n",
       "    </tr>\n",
       "    <tr>\n",
       "      <th>1</th>\n",
       "      <td>DOS</td>\n",
       "      <td>November 10, 2016</td>\n",
       "      <td>Thank you to Saira for that kind introduction...</td>\n",
       "      <td>Remarks on International Law and Stability</td>\n",
       "      <td>[Thank, you, to, Saira, for, that, kind, intro...</td>\n",
       "      <td>5935</td>\n",
       "      <td>[thank, saira, kind, introduct, thank, miller,...</td>\n",
       "      <td>0</td>\n",
       "    </tr>\n",
       "    <tr>\n",
       "      <th>2</th>\n",
       "      <td>DOS</td>\n",
       "      <td>October 10, 2016</td>\n",
       "      <td>Good morning! Thank you to Prime Minister Lee...</td>\n",
       "      <td>Keynote Address at the Singapore Internationa...</td>\n",
       "      <td>[Good, morning, !, Thank, you, to, Prime, Mini...</td>\n",
       "      <td>1763</td>\n",
       "      <td>[good, morn, thank, prime, minist, lee, govern...</td>\n",
       "      <td>0</td>\n",
       "    </tr>\n",
       "    <tr>\n",
       "      <th>3</th>\n",
       "      <td>DOS</td>\n",
       "      <td>October 04, 2016</td>\n",
       "      <td>Hello, My name is Chris Painter, and I am the...</td>\n",
       "      <td>Video Remarks on Cybersecurity Awareness Mont...</td>\n",
       "      <td>[Hello, ,, My, name, is, Chris, Painter, ,, an...</td>\n",
       "      <td>487</td>\n",
       "      <td>[hello, name, chris, painter, coordin, cyber, ...</td>\n",
       "      <td>1</td>\n",
       "    </tr>\n",
       "    <tr>\n",
       "      <th>4</th>\n",
       "      <td>DOS</td>\n",
       "      <td>September 28, 2016</td>\n",
       "      <td>Introduction. Chairman Gardner, Ranking Membe...</td>\n",
       "      <td>The Persistent Threat of North Korea and Deve...</td>\n",
       "      <td>[Introduction, ., Chairman, Gardner, ,, Rankin...</td>\n",
       "      <td>2405</td>\n",
       "      <td>[introduct, chairman, gardner, rank, member, c...</td>\n",
       "      <td>0</td>\n",
       "    </tr>\n",
       "    <tr>\n",
       "      <th>5</th>\n",
       "      <td>DOS</td>\n",
       "      <td>September 19, 2016</td>\n",
       "      <td>Chairman Donilon, Vice Chairman Palmisano, an...</td>\n",
       "      <td>Statement Before the Presidential Commission ...</td>\n",
       "      <td>[Chairman, Donilon, ,, Vice, Chairman, Palmisa...</td>\n",
       "      <td>1661</td>\n",
       "      <td>[chairman, donilon, vice, chairman, palmisano,...</td>\n",
       "      <td>0</td>\n",
       "    </tr>\n",
       "    <tr>\n",
       "      <th>6</th>\n",
       "      <td>DOS</td>\n",
       "      <td>June 03, 2016</td>\n",
       "      <td>So what do zombies have to do with diplomacy?...</td>\n",
       "      <td>TEDx Tysons Talk</td>\n",
       "      <td>[So, what, do, zombies, have, to, do, with, di...</td>\n",
       "      <td>2475</td>\n",
       "      <td>[zombi, diplomaci, well, year, ago, bad, guy, ...</td>\n",
       "      <td>1</td>\n",
       "    </tr>\n",
       "    <tr>\n",
       "      <th>7</th>\n",
       "      <td>DOS</td>\n",
       "      <td>May 25, 2016</td>\n",
       "      <td>MODERATOR: Thank you, and thanks to everyone ...</td>\n",
       "      <td>Briefing on the State Department Inspector Ge...</td>\n",
       "      <td>[MODERATOR, :, Thank, you, ,, and, thanks, to,...</td>\n",
       "      <td>1208</td>\n",
       "      <td>[moder, thank, thank, everyon, join, us, relat...</td>\n",
       "      <td>1</td>\n",
       "    </tr>\n",
       "    <tr>\n",
       "      <th>8</th>\n",
       "      <td>DOS</td>\n",
       "      <td>May 25, 2016</td>\n",
       "      <td>Chairman Gardner, Ranking Member Cardin, memb...</td>\n",
       "      <td>International Cybersecurity Strategy: Deterri...</td>\n",
       "      <td>[Chairman, Gardner, ,, Ranking, Member, Cardin...</td>\n",
       "      <td>5220</td>\n",
       "      <td>[chairman, gardner, rank, member, cardin, memb...</td>\n",
       "      <td>0</td>\n",
       "    </tr>\n",
       "    <tr>\n",
       "      <th>9</th>\n",
       "      <td>DOS</td>\n",
       "      <td>March 01, 2016</td>\n",
       "      <td>Good afternoon, and thank you for that warm w...</td>\n",
       "      <td>Remarks by Attorney General Loretta E. Lynch ...</td>\n",
       "      <td>[Good, afternoon, ,, and, thank, you, for, tha...</td>\n",
       "      <td>2294</td>\n",
       "      <td>[good, afternoon, thank, warm, welcom, want, t...</td>\n",
       "      <td>1</td>\n",
       "    </tr>\n",
       "    <tr>\n",
       "      <th>10</th>\n",
       "      <td>DOS</td>\n",
       "      <td>February 26, 2016</td>\n",
       "      <td>Background: The Sixteenth Regular Session of ...</td>\n",
       "      <td>Inter-American Committee Against Terrorism (C...</td>\n",
       "      <td>[Background, :, The, Sixteenth, Regular, Sessi...</td>\n",
       "      <td>1825</td>\n",
       "      <td>[background, sixteenth, regular, session, comm...</td>\n",
       "      <td>0</td>\n",
       "    </tr>\n",
       "    <tr>\n",
       "      <th>11</th>\n",
       "      <td>DOS</td>\n",
       "      <td>February 11, 2016</td>\n",
       "      <td>Good afternoon. I’m looking forward to our di...</td>\n",
       "      <td>The New Face of Terrorism: Countering Violent...</td>\n",
       "      <td>[Good, afternoon, ., I, ’, m, looking, forward...</td>\n",
       "      <td>1776</td>\n",
       "      <td>[good, afternoon, look, forward, discuss, befo...</td>\n",
       "      <td>0</td>\n",
       "    </tr>\n",
       "    <tr>\n",
       "      <th>12</th>\n",
       "      <td>DOS</td>\n",
       "      <td>July 29, 2015</td>\n",
       "      <td>Thank you for the opportunity to discuss deve...</td>\n",
       "      <td>Remarks for Panel Session \"Development of Cyb...</td>\n",
       "      <td>[Thank, you, for, the, opportunity, to, discus...</td>\n",
       "      <td>1799</td>\n",
       "      <td>[thank, opportun, discuss, develop, cyberspac,...</td>\n",
       "      <td>0</td>\n",
       "    </tr>\n",
       "    <tr>\n",
       "      <th>13</th>\n",
       "      <td>DOS</td>\n",
       "      <td>May 14, 2015</td>\n",
       "      <td>Chairman Gardner, Ranking Member Cardin, memb...</td>\n",
       "      <td>Testimony Before Policy Hearing Titled: 'Cybe...</td>\n",
       "      <td>[Chairman, Gardner, ,, Ranking, Member, Cardin...</td>\n",
       "      <td>6635</td>\n",
       "      <td>[chairman, gardner, rank, member, cardin, memb...</td>\n",
       "      <td>0</td>\n",
       "    </tr>\n",
       "    <tr>\n",
       "      <th>14</th>\n",
       "      <td>DOS</td>\n",
       "      <td>May 04, 2015</td>\n",
       "      <td>Great. Well, thank you, and first of all good...</td>\n",
       "      <td>Department of Commerce Cybersecurity Trade Mi...</td>\n",
       "      <td>[Great, ., Well, ,, thank, you, ,, and, first,...</td>\n",
       "      <td>687</td>\n",
       "      <td>[great, well, thank, first, good, morn, thank,...</td>\n",
       "      <td>1</td>\n",
       "    </tr>\n",
       "    <tr>\n",
       "      <th>15</th>\n",
       "      <td>DOS</td>\n",
       "      <td>February 24, 2015</td>\n",
       "      <td>ASSISTANT ATTORNEY GENERAL CALDWELL: Thank yo...</td>\n",
       "      <td>New Reward for Cyber Fugitive</td>\n",
       "      <td>[ASSISTANT, ATTORNEY, GENERAL, CALDWELL, :, Th...</td>\n",
       "      <td>2658</td>\n",
       "      <td>[assist, attorney, general, caldwel, thank, th...</td>\n",
       "      <td>1</td>\n",
       "    </tr>\n",
       "    <tr>\n",
       "      <th>16</th>\n",
       "      <td>DOS</td>\n",
       "      <td>January 13, 2015</td>\n",
       "      <td>Mr. Chairman, Ranking Member Engel, and Membe...</td>\n",
       "      <td>The North Korean Threat: Nuclear, Missiles an...</td>\n",
       "      <td>[Mr., Chairman, ,, Ranking, Member, Engel, ,, ...</td>\n",
       "      <td>2998</td>\n",
       "      <td>[chairman, rank, member, engel, member, commit...</td>\n",
       "      <td>0</td>\n",
       "    </tr>\n",
       "    <tr>\n",
       "      <th>17</th>\n",
       "      <td>DOS</td>\n",
       "      <td>March 04, 2014</td>\n",
       "      <td>It’s a pleasure to be here today. I want to b...</td>\n",
       "      <td>As Prepared Remarks at Georgetown University ...</td>\n",
       "      <td>[It, ’, s, a, pleasure, to, be, here, today, ....</td>\n",
       "      <td>2396</td>\n",
       "      <td>[pleasur, today, want, begin, thank, georgetow...</td>\n",
       "      <td>0</td>\n",
       "    </tr>\n",
       "    <tr>\n",
       "      <th>18</th>\n",
       "      <td>DOS</td>\n",
       "      <td>December 03, 2013</td>\n",
       "      <td>MODERATOR: Good afternoon, and thank you all ...</td>\n",
       "      <td>Remarks at a Cyber Partnership Agreement Sign...</td>\n",
       "      <td>[MODERATOR, :, Good, afternoon, ,, and, thank,...</td>\n",
       "      <td>444</td>\n",
       "      <td>[moder, good, afternoon, thank, today, pleasur...</td>\n",
       "      <td>1</td>\n",
       "    </tr>\n",
       "    <tr>\n",
       "      <th>19</th>\n",
       "      <td>DOS</td>\n",
       "      <td>October 21, 2013</td>\n",
       "      <td>Good morning, Minister, Chairman Sasongko, Mr...</td>\n",
       "      <td>Remarks at High Level Leader's Meeting</td>\n",
       "      <td>[Good, morning, ,, Minister, ,, Chairman, Saso...</td>\n",
       "      <td>1420</td>\n",
       "      <td>[good, morn, minist, chairman, sasongko, assis...</td>\n",
       "      <td>0</td>\n",
       "    </tr>\n",
       "    <tr>\n",
       "      <th>20</th>\n",
       "      <td>DOS</td>\n",
       "      <td>November 26, 2012</td>\n",
       "      <td>MODERATOR: Good afternoon, everyone. The Fore...</td>\n",
       "      <td>Cyber Security: Project Cyber Monday 3 and Pr...</td>\n",
       "      <td>[MODERATOR, :, Good, afternoon, ,, everyone, ....</td>\n",
       "      <td>1529</td>\n",
       "      <td>[moder, good, afternoon, everyon, foreign, pre...</td>\n",
       "      <td>1</td>\n",
       "    </tr>\n",
       "    <tr>\n",
       "      <th>21</th>\n",
       "      <td>DOS</td>\n",
       "      <td>October 05, 2012</td>\n",
       "      <td>I am delighted to be able to send greetings t...</td>\n",
       "      <td>Video Remarks for the Budapest Cyber Conferen...</td>\n",
       "      <td>[I, am, delighted, to, be, able, to, send, gre...</td>\n",
       "      <td>230</td>\n",
       "      <td>[delight, abl, send, greet, come, togeth, tack...</td>\n",
       "      <td>0</td>\n",
       "    </tr>\n",
       "    <tr>\n",
       "      <th>22</th>\n",
       "      <td>DOS</td>\n",
       "      <td>September 18, 2012</td>\n",
       "      <td>Thank you, Colonel Brown, for your kind invit...</td>\n",
       "      <td>International Law in Cyberspace</td>\n",
       "      <td>[Thank, you, ,, Colonel, Brown, ,, for, your, ...</td>\n",
       "      <td>4716</td>\n",
       "      <td>[thank, colonel, brown, kind, invit, speak, to...</td>\n",
       "      <td>0</td>\n",
       "    </tr>\n",
       "    <tr>\n",
       "      <th>23</th>\n",
       "      <td>DOS</td>\n",
       "      <td>August 31, 2012</td>\n",
       "      <td>Good Morning. Mr. Assistant Secretary General...</td>\n",
       "      <td>The Organization of American States' Inter-Am...</td>\n",
       "      <td>[Good, Morning, ., Mr., Assistant, Secretary, ...</td>\n",
       "      <td>488</td>\n",
       "      <td>[good, morn, assist, secretari, general, alber...</td>\n",
       "      <td>0</td>\n",
       "    </tr>\n",
       "    <tr>\n",
       "      <th>24</th>\n",
       "      <td>DOS</td>\n",
       "      <td>March 07, 2012</td>\n",
       "      <td>I want to thank the Committee for the opportu...</td>\n",
       "      <td>Strengthening Cyber Security in the Americas</td>\n",
       "      <td>[I, want, to, thank, the, Committee, for, the,...</td>\n",
       "      <td>2590</td>\n",
       "      <td>[want, thank, committe, opportun, speak, today...</td>\n",
       "      <td>0</td>\n",
       "    </tr>\n",
       "    <tr>\n",
       "      <th>25</th>\n",
       "      <td>DOS</td>\n",
       "      <td>November 17, 2011</td>\n",
       "      <td>Thank you for your kind introduction. I am ho...</td>\n",
       "      <td>Leading With Diplomacy to Strengthen Stabilit...</td>\n",
       "      <td>[Thank, you, for, your, kind, introduction, .,...</td>\n",
       "      <td>2124</td>\n",
       "      <td>[thank, kind, introduct, honor, invit, back, s...</td>\n",
       "      <td>1</td>\n",
       "    </tr>\n",
       "    <tr>\n",
       "      <th>26</th>\n",
       "      <td>DOS</td>\n",
       "      <td>October 31, 2011</td>\n",
       "      <td>MS. FULTON: All right. Thank you. And thanks ...</td>\n",
       "      <td>Background Briefing: Secretary Clinton's Part...</td>\n",
       "      <td>[MS., FULTON, :, All, right, ., Thank, you, .,...</td>\n",
       "      <td>1287</td>\n",
       "      <td>[fulton, right, thank, thank, everybodi, join,...</td>\n",
       "      <td>1</td>\n",
       "    </tr>\n",
       "    <tr>\n",
       "      <th>27</th>\n",
       "      <td>DOS</td>\n",
       "      <td>October 18, 2011</td>\n",
       "      <td>MR. PAINTER: Thanks, and thanks for coming he...</td>\n",
       "      <td>Cybersecurity Update</td>\n",
       "      <td>[MR., PAINTER, :, Thanks, ,, and, thanks, for,...</td>\n",
       "      <td>1708</td>\n",
       "      <td>[painter, thank, thank, come, today, want, two...</td>\n",
       "      <td>1</td>\n",
       "    </tr>\n",
       "    <tr>\n",
       "      <th>28</th>\n",
       "      <td>DOS</td>\n",
       "      <td>May 18, 2011</td>\n",
       "      <td>MODERATOR: Thank you, everyone, for coming to...</td>\n",
       "      <td>Release of the Obama Administration's Interna...</td>\n",
       "      <td>[MODERATOR, :, Thank, you, ,, everyone, ,, for...</td>\n",
       "      <td>1577</td>\n",
       "      <td>[moder, thank, everyon, come, foreign, press, ...</td>\n",
       "      <td>1</td>\n",
       "    </tr>\n",
       "    <tr>\n",
       "      <th>29</th>\n",
       "      <td>DOS</td>\n",
       "      <td>May 16, 2011</td>\n",
       "      <td>Well, thank you very much. As you can guess f...</td>\n",
       "      <td>Remarks on the Release of President Obama Adm...</td>\n",
       "      <td>[Well, ,, thank, you, very, much, ., As, you, ...</td>\n",
       "      <td>1568</td>\n",
       "      <td>[well, thank, veri, much, guess, john, introdu...</td>\n",
       "      <td>0</td>\n",
       "    </tr>\n",
       "    <tr>\n",
       "      <th>30</th>\n",
       "      <td>DOS</td>\n",
       "      <td>March 23, 2010</td>\n",
       "      <td>Nina Fedoroff [Science and Technology Adviser...</td>\n",
       "      <td>Cyberspace - Taming the Wild West</td>\n",
       "      <td>[Nina, Fedoroff, [, Science, and, Technology, ...</td>\n",
       "      <td>8639</td>\n",
       "      <td>[nina, fedoroff, scienc, technolog, advis, sec...</td>\n",
       "      <td>1</td>\n",
       "    </tr>\n",
       "    <tr>\n",
       "      <th>31</th>\n",
       "      <td>DOS</td>\n",
       "      <td>September 22, 2009</td>\n",
       "      <td>Andrew Reynolds: So, good morning ladies and ...</td>\n",
       "      <td>Future of the Cyber-Network</td>\n",
       "      <td>[Andrew, Reynolds, :, So, ,, good, morning, la...</td>\n",
       "      <td>6986</td>\n",
       "      <td>[andrew, reynold, good, morn, ladi, gentlemen,...</td>\n",
       "      <td>1</td>\n",
       "    </tr>\n",
       "    <tr>\n",
       "      <th>32</th>\n",
       "      <td>DHS</td>\n",
       "      <td>June 22, 2016</td>\n",
       "      <td>This morning I realized that this summer mark...</td>\n",
       "      <td>Remarks by Deputy Secretary Alejandro Mayorka...</td>\n",
       "      <td>[This, morning, I, realized, that, this, summe...</td>\n",
       "      <td>2098</td>\n",
       "      <td>[morn, realiz, summer, mark, anniversari, sinc...</td>\n",
       "      <td>1</td>\n",
       "    </tr>\n",
       "    <tr>\n",
       "      <th>33</th>\n",
       "      <td>DHS</td>\n",
       "      <td>November 19, 2015</td>\n",
       "      <td>I begin with something about Paris. As the Pr...</td>\n",
       "      <td>Remarks by Secretary of Homeland Security Jeh...</td>\n",
       "      <td>[I, begin, with, something, about, Paris, ., A...</td>\n",
       "      <td>3531</td>\n",
       "      <td>[begin, someth, pari, presid, said, night, occ...</td>\n",
       "      <td>1</td>\n",
       "    </tr>\n",
       "    <tr>\n",
       "      <th>34</th>\n",
       "      <td>DHS</td>\n",
       "      <td>October 06, 2015</td>\n",
       "      <td>Good morning. Thank you very much Ann and tha...</td>\n",
       "      <td>Remarks by Deputy Secretary of Homeland Secur...</td>\n",
       "      <td>[Good, morning, ., Thank, you, very, much, Ann...</td>\n",
       "      <td>2355</td>\n",
       "      <td>[good, morn, thank, veri, much, ann, thank, al...</td>\n",
       "      <td>1</td>\n",
       "    </tr>\n",
       "    <tr>\n",
       "      <th>35</th>\n",
       "      <td>DHS</td>\n",
       "      <td>April 21, 2015</td>\n",
       "      <td>Thank you for inviting me to speak here today...</td>\n",
       "      <td>Remarks by Secretary of Homeland Security Jeh...</td>\n",
       "      <td>[Thank, you, for, inviting, me, to, speak, her...</td>\n",
       "      <td>2166</td>\n",
       "      <td>[thank, invit, speak, today, excit, speak, lar...</td>\n",
       "      <td>1</td>\n",
       "    </tr>\n",
       "    <tr>\n",
       "      <th>36</th>\n",
       "      <td>DHS</td>\n",
       "      <td>February 12, 2014</td>\n",
       "      <td>Cybersecurity is one of the most important mi...</td>\n",
       "      <td>Remarks by Secretary of Homeland Security Jeh...</td>\n",
       "      <td>[Cybersecurity, is, one, of, the, most, import...</td>\n",
       "      <td>786</td>\n",
       "      <td>[cybersecur, one, import, mission, depart, hom...</td>\n",
       "      <td>1</td>\n",
       "    </tr>\n",
       "    <tr>\n",
       "      <th>37</th>\n",
       "      <td>DHS</td>\n",
       "      <td>July 22, 2013</td>\n",
       "      <td>Welcome, Minister Clare, Minister Collins, Se...</td>\n",
       "      <td>Secretary of Homeland Security Janet Napolita...</td>\n",
       "      <td>[Welcome, ,, Minister, Clare, ,, Minister, Col...</td>\n",
       "      <td>461</td>\n",
       "      <td>[welcom, minist, clare, minist, collin, secret...</td>\n",
       "      <td>1</td>\n",
       "    </tr>\n",
       "    <tr>\n",
       "      <th>38</th>\n",
       "      <td>DHS</td>\n",
       "      <td>April 16, 2012</td>\n",
       "      <td>Thank you for the introduction President Qayo...</td>\n",
       "      <td>Remarks by Secretary Janet Napolitano at San ...</td>\n",
       "      <td>[Thank, you, for, the, introduction, President...</td>\n",
       "      <td>3122</td>\n",
       "      <td>[thank, introduct, presid, qayoumi, happi, san...</td>\n",
       "      <td>1</td>\n",
       "    </tr>\n",
       "    <tr>\n",
       "      <th>39</th>\n",
       "      <td>DHS</td>\n",
       "      <td>October 07, 2011</td>\n",
       "      <td>Thanks for the introduction. Good morning eve...</td>\n",
       "      <td>Secretary Janet Napolitano's Remarks at the M...</td>\n",
       "      <td>[Thanks, for, the, introduction, ., Good, morn...</td>\n",
       "      <td>2015</td>\n",
       "      <td>[thank, introduct, good, morn, everyon, want, ...</td>\n",
       "      <td>1</td>\n",
       "    </tr>\n",
       "    <tr>\n",
       "      <th>40</th>\n",
       "      <td>DHS</td>\n",
       "      <td>December 17, 2010</td>\n",
       "      <td>Good morning. I'm happy to report it's snowin...</td>\n",
       "      <td>Remarks by Secretary Napolitano at the Atlant...</td>\n",
       "      <td>[Good, morning, ., I, 'm, happy, to, report, i...</td>\n",
       "      <td>2709</td>\n",
       "      <td>[good, morn, happi, report, snow, veri, hard, ...</td>\n",
       "      <td>1</td>\n",
       "    </tr>\n",
       "    <tr>\n",
       "      <th>41</th>\n",
       "      <td>DHS</td>\n",
       "      <td>October 20, 2009</td>\n",
       "      <td>Good morning, I’m Homeland Security Secretary...</td>\n",
       "      <td>A New Challenge for Our Age: Securing America...</td>\n",
       "      <td>[Good, morning, ,, I, ’, m, Homeland, Security...</td>\n",
       "      <td>2617</td>\n",
       "      <td>[good, morn, homeland, secur, secretari, janet...</td>\n",
       "      <td>1</td>\n",
       "    </tr>\n",
       "    <tr>\n",
       "      <th>42</th>\n",
       "      <td>DHS</td>\n",
       "      <td>August 4, 2009</td>\n",
       "      <td>I want to thank the Secret Service, S&amp;T [DHS ...</td>\n",
       "      <td>Remarks by Secretary Napolitano at the Global...</td>\n",
       "      <td>[I, want, to, thank, the, Secret, Service, ,, ...</td>\n",
       "      <td>2094</td>\n",
       "      <td>[want, thank, secret, servic, dhs, scienc, tec...</td>\n",
       "      <td>1</td>\n",
       "    </tr>\n",
       "  </tbody>\n",
       "</table>\n",
       "</div>"
      ],
      "text/plain": [
       "   agency                  date  \\\n",
       "0    DOS     December 01, 2016    \n",
       "1    DOS     November 10, 2016    \n",
       "2    DOS      October 10, 2016    \n",
       "3    DOS      October 04, 2016    \n",
       "4    DOS    September 28, 2016    \n",
       "5    DOS    September 19, 2016    \n",
       "6    DOS         June 03, 2016    \n",
       "7    DOS          May 25, 2016    \n",
       "8    DOS          May 25, 2016    \n",
       "9    DOS        March 01, 2016    \n",
       "10   DOS     February 26, 2016    \n",
       "11   DOS     February 11, 2016    \n",
       "12   DOS         July 29, 2015    \n",
       "13   DOS          May 14, 2015    \n",
       "14   DOS          May 04, 2015    \n",
       "15   DOS     February 24, 2015    \n",
       "16   DOS      January 13, 2015    \n",
       "17   DOS        March 04, 2014    \n",
       "18   DOS     December 03, 2013    \n",
       "19   DOS      October 21, 2013    \n",
       "20   DOS     November 26, 2012    \n",
       "21   DOS      October 05, 2012    \n",
       "22   DOS    September 18, 2012    \n",
       "23   DOS       August 31, 2012    \n",
       "24   DOS        March 07, 2012    \n",
       "25   DOS     November 17, 2011    \n",
       "26   DOS      October 31, 2011    \n",
       "27   DOS      October 18, 2011    \n",
       "28   DOS          May 18, 2011    \n",
       "29   DOS          May 16, 2011    \n",
       "30   DOS        March 23, 2010    \n",
       "31   DOS    September 22, 2009    \n",
       "32   DHS         June 22, 2016    \n",
       "33   DHS     November 19, 2015    \n",
       "34   DHS      October 06, 2015    \n",
       "35   DHS        April 21, 2015    \n",
       "36   DHS     February 12, 2014    \n",
       "37   DHS         July 22, 2013    \n",
       "38   DHS        April 16, 2012    \n",
       "39   DHS      October 07, 2011    \n",
       "40   DHS     December 17, 2010    \n",
       "41   DHS      October 20, 2009    \n",
       "42   DHS        August 4, 2009    \n",
       "\n",
       "                                                 text  \\\n",
       "0    I would like to begin by thanking the UN Coun...   \n",
       "1    Thank you to Saira for that kind introduction...   \n",
       "2    Good morning! Thank you to Prime Minister Lee...   \n",
       "3    Hello, My name is Chris Painter, and I am the...   \n",
       "4    Introduction. Chairman Gardner, Ranking Membe...   \n",
       "5    Chairman Donilon, Vice Chairman Palmisano, an...   \n",
       "6    So what do zombies have to do with diplomacy?...   \n",
       "7    MODERATOR: Thank you, and thanks to everyone ...   \n",
       "8    Chairman Gardner, Ranking Member Cardin, memb...   \n",
       "9    Good afternoon, and thank you for that warm w...   \n",
       "10   Background: The Sixteenth Regular Session of ...   \n",
       "11   Good afternoon. I’m looking forward to our di...   \n",
       "12   Thank you for the opportunity to discuss deve...   \n",
       "13   Chairman Gardner, Ranking Member Cardin, memb...   \n",
       "14   Great. Well, thank you, and first of all good...   \n",
       "15   ASSISTANT ATTORNEY GENERAL CALDWELL: Thank yo...   \n",
       "16   Mr. Chairman, Ranking Member Engel, and Membe...   \n",
       "17   It’s a pleasure to be here today. I want to b...   \n",
       "18   MODERATOR: Good afternoon, and thank you all ...   \n",
       "19   Good morning, Minister, Chairman Sasongko, Mr...   \n",
       "20   MODERATOR: Good afternoon, everyone. The Fore...   \n",
       "21   I am delighted to be able to send greetings t...   \n",
       "22   Thank you, Colonel Brown, for your kind invit...   \n",
       "23   Good Morning. Mr. Assistant Secretary General...   \n",
       "24   I want to thank the Committee for the opportu...   \n",
       "25   Thank you for your kind introduction. I am ho...   \n",
       "26   MS. FULTON: All right. Thank you. And thanks ...   \n",
       "27   MR. PAINTER: Thanks, and thanks for coming he...   \n",
       "28   MODERATOR: Thank you, everyone, for coming to...   \n",
       "29   Well, thank you very much. As you can guess f...   \n",
       "30   Nina Fedoroff [Science and Technology Adviser...   \n",
       "31   Andrew Reynolds: So, good morning ladies and ...   \n",
       "32   This morning I realized that this summer mark...   \n",
       "33   I begin with something about Paris. As the Pr...   \n",
       "34   Good morning. Thank you very much Ann and tha...   \n",
       "35   Thank you for inviting me to speak here today...   \n",
       "36   Cybersecurity is one of the most important mi...   \n",
       "37   Welcome, Minister Clare, Minister Collins, Se...   \n",
       "38   Thank you for the introduction President Qayo...   \n",
       "39   Thanks for the introduction. Good morning eve...   \n",
       "40   Good morning. I'm happy to report it's snowin...   \n",
       "41   Good morning, I’m Homeland Security Secretary...   \n",
       "42   I want to thank the Secret Service, S&T [DHS ...   \n",
       "\n",
       "                                                title  \\\n",
       "0    Preventing the Exploitation of Information an...   \n",
       "1        Remarks on International Law and Stability     \n",
       "2    Keynote Address at the Singapore Internationa...   \n",
       "3    Video Remarks on Cybersecurity Awareness Mont...   \n",
       "4    The Persistent Threat of North Korea and Deve...   \n",
       "5    Statement Before the Presidential Commission ...   \n",
       "6                                  TEDx Tysons Talk     \n",
       "7    Briefing on the State Department Inspector Ge...   \n",
       "8    International Cybersecurity Strategy: Deterri...   \n",
       "9    Remarks by Attorney General Loretta E. Lynch ...   \n",
       "10   Inter-American Committee Against Terrorism (C...   \n",
       "11   The New Face of Terrorism: Countering Violent...   \n",
       "12   Remarks for Panel Session \"Development of Cyb...   \n",
       "13   Testimony Before Policy Hearing Titled: 'Cybe...   \n",
       "14   Department of Commerce Cybersecurity Trade Mi...   \n",
       "15                    New Reward for Cyber Fugitive     \n",
       "16   The North Korean Threat: Nuclear, Missiles an...   \n",
       "17   As Prepared Remarks at Georgetown University ...   \n",
       "18   Remarks at a Cyber Partnership Agreement Sign...   \n",
       "19           Remarks at High Level Leader's Meeting     \n",
       "20   Cyber Security: Project Cyber Monday 3 and Pr...   \n",
       "21   Video Remarks for the Budapest Cyber Conferen...   \n",
       "22                  International Law in Cyberspace     \n",
       "23   The Organization of American States' Inter-Am...   \n",
       "24     Strengthening Cyber Security in the Americas     \n",
       "25   Leading With Diplomacy to Strengthen Stabilit...   \n",
       "26   Background Briefing: Secretary Clinton's Part...   \n",
       "27                             Cybersecurity Update     \n",
       "28   Release of the Obama Administration's Interna...   \n",
       "29   Remarks on the Release of President Obama Adm...   \n",
       "30                Cyberspace - Taming the Wild West     \n",
       "31                      Future of the Cyber-Network     \n",
       "32   Remarks by Deputy Secretary Alejandro Mayorka...   \n",
       "33   Remarks by Secretary of Homeland Security Jeh...   \n",
       "34   Remarks by Deputy Secretary of Homeland Secur...   \n",
       "35   Remarks by Secretary of Homeland Security Jeh...   \n",
       "36   Remarks by Secretary of Homeland Security Jeh...   \n",
       "37   Secretary of Homeland Security Janet Napolita...   \n",
       "38   Remarks by Secretary Janet Napolitano at San ...   \n",
       "39   Secretary Janet Napolitano's Remarks at the M...   \n",
       "40   Remarks by Secretary Napolitano at the Atlant...   \n",
       "41   A New Challenge for Our Age: Securing America...   \n",
       "42   Remarks by Secretary Napolitano at the Global...   \n",
       "\n",
       "                                       tokenized-text  word-counts  \\\n",
       "0   [I, would, like, to, begin, by, thanking, the,...         1823   \n",
       "1   [Thank, you, to, Saira, for, that, kind, intro...         5935   \n",
       "2   [Good, morning, !, Thank, you, to, Prime, Mini...         1763   \n",
       "3   [Hello, ,, My, name, is, Chris, Painter, ,, an...          487   \n",
       "4   [Introduction, ., Chairman, Gardner, ,, Rankin...         2405   \n",
       "5   [Chairman, Donilon, ,, Vice, Chairman, Palmisa...         1661   \n",
       "6   [So, what, do, zombies, have, to, do, with, di...         2475   \n",
       "7   [MODERATOR, :, Thank, you, ,, and, thanks, to,...         1208   \n",
       "8   [Chairman, Gardner, ,, Ranking, Member, Cardin...         5220   \n",
       "9   [Good, afternoon, ,, and, thank, you, for, tha...         2294   \n",
       "10  [Background, :, The, Sixteenth, Regular, Sessi...         1825   \n",
       "11  [Good, afternoon, ., I, ’, m, looking, forward...         1776   \n",
       "12  [Thank, you, for, the, opportunity, to, discus...         1799   \n",
       "13  [Chairman, Gardner, ,, Ranking, Member, Cardin...         6635   \n",
       "14  [Great, ., Well, ,, thank, you, ,, and, first,...          687   \n",
       "15  [ASSISTANT, ATTORNEY, GENERAL, CALDWELL, :, Th...         2658   \n",
       "16  [Mr., Chairman, ,, Ranking, Member, Engel, ,, ...         2998   \n",
       "17  [It, ’, s, a, pleasure, to, be, here, today, ....         2396   \n",
       "18  [MODERATOR, :, Good, afternoon, ,, and, thank,...          444   \n",
       "19  [Good, morning, ,, Minister, ,, Chairman, Saso...         1420   \n",
       "20  [MODERATOR, :, Good, afternoon, ,, everyone, ....         1529   \n",
       "21  [I, am, delighted, to, be, able, to, send, gre...          230   \n",
       "22  [Thank, you, ,, Colonel, Brown, ,, for, your, ...         4716   \n",
       "23  [Good, Morning, ., Mr., Assistant, Secretary, ...          488   \n",
       "24  [I, want, to, thank, the, Committee, for, the,...         2590   \n",
       "25  [Thank, you, for, your, kind, introduction, .,...         2124   \n",
       "26  [MS., FULTON, :, All, right, ., Thank, you, .,...         1287   \n",
       "27  [MR., PAINTER, :, Thanks, ,, and, thanks, for,...         1708   \n",
       "28  [MODERATOR, :, Thank, you, ,, everyone, ,, for...         1577   \n",
       "29  [Well, ,, thank, you, very, much, ., As, you, ...         1568   \n",
       "30  [Nina, Fedoroff, [, Science, and, Technology, ...         8639   \n",
       "31  [Andrew, Reynolds, :, So, ,, good, morning, la...         6986   \n",
       "32  [This, morning, I, realized, that, this, summe...         2098   \n",
       "33  [I, begin, with, something, about, Paris, ., A...         3531   \n",
       "34  [Good, morning, ., Thank, you, very, much, Ann...         2355   \n",
       "35  [Thank, you, for, inviting, me, to, speak, her...         2166   \n",
       "36  [Cybersecurity, is, one, of, the, most, import...          786   \n",
       "37  [Welcome, ,, Minister, Clare, ,, Minister, Col...          461   \n",
       "38  [Thank, you, for, the, introduction, President...         3122   \n",
       "39  [Thanks, for, the, introduction, ., Good, morn...         2015   \n",
       "40  [Good, morning, ., I, 'm, happy, to, report, i...         2709   \n",
       "41  [Good, morning, ,, I, ’, m, Homeland, Security...         2617   \n",
       "42  [I, want, to, thank, the, Secret, Service, ,, ...         2094   \n",
       "\n",
       "                                      normalized-text  kmeans_predictions  \n",
       "0   [would, like, begin, thank, un, committe, ctc,...                   0  \n",
       "1   [thank, saira, kind, introduct, thank, miller,...                   0  \n",
       "2   [good, morn, thank, prime, minist, lee, govern...                   0  \n",
       "3   [hello, name, chris, painter, coordin, cyber, ...                   1  \n",
       "4   [introduct, chairman, gardner, rank, member, c...                   0  \n",
       "5   [chairman, donilon, vice, chairman, palmisano,...                   0  \n",
       "6   [zombi, diplomaci, well, year, ago, bad, guy, ...                   1  \n",
       "7   [moder, thank, thank, everyon, join, us, relat...                   1  \n",
       "8   [chairman, gardner, rank, member, cardin, memb...                   0  \n",
       "9   [good, afternoon, thank, warm, welcom, want, t...                   1  \n",
       "10  [background, sixteenth, regular, session, comm...                   0  \n",
       "11  [good, afternoon, look, forward, discuss, befo...                   0  \n",
       "12  [thank, opportun, discuss, develop, cyberspac,...                   0  \n",
       "13  [chairman, gardner, rank, member, cardin, memb...                   0  \n",
       "14  [great, well, thank, first, good, morn, thank,...                   1  \n",
       "15  [assist, attorney, general, caldwel, thank, th...                   1  \n",
       "16  [chairman, rank, member, engel, member, commit...                   0  \n",
       "17  [pleasur, today, want, begin, thank, georgetow...                   0  \n",
       "18  [moder, good, afternoon, thank, today, pleasur...                   1  \n",
       "19  [good, morn, minist, chairman, sasongko, assis...                   0  \n",
       "20  [moder, good, afternoon, everyon, foreign, pre...                   1  \n",
       "21  [delight, abl, send, greet, come, togeth, tack...                   0  \n",
       "22  [thank, colonel, brown, kind, invit, speak, to...                   0  \n",
       "23  [good, morn, assist, secretari, general, alber...                   0  \n",
       "24  [want, thank, committe, opportun, speak, today...                   0  \n",
       "25  [thank, kind, introduct, honor, invit, back, s...                   1  \n",
       "26  [fulton, right, thank, thank, everybodi, join,...                   1  \n",
       "27  [painter, thank, thank, come, today, want, two...                   1  \n",
       "28  [moder, thank, everyon, come, foreign, press, ...                   1  \n",
       "29  [well, thank, veri, much, guess, john, introdu...                   0  \n",
       "30  [nina, fedoroff, scienc, technolog, advis, sec...                   1  \n",
       "31  [andrew, reynold, good, morn, ladi, gentlemen,...                   1  \n",
       "32  [morn, realiz, summer, mark, anniversari, sinc...                   1  \n",
       "33  [begin, someth, pari, presid, said, night, occ...                   1  \n",
       "34  [good, morn, thank, veri, much, ann, thank, al...                   1  \n",
       "35  [thank, invit, speak, today, excit, speak, lar...                   1  \n",
       "36  [cybersecur, one, import, mission, depart, hom...                   1  \n",
       "37  [welcom, minist, clare, minist, collin, secret...                   1  \n",
       "38  [thank, introduct, presid, qayoumi, happi, san...                   1  \n",
       "39  [thank, introduct, good, morn, everyon, want, ...                   1  \n",
       "40  [good, morn, happi, report, snow, veri, hard, ...                   1  \n",
       "41  [good, morn, homeland, secur, secretari, janet...                   1  \n",
       "42  [want, thank, secret, servic, dhs, scienc, tec...                   1  "
      ]
     },
     "execution_count": 51,
     "metadata": {},
     "output_type": "execute_result"
    }
   ],
   "source": [
    "speechesDF['kmeans_predictions'] = km.labels_\n",
    "speechesDF"
   ]
  },
  {
   "cell_type": "code",
   "execution_count": 52,
   "metadata": {},
   "outputs": [
    {
     "name": "stdout",
     "output_type": "stream",
     "text": [
      "Top terms per cluster:\n",
      "Cluster 0:\n",
      " norms\n",
      " cicte\n",
      " behavior\n",
      " north\n",
      " korea\n",
      " stability\n",
      " consensus\n",
      " cybercrime\n",
      " conflict\n",
      " strategy\n",
      "\n",
      "\n",
      "Cluster 1:\n",
      " really\n",
      " dhs\n",
      " homeland\n",
      " nation\n",
      " federal\n",
      " space\n",
      " awareness\n",
      " companies\n",
      " systems\n",
      " different\n",
      "\n",
      "\n"
     ]
    }
   ],
   "source": [
    "terms = speechesTFVectorizer.get_feature_names()\n",
    "print(\"Top terms per cluster:\")\n",
    "order_centroids = km.cluster_centers_.argsort()[:, ::-1]\n",
    "for i in range(numClusters):\n",
    "    print(\"Cluster %d:\" % i)\n",
    "    for ind in order_centroids[i, :10]:\n",
    "        print(' %s' % terms[ind])\n",
    "    print('\\n')\n"
   ]
  },
  {
   "cell_type": "code",
   "execution_count": 53,
   "metadata": {
    "collapsed": true
   },
   "outputs": [],
   "source": [
    "PCA = sklearn.decomposition.PCA\n",
    "pca = PCA(n_components = 2).fit(speechesTFVects.toarray())\n",
    "reduced_data = pca.transform(speechesTFVects.toarray())"
   ]
  },
  {
   "cell_type": "code",
   "execution_count": 256,
   "metadata": {
    "collapsed": true
   },
   "outputs": [],
   "source": [
    "components = pca.components_\n",
    "keyword_ids = list(set(order_centroids[:,:10].flatten())) #Get the ids of the most distinguishing words(features) from your kmeans model.\n",
    "words = [terms[i] for i in keyword_ids]#Turn the ids into words.\n",
    "x = components[:,keyword_ids][0,:] #Find the coordinates of those words in your biplot.\n",
    "y = components[:,keyword_ids][1,:]"
   ]
  },
  {
   "cell_type": "code",
   "execution_count": 257,
   "metadata": {},
   "outputs": [
    {
     "data": {
      "text/plain": [
       "2"
      ]
     },
     "execution_count": 257,
     "metadata": {},
     "output_type": "execute_result"
    }
   ],
   "source": [
    "len(set(speechesDF['agency']))"
   ]
  },
  {
   "cell_type": "code",
   "execution_count": 258,
   "metadata": {},
   "outputs": [
    {
     "name": "stdout",
     "output_type": "stream",
     "text": [
      "The categories' colors are:\n",
      "dict_items([(' DOS ', 'green'), (' DHS ', 'red')])\n"
     ]
    }
   ],
   "source": [
    "colordict = {\n",
    "' DOS ': 'green',\n",
    "' DHS ': 'red'\n",
    "    }\n",
    "colors = [colordict[c] for c in speechesDF['agency']]\n",
    "print(\"The categories' colors are:\\n{}\".format(colordict.items()))"
   ]
  },
  {
   "cell_type": "code",
   "execution_count": 259,
   "metadata": {},
   "outputs": [
    {
     "data": {
      "image/png": "[encoded data removed]",
      "text/plain": [
       "<matplotlib.figure.Figure at 0x11be3d4e0>"
      ]
     },
     "metadata": {},
     "output_type": "display_data"
    }
   ],
   "source": [
    "fig = plt.figure(figsize = (10,6))\n",
    "ax = fig.add_subplot(111)\n",
    "ax.set_frame_on(False)\n",
    "ax.scatter(reduced_data[:, 0], reduced_data[:, 1], color = colors, alpha = 0.5, label = colors)\n",
    "plt.xticks(())\n",
    "plt.yticks(())\n",
    "plt.title('True Classes')\n",
    "plt.show()"
   ]
  },
  {
   "cell_type": "code",
   "execution_count": 261,
   "metadata": {},
   "outputs": [
    {
     "data": {
      "image/png": "[encoded data removed]",
      "text/plain": [
       "<matplotlib.figure.Figure at 0x11c10a978>"
      ]
     },
     "metadata": {},
     "output_type": "display_data"
    }
   ],
   "source": [
    "fig = plt.figure(figsize = (16,9))\n",
    "ax = fig.add_subplot(111)\n",
    "ax.set_frame_on(False)\n",
    "ax.scatter(reduced_data[:, 0], reduced_data[:, 1], color = colors, alpha = 0.3, label = colors)\n",
    "for i, word in enumerate(words):\n",
    "    ax.annotate(word, (x[i],y[i]))\n",
    "plt.xticks(())\n",
    "plt.yticks(())\n",
    "plt.title('True Classes: 10 Keywords')\n",
    "plt.show()"
   ]
  },
  {
   "cell_type": "code",
   "execution_count": 72,
   "metadata": {
    "collapsed": true
   },
   "outputs": [],
   "source": [
    "speechesCoocMat = speechesTFVects * speechesTFVects.T\n",
    "speechesCoocMat.setdiag(0)"
   ]
  },
  {
   "cell_type": "code",
   "execution_count": 73,
   "metadata": {
    "collapsed": true
   },
   "outputs": [],
   "source": [
    "selectIndices = []\n",
    "indexToCat = []\n",
    "for c in set(speechesDF['agency']):\n",
    "    selectIndices += list(speechesDF[speechesDF['agency'] == c].index)[:50]\n",
    "    indexToCat += [c] * 50"
   ]
  },
  {
   "cell_type": "code",
   "execution_count": 74,
   "metadata": {
    "collapsed": true
   },
   "outputs": [],
   "source": [
    "subCoocMat = speechesCoocMat[selectIndices,:][:,selectIndices]"
   ]
  },
  {
   "cell_type": "code",
   "execution_count": 75,
   "metadata": {},
   "outputs": [
    {
     "name": "stderr",
     "output_type": "stream",
     "text": [
      "/anaconda3/lib/python3.6/site-packages/scipy/cluster/hierarchy.py:482: ClusterWarning: scipy.cluster: The symmetric non-negative hollow observation matrix looks suspiciously like an uncondensed distance matrix\n",
      "  return linkage(y, method='ward', metric='euclidean')\n"
     ]
    },
    {
     "data": {
      "text/plain": [
       "array([[11.        , 37.        ,  0.2848596 ,  2.        ],\n",
       "       [15.        , 20.        ,  0.30414969,  2.        ],\n",
       "       [ 7.        , 18.        ,  0.34241938,  2.        ],\n",
       "       [21.        , 25.        ,  0.3469917 ,  2.        ],\n",
       "       [ 0.        , 14.        ,  0.40079383,  2.        ],\n",
       "       [45.        , 46.        ,  0.40576627,  4.        ],\n",
       "       [31.        , 44.        ,  0.4184324 ,  3.        ],\n",
       "       [32.        , 35.        ,  0.44927515,  2.        ],\n",
       "       [36.        , 42.        ,  0.46216284,  2.        ],\n",
       "       [43.        , 48.        ,  0.47217778,  6.        ]])"
      ]
     },
     "execution_count": 75,
     "metadata": {},
     "output_type": "execute_result"
    }
   ],
   "source": [
    "linkage_matrix = scipy.cluster.hierarchy.ward(subCoocMat.toarray())\n",
    "linkage_matrix[:10]"
   ]
  },
  {
   "cell_type": "code",
   "execution_count": 76,
   "metadata": {},
   "outputs": [
    {
     "data": {
      "image/png": "[encoded data removed]",
      "text/plain": [
       "<matplotlib.figure.Figure at 0x113ca27f0>"
      ]
     },
     "metadata": {},
     "output_type": "display_data"
    }
   ],
   "source": [
    "dendDat = scipy.cluster.hierarchy.dendrogram(linkage_matrix, get_leaves=True)\n"
   ]
  },
  {
   "cell_type": "code",
   "execution_count": 77,
   "metadata": {
    "collapsed": true
   },
   "outputs": [],
   "source": [
    "def dropMissing(wordLst, vocab):\n",
    "    return [w for w in wordLst if w in vocab]\n",
    "\n",
    "speechesDF['reduced-tokens'] = speechesDF['normalized-text'].apply(lambda x: dropMissing(x, speechesTFVectorizer.vocabulary_.keys()))"
   ]
  },
  {
   "cell_type": "code",
   "execution_count": 79,
   "metadata": {
    "collapsed": true
   },
   "outputs": [],
   "source": [
    "dictionary = gensim.corpora.Dictionary(speechesDF['reduced-tokens'])\n",
    "corpus = [dictionary.doc2bow(text) for text in speechesDF['reduced-tokens']]\n",
    "gensim.corpora.MmCorpus.serialize('speeches.mm', corpus)\n",
    "speechesmm = gensim.corpora.MmCorpus('speeches.mm')"
   ]
  },
  {
   "cell_type": "code",
   "execution_count": 80,
   "metadata": {
    "collapsed": true
   },
   "outputs": [],
   "source": [
    "speecheslda = gensim.models.ldamodel.LdaModel(corpus=speechesmm, id2word=dictionary, num_topics=10, alpha='auto', eta='auto')"
   ]
  },
  {
   "cell_type": "code",
   "execution_count": 81,
   "metadata": {},
   "outputs": [
    {
     "name": "stdout",
     "output_type": "stream",
     "text": [
      "The topics of the text:  December 01, 2016 \n",
      "are: [(6, 0.9951082)]\n"
     ]
    }
   ],
   "source": [
    "speeches1Bow = dictionary.doc2bow(speechesDF['reduced-tokens'][0])\n",
    "speeches1lda = speecheslda[speeches1Bow]\n",
    "print(\"The topics of the text: {}\".format(speechesDF['date'][0]))\n",
    "print(\"are: {}\".format(speeches1lda))"
   ]
  },
  {
   "cell_type": "code",
   "execution_count": 91,
   "metadata": {
    "collapsed": true
   },
   "outputs": [],
   "source": [
    "speechesldaDF = pandas.DataFrame({\n",
    "        'date' : speechesDF['date'],\n",
    "        'topics' : [speecheslda[dictionary.doc2bow(l)] for l in speechesDF['reduced-tokens']]\n",
    "    })"
   ]
  },
  {
   "cell_type": "code",
   "execution_count": 92,
   "metadata": {},
   "outputs": [
    {
     "data": {
      "text/html": [
       "<div>\n",
       "<style scoped>\n",
       "    .dataframe tbody tr th:only-of-type {\n",
       "        vertical-align: middle;\n",
       "    }\n",
       "\n",
       "    .dataframe tbody tr th {\n",
       "        vertical-align: top;\n",
       "    }\n",
       "\n",
       "    .dataframe thead th {\n",
       "        text-align: right;\n",
       "    }\n",
       "</style>\n",
       "<table border=\"1\" class=\"dataframe\">\n",
       "  <thead>\n",
       "    <tr style=\"text-align: right;\">\n",
       "      <th></th>\n",
       "      <th>date</th>\n",
       "      <th>topics</th>\n",
       "      <th>topic_0</th>\n",
       "      <th>topic_1</th>\n",
       "      <th>topic_2</th>\n",
       "      <th>topic_3</th>\n",
       "      <th>topic_4</th>\n",
       "      <th>topic_5</th>\n",
       "      <th>topic_6</th>\n",
       "      <th>topic_7</th>\n",
       "      <th>topic_8</th>\n",
       "      <th>topic_9</th>\n",
       "    </tr>\n",
       "  </thead>\n",
       "  <tbody>\n",
       "    <tr>\n",
       "      <th>0</th>\n",
       "      <td>December 01, 2016</td>\n",
       "      <td>[(6, 0.9951082)]</td>\n",
       "      <td>0.000000</td>\n",
       "      <td>0.000000</td>\n",
       "      <td>0.000000</td>\n",
       "      <td>0.000000</td>\n",
       "      <td>0.000000</td>\n",
       "      <td>0.000000</td>\n",
       "      <td>0.995108</td>\n",
       "      <td>0.000000</td>\n",
       "      <td>0.000000</td>\n",
       "      <td>0.000000</td>\n",
       "    </tr>\n",
       "    <tr>\n",
       "      <th>1</th>\n",
       "      <td>November 10, 2016</td>\n",
       "      <td>[(4, 0.48086596), (6, 0.51746386)]</td>\n",
       "      <td>0.000000</td>\n",
       "      <td>0.000000</td>\n",
       "      <td>0.000000</td>\n",
       "      <td>0.000000</td>\n",
       "      <td>0.480866</td>\n",
       "      <td>0.000000</td>\n",
       "      <td>0.517464</td>\n",
       "      <td>0.000000</td>\n",
       "      <td>0.000000</td>\n",
       "      <td>0.000000</td>\n",
       "    </tr>\n",
       "    <tr>\n",
       "      <th>2</th>\n",
       "      <td>October 10, 2016</td>\n",
       "      <td>[(1, 0.95787644), (6, 0.03660921)]</td>\n",
       "      <td>0.000000</td>\n",
       "      <td>0.957876</td>\n",
       "      <td>0.000000</td>\n",
       "      <td>0.000000</td>\n",
       "      <td>0.000000</td>\n",
       "      <td>0.000000</td>\n",
       "      <td>0.036609</td>\n",
       "      <td>0.000000</td>\n",
       "      <td>0.000000</td>\n",
       "      <td>0.000000</td>\n",
       "    </tr>\n",
       "    <tr>\n",
       "      <th>3</th>\n",
       "      <td>October 04, 2016</td>\n",
       "      <td>[(1, 0.9767156)]</td>\n",
       "      <td>0.000000</td>\n",
       "      <td>0.976716</td>\n",
       "      <td>0.000000</td>\n",
       "      <td>0.000000</td>\n",
       "      <td>0.000000</td>\n",
       "      <td>0.000000</td>\n",
       "      <td>0.000000</td>\n",
       "      <td>0.000000</td>\n",
       "      <td>0.000000</td>\n",
       "      <td>0.000000</td>\n",
       "    </tr>\n",
       "    <tr>\n",
       "      <th>4</th>\n",
       "      <td>September 28, 2016</td>\n",
       "      <td>[(2, 0.11150359), (6, 0.876708)]</td>\n",
       "      <td>0.000000</td>\n",
       "      <td>0.000000</td>\n",
       "      <td>0.111504</td>\n",
       "      <td>0.000000</td>\n",
       "      <td>0.000000</td>\n",
       "      <td>0.000000</td>\n",
       "      <td>0.876708</td>\n",
       "      <td>0.000000</td>\n",
       "      <td>0.000000</td>\n",
       "      <td>0.000000</td>\n",
       "    </tr>\n",
       "    <tr>\n",
       "      <th>5</th>\n",
       "      <td>September 19, 2016</td>\n",
       "      <td>[(1, 0.36871096), (2, 0.24068418), (4, 0.26064...</td>\n",
       "      <td>0.000000</td>\n",
       "      <td>0.368711</td>\n",
       "      <td>0.240684</td>\n",
       "      <td>0.000000</td>\n",
       "      <td>0.260647</td>\n",
       "      <td>0.000000</td>\n",
       "      <td>0.126232</td>\n",
       "      <td>0.000000</td>\n",
       "      <td>0.000000</td>\n",
       "      <td>0.000000</td>\n",
       "    </tr>\n",
       "    <tr>\n",
       "      <th>6</th>\n",
       "      <td>June 03, 2016</td>\n",
       "      <td>[(1, 0.8882028), (2, 0.10699351)]</td>\n",
       "      <td>0.000000</td>\n",
       "      <td>0.888203</td>\n",
       "      <td>0.106994</td>\n",
       "      <td>0.000000</td>\n",
       "      <td>0.000000</td>\n",
       "      <td>0.000000</td>\n",
       "      <td>0.000000</td>\n",
       "      <td>0.000000</td>\n",
       "      <td>0.000000</td>\n",
       "      <td>0.000000</td>\n",
       "    </tr>\n",
       "    <tr>\n",
       "      <th>7</th>\n",
       "      <td>May 25, 2016</td>\n",
       "      <td>[(8, 0.98980415)]</td>\n",
       "      <td>0.000000</td>\n",
       "      <td>0.000000</td>\n",
       "      <td>0.000000</td>\n",
       "      <td>0.000000</td>\n",
       "      <td>0.000000</td>\n",
       "      <td>0.000000</td>\n",
       "      <td>0.000000</td>\n",
       "      <td>0.000000</td>\n",
       "      <td>0.989804</td>\n",
       "      <td>0.000000</td>\n",
       "    </tr>\n",
       "    <tr>\n",
       "      <th>8</th>\n",
       "      <td>May 25, 2016</td>\n",
       "      <td>[(2, 0.09150649), (3, 0.04478333), (4, 0.18964...</td>\n",
       "      <td>0.000000</td>\n",
       "      <td>0.000000</td>\n",
       "      <td>0.091506</td>\n",
       "      <td>0.044783</td>\n",
       "      <td>0.189642</td>\n",
       "      <td>0.000000</td>\n",
       "      <td>0.671780</td>\n",
       "      <td>0.000000</td>\n",
       "      <td>0.000000</td>\n",
       "      <td>0.000000</td>\n",
       "    </tr>\n",
       "    <tr>\n",
       "      <th>9</th>\n",
       "      <td>March 01, 2016</td>\n",
       "      <td>[(1, 0.28103453), (3, 0.6947804), (6, 0.020620...</td>\n",
       "      <td>0.000000</td>\n",
       "      <td>0.281035</td>\n",
       "      <td>0.000000</td>\n",
       "      <td>0.694780</td>\n",
       "      <td>0.000000</td>\n",
       "      <td>0.000000</td>\n",
       "      <td>0.020620</td>\n",
       "      <td>0.000000</td>\n",
       "      <td>0.000000</td>\n",
       "      <td>0.000000</td>\n",
       "    </tr>\n",
       "    <tr>\n",
       "      <th>10</th>\n",
       "      <td>February 26, 2016</td>\n",
       "      <td>[(1, 0.27990013), (3, 0.14771014), (6, 0.56764...</td>\n",
       "      <td>0.000000</td>\n",
       "      <td>0.279900</td>\n",
       "      <td>0.000000</td>\n",
       "      <td>0.147710</td>\n",
       "      <td>0.000000</td>\n",
       "      <td>0.000000</td>\n",
       "      <td>0.567645</td>\n",
       "      <td>0.000000</td>\n",
       "      <td>0.000000</td>\n",
       "      <td>0.000000</td>\n",
       "    </tr>\n",
       "    <tr>\n",
       "      <th>11</th>\n",
       "      <td>February 11, 2016</td>\n",
       "      <td>[(6, 0.9954944)]</td>\n",
       "      <td>0.000000</td>\n",
       "      <td>0.000000</td>\n",
       "      <td>0.000000</td>\n",
       "      <td>0.000000</td>\n",
       "      <td>0.000000</td>\n",
       "      <td>0.000000</td>\n",
       "      <td>0.995494</td>\n",
       "      <td>0.000000</td>\n",
       "      <td>0.000000</td>\n",
       "      <td>0.000000</td>\n",
       "    </tr>\n",
       "    <tr>\n",
       "      <th>12</th>\n",
       "      <td>July 29, 2015</td>\n",
       "      <td>[(3, 0.07926062), (4, 0.024052165), (6, 0.8869...</td>\n",
       "      <td>0.000000</td>\n",
       "      <td>0.000000</td>\n",
       "      <td>0.000000</td>\n",
       "      <td>0.079261</td>\n",
       "      <td>0.024052</td>\n",
       "      <td>0.000000</td>\n",
       "      <td>0.886941</td>\n",
       "      <td>0.000000</td>\n",
       "      <td>0.000000</td>\n",
       "      <td>0.000000</td>\n",
       "    </tr>\n",
       "    <tr>\n",
       "      <th>13</th>\n",
       "      <td>May 14, 2015</td>\n",
       "      <td>[(0, 0.013141299), (2, 0.47876155), (4, 0.0208...</td>\n",
       "      <td>0.013141</td>\n",
       "      <td>0.000000</td>\n",
       "      <td>0.478762</td>\n",
       "      <td>0.000000</td>\n",
       "      <td>0.020870</td>\n",
       "      <td>0.000000</td>\n",
       "      <td>0.445546</td>\n",
       "      <td>0.000000</td>\n",
       "      <td>0.000000</td>\n",
       "      <td>0.034354</td>\n",
       "    </tr>\n",
       "    <tr>\n",
       "      <th>14</th>\n",
       "      <td>May 04, 2015</td>\n",
       "      <td>[(4, 0.51602554), (7, 0.4686888)]</td>\n",
       "      <td>0.000000</td>\n",
       "      <td>0.000000</td>\n",
       "      <td>0.000000</td>\n",
       "      <td>0.000000</td>\n",
       "      <td>0.516026</td>\n",
       "      <td>0.000000</td>\n",
       "      <td>0.000000</td>\n",
       "      <td>0.468689</td>\n",
       "      <td>0.000000</td>\n",
       "      <td>0.000000</td>\n",
       "    </tr>\n",
       "    <tr>\n",
       "      <th>15</th>\n",
       "      <td>February 24, 2015</td>\n",
       "      <td>[(2, 0.7836346), (4, 0.21257775)]</td>\n",
       "      <td>0.000000</td>\n",
       "      <td>0.000000</td>\n",
       "      <td>0.783635</td>\n",
       "      <td>0.000000</td>\n",
       "      <td>0.212578</td>\n",
       "      <td>0.000000</td>\n",
       "      <td>0.000000</td>\n",
       "      <td>0.000000</td>\n",
       "      <td>0.000000</td>\n",
       "      <td>0.000000</td>\n",
       "    </tr>\n",
       "    <tr>\n",
       "      <th>16</th>\n",
       "      <td>January 13, 2015</td>\n",
       "      <td>[(2, 0.9001686), (6, 0.08971741)]</td>\n",
       "      <td>0.000000</td>\n",
       "      <td>0.000000</td>\n",
       "      <td>0.900169</td>\n",
       "      <td>0.000000</td>\n",
       "      <td>0.000000</td>\n",
       "      <td>0.000000</td>\n",
       "      <td>0.089717</td>\n",
       "      <td>0.000000</td>\n",
       "      <td>0.000000</td>\n",
       "      <td>0.000000</td>\n",
       "    </tr>\n",
       "    <tr>\n",
       "      <th>17</th>\n",
       "      <td>March 04, 2014</td>\n",
       "      <td>[(1, 0.013946749), (2, 0.97800153)]</td>\n",
       "      <td>0.000000</td>\n",
       "      <td>0.013947</td>\n",
       "      <td>0.978002</td>\n",
       "      <td>0.000000</td>\n",
       "      <td>0.000000</td>\n",
       "      <td>0.000000</td>\n",
       "      <td>0.000000</td>\n",
       "      <td>0.000000</td>\n",
       "      <td>0.000000</td>\n",
       "      <td>0.000000</td>\n",
       "    </tr>\n",
       "    <tr>\n",
       "      <th>18</th>\n",
       "      <td>December 03, 2013</td>\n",
       "      <td>[(4, 0.96853375)]</td>\n",
       "      <td>0.000000</td>\n",
       "      <td>0.000000</td>\n",
       "      <td>0.000000</td>\n",
       "      <td>0.000000</td>\n",
       "      <td>0.968534</td>\n",
       "      <td>0.000000</td>\n",
       "      <td>0.000000</td>\n",
       "      <td>0.000000</td>\n",
       "      <td>0.000000</td>\n",
       "      <td>0.000000</td>\n",
       "    </tr>\n",
       "    <tr>\n",
       "      <th>19</th>\n",
       "      <td>October 21, 2013</td>\n",
       "      <td>[(2, 0.88577545), (4, 0.07629972), (6, 0.03285...</td>\n",
       "      <td>0.000000</td>\n",
       "      <td>0.000000</td>\n",
       "      <td>0.885775</td>\n",
       "      <td>0.000000</td>\n",
       "      <td>0.076300</td>\n",
       "      <td>0.000000</td>\n",
       "      <td>0.032859</td>\n",
       "      <td>0.000000</td>\n",
       "      <td>0.000000</td>\n",
       "      <td>0.000000</td>\n",
       "    </tr>\n",
       "    <tr>\n",
       "      <th>20</th>\n",
       "      <td>November 26, 2012</td>\n",
       "      <td>[(5, 0.99032116)]</td>\n",
       "      <td>0.000000</td>\n",
       "      <td>0.000000</td>\n",
       "      <td>0.000000</td>\n",
       "      <td>0.000000</td>\n",
       "      <td>0.000000</td>\n",
       "      <td>0.990321</td>\n",
       "      <td>0.000000</td>\n",
       "      <td>0.000000</td>\n",
       "      <td>0.000000</td>\n",
       "      <td>0.000000</td>\n",
       "    </tr>\n",
       "    <tr>\n",
       "      <th>21</th>\n",
       "      <td>October 05, 2012</td>\n",
       "      <td>[(2, 0.9521596)]</td>\n",
       "      <td>0.000000</td>\n",
       "      <td>0.000000</td>\n",
       "      <td>0.952160</td>\n",
       "      <td>0.000000</td>\n",
       "      <td>0.000000</td>\n",
       "      <td>0.000000</td>\n",
       "      <td>0.000000</td>\n",
       "      <td>0.000000</td>\n",
       "      <td>0.000000</td>\n",
       "      <td>0.000000</td>\n",
       "    </tr>\n",
       "    <tr>\n",
       "      <th>22</th>\n",
       "      <td>September 18, 2012</td>\n",
       "      <td>[(6, 0.99670386)]</td>\n",
       "      <td>0.000000</td>\n",
       "      <td>0.000000</td>\n",
       "      <td>0.000000</td>\n",
       "      <td>0.000000</td>\n",
       "      <td>0.000000</td>\n",
       "      <td>0.000000</td>\n",
       "      <td>0.996704</td>\n",
       "      <td>0.000000</td>\n",
       "      <td>0.000000</td>\n",
       "      <td>0.000000</td>\n",
       "    </tr>\n",
       "    <tr>\n",
       "      <th>23</th>\n",
       "      <td>August 31, 2012</td>\n",
       "      <td>[(2, 0.64003897), (6, 0.33873707)]</td>\n",
       "      <td>0.000000</td>\n",
       "      <td>0.000000</td>\n",
       "      <td>0.640039</td>\n",
       "      <td>0.000000</td>\n",
       "      <td>0.000000</td>\n",
       "      <td>0.000000</td>\n",
       "      <td>0.338737</td>\n",
       "      <td>0.000000</td>\n",
       "      <td>0.000000</td>\n",
       "      <td>0.000000</td>\n",
       "    </tr>\n",
       "    <tr>\n",
       "      <th>24</th>\n",
       "      <td>March 07, 2012</td>\n",
       "      <td>[(1, 0.6165476), (2, 0.03957328), (6, 0.338027...</td>\n",
       "      <td>0.000000</td>\n",
       "      <td>0.616548</td>\n",
       "      <td>0.039573</td>\n",
       "      <td>0.000000</td>\n",
       "      <td>0.000000</td>\n",
       "      <td>0.000000</td>\n",
       "      <td>0.338027</td>\n",
       "      <td>0.000000</td>\n",
       "      <td>0.000000</td>\n",
       "      <td>0.000000</td>\n",
       "    </tr>\n",
       "    <tr>\n",
       "      <th>25</th>\n",
       "      <td>November 17, 2011</td>\n",
       "      <td>[(4, 0.99530166)]</td>\n",
       "      <td>0.000000</td>\n",
       "      <td>0.000000</td>\n",
       "      <td>0.000000</td>\n",
       "      <td>0.000000</td>\n",
       "      <td>0.995302</td>\n",
       "      <td>0.000000</td>\n",
       "      <td>0.000000</td>\n",
       "      <td>0.000000</td>\n",
       "      <td>0.000000</td>\n",
       "      <td>0.000000</td>\n",
       "    </tr>\n",
       "    <tr>\n",
       "      <th>26</th>\n",
       "      <td>October 31, 2011</td>\n",
       "      <td>[(1, 0.9878632)]</td>\n",
       "      <td>0.000000</td>\n",
       "      <td>0.987863</td>\n",
       "      <td>0.000000</td>\n",
       "      <td>0.000000</td>\n",
       "      <td>0.000000</td>\n",
       "      <td>0.000000</td>\n",
       "      <td>0.000000</td>\n",
       "      <td>0.000000</td>\n",
       "      <td>0.000000</td>\n",
       "      <td>0.000000</td>\n",
       "    </tr>\n",
       "    <tr>\n",
       "      <th>27</th>\n",
       "      <td>October 18, 2011</td>\n",
       "      <td>[(1, 0.17578553), (2, 0.8166288)]</td>\n",
       "      <td>0.000000</td>\n",
       "      <td>0.175786</td>\n",
       "      <td>0.816629</td>\n",
       "      <td>0.000000</td>\n",
       "      <td>0.000000</td>\n",
       "      <td>0.000000</td>\n",
       "      <td>0.000000</td>\n",
       "      <td>0.000000</td>\n",
       "      <td>0.000000</td>\n",
       "      <td>0.000000</td>\n",
       "    </tr>\n",
       "    <tr>\n",
       "      <th>28</th>\n",
       "      <td>May 18, 2011</td>\n",
       "      <td>[(1, 0.05440105), (2, 0.93750864)]</td>\n",
       "      <td>0.000000</td>\n",
       "      <td>0.054401</td>\n",
       "      <td>0.937509</td>\n",
       "      <td>0.000000</td>\n",
       "      <td>0.000000</td>\n",
       "      <td>0.000000</td>\n",
       "      <td>0.000000</td>\n",
       "      <td>0.000000</td>\n",
       "      <td>0.000000</td>\n",
       "      <td>0.000000</td>\n",
       "    </tr>\n",
       "    <tr>\n",
       "      <th>29</th>\n",
       "      <td>May 16, 2011</td>\n",
       "      <td>[(1, 0.79940504), (2, 0.13037834), (6, 0.06394...</td>\n",
       "      <td>0.000000</td>\n",
       "      <td>0.799405</td>\n",
       "      <td>0.130378</td>\n",
       "      <td>0.000000</td>\n",
       "      <td>0.000000</td>\n",
       "      <td>0.000000</td>\n",
       "      <td>0.063950</td>\n",
       "      <td>0.000000</td>\n",
       "      <td>0.000000</td>\n",
       "      <td>0.000000</td>\n",
       "    </tr>\n",
       "    <tr>\n",
       "      <th>30</th>\n",
       "      <td>March 23, 2010</td>\n",
       "      <td>[(0, 0.049421027), (1, 0.14769453), (5, 0.8015...</td>\n",
       "      <td>0.049421</td>\n",
       "      <td>0.147695</td>\n",
       "      <td>0.000000</td>\n",
       "      <td>0.000000</td>\n",
       "      <td>0.000000</td>\n",
       "      <td>0.801563</td>\n",
       "      <td>0.000000</td>\n",
       "      <td>0.000000</td>\n",
       "      <td>0.000000</td>\n",
       "      <td>0.000000</td>\n",
       "    </tr>\n",
       "    <tr>\n",
       "      <th>31</th>\n",
       "      <td>September 22, 2009</td>\n",
       "      <td>[(0, 0.99811924)]</td>\n",
       "      <td>0.998119</td>\n",
       "      <td>0.000000</td>\n",
       "      <td>0.000000</td>\n",
       "      <td>0.000000</td>\n",
       "      <td>0.000000</td>\n",
       "      <td>0.000000</td>\n",
       "      <td>0.000000</td>\n",
       "      <td>0.000000</td>\n",
       "      <td>0.000000</td>\n",
       "      <td>0.000000</td>\n",
       "    </tr>\n",
       "    <tr>\n",
       "      <th>32</th>\n",
       "      <td>June 22, 2016</td>\n",
       "      <td>[(0, 0.9935214)]</td>\n",
       "      <td>0.993521</td>\n",
       "      <td>0.000000</td>\n",
       "      <td>0.000000</td>\n",
       "      <td>0.000000</td>\n",
       "      <td>0.000000</td>\n",
       "      <td>0.000000</td>\n",
       "      <td>0.000000</td>\n",
       "      <td>0.000000</td>\n",
       "      <td>0.000000</td>\n",
       "      <td>0.000000</td>\n",
       "    </tr>\n",
       "    <tr>\n",
       "      <th>33</th>\n",
       "      <td>November 19, 2015</td>\n",
       "      <td>[(0, 0.61047196), (1, 0.13378933), (6, 0.24766...</td>\n",
       "      <td>0.610472</td>\n",
       "      <td>0.133789</td>\n",
       "      <td>0.000000</td>\n",
       "      <td>0.000000</td>\n",
       "      <td>0.000000</td>\n",
       "      <td>0.000000</td>\n",
       "      <td>0.247664</td>\n",
       "      <td>0.000000</td>\n",
       "      <td>0.000000</td>\n",
       "      <td>0.000000</td>\n",
       "    </tr>\n",
       "    <tr>\n",
       "      <th>34</th>\n",
       "      <td>October 06, 2015</td>\n",
       "      <td>[(0, 0.7435255), (2, 0.1920929), (8, 0.0601829...</td>\n",
       "      <td>0.743526</td>\n",
       "      <td>0.000000</td>\n",
       "      <td>0.192093</td>\n",
       "      <td>0.000000</td>\n",
       "      <td>0.000000</td>\n",
       "      <td>0.000000</td>\n",
       "      <td>0.000000</td>\n",
       "      <td>0.000000</td>\n",
       "      <td>0.060183</td>\n",
       "      <td>0.000000</td>\n",
       "    </tr>\n",
       "    <tr>\n",
       "      <th>35</th>\n",
       "      <td>April 21, 2015</td>\n",
       "      <td>[(0, 0.057096664), (1, 0.7037506), (9, 0.23508...</td>\n",
       "      <td>0.057097</td>\n",
       "      <td>0.703751</td>\n",
       "      <td>0.000000</td>\n",
       "      <td>0.000000</td>\n",
       "      <td>0.000000</td>\n",
       "      <td>0.000000</td>\n",
       "      <td>0.000000</td>\n",
       "      <td>0.000000</td>\n",
       "      <td>0.000000</td>\n",
       "      <td>0.235088</td>\n",
       "    </tr>\n",
       "    <tr>\n",
       "      <th>36</th>\n",
       "      <td>February 12, 2014</td>\n",
       "      <td>[(4, 0.9862386)]</td>\n",
       "      <td>0.000000</td>\n",
       "      <td>0.000000</td>\n",
       "      <td>0.000000</td>\n",
       "      <td>0.000000</td>\n",
       "      <td>0.986239</td>\n",
       "      <td>0.000000</td>\n",
       "      <td>0.000000</td>\n",
       "      <td>0.000000</td>\n",
       "      <td>0.000000</td>\n",
       "      <td>0.000000</td>\n",
       "    </tr>\n",
       "    <tr>\n",
       "      <th>37</th>\n",
       "      <td>July 22, 2013</td>\n",
       "      <td>[(2, 0.073432), (6, 0.90403235)]</td>\n",
       "      <td>0.000000</td>\n",
       "      <td>0.000000</td>\n",
       "      <td>0.073432</td>\n",
       "      <td>0.000000</td>\n",
       "      <td>0.000000</td>\n",
       "      <td>0.000000</td>\n",
       "      <td>0.904032</td>\n",
       "      <td>0.000000</td>\n",
       "      <td>0.000000</td>\n",
       "      <td>0.000000</td>\n",
       "    </tr>\n",
       "    <tr>\n",
       "      <th>38</th>\n",
       "      <td>April 16, 2012</td>\n",
       "      <td>[(0, 0.035037745), (1, 0.6833436), (4, 0.27705...</td>\n",
       "      <td>0.035038</td>\n",
       "      <td>0.683344</td>\n",
       "      <td>0.000000</td>\n",
       "      <td>0.000000</td>\n",
       "      <td>0.277050</td>\n",
       "      <td>0.000000</td>\n",
       "      <td>0.000000</td>\n",
       "      <td>0.000000</td>\n",
       "      <td>0.000000</td>\n",
       "      <td>0.000000</td>\n",
       "    </tr>\n",
       "    <tr>\n",
       "      <th>39</th>\n",
       "      <td>October 07, 2011</td>\n",
       "      <td>[(1, 0.99430096)]</td>\n",
       "      <td>0.000000</td>\n",
       "      <td>0.994301</td>\n",
       "      <td>0.000000</td>\n",
       "      <td>0.000000</td>\n",
       "      <td>0.000000</td>\n",
       "      <td>0.000000</td>\n",
       "      <td>0.000000</td>\n",
       "      <td>0.000000</td>\n",
       "      <td>0.000000</td>\n",
       "      <td>0.000000</td>\n",
       "    </tr>\n",
       "    <tr>\n",
       "      <th>40</th>\n",
       "      <td>December 17, 2010</td>\n",
       "      <td>[(1, 0.99529576)]</td>\n",
       "      <td>0.000000</td>\n",
       "      <td>0.995296</td>\n",
       "      <td>0.000000</td>\n",
       "      <td>0.000000</td>\n",
       "      <td>0.000000</td>\n",
       "      <td>0.000000</td>\n",
       "      <td>0.000000</td>\n",
       "      <td>0.000000</td>\n",
       "      <td>0.000000</td>\n",
       "      <td>0.000000</td>\n",
       "    </tr>\n",
       "    <tr>\n",
       "      <th>41</th>\n",
       "      <td>October 20, 2009</td>\n",
       "      <td>[(1, 0.45074603), (4, 0.545788)]</td>\n",
       "      <td>0.000000</td>\n",
       "      <td>0.450746</td>\n",
       "      <td>0.000000</td>\n",
       "      <td>0.000000</td>\n",
       "      <td>0.545788</td>\n",
       "      <td>0.000000</td>\n",
       "      <td>0.000000</td>\n",
       "      <td>0.000000</td>\n",
       "      <td>0.000000</td>\n",
       "      <td>0.000000</td>\n",
       "    </tr>\n",
       "    <tr>\n",
       "      <th>42</th>\n",
       "      <td>August 4, 2009</td>\n",
       "      <td>[(0, 0.24926502), (1, 0.6318159), (2, 0.113986...</td>\n",
       "      <td>0.249265</td>\n",
       "      <td>0.631816</td>\n",
       "      <td>0.113986</td>\n",
       "      <td>0.000000</td>\n",
       "      <td>0.000000</td>\n",
       "      <td>0.000000</td>\n",
       "      <td>0.000000</td>\n",
       "      <td>0.000000</td>\n",
       "      <td>0.000000</td>\n",
       "      <td>0.000000</td>\n",
       "    </tr>\n",
       "  </tbody>\n",
       "</table>\n",
       "</div>"
      ],
      "text/plain": [
       "                    date                                             topics  \\\n",
       "0     December 01, 2016                                    [(6, 0.9951082)]   \n",
       "1     November 10, 2016                  [(4, 0.48086596), (6, 0.51746386)]   \n",
       "2      October 10, 2016                  [(1, 0.95787644), (6, 0.03660921)]   \n",
       "3      October 04, 2016                                    [(1, 0.9767156)]   \n",
       "4    September 28, 2016                    [(2, 0.11150359), (6, 0.876708)]   \n",
       "5    September 19, 2016   [(1, 0.36871096), (2, 0.24068418), (4, 0.26064...   \n",
       "6         June 03, 2016                   [(1, 0.8882028), (2, 0.10699351)]   \n",
       "7          May 25, 2016                                   [(8, 0.98980415)]   \n",
       "8          May 25, 2016   [(2, 0.09150649), (3, 0.04478333), (4, 0.18964...   \n",
       "9        March 01, 2016   [(1, 0.28103453), (3, 0.6947804), (6, 0.020620...   \n",
       "10    February 26, 2016   [(1, 0.27990013), (3, 0.14771014), (6, 0.56764...   \n",
       "11    February 11, 2016                                    [(6, 0.9954944)]   \n",
       "12        July 29, 2015   [(3, 0.07926062), (4, 0.024052165), (6, 0.8869...   \n",
       "13         May 14, 2015   [(0, 0.013141299), (2, 0.47876155), (4, 0.0208...   \n",
       "14         May 04, 2015                   [(4, 0.51602554), (7, 0.4686888)]   \n",
       "15    February 24, 2015                   [(2, 0.7836346), (4, 0.21257775)]   \n",
       "16     January 13, 2015                   [(2, 0.9001686), (6, 0.08971741)]   \n",
       "17       March 04, 2014                 [(1, 0.013946749), (2, 0.97800153)]   \n",
       "18    December 03, 2013                                   [(4, 0.96853375)]   \n",
       "19     October 21, 2013   [(2, 0.88577545), (4, 0.07629972), (6, 0.03285...   \n",
       "20    November 26, 2012                                   [(5, 0.99032116)]   \n",
       "21     October 05, 2012                                    [(2, 0.9521596)]   \n",
       "22   September 18, 2012                                   [(6, 0.99670386)]   \n",
       "23      August 31, 2012                  [(2, 0.64003897), (6, 0.33873707)]   \n",
       "24       March 07, 2012   [(1, 0.6165476), (2, 0.03957328), (6, 0.338027...   \n",
       "25    November 17, 2011                                   [(4, 0.99530166)]   \n",
       "26     October 31, 2011                                    [(1, 0.9878632)]   \n",
       "27     October 18, 2011                   [(1, 0.17578553), (2, 0.8166288)]   \n",
       "28         May 18, 2011                  [(1, 0.05440105), (2, 0.93750864)]   \n",
       "29         May 16, 2011   [(1, 0.79940504), (2, 0.13037834), (6, 0.06394...   \n",
       "30       March 23, 2010   [(0, 0.049421027), (1, 0.14769453), (5, 0.8015...   \n",
       "31   September 22, 2009                                   [(0, 0.99811924)]   \n",
       "32        June 22, 2016                                    [(0, 0.9935214)]   \n",
       "33    November 19, 2015   [(0, 0.61047196), (1, 0.13378933), (6, 0.24766...   \n",
       "34     October 06, 2015   [(0, 0.7435255), (2, 0.1920929), (8, 0.0601829...   \n",
       "35       April 21, 2015   [(0, 0.057096664), (1, 0.7037506), (9, 0.23508...   \n",
       "36    February 12, 2014                                    [(4, 0.9862386)]   \n",
       "37        July 22, 2013                    [(2, 0.073432), (6, 0.90403235)]   \n",
       "38       April 16, 2012   [(0, 0.035037745), (1, 0.6833436), (4, 0.27705...   \n",
       "39     October 07, 2011                                   [(1, 0.99430096)]   \n",
       "40    December 17, 2010                                   [(1, 0.99529576)]   \n",
       "41     October 20, 2009                    [(1, 0.45074603), (4, 0.545788)]   \n",
       "42       August 4, 2009   [(0, 0.24926502), (1, 0.6318159), (2, 0.113986...   \n",
       "\n",
       "     topic_0   topic_1   topic_2   topic_3   topic_4   topic_5   topic_6  \\\n",
       "0   0.000000  0.000000  0.000000  0.000000  0.000000  0.000000  0.995108   \n",
       "1   0.000000  0.000000  0.000000  0.000000  0.480866  0.000000  0.517464   \n",
       "2   0.000000  0.957876  0.000000  0.000000  0.000000  0.000000  0.036609   \n",
       "3   0.000000  0.976716  0.000000  0.000000  0.000000  0.000000  0.000000   \n",
       "4   0.000000  0.000000  0.111504  0.000000  0.000000  0.000000  0.876708   \n",
       "5   0.000000  0.368711  0.240684  0.000000  0.260647  0.000000  0.126232   \n",
       "6   0.000000  0.888203  0.106994  0.000000  0.000000  0.000000  0.000000   \n",
       "7   0.000000  0.000000  0.000000  0.000000  0.000000  0.000000  0.000000   \n",
       "8   0.000000  0.000000  0.091506  0.044783  0.189642  0.000000  0.671780   \n",
       "9   0.000000  0.281035  0.000000  0.694780  0.000000  0.000000  0.020620   \n",
       "10  0.000000  0.279900  0.000000  0.147710  0.000000  0.000000  0.567645   \n",
       "11  0.000000  0.000000  0.000000  0.000000  0.000000  0.000000  0.995494   \n",
       "12  0.000000  0.000000  0.000000  0.079261  0.024052  0.000000  0.886941   \n",
       "13  0.013141  0.000000  0.478762  0.000000  0.020870  0.000000  0.445546   \n",
       "14  0.000000  0.000000  0.000000  0.000000  0.516026  0.000000  0.000000   \n",
       "15  0.000000  0.000000  0.783635  0.000000  0.212578  0.000000  0.000000   \n",
       "16  0.000000  0.000000  0.900169  0.000000  0.000000  0.000000  0.089717   \n",
       "17  0.000000  0.013947  0.978002  0.000000  0.000000  0.000000  0.000000   \n",
       "18  0.000000  0.000000  0.000000  0.000000  0.968534  0.000000  0.000000   \n",
       "19  0.000000  0.000000  0.885775  0.000000  0.076300  0.000000  0.032859   \n",
       "20  0.000000  0.000000  0.000000  0.000000  0.000000  0.990321  0.000000   \n",
       "21  0.000000  0.000000  0.952160  0.000000  0.000000  0.000000  0.000000   \n",
       "22  0.000000  0.000000  0.000000  0.000000  0.000000  0.000000  0.996704   \n",
       "23  0.000000  0.000000  0.640039  0.000000  0.000000  0.000000  0.338737   \n",
       "24  0.000000  0.616548  0.039573  0.000000  0.000000  0.000000  0.338027   \n",
       "25  0.000000  0.000000  0.000000  0.000000  0.995302  0.000000  0.000000   \n",
       "26  0.000000  0.987863  0.000000  0.000000  0.000000  0.000000  0.000000   \n",
       "27  0.000000  0.175786  0.816629  0.000000  0.000000  0.000000  0.000000   \n",
       "28  0.000000  0.054401  0.937509  0.000000  0.000000  0.000000  0.000000   \n",
       "29  0.000000  0.799405  0.130378  0.000000  0.000000  0.000000  0.063950   \n",
       "30  0.049421  0.147695  0.000000  0.000000  0.000000  0.801563  0.000000   \n",
       "31  0.998119  0.000000  0.000000  0.000000  0.000000  0.000000  0.000000   \n",
       "32  0.993521  0.000000  0.000000  0.000000  0.000000  0.000000  0.000000   \n",
       "33  0.610472  0.133789  0.000000  0.000000  0.000000  0.000000  0.247664   \n",
       "34  0.743526  0.000000  0.192093  0.000000  0.000000  0.000000  0.000000   \n",
       "35  0.057097  0.703751  0.000000  0.000000  0.000000  0.000000  0.000000   \n",
       "36  0.000000  0.000000  0.000000  0.000000  0.986239  0.000000  0.000000   \n",
       "37  0.000000  0.000000  0.073432  0.000000  0.000000  0.000000  0.904032   \n",
       "38  0.035038  0.683344  0.000000  0.000000  0.277050  0.000000  0.000000   \n",
       "39  0.000000  0.994301  0.000000  0.000000  0.000000  0.000000  0.000000   \n",
       "40  0.000000  0.995296  0.000000  0.000000  0.000000  0.000000  0.000000   \n",
       "41  0.000000  0.450746  0.000000  0.000000  0.545788  0.000000  0.000000   \n",
       "42  0.249265  0.631816  0.113986  0.000000  0.000000  0.000000  0.000000   \n",
       "\n",
       "     topic_7   topic_8   topic_9  \n",
       "0   0.000000  0.000000  0.000000  \n",
       "1   0.000000  0.000000  0.000000  \n",
       "2   0.000000  0.000000  0.000000  \n",
       "3   0.000000  0.000000  0.000000  \n",
       "4   0.000000  0.000000  0.000000  \n",
       "5   0.000000  0.000000  0.000000  \n",
       "6   0.000000  0.000000  0.000000  \n",
       "7   0.000000  0.989804  0.000000  \n",
       "8   0.000000  0.000000  0.000000  \n",
       "9   0.000000  0.000000  0.000000  \n",
       "10  0.000000  0.000000  0.000000  \n",
       "11  0.000000  0.000000  0.000000  \n",
       "12  0.000000  0.000000  0.000000  \n",
       "13  0.000000  0.000000  0.034354  \n",
       "14  0.468689  0.000000  0.000000  \n",
       "15  0.000000  0.000000  0.000000  \n",
       "16  0.000000  0.000000  0.000000  \n",
       "17  0.000000  0.000000  0.000000  \n",
       "18  0.000000  0.000000  0.000000  \n",
       "19  0.000000  0.000000  0.000000  \n",
       "20  0.000000  0.000000  0.000000  \n",
       "21  0.000000  0.000000  0.000000  \n",
       "22  0.000000  0.000000  0.000000  \n",
       "23  0.000000  0.000000  0.000000  \n",
       "24  0.000000  0.000000  0.000000  \n",
       "25  0.000000  0.000000  0.000000  \n",
       "26  0.000000  0.000000  0.000000  \n",
       "27  0.000000  0.000000  0.000000  \n",
       "28  0.000000  0.000000  0.000000  \n",
       "29  0.000000  0.000000  0.000000  \n",
       "30  0.000000  0.000000  0.000000  \n",
       "31  0.000000  0.000000  0.000000  \n",
       "32  0.000000  0.000000  0.000000  \n",
       "33  0.000000  0.000000  0.000000  \n",
       "34  0.000000  0.060183  0.000000  \n",
       "35  0.000000  0.000000  0.235088  \n",
       "36  0.000000  0.000000  0.000000  \n",
       "37  0.000000  0.000000  0.000000  \n",
       "38  0.000000  0.000000  0.000000  \n",
       "39  0.000000  0.000000  0.000000  \n",
       "40  0.000000  0.000000  0.000000  \n",
       "41  0.000000  0.000000  0.000000  \n",
       "42  0.000000  0.000000  0.000000  "
      ]
     },
     "execution_count": 92,
     "metadata": {},
     "output_type": "execute_result"
    }
   ],
   "source": [
    "speechestopicsProbDict = {i : [0] * len(speechesldaDF) for i in range(speecheslda.num_topics)}\n",
    "\n",
    "for index, topicTuples in enumerate(speechesldaDF['topics']):\n",
    "    for topicNum, prob in topicTuples:\n",
    "        speechestopicsProbDict[topicNum][index] = prob\n",
    "\n",
    "for topicNum in range(speecheslda.num_topics):\n",
    "    speechesldaDF['topic_{}'.format(topicNum)] = speechestopicsProbDict[topicNum]\n",
    "\n",
    "speechesldaDF"
   ]
  },
  {
   "cell_type": "code",
   "execution_count": 93,
   "metadata": {},
   "outputs": [
    {
     "data": {
      "text/html": [
       "<div>\n",
       "<style scoped>\n",
       "    .dataframe tbody tr th:only-of-type {\n",
       "        vertical-align: middle;\n",
       "    }\n",
       "\n",
       "    .dataframe tbody tr th {\n",
       "        vertical-align: top;\n",
       "    }\n",
       "\n",
       "    .dataframe thead th {\n",
       "        text-align: right;\n",
       "    }\n",
       "</style>\n",
       "<table border=\"1\" class=\"dataframe\">\n",
       "  <thead>\n",
       "    <tr style=\"text-align: right;\">\n",
       "      <th></th>\n",
       "      <th>topic_0</th>\n",
       "      <th>topic_1</th>\n",
       "      <th>topic_2</th>\n",
       "      <th>topic_3</th>\n",
       "      <th>topic_4</th>\n",
       "      <th>topic_5</th>\n",
       "      <th>topic_6</th>\n",
       "      <th>topic_7</th>\n",
       "      <th>topic_8</th>\n",
       "      <th>topic_9</th>\n",
       "    </tr>\n",
       "  </thead>\n",
       "  <tbody>\n",
       "    <tr>\n",
       "      <th>0</th>\n",
       "      <td>0.0</td>\n",
       "      <td>0.000000</td>\n",
       "      <td>0.000000</td>\n",
       "      <td>0.000000</td>\n",
       "      <td>0.000000</td>\n",
       "      <td>0.0</td>\n",
       "      <td>0.995108</td>\n",
       "      <td>0.0</td>\n",
       "      <td>0.000000</td>\n",
       "      <td>0.0</td>\n",
       "    </tr>\n",
       "    <tr>\n",
       "      <th>1</th>\n",
       "      <td>0.0</td>\n",
       "      <td>0.000000</td>\n",
       "      <td>0.000000</td>\n",
       "      <td>0.000000</td>\n",
       "      <td>0.480866</td>\n",
       "      <td>0.0</td>\n",
       "      <td>0.517464</td>\n",
       "      <td>0.0</td>\n",
       "      <td>0.000000</td>\n",
       "      <td>0.0</td>\n",
       "    </tr>\n",
       "    <tr>\n",
       "      <th>2</th>\n",
       "      <td>0.0</td>\n",
       "      <td>0.957876</td>\n",
       "      <td>0.000000</td>\n",
       "      <td>0.000000</td>\n",
       "      <td>0.000000</td>\n",
       "      <td>0.0</td>\n",
       "      <td>0.036609</td>\n",
       "      <td>0.0</td>\n",
       "      <td>0.000000</td>\n",
       "      <td>0.0</td>\n",
       "    </tr>\n",
       "    <tr>\n",
       "      <th>3</th>\n",
       "      <td>0.0</td>\n",
       "      <td>0.976716</td>\n",
       "      <td>0.000000</td>\n",
       "      <td>0.000000</td>\n",
       "      <td>0.000000</td>\n",
       "      <td>0.0</td>\n",
       "      <td>0.000000</td>\n",
       "      <td>0.0</td>\n",
       "      <td>0.000000</td>\n",
       "      <td>0.0</td>\n",
       "    </tr>\n",
       "    <tr>\n",
       "      <th>4</th>\n",
       "      <td>0.0</td>\n",
       "      <td>0.000000</td>\n",
       "      <td>0.111504</td>\n",
       "      <td>0.000000</td>\n",
       "      <td>0.000000</td>\n",
       "      <td>0.0</td>\n",
       "      <td>0.876708</td>\n",
       "      <td>0.0</td>\n",
       "      <td>0.000000</td>\n",
       "      <td>0.0</td>\n",
       "    </tr>\n",
       "    <tr>\n",
       "      <th>5</th>\n",
       "      <td>0.0</td>\n",
       "      <td>0.368711</td>\n",
       "      <td>0.240684</td>\n",
       "      <td>0.000000</td>\n",
       "      <td>0.260647</td>\n",
       "      <td>0.0</td>\n",
       "      <td>0.126232</td>\n",
       "      <td>0.0</td>\n",
       "      <td>0.000000</td>\n",
       "      <td>0.0</td>\n",
       "    </tr>\n",
       "    <tr>\n",
       "      <th>6</th>\n",
       "      <td>0.0</td>\n",
       "      <td>0.888203</td>\n",
       "      <td>0.106994</td>\n",
       "      <td>0.000000</td>\n",
       "      <td>0.000000</td>\n",
       "      <td>0.0</td>\n",
       "      <td>0.000000</td>\n",
       "      <td>0.0</td>\n",
       "      <td>0.000000</td>\n",
       "      <td>0.0</td>\n",
       "    </tr>\n",
       "    <tr>\n",
       "      <th>7</th>\n",
       "      <td>0.0</td>\n",
       "      <td>0.000000</td>\n",
       "      <td>0.000000</td>\n",
       "      <td>0.000000</td>\n",
       "      <td>0.000000</td>\n",
       "      <td>0.0</td>\n",
       "      <td>0.000000</td>\n",
       "      <td>0.0</td>\n",
       "      <td>0.989804</td>\n",
       "      <td>0.0</td>\n",
       "    </tr>\n",
       "    <tr>\n",
       "      <th>8</th>\n",
       "      <td>0.0</td>\n",
       "      <td>0.000000</td>\n",
       "      <td>0.091506</td>\n",
       "      <td>0.044783</td>\n",
       "      <td>0.189642</td>\n",
       "      <td>0.0</td>\n",
       "      <td>0.671780</td>\n",
       "      <td>0.0</td>\n",
       "      <td>0.000000</td>\n",
       "      <td>0.0</td>\n",
       "    </tr>\n",
       "    <tr>\n",
       "      <th>9</th>\n",
       "      <td>0.0</td>\n",
       "      <td>0.281035</td>\n",
       "      <td>0.000000</td>\n",
       "      <td>0.694780</td>\n",
       "      <td>0.000000</td>\n",
       "      <td>0.0</td>\n",
       "      <td>0.020620</td>\n",
       "      <td>0.0</td>\n",
       "      <td>0.000000</td>\n",
       "      <td>0.0</td>\n",
       "    </tr>\n",
       "  </tbody>\n",
       "</table>\n",
       "</div>"
      ],
      "text/plain": [
       "   topic_0   topic_1   topic_2   topic_3   topic_4  topic_5   topic_6  \\\n",
       "0      0.0  0.000000  0.000000  0.000000  0.000000      0.0  0.995108   \n",
       "1      0.0  0.000000  0.000000  0.000000  0.480866      0.0  0.517464   \n",
       "2      0.0  0.957876  0.000000  0.000000  0.000000      0.0  0.036609   \n",
       "3      0.0  0.976716  0.000000  0.000000  0.000000      0.0  0.000000   \n",
       "4      0.0  0.000000  0.111504  0.000000  0.000000      0.0  0.876708   \n",
       "5      0.0  0.368711  0.240684  0.000000  0.260647      0.0  0.126232   \n",
       "6      0.0  0.888203  0.106994  0.000000  0.000000      0.0  0.000000   \n",
       "7      0.0  0.000000  0.000000  0.000000  0.000000      0.0  0.000000   \n",
       "8      0.0  0.000000  0.091506  0.044783  0.189642      0.0  0.671780   \n",
       "9      0.0  0.281035  0.000000  0.694780  0.000000      0.0  0.020620   \n",
       "\n",
       "   topic_7   topic_8  topic_9  \n",
       "0      0.0  0.000000      0.0  \n",
       "1      0.0  0.000000      0.0  \n",
       "2      0.0  0.000000      0.0  \n",
       "3      0.0  0.000000      0.0  \n",
       "4      0.0  0.000000      0.0  \n",
       "5      0.0  0.000000      0.0  \n",
       "6      0.0  0.000000      0.0  \n",
       "7      0.0  0.989804      0.0  \n",
       "8      0.0  0.000000      0.0  \n",
       "9      0.0  0.000000      0.0  "
      ]
     },
     "execution_count": 93,
     "metadata": {},
     "output_type": "execute_result"
    }
   ],
   "source": [
    "speechesldaDFV = speechesldaDF[:10][['topic_%d' %x for x in range(10)]]\n",
    "speechesldaDFVisN = speechesldaDF[:10][['date']]\n",
    "speechesldaDFVis = speechesldaDFV.as_matrix(columns=None)\n",
    "speechesldaDFVisNames = speechesldaDFVisN.as_matrix(columns=None)\n",
    "speechesldaDFV"
   ]
  },
  {
   "cell_type": "code",
   "execution_count": 96,
   "metadata": {},
   "outputs": [
    {
     "data": {
      "text/html": [
       "<div>\n",
       "<style scoped>\n",
       "    .dataframe tbody tr th:only-of-type {\n",
       "        vertical-align: middle;\n",
       "    }\n",
       "\n",
       "    .dataframe tbody tr th {\n",
       "        vertical-align: top;\n",
       "    }\n",
       "\n",
       "    .dataframe thead th {\n",
       "        text-align: right;\n",
       "    }\n",
       "</style>\n",
       "<table border=\"1\" class=\"dataframe\">\n",
       "  <thead>\n",
       "    <tr style=\"text-align: right;\">\n",
       "      <th></th>\n",
       "      <th>Topic_0</th>\n",
       "      <th>Topic_1</th>\n",
       "      <th>Topic_2</th>\n",
       "      <th>Topic_3</th>\n",
       "      <th>Topic_4</th>\n",
       "      <th>Topic_5</th>\n",
       "      <th>Topic_6</th>\n",
       "      <th>Topic_7</th>\n",
       "      <th>Topic_8</th>\n",
       "      <th>Topic_9</th>\n",
       "    </tr>\n",
       "  </thead>\n",
       "  <tbody>\n",
       "    <tr>\n",
       "      <th>0</th>\n",
       "      <td>network</td>\n",
       "      <td>nation</td>\n",
       "      <td>nation</td>\n",
       "      <td>nation</td>\n",
       "      <td>nation</td>\n",
       "      <td>nation</td>\n",
       "      <td>north</td>\n",
       "      <td>north</td>\n",
       "      <td>share</td>\n",
       "      <td>nation</td>\n",
       "    </tr>\n",
       "    <tr>\n",
       "      <th>1</th>\n",
       "      <td>share</td>\n",
       "      <td>network</td>\n",
       "      <td>partner</td>\n",
       "      <td>effort</td>\n",
       "      <td>space</td>\n",
       "      <td>network</td>\n",
       "      <td>nation</td>\n",
       "      <td>korea</td>\n",
       "      <td>report</td>\n",
       "      <td>network</td>\n",
       "    </tr>\n",
       "    <tr>\n",
       "      <th>2</th>\n",
       "      <td>effort</td>\n",
       "      <td>effort</td>\n",
       "      <td>share</td>\n",
       "      <td>american</td>\n",
       "      <td>network</td>\n",
       "      <td>effort</td>\n",
       "      <td>korea</td>\n",
       "      <td>region</td>\n",
       "      <td>nation</td>\n",
       "      <td>right</td>\n",
       "    </tr>\n",
       "    <tr>\n",
       "      <th>3</th>\n",
       "      <td>nation</td>\n",
       "      <td>thing</td>\n",
       "      <td>north</td>\n",
       "      <td>network</td>\n",
       "      <td>share</td>\n",
       "      <td>problem</td>\n",
       "      <td>network</td>\n",
       "      <td>effort</td>\n",
       "      <td>senior</td>\n",
       "      <td>partner</td>\n",
       "    </tr>\n",
       "    <tr>\n",
       "      <th>4</th>\n",
       "      <td>say</td>\n",
       "      <td>right</td>\n",
       "      <td>korea</td>\n",
       "      <td>tool</td>\n",
       "      <td>partner</td>\n",
       "      <td>thing</td>\n",
       "      <td>question</td>\n",
       "      <td>partner</td>\n",
       "      <td>email</td>\n",
       "      <td>effort</td>\n",
       "    </tr>\n",
       "    <tr>\n",
       "      <th>5</th>\n",
       "      <td>server</td>\n",
       "      <td>program</td>\n",
       "      <td>effort</td>\n",
       "      <td>share</td>\n",
       "      <td>effort</td>\n",
       "      <td>share</td>\n",
       "      <td>share</td>\n",
       "      <td>network</td>\n",
       "      <td>north</td>\n",
       "      <td>region</td>\n",
       "    </tr>\n",
       "    <tr>\n",
       "      <th>6</th>\n",
       "      <td>virtual</td>\n",
       "      <td>crime</td>\n",
       "      <td>network</td>\n",
       "      <td>question</td>\n",
       "      <td>conduct</td>\n",
       "      <td>behavior</td>\n",
       "      <td>terrorist</td>\n",
       "      <td>behavior</td>\n",
       "      <td>network</td>\n",
       "      <td>thing</td>\n",
       "    </tr>\n",
       "    <tr>\n",
       "      <th>7</th>\n",
       "      <td>homeland</td>\n",
       "      <td>partnership</td>\n",
       "      <td>right</td>\n",
       "      <td>framework</td>\n",
       "      <td>set</td>\n",
       "      <td>point</td>\n",
       "      <td>effort</td>\n",
       "      <td>right</td>\n",
       "      <td>korea</td>\n",
       "      <td>server</td>\n",
       "    </tr>\n",
       "    <tr>\n",
       "      <th>8</th>\n",
       "      <td>partner</td>\n",
       "      <td>sure</td>\n",
       "      <td>question</td>\n",
       "      <td>terrorist</td>\n",
       "      <td>behavior</td>\n",
       "      <td>site</td>\n",
       "      <td>partner</td>\n",
       "      <td>nation</td>\n",
       "      <td>effort</td>\n",
       "      <td>question</td>\n",
       "    </tr>\n",
       "    <tr>\n",
       "      <th>9</th>\n",
       "      <td>send</td>\n",
       "      <td>share</td>\n",
       "      <td>area</td>\n",
       "      <td>benefit</td>\n",
       "      <td>conflict</td>\n",
       "      <td>server</td>\n",
       "      <td>region</td>\n",
       "      <td>implement</td>\n",
       "      <td>past</td>\n",
       "      <td>share</td>\n",
       "    </tr>\n",
       "  </tbody>\n",
       "</table>\n",
       "</div>"
      ],
      "text/plain": [
       "    Topic_0      Topic_1   Topic_2    Topic_3   Topic_4   Topic_5    Topic_6  \\\n",
       "0   network       nation    nation     nation    nation    nation      north   \n",
       "1     share      network   partner     effort     space   network     nation   \n",
       "2    effort       effort     share   american   network    effort      korea   \n",
       "3    nation        thing     north    network     share   problem    network   \n",
       "4       say        right     korea       tool   partner     thing   question   \n",
       "5    server      program    effort      share    effort     share      share   \n",
       "6   virtual        crime   network   question   conduct  behavior  terrorist   \n",
       "7  homeland  partnership     right  framework       set     point     effort   \n",
       "8   partner         sure  question  terrorist  behavior      site    partner   \n",
       "9      send        share      area    benefit  conflict    server     region   \n",
       "\n",
       "     Topic_7  Topic_8   Topic_9  \n",
       "0      north    share    nation  \n",
       "1      korea   report   network  \n",
       "2     region   nation     right  \n",
       "3     effort   senior   partner  \n",
       "4    partner    email    effort  \n",
       "5    network    north    region  \n",
       "6   behavior  network     thing  \n",
       "7      right    korea    server  \n",
       "8     nation   effort  question  \n",
       "9  implement     past     share  "
      ]
     },
     "execution_count": 96,
     "metadata": {},
     "output_type": "execute_result"
    }
   ],
   "source": [
    "speechestopicsDict = {}\n",
    "for topicNum in range(speecheslda.num_topics):\n",
    "    topicWords = [w for w, p in speecheslda.show_topic(topicNum)]\n",
    "    speechestopicsDict['Topic_{}'.format(topicNum)] = topicWords\n",
    "\n",
    "speecheswordRanksDF = pandas.DataFrame(speechestopicsDict)\n",
    "speecheswordRanksDF"
   ]
  },
  {
   "cell_type": "code",
   "execution_count": 97,
   "metadata": {},
   "outputs": [
    {
     "data": {
      "text/plain": [
       "<matplotlib.figure.Figure at 0x113d99048>"
      ]
     },
     "metadata": {},
     "output_type": "display_data"
    },
    {
     "data": {
      "image/png": "[encoded data removed]",
      "text/plain": [
       "<matplotlib.figure.Figure at 0x113d99be0>"
      ]
     },
     "metadata": {},
     "output_type": "display_data"
    }
   ],
   "source": [
    "speechestopic4_df = pandas.DataFrame(speecheslda.show_topic(4, topn=50))\n",
    "plt.figure()\n",
    "speechestopic4_df.plot.bar(legend = False)\n",
    "plt.title('Probability Distribution of Words, Topic 4')\n",
    "plt.show()"
   ]
  },
  {
   "cell_type": "code",
   "execution_count": 99,
   "metadata": {},
   "outputs": [
    {
     "ename": "NameError",
     "evalue": "name 'topic_labels' is not defined",
     "output_type": "error",
     "traceback": [
      "\u001b[0;31m---------------------------------------------------------------------------\u001b[0m",
      "\u001b[0;31mNameError\u001b[0m                                 Traceback (most recent call last)",
      "\u001b[0;32m<ipython-input-99-496cdd0ecb3a>\u001b[0m in \u001b[0;36m<module>\u001b[0;34m()\u001b[0m\n\u001b[1;32m      1\u001b[0m \u001b[0mplt\u001b[0m\u001b[0;34m.\u001b[0m\u001b[0mpcolor\u001b[0m\u001b[0;34m(\u001b[0m\u001b[0mspeechesldaDFVis\u001b[0m\u001b[0;34m,\u001b[0m \u001b[0mnorm\u001b[0m\u001b[0;34m=\u001b[0m\u001b[0;32mNone\u001b[0m\u001b[0;34m,\u001b[0m \u001b[0mcmap\u001b[0m\u001b[0;34m=\u001b[0m\u001b[0;34m'Blues'\u001b[0m\u001b[0;34m)\u001b[0m\u001b[0;34m\u001b[0m\u001b[0m\n\u001b[1;32m      2\u001b[0m \u001b[0mplt\u001b[0m\u001b[0;34m.\u001b[0m\u001b[0myticks\u001b[0m\u001b[0;34m(\u001b[0m\u001b[0mnp\u001b[0m\u001b[0;34m.\u001b[0m\u001b[0marange\u001b[0m\u001b[0;34m(\u001b[0m\u001b[0mspeechesldaDFVis\u001b[0m\u001b[0;34m.\u001b[0m\u001b[0mshape\u001b[0m\u001b[0;34m[\u001b[0m\u001b[0;36m0\u001b[0m\u001b[0;34m]\u001b[0m\u001b[0;34m)\u001b[0m\u001b[0;34m+\u001b[0m\u001b[0;36m0.5\u001b[0m\u001b[0;34m,\u001b[0m \u001b[0mspeechesldaDFVisNames\u001b[0m\u001b[0;34m)\u001b[0m\u001b[0;34m;\u001b[0m\u001b[0;34m\u001b[0m\u001b[0m\n\u001b[0;32m----> 3\u001b[0;31m \u001b[0mplt\u001b[0m\u001b[0;34m.\u001b[0m\u001b[0mxticks\u001b[0m\u001b[0;34m(\u001b[0m\u001b[0mnp\u001b[0m\u001b[0;34m.\u001b[0m\u001b[0marange\u001b[0m\u001b[0;34m(\u001b[0m\u001b[0mspeechesldaDFVis\u001b[0m\u001b[0;34m.\u001b[0m\u001b[0mshape\u001b[0m\u001b[0;34m[\u001b[0m\u001b[0;36m1\u001b[0m\u001b[0;34m]\u001b[0m\u001b[0;34m)\u001b[0m\u001b[0;34m+\u001b[0m\u001b[0;36m0.5\u001b[0m\u001b[0;34m,\u001b[0m \u001b[0mtopic_labels\u001b[0m\u001b[0;34m)\u001b[0m\u001b[0;34m;\u001b[0m\u001b[0;34m\u001b[0m\u001b[0m\n\u001b[0m\u001b[1;32m      4\u001b[0m \u001b[0;34m\u001b[0m\u001b[0m\n\u001b[1;32m      5\u001b[0m \u001b[0;31m# flip the y-axis so the texts are in the order we anticipate (Austen first, then Brontë)\u001b[0m\u001b[0;34m\u001b[0m\u001b[0;34m\u001b[0m\u001b[0m\n",
      "\u001b[0;31mNameError\u001b[0m: name 'topic_labels' is not defined"
     ]
    },
    {
     "data": {
      "image/png": "[encoded data removed]",
      "text/plain": [
       "<matplotlib.figure.Figure at 0x108989208>"
      ]
     },
     "metadata": {},
     "output_type": "display_data"
    }
   ],
   "source": [
    "plt.pcolor(speechesldaDFVis, norm=None, cmap='Blues')\n",
    "plt.yticks(np.arange(speechesldaDFVis.shape[0])+0.5, speechesldaDFVisNames);\n",
    "plt.xticks(np.arange(speechesldaDFVis.shape[1])+0.5, topic_labels);\n",
    "\n",
    "# flip the y-axis so the texts are in the order we anticipate (Austen first, then Brontë)\n",
    "plt.gca().invert_yaxis()\n",
    "\n",
    "# rotate the ticks on the x-axis\n",
    "plt.xticks(rotation=90)\n",
    "\n",
    "# add a legend\n",
    "plt.colorbar(cmap='Blues')\n",
    "plt.tight_layout()  # fixes margins\n",
    "plt.show()"
   ]
  },
  {
   "cell_type": "code",
   "execution_count": 116,
   "metadata": {
    "collapsed": true
   },
   "outputs": [],
   "source": [
    "speechesDF['tokenized-sents'] = speechesDF['text'].apply(lambda x: \n",
    "                                                               [nltk.word_tokenize(s) for s in nltk.sent_tokenize(x)])\n",
    "speechesDF['normalized-sents'] = speechesDF['tokenized-sents'].apply(lambda x: \n",
    "                                                                           [lucem_illud.normalizeTokens(s, \n",
    "                                                                                           stopwordLst = lucem_illud.stop_words_basic, \n",
    "                                                                                           stemmer = None) \n",
    "                                                                            for s in x])"
   ]
  },
  {
   "cell_type": "code",
   "execution_count": 117,
   "metadata": {},
   "outputs": [],
   "source": [
    "speechesW2V = gensim.models.word2vec.Word2Vec(speechesDF['normalized-sents'].sum())"
   ]
  },
  {
   "cell_type": "code",
   "execution_count": 118,
   "metadata": {},
   "outputs": [
    {
     "data": {
      "text/plain": [
       "array([[-0.9143755 ,  0.12648834,  0.47155225, ...,  0.19010769,\n",
       "         1.1274949 , -0.10891317],\n",
       "       [-0.91182756,  0.10767096,  0.46626228, ...,  0.18234205,\n",
       "         1.1135173 , -0.10725079],\n",
       "       [-0.924417  ,  0.12986596,  0.4809614 , ...,  0.19625863,\n",
       "         1.1449904 , -0.11617443],\n",
       "       ...,\n",
       "       [-0.07285485,  0.01135342,  0.03945694, ...,  0.01107926,\n",
       "         0.08696155, -0.01300361],\n",
       "       [-0.0956758 ,  0.00971223,  0.04698201, ...,  0.02022969,\n",
       "         0.11825011, -0.00675027],\n",
       "       [-0.06627797,  0.00510222,  0.03243141, ...,  0.01207639,\n",
       "         0.0821555 , -0.00676715]], dtype=float32)"
      ]
     },
     "execution_count": 118,
     "metadata": {},
     "output_type": "execute_result"
    }
   ],
   "source": [
    "speechesW2V.wv.syn0"
   ]
  },
  {
   "cell_type": "code",
   "execution_count": 119,
   "metadata": {},
   "outputs": [
    {
     "data": {
      "text/plain": [
       "'states'"
      ]
     },
     "execution_count": 119,
     "metadata": {},
     "output_type": "execute_result"
    }
   ],
   "source": [
    "speechesW2V.wv.index2word[2]"
   ]
  },
  {
   "cell_type": "code",
   "execution_count": 123,
   "metadata": {},
   "outputs": [
    {
     "name": "stdout",
     "output_type": "stream",
     "text": [
      "A 100 dimesional vector:\n"
     ]
    },
    {
     "data": {
      "text/plain": [
       "array([-0.8785088 ,  0.10924983,  0.44332907,  0.4147095 ,  0.13502593,\n",
       "       -0.06808072,  0.15944609,  0.14161816,  0.6704333 , -0.29445842,\n",
       "       -0.2540732 ,  0.2944227 , -0.22780786, -0.30602142, -0.35376576,\n",
       "        0.46470457,  0.3580682 ,  0.49576116, -0.583721  , -0.1436068 ,\n",
       "       -0.60934925,  0.12513773, -0.16309445,  0.20983815, -0.14555326,\n",
       "       -0.5375337 ,  0.50844437, -0.11322448, -0.4419206 , -0.16621299,\n",
       "        0.31153065,  0.48045874, -0.11615196, -0.5776989 ,  0.56821096,\n",
       "       -0.23285598, -0.75550807, -0.41067028, -0.40856007, -1.0907322 ,\n",
       "        0.21234356,  0.30596524,  1.0215837 ,  0.13478625, -0.01066921,\n",
       "       -0.12536113,  0.10699225, -0.16573827,  0.17492203,  0.32499444,\n",
       "        0.26852694, -0.64148724,  0.25716877,  0.00862276,  0.24837068,\n",
       "       -0.171254  , -0.39514065,  0.06909016,  0.75314397, -0.83691955,\n",
       "        0.15420207,  0.2091078 ,  0.47085094,  0.22187938, -0.12335885,\n",
       "       -0.49138507,  0.12633586, -0.9408712 , -0.24482602, -0.5879374 ,\n",
       "        0.2901295 , -0.4056624 ,  0.18107042,  0.21453916, -0.7951828 ,\n",
       "       -0.03540329, -0.11084611,  0.7646545 , -0.1416323 ,  0.13055632,\n",
       "       -0.12377758, -0.1299643 ,  0.5612326 , -0.07174839,  0.16413866,\n",
       "        0.38878807,  0.5378506 ,  0.40823382,  0.2988674 , -0.0840297 ,\n",
       "        0.59302455,  0.40748823,  0.69802964, -0.6371924 ,  0.10007389,\n",
       "       -0.79947907, -0.05559281,  0.18130872,  1.0822728 , -0.10908678],\n",
       "      dtype=float32)"
      ]
     },
     "execution_count": 123,
     "metadata": {},
     "output_type": "execute_result"
    }
   ],
   "source": [
    "print(\"A {} dimesional vector:\".format(speechesW2V['cyberspace'].shape[0]))\n",
    "speechesW2V['cyberspace']"
   ]
  },
  {
   "cell_type": "code",
   "execution_count": 124,
   "metadata": {},
   "outputs": [
    {
     "data": {
      "text/plain": [
       "[('international', 0.9999170303344727),\n",
       " ('development', 0.9999104738235474),\n",
       " ('state', 0.999908447265625),\n",
       " ('efforts', 0.9999064803123474),\n",
       " ('may', 0.9999062418937683),\n",
       " ('network', 0.9999029636383057),\n",
       " ('space', 0.9998986721038818),\n",
       " ('including', 0.9998968839645386),\n",
       " ('us', 0.9998967051506042),\n",
       " ('cyber', 0.9998962879180908)]"
      ]
     },
     "execution_count": 124,
     "metadata": {},
     "output_type": "execute_result"
    }
   ],
   "source": [
    "speechesW2V.most_similar('cyberspace')"
   ]
  },
  {
   "cell_type": "code",
   "execution_count": 125,
   "metadata": {},
   "outputs": [
    {
     "data": {
      "text/plain": [
       "[('cybersecurity', 0.9999515414237976),\n",
       " ('one', 0.9999491572380066),\n",
       " ('global', 0.999947726726532),\n",
       " ('network', 0.9999459981918335),\n",
       " ('new', 0.9999440908432007),\n",
       " ('also', 0.999942421913147),\n",
       " ('us', 0.9999406933784485),\n",
       " ('online', 0.9999404549598694),\n",
       " ('internet', 0.9999403953552246),\n",
       " ('attack', 0.9999398589134216)]"
      ]
     },
     "execution_count": 125,
     "metadata": {},
     "output_type": "execute_result"
    }
   ],
   "source": [
    "speechesW2V.most_similar('cyber')"
   ]
  },
  {
   "cell_type": "code",
   "execution_count": 126,
   "metadata": {},
   "outputs": [
    {
     "data": {
      "text/plain": [
       "[('cyber', 0.9999514818191528),\n",
       " ('network', 0.9999485015869141),\n",
       " ('also', 0.9999437928199768),\n",
       " ('national', 0.9999396204948425),\n",
       " ('security', 0.9999386072158813),\n",
       " ('companies', 0.9999384880065918),\n",
       " ('us', 0.9999368190765381),\n",
       " ('help', 0.9999361038208008),\n",
       " ('may', 0.9999359250068665),\n",
       " ('need', 0.9999349117279053)]"
      ]
     },
     "execution_count": 126,
     "metadata": {},
     "output_type": "execute_result"
    }
   ],
   "source": [
    "speechesW2V.most_similar('cybersecurity')"
   ]
  },
  {
   "cell_type": "code",
   "execution_count": 129,
   "metadata": {},
   "outputs": [
    {
     "data": {
      "text/plain": [
       "[('national', 0.9999438524246216),\n",
       " ('cyber', 0.9999392032623291),\n",
       " ('may', 0.999937891960144),\n",
       " ('us', 0.9999359846115112),\n",
       " ('working', 0.9999332427978516),\n",
       " ('cybersecurity', 0.9999326467514038),\n",
       " ('important', 0.9999308586120605),\n",
       " ('efforts', 0.9999298453330994),\n",
       " ('take', 0.9999294281005859),\n",
       " ('people', 0.9999293684959412)]"
      ]
     },
     "execution_count": 129,
     "metadata": {},
     "output_type": "execute_result"
    }
   ],
   "source": [
    "speechesW2V.most_similar('space')"
   ]
  },
  {
   "cell_type": "code",
   "execution_count": 131,
   "metadata": {},
   "outputs": [
    {
     "data": {
      "text/plain": [
       "'cyberspace'"
      ]
     },
     "execution_count": 131,
     "metadata": {},
     "output_type": "execute_result"
    }
   ],
   "source": [
    "speechesW2V.doesnt_match(['cyber', 'cyberspace', 'cybersecurity','space','security'])"
   ]
  },
  {
   "cell_type": "code",
   "execution_count": 133,
   "metadata": {},
   "outputs": [
    {
     "data": {
      "text/plain": [
       "[('federal', 0.9996736645698547),\n",
       " ('within', 0.9996576309204102),\n",
       " ('network', 0.999643087387085),\n",
       " ('computer', 0.999642550945282),\n",
       " ('may', 0.9996399283409119),\n",
       " ('companies', 0.9996363520622253),\n",
       " ('cyber', 0.9996356964111328),\n",
       " ('threat', 0.9996296167373657),\n",
       " ('cybersecurity', 0.9996280074119568),\n",
       " ('time', 0.999626100063324)]"
      ]
     },
     "execution_count": 133,
     "metadata": {},
     "output_type": "execute_result"
    }
   ],
   "source": [
    "speechesW2V.most_similar(positive=['cyberspace', 'domestic'], negative = ['international'])"
   ]
  },
  {
   "cell_type": "code",
   "execution_count": 134,
   "metadata": {},
   "outputs": [
    {
     "data": {
      "text/plain": [
       "[('norms', 0.9996587038040161),\n",
       " ('law', 0.9996358752250671),\n",
       " ('mission', 0.9995936155319214),\n",
       " ('development', 0.9995832443237305),\n",
       " ('know', 0.9995794892311096),\n",
       " ('responsible', 0.9995759725570679),\n",
       " ('promote', 0.9995738863945007),\n",
       " ('state', 0.9995644688606262),\n",
       " ('world', 0.999563992023468),\n",
       " ('develop', 0.9995631575584412)]"
      ]
     },
     "execution_count": 134,
     "metadata": {},
     "output_type": "execute_result"
    }
   ],
   "source": [
    "speechesW2V.most_similar(positive=['cyberspace', 'international'], negative = ['domestic'])"
   ]
  },
  {
   "cell_type": "code",
   "execution_count": 136,
   "metadata": {},
   "outputs": [
    {
     "data": {
      "text/plain": [
       "[0.99747217,\n",
       " 0.9991156,\n",
       " 0.99932444,\n",
       " 0.99958897,\n",
       " 0.99959654,\n",
       " 0.99959904,\n",
       " 0.99962,\n",
       " 0.99962395,\n",
       " 0.9996435,\n",
       " 0.9996725,\n",
       " 0.99967605,\n",
       " 0.9996917,\n",
       " 0.9997046,\n",
       " 0.99972117,\n",
       " 0.9997282,\n",
       " 0.99973553,\n",
       " 0.9997366,\n",
       " 0.9997412,\n",
       " 0.9997733,\n",
       " 0.9997802]"
      ]
     },
     "execution_count": 136,
     "metadata": {},
     "output_type": "execute_result"
    }
   ],
   "source": [
    "def cos_difference(embedding,word1,word2):\n",
    "    return sklearn.metrics.pairwise.cosine_similarity(embedding[word1].reshape(1,-1),embedding[word2].reshape(1,-1))\n",
    "\n",
    "estimatesB=[]\n",
    "for x in range(20):\n",
    "    speechesW2VB = gensim.models.word2vec.Word2Vec(speechesDF['normalized-sents'].sample(frac=1.0, replace=True).sum())\n",
    "    try:\n",
    "        estimatesB.append(cos_difference(speechesW2VB, 'cyberspace', 'domestic')[0,0])\n",
    "    except KeyError:\n",
    "        #Missing one of the words from the vocab\n",
    "        pass\n",
    "                                                      \n",
    "estimatesB.sort()         \n",
    "estimatesB"
   ]
  },
  {
   "cell_type": "code",
   "execution_count": 137,
   "metadata": {},
   "outputs": [
    {
     "name": "stdout",
     "output_type": "stream",
     "text": [
      "The 90% confidence interval for the cosine distance between war and unwinnable is:\n",
      " 0.9991156 0.9997733\n"
     ]
    }
   ],
   "source": [
    "print(\"The 90% confidence interval for the cosine distance between war and unwinnable is:\\n\",estimatesB[1], estimatesB[-2])"
   ]
  },
  {
   "cell_type": "code",
   "execution_count": 139,
   "metadata": {},
   "outputs": [],
   "source": [
    "numWords = 150\n",
    "targetWords = speechesW2V.wv.index2word[:numWords]"
   ]
  },
  {
   "cell_type": "code",
   "execution_count": 140,
   "metadata": {},
   "outputs": [
    {
     "data": {
      "text/plain": [
       "array([[-0.9143755 ,  0.12648834,  0.47155225, ...,  0.19010769,\n",
       "         1.1274949 , -0.10891317],\n",
       "       [-0.91182756,  0.10767096,  0.46626228, ...,  0.18234205,\n",
       "         1.1135173 , -0.10725079],\n",
       "       [-0.924417  ,  0.12986596,  0.4809614 , ...,  0.19625863,\n",
       "         1.1449904 , -0.11617443],\n",
       "       ...,\n",
       "       [-0.50719887,  0.06545039,  0.26177305, ...,  0.10443439,\n",
       "         0.63051087, -0.06082686],\n",
       "       [-0.5389898 ,  0.06661776,  0.2755291 , ...,  0.11712773,\n",
       "         0.6671134 , -0.05971741],\n",
       "       [-0.62958705,  0.07990106,  0.32336637, ...,  0.13069591,\n",
       "         0.77542055, -0.07651114]], dtype=float32)"
      ]
     },
     "execution_count": 140,
     "metadata": {},
     "output_type": "execute_result"
    }
   ],
   "source": [
    "wordsSubMatrix = []\n",
    "for word in targetWords:\n",
    "    wordsSubMatrix.append(speechesW2V[word])\n",
    "wordsSubMatrix = np.array(wordsSubMatrix)\n",
    "wordsSubMatrix"
   ]
  },
  {
   "cell_type": "code",
   "execution_count": 141,
   "metadata": {
    "collapsed": true
   },
   "outputs": [],
   "source": [
    "pcaWords = sklearn.decomposition.PCA(n_components = 50).fit(wordsSubMatrix)\n",
    "reducedPCA_data = pcaWords.transform(wordsSubMatrix)\n",
    "#T-SNE is theoretically better, but you should experiment\n",
    "tsneWords = sklearn.manifold.TSNE(n_components = 2, early_exaggeration = 25).fit_transform(reducedPCA_data)"
   ]
  },
  {
   "cell_type": "code",
   "execution_count": 142,
   "metadata": {},
   "outputs": [
    {
     "data": {
      "image/png": "[encoded data removed]",
      "text/plain": [
       "<matplotlib.figure.Figure at 0x113d8a9e8>"
      ]
     },
     "metadata": {},
     "output_type": "display_data"
    }
   ],
   "source": [
    "fig = plt.figure(figsize = (15,10))\n",
    "ax = fig.add_subplot(111)\n",
    "ax.set_frame_on(False)\n",
    "plt.scatter(tsneWords[:, 0], tsneWords[:, 1], alpha = 0)#Making the points invisible \n",
    "for i, word in enumerate(targetWords):\n",
    "    ax.annotate(word, \n",
    "                (tsneWords[:, 0][i],tsneWords[:, 1][i]), \n",
    "                size =  20 * (numWords - i) / numWords, \n",
    "                alpha = .8 * (numWords - i) / numWords + .2)\n",
    "plt.xticks(())\n",
    "plt.yticks(())\n",
    "plt.show()"
   ]
  },
  {
   "cell_type": "code",
   "execution_count": 151,
   "metadata": {
    "collapsed": true
   },
   "outputs": [],
   "source": [
    "DOSspeechesW2V = gensim.models.word2vec.Word2Vec(speechesDF['normalized-sents'][0:31].sum())\n",
    "DHSspeechesW2V = gensim.models.word2vec.Word2Vec(speechesDF['normalized-sents'][32:42].sum())"
   ]
  },
  {
   "cell_type": "code",
   "execution_count": 153,
   "metadata": {},
   "outputs": [
    {
     "data": {
      "text/plain": [
       "[('cyber', 0.9999352693557739),\n",
       " ('efforts', 0.9999255537986755),\n",
       " ('state', 0.9999251961708069),\n",
       " ('including', 0.9999241828918457),\n",
       " ('international', 0.9999226331710815),\n",
       " ('countries', 0.9999225735664368),\n",
       " ('development', 0.9999213814735413),\n",
       " ('cooperation', 0.999919593334198),\n",
       " ('us', 0.9999194145202637),\n",
       " ('cybercrime', 0.9999179244041443)]"
      ]
     },
     "metadata": {},
     "output_type": "display_data"
    },
    {
     "data": {
      "text/plain": [
       "[('cyber', 0.9508532285690308),\n",
       " ('cybersecurity', 0.9455675482749939),\n",
       " ('government', 0.9442428350448608),\n",
       " ('private', 0.9439975023269653),\n",
       " ('federal', 0.9420256614685059),\n",
       " ('security', 0.9412347078323364),\n",
       " ('department', 0.9404594302177429),\n",
       " ('nation', 0.9393349289894104),\n",
       " ('people', 0.9365335702896118),\n",
       " ('years', 0.9363147020339966)]"
      ]
     },
     "metadata": {},
     "output_type": "display_data"
    }
   ],
   "source": [
    "display(DOSspeechesW2V.most_similar('cyberspace'))\n",
    "display(DHSspeechesW2V.most_similar('cyberspace'))"
   ]
  },
  {
   "cell_type": "code",
   "execution_count": 154,
   "metadata": {},
   "outputs": [
    {
     "data": {
      "text/plain": [
       "[('internet', 0.9999605417251587),\n",
       " ('states', 0.9999570250511169),\n",
       " ('attack', 0.9999511241912842),\n",
       " ('global', 0.9999505877494812),\n",
       " ('us', 0.9999481439590454),\n",
       " ('one', 0.9999478459358215),\n",
       " ('also', 0.9999473690986633),\n",
       " ('cybersecurity', 0.9999470710754395),\n",
       " ('security', 0.9999470114707947),\n",
       " ('cybercrime', 0.9999468922615051)]"
      ]
     },
     "metadata": {},
     "output_type": "display_data"
    },
    {
     "data": {
      "text/plain": [
       "[('government', 0.9774525165557861),\n",
       " ('private', 0.9752260446548462),\n",
       " ('cybersecurity', 0.9732471108436584),\n",
       " ('security', 0.9719692468643188),\n",
       " ('networks', 0.9705813527107239),\n",
       " ('federal', 0.9694167375564575),\n",
       " ('information', 0.9693840742111206),\n",
       " ('nation', 0.9659606218338013),\n",
       " ('department', 0.9654802083969116),\n",
       " ('people', 0.965298056602478)]"
      ]
     },
     "metadata": {},
     "output_type": "display_data"
    }
   ],
   "source": [
    "display(DOSspeechesW2V.most_similar('cyber'))\n",
    "display(DHSspeechesW2V.most_similar('cyber'))"
   ]
  },
  {
   "cell_type": "code",
   "execution_count": 155,
   "metadata": {},
   "outputs": [
    {
     "data": {
      "text/plain": [
       "[('cyber', 0.9999470114707947),\n",
       " ('new', 0.9999457001686096),\n",
       " ('cybersecurity', 0.9999437928199768),\n",
       " ('national', 0.999941885471344),\n",
       " ('economic', 0.9999411106109619),\n",
       " ('also', 0.9999382495880127),\n",
       " ('cooperation', 0.9999359250068665),\n",
       " ('internet', 0.9999358654022217),\n",
       " ('including', 0.9999323487281799),\n",
       " ('global', 0.9999322891235352)]"
      ]
     },
     "metadata": {},
     "output_type": "display_data"
    },
    {
     "data": {
      "text/plain": [
       "[('cybersecurity', 0.972662091255188),\n",
       " ('cyber', 0.9719691872596741),\n",
       " ('government', 0.9684157967567444),\n",
       " ('dhs', 0.965388298034668),\n",
       " ('networks', 0.9637857675552368),\n",
       " ('nation', 0.9634954333305359),\n",
       " ('department', 0.9615504741668701),\n",
       " ('also', 0.9614482522010803),\n",
       " ('critical', 0.9609655141830444),\n",
       " ('private', 0.960837721824646)]"
      ]
     },
     "metadata": {},
     "output_type": "display_data"
    }
   ],
   "source": [
    "display(DOSspeechesW2V.most_similar('security'))\n",
    "display(DHSspeechesW2V.most_similar('security'))"
   ]
  },
  {
   "cell_type": "code",
   "execution_count": 156,
   "metadata": {},
   "outputs": [
    {
     "data": {
      "text/plain": [
       "[('cyber', 0.9999470710754395),\n",
       " ('security', 0.9999437928199768),\n",
       " ('national', 0.999931812286377),\n",
       " ('states', 0.9999288320541382),\n",
       " ('information', 0.9999280571937561),\n",
       " ('also', 0.9999257326126099),\n",
       " ('government', 0.9999251961708069),\n",
       " ('may', 0.9999241232872009),\n",
       " ('attack', 0.9999232888221741),\n",
       " ('internet', 0.999921441078186)]"
      ]
     },
     "metadata": {},
     "output_type": "display_data"
    },
    {
     "data": {
      "text/plain": [
       "[('cyber', 0.9732469320297241),\n",
       " ('security', 0.9726620316505432),\n",
       " ('government', 0.9702670574188232),\n",
       " ('information', 0.9624351263046265),\n",
       " ('networks', 0.960116446018219),\n",
       " ('national', 0.9579658508300781),\n",
       " ('also', 0.9574430584907532),\n",
       " ('federal', 0.9560151696205139),\n",
       " ('dhs', 0.9557242393493652),\n",
       " ('years', 0.9557081460952759)]"
      ]
     },
     "metadata": {},
     "output_type": "display_data"
    }
   ],
   "source": [
    "display(DOSspeechesW2V.most_similar('cybersecurity'))\n",
    "display(DHSspeechesW2V.most_similar('cybersecurity'))"
   ]
  },
  {
   "cell_type": "code",
   "execution_count": 165,
   "metadata": {
    "collapsed": true
   },
   "outputs": [],
   "source": [
    "numWords = 75\n",
    "DOStargetWords = DOSspeechesW2V.wv.index2word[:numWords]\n",
    "DHStargetWords = DHSspeechesW2V.wv.index2word[:numWords]\n"
   ]
  },
  {
   "cell_type": "code",
   "execution_count": 166,
   "metadata": {},
   "outputs": [
    {
     "data": {
      "text/plain": [
       "array([[-1.0264789 ,  0.06428577,  0.43712187, ...,  0.09718296,\n",
       "         1.1731    , -0.06784919],\n",
       "       [-0.93298006,  0.04687863,  0.39599934, ...,  0.08695503,\n",
       "         1.0531931 , -0.05796068],\n",
       "       [-0.93589914,  0.06021142,  0.40281856, ...,  0.09307065,\n",
       "         1.0728569 , -0.06294874],\n",
       "       ...,\n",
       "       [-0.6807299 ,  0.0428069 ,  0.293842  , ...,  0.06820159,\n",
       "         0.7779072 , -0.04125362],\n",
       "       [-0.6294911 ,  0.03888376,  0.26751316, ...,  0.06107599,\n",
       "         0.7156996 , -0.0421243 ],\n",
       "       [-0.60065305,  0.04064031,  0.25679454, ...,  0.0576935 ,\n",
       "         0.6868029 , -0.03711263]], dtype=float32)"
      ]
     },
     "execution_count": 166,
     "metadata": {},
     "output_type": "execute_result"
    }
   ],
   "source": [
    "DOSwordsSubMatrix = []\n",
    "for word in DOStargetWords:\n",
    "    DOSwordsSubMatrix.append(DOSspeechesW2V[word])\n",
    "DOSwordsSubMatrix = np.array(DOSwordsSubMatrix)\n",
    "DOSwordsSubMatrix"
   ]
  },
  {
   "cell_type": "code",
   "execution_count": 169,
   "metadata": {},
   "outputs": [
    {
     "data": {
      "text/plain": [
       "array([[-0.03358567, -0.00237687,  0.04996407, ..., -0.0061808 ,\n",
       "         0.03117233,  0.00884717],\n",
       "       [-0.02755752, -0.0034028 ,  0.04305526, ..., -0.00878347,\n",
       "         0.01602294,  0.00566746],\n",
       "       [-0.02621231, -0.00288366,  0.03777405, ..., -0.00663583,\n",
       "         0.01550763,  0.0135694 ],\n",
       "       ...,\n",
       "       [-0.0051    , -0.00020509,  0.0189344 , ..., -0.00600348,\n",
       "         0.00433816,  0.00102281],\n",
       "       [-0.01436943, -0.00436439,  0.01751481, ...,  0.00135125,\n",
       "         0.00538298,  0.00234743],\n",
       "       [-0.01646486, -0.0050707 ,  0.02527924, ..., -0.00399589,\n",
       "         0.0156896 ,  0.0008509 ]], dtype=float32)"
      ]
     },
     "execution_count": 169,
     "metadata": {},
     "output_type": "execute_result"
    }
   ],
   "source": [
    "DHSwordsSubMatrix = []\n",
    "for word in DHStargetWords:\n",
    "    DHSwordsSubMatrix.append(DHSspeechesW2V[word])\n",
    "DHSwordsSubMatrix = np.array(DHSwordsSubMatrix)\n",
    "DHSwordsSubMatrix"
   ]
  },
  {
   "cell_type": "code",
   "execution_count": 167,
   "metadata": {
    "collapsed": true
   },
   "outputs": [],
   "source": [
    "DOSpcaWords = sklearn.decomposition.PCA(n_components = 50).fit(DOSwordsSubMatrix)\n",
    "DOSreducedPCA_data = DOSpcaWords.transform(DOSwordsSubMatrix)\n",
    "#T-SNE is theoretically better, but you should experiment\n",
    "DOStsneWords = sklearn.manifold.TSNE(n_components = 2, early_exaggeration = 25).fit_transform(DOSreducedPCA_data)"
   ]
  },
  {
   "cell_type": "code",
   "execution_count": 171,
   "metadata": {},
   "outputs": [],
   "source": [
    "DHSpcaWords = sklearn.decomposition.PCA(n_components = 50).fit(DHSwordsSubMatrix)\n",
    "DHSreducedPCA_data = DHSpcaWords.transform(DHSwordsSubMatrix)\n",
    "#T-SNE is theoretically better, but you should experiment\n",
    "DHStsneWords = sklearn.manifold.TSNE(n_components = 2, early_exaggeration = 25).fit_transform(DHSreducedPCA_data)"
   ]
  },
  {
   "cell_type": "code",
   "execution_count": 172,
   "metadata": {},
   "outputs": [
    {
     "data": {
      "image/png": "[encoded data removed]",
      "text/plain": [
       "<matplotlib.figure.Figure at 0x11aac7f28>"
      ]
     },
     "metadata": {},
     "output_type": "display_data"
    },
    {
     "data": {
      "image/png": "[encoded data removed]",
      "text/plain": [
       "<matplotlib.figure.Figure at 0x11a9ac588>"
      ]
     },
     "metadata": {},
     "output_type": "display_data"
    }
   ],
   "source": [
    "fig = plt.figure(figsize = (15,10))\n",
    "ax = fig.add_subplot(111)\n",
    "ax.set_frame_on(False)\n",
    "plt.scatter(DOStsneWords[:, 0], DOStsneWords[:, 1], alpha = 0)#Making the points invisible \n",
    "for i, word in enumerate(DOStargetWords):\n",
    "    ax.annotate(word, \n",
    "                (DOStsneWords[:, 0][i],DOStsneWords[:, 1][i]), \n",
    "                size =  20 * (numWords - i) / numWords, \n",
    "                alpha = .8 * (numWords - i) / numWords + .2)\n",
    "plt.xticks(())\n",
    "plt.yticks(())\n",
    "plt.show()\n",
    "\n",
    "fig = plt.figure(figsize = (15,10))\n",
    "ax = fig.add_subplot(111)\n",
    "ax.set_frame_on(False)\n",
    "plt.scatter(DHStsneWords[:, 0], DHStsneWords[:, 1], alpha = 0)#Making the points invisible \n",
    "for i, word in enumerate(DOStargetWords):\n",
    "    ax.annotate(word, \n",
    "                (DHStsneWords[:, 0][i],DHStsneWords[:, 1][i]), \n",
    "                size =  20 * (numWords - i) / numWords, \n",
    "                alpha = .8 * (numWords - i) / numWords + .2)\n",
    "plt.xticks(())\n",
    "plt.yticks(())\n",
    "plt.show()"
   ]
  },
  {
   "cell_type": "code",
   "execution_count": 202,
   "metadata": {
    "collapsed": true
   },
   "outputs": [],
   "source": [
    "keywords = ['cyber', 'cyberspace', 'security', 'international', 'national', 'cybersecurity',  ]"
   ]
  },
  {
   "cell_type": "code",
   "execution_count": 212,
   "metadata": {},
   "outputs": [],
   "source": [
    "#ALL\n",
    "heatmapMatrix = []\n",
    "for tagOuter in keywords:\n",
    "    column = []\n",
    "    tagVec = speechesW2V.wv[tagOuter].reshape(1, -1)\n",
    "    for tagInner in keywords:\n",
    "        column.append(sklearn.metrics.pairwise.cosine_similarity(tagVec, speechesW2V.wv[tagInner].reshape(1, -1))[0][0])\n",
    "    heatmapMatrix.append(column)\n",
    "heatmapMatrix = np.array(heatmapMatrix)"
   ]
  },
  {
   "cell_type": "code",
   "execution_count": 213,
   "metadata": {},
   "outputs": [
    {
     "data": {
      "image/png": "[encoded data removed]",
      "text/plain": [
       "<matplotlib.figure.Figure at 0x11c778f60>"
      ]
     },
     "metadata": {},
     "output_type": "display_data"
    }
   ],
   "source": [
    "#ALL\n",
    "fig, ax = plt.subplots()\n",
    "hmap = ax.pcolor(heatmapMatrix, cmap='Blues_r')\n",
    "cbar = plt.colorbar(hmap)\n",
    "\n",
    "cbar.set_label('cosine similarity', rotation=270)\n",
    "a = ax.set_xticks(np.arange(heatmapMatrix.shape[1]) + 0.5, minor=False)\n",
    "a = ax.set_yticks(np.arange(heatmapMatrix.shape[0]) + 0.5, minor=False)\n",
    "\n",
    "a = ax.set_xticklabels(keywords, minor=False, rotation=270)\n",
    "a = ax.set_yticklabels(keywords, minor=False)"
   ]
  },
  {
   "cell_type": "code",
   "execution_count": 214,
   "metadata": {
    "collapsed": true
   },
   "outputs": [],
   "source": [
    "#DOS\n",
    "DOSheatmapMatrix = []\n",
    "for DOStagOuter in keywords:\n",
    "    DOScolumn = []\n",
    "    DOStagVec = DOSspeechesW2V.wv[DOStagOuter].reshape(1, -1)\n",
    "    for DOStagInner in keywords:\n",
    "        DOScolumn.append(sklearn.metrics.pairwise.cosine_similarity(DOStagVec, DOSspeechesW2V.wv[DOStagInner].reshape(1, -1))[0][0])\n",
    "    DOSheatmapMatrix.append(DOScolumn)\n",
    "DOSheatmapMatrix = np.array(DOSheatmapMatrix)"
   ]
  },
  {
   "cell_type": "code",
   "execution_count": 215,
   "metadata": {},
   "outputs": [
    {
     "data": {
      "image/png": "[encoded data removed]",
      "text/plain": [
       "<matplotlib.figure.Figure at 0x11c3e7470>"
      ]
     },
     "metadata": {},
     "output_type": "display_data"
    }
   ],
   "source": [
    "#DOS\n",
    "fig, ax = plt.subplots()\n",
    "DOShmap = ax.pcolor(DOSheatmapMatrix, cmap='Blues_r')\n",
    "cbar = plt.colorbar(hmap)\n",
    "\n",
    "cbar.set_label('cosine similarity', rotation=270)\n",
    "a = ax.set_xticks(np.arange(DOSheatmapMatrix.shape[1]) + 0.5, minor=False)\n",
    "a = ax.set_yticks(np.arange(DOSheatmapMatrix.shape[0]) + 0.5, minor=False)\n",
    "\n",
    "a = ax.set_xticklabels(keywords, minor=False, rotation=270)\n",
    "a = ax.set_yticklabels(keywords, minor=False)"
   ]
  },
  {
   "cell_type": "code",
   "execution_count": 216,
   "metadata": {
    "collapsed": true
   },
   "outputs": [],
   "source": [
    "#DHS\n",
    "DHSheatmapMatrix = []\n",
    "for DHStagOuter in keywords:\n",
    "    DHScolumn = []\n",
    "    DHStagVec = DHSspeechesW2V.wv[DHStagOuter].reshape(1, -1)\n",
    "    for DHStagInner in keywords:\n",
    "        DHScolumn.append(sklearn.metrics.pairwise.cosine_similarity(DHStagVec, DHSspeechesW2V.wv[DHStagInner].reshape(1, -1))[0][0])\n",
    "    DHSheatmapMatrix.append(DHScolumn)\n",
    "DHSheatmapMatrix = np.array(DHSheatmapMatrix)"
   ]
  },
  {
   "cell_type": "code",
   "execution_count": 217,
   "metadata": {},
   "outputs": [
    {
     "data": {
      "image/png": "[encoded data removed]",
      "text/plain": [
       "<matplotlib.figure.Figure at 0x11bab4f60>"
      ]
     },
     "metadata": {},
     "output_type": "display_data"
    }
   ],
   "source": [
    "#DHS\n",
    "fig, ax = plt.subplots()\n",
    "hmap = ax.pcolor(DHSheatmapMatrix, cmap='Blues_r')\n",
    "cbar = plt.colorbar(hmap)\n",
    "\n",
    "cbar.set_label('cosine similarity', rotation=270)\n",
    "a = ax.set_xticks(np.arange(DHSheatmapMatrix.shape[1]) + 0.5, minor=False)\n",
    "a = ax.set_yticks(np.arange(DHSheatmapMatrix.shape[0]) + 0.5, minor=False)\n",
    "\n",
    "a = ax.set_xticklabels(keywords, minor=False, rotation=270)\n",
    "a = ax.set_yticklabels(keywords, minor=False)"
   ]
  },
  {
   "cell_type": "code",
   "execution_count": 218,
   "metadata": {
    "collapsed": true
   },
   "outputs": [],
   "source": [
    "#These are from the standard library\n",
    "import os.path\n",
    "import zipfile\n",
    "import subprocess\n",
    "import io\n",
    "import tempfile"
   ]
  },
  {
   "cell_type": "code",
   "execution_count": 219,
   "metadata": {},
   "outputs": [
    {
     "name": "stdout",
     "output_type": "stream",
     "text": [
      "Starting downloads, this will take 5-10 minutes\n",
      "../stanford-NLP/parser already exists, skipping download\n",
      "../stanford-NLP/ner already exists, skipping download\n",
      "../stanford-NLP/postagger already exists, skipping download\n",
      "../stanford-NLP/core already exists, skipping download\n",
      "[100%]Done setting up the Stanford NLP collection\n"
     ]
    }
   ],
   "source": [
    "lucem_illud.setupStanfordNLP()"
   ]
  },
  {
   "cell_type": "code",
   "execution_count": 222,
   "metadata": {},
   "outputs": [
    {
     "name": "stderr",
     "output_type": "stream",
     "text": [
      "/anaconda3/lib/python3.6/site-packages/nltk/tag/stanford.py:183: DeprecationWarning: \n",
      "The StanfordTokenizer will be deprecated in version 3.2.5.\n",
      "Please use \u001b[91mnltk.tag.corenlp.CoreNLPPOSTagger\u001b[0m or \u001b[91mnltk.tag.corenlp.CoreNLPNERTagger\u001b[0m instead.\n",
      "  super(StanfordNERTagger, self).__init__(*args, **kwargs)\n",
      "/anaconda3/lib/python3.6/site-packages/nltk/tag/stanford.py:149: DeprecationWarning: \n",
      "The StanfordTokenizer will be deprecated in version 3.2.5.\n",
      "Please use \u001b[91mnltk.tag.corenlp.CoreNLPPOSTagger\u001b[0m or \u001b[91mnltk.tag.corenlp.CoreNLPNERTagger\u001b[0m instead.\n",
      "  super(StanfordPOSTagger, self).__init__(*args, **kwargs)\n"
     ]
    }
   ],
   "source": [
    "import lucem_illud.stanford as stanford"
   ]
  },
  {
   "cell_type": "code",
   "execution_count": 223,
   "metadata": {},
   "outputs": [],
   "source": [
    "speechesDF['POS-sents'] = speechesDF['tokenized-sents'].apply(lambda x: stanford.postTagger.tag_sents(x))"
   ]
  },
  {
   "cell_type": "code",
   "execution_count": 224,
   "metadata": {},
   "outputs": [
    {
     "data": {
      "text/plain": [
       "[('cyber', 429),\n",
       " ('cyberspace', 247),\n",
       " ('s', 244),\n",
       " ('law', 225),\n",
       " ('security', 162),\n",
       " ('policy', 159),\n",
       " ('world', 112),\n",
       " ('information', 105),\n",
       " ('–', 103),\n",
       " ('Internet', 97),\n",
       " ('behavior', 88),\n",
       " ('today', 83),\n",
       " ('stability', 82),\n",
       " ('state', 80),\n",
       " ('cooperation', 78),\n",
       " ('internet', 76),\n",
       " ('capacity', 74),\n",
       " ('space', 74),\n",
       " ('attack', 73),\n",
       " ('time', 73)]"
      ]
     },
     "execution_count": 224,
     "metadata": {},
     "output_type": "execute_result"
    }
   ],
   "source": [
    "countTarget = 'NN'\n",
    "targetCounts = {}\n",
    "for entry in speechesDF['POS-sents'][0:31]:\n",
    "    for sentence in entry:\n",
    "        for ent, kind in sentence:\n",
    "            if kind != countTarget:\n",
    "                continue\n",
    "            elif ent in targetCounts:\n",
    "                targetCounts[ent] += 1\n",
    "            else:\n",
    "                targetCounts[ent] = 1\n",
    "sortedTargets = sorted(targetCounts.items(), key = lambda x: x[1], reverse = True)\n",
    "sortedTargets[:20]"
   ]
  },
  {
   "cell_type": "code",
   "execution_count": 225,
   "metadata": {},
   "outputs": [
    {
     "data": {
      "text/plain": [
       "[('cyber', 120),\n",
       " ('cybersecurity', 116),\n",
       " ('government', 105),\n",
       " ('information', 81),\n",
       " ('security', 60),\n",
       " ('DHS', 57),\n",
       " ('sector', 55),\n",
       " ('nation', 52),\n",
       " ('year', 43),\n",
       " ('s', 38),\n",
       " ('threat', 32),\n",
       " ('–', 29),\n",
       " ('sharing', 28),\n",
       " ('infrastructure', 28),\n",
       " ('today', 26),\n",
       " ('country', 25),\n",
       " ('number', 25),\n",
       " ('way', 25),\n",
       " ('world', 24),\n",
       " ('computer', 22)]"
      ]
     },
     "execution_count": 225,
     "metadata": {},
     "output_type": "execute_result"
    }
   ],
   "source": [
    "countTarget = 'NN'\n",
    "targetCounts = {}\n",
    "for entry in speechesDF['POS-sents'][32:42]:\n",
    "    for sentence in entry:\n",
    "        for ent, kind in sentence:\n",
    "            if kind != countTarget:\n",
    "                continue\n",
    "            elif ent in targetCounts:\n",
    "                targetCounts[ent] += 1\n",
    "            else:\n",
    "                targetCounts[ent] = 1\n",
    "sortedTargets = sorted(targetCounts.items(), key = lambda x: x[1], reverse = True)\n",
    "sortedTargets[:20]"
   ]
  },
  {
   "cell_type": "code",
   "execution_count": 226,
   "metadata": {},
   "outputs": [
    {
     "name": "stdout",
     "output_type": "stream",
     "text": [
      "{'international', 'domestic', 'tame', 'peaceful', 'stable', 'key', 'secure', 'military', 'accessible', 'reliable', 'mainstream'}\n"
     ]
    }
   ],
   "source": [
    "NTarget = 'JJ'\n",
    "Word = 'cyberspace'\n",
    "NResults = set()\n",
    "for entry in speechesDF['POS-sents'][0:31]:\n",
    "    for sentence in entry:\n",
    "        for (ent1, kind1),(ent2,kind2) in zip(sentence[:-1], sentence[1:]):\n",
    "            if (kind1,ent2.lower())==(NTarget,Word):\n",
    "                NResults.add(ent1)\n",
    "            else:\n",
    "                continue\n",
    "\n",
    "print(NResults)"
   ]
  },
  {
   "cell_type": "code",
   "execution_count": 227,
   "metadata": {},
   "outputs": [
    {
     "name": "stdout",
     "output_type": "stream",
     "text": [
      "{'civilian'}\n"
     ]
    }
   ],
   "source": [
    "NTarget = 'JJ'\n",
    "Word = 'cyberspace'\n",
    "NResults = set()\n",
    "for entry in speechesDF['POS-sents'][32:42]:\n",
    "    for sentence in entry:\n",
    "        for (ent1, kind1),(ent2,kind2) in zip(sentence[:-1], sentence[1:]):\n",
    "            if (kind1,ent2.lower())==(NTarget,Word):\n",
    "                NResults.add(ent1)\n",
    "            else:\n",
    "                continue\n",
    "\n",
    "print(NResults)"
   ]
  },
  {
   "cell_type": "code",
   "execution_count": 231,
   "metadata": {},
   "outputs": [
    {
     "name": "stdout",
     "output_type": "stream",
     "text": [
      "{'opportunities', 'challenges'}\n"
     ]
    }
   ],
   "source": [
    "NTarget = 'NNS'\n",
    "Word = 'cyberspace'\n",
    "NResults = set()\n",
    "for entry in speechesDF['POS-sents'][0:31]:\n",
    "    for sentence in entry:\n",
    "        for (ent1, kind1),(ent2,kind2) in zip(sentence[:-1], sentence[1:]):\n",
    "            if (kind1,ent2.lower())==(NTarget,Word):\n",
    "                NResults.add(ent1)\n",
    "            else:\n",
    "                continue\n",
    "\n",
    "print(NResults)"
   ]
  },
  {
   "cell_type": "code",
   "execution_count": 232,
   "metadata": {},
   "outputs": [
    {
     "name": "stdout",
     "output_type": "stream",
     "text": [
      "{'Connect—because', 'impact', '“'}\n"
     ]
    }
   ],
   "source": [
    "NTarget = 'NN'\n",
    "Word = 'cyberspace'\n",
    "NResults = set()\n",
    "for entry in speechesDF['POS-sents'][32:42]:\n",
    "    for sentence in entry:\n",
    "        for (ent1, kind1),(ent2,kind2) in zip(sentence[:-1], sentence[1:]):\n",
    "            if (kind1,ent2.lower())==(NTarget,Word):\n",
    "                NResults.add(ent1)\n",
    "            else:\n",
    "                continue\n",
    "\n",
    "print(NResults)"
   ]
  },
  {
   "cell_type": "code",
   "execution_count": 234,
   "metadata": {},
   "outputs": [
    {
     "name": "stdout",
     "output_type": "stream",
     "text": [
      "{'prevent', 'rule', 'keep'}\n"
     ]
    }
   ],
   "source": [
    "NTarget = 'VB'\n",
    "Word = 'cyberspace'\n",
    "NResults = set()\n",
    "for entry in speechesDF['POS-sents'][0:31]:\n",
    "    for sentence in entry:\n",
    "        for (ent1, kind1),(ent2,kind2) in zip(sentence[:-1], sentence[1:]):\n",
    "            if (kind1,ent2.lower())==(NTarget,Word):\n",
    "                NResults.add(ent1)\n",
    "            else:\n",
    "                continue\n",
    "\n",
    "print(NResults)"
   ]
  },
  {
   "cell_type": "code",
   "execution_count": 235,
   "metadata": {},
   "outputs": [
    {
     "name": "stdout",
     "output_type": "stream",
     "text": [
      "{'secure', 'make'}\n"
     ]
    }
   ],
   "source": [
    "NTarget = 'VB'\n",
    "Word = 'cyberspace'\n",
    "NResults = set()\n",
    "for entry in speechesDF['POS-sents'][32:42]:\n",
    "    for sentence in entry:\n",
    "        for (ent1, kind1),(ent2,kind2) in zip(sentence[:-1], sentence[1:]):\n",
    "            if (kind1,ent2.lower())==(NTarget,Word):\n",
    "                NResults.add(ent1)\n",
    "            else:\n",
    "                continue\n",
    "\n",
    "print(NResults)"
   ]
  },
  {
   "cell_type": "code",
   "execution_count": 238,
   "metadata": {},
   "outputs": [
    {
     "name": "stdout",
     "output_type": "stream",
     "text": [
      "{'its', 'our'}\n"
     ]
    }
   ],
   "source": [
    "NTarget = 'PRP$'\n",
    "Word = 'cyberspace'\n",
    "NResults = set()\n",
    "for entry in speechesDF['POS-sents'][0:31]:\n",
    "    for sentence in entry:\n",
    "        for (ent1, kind1),(ent2,kind2) in zip(sentence[:-1], sentence[1:]):\n",
    "            if (kind1,ent2.lower())==(NTarget,Word):\n",
    "                NResults.add(ent1)\n",
    "            else:\n",
    "                continue\n",
    "\n",
    "print(NResults)"
   ]
  },
  {
   "cell_type": "code",
   "execution_count": 241,
   "metadata": {},
   "outputs": [
    {
     "name": "stdout",
     "output_type": "stream",
     "text": [
      "{'our'}\n"
     ]
    }
   ],
   "source": [
    "NTarget = 'PRP$'\n",
    "Word = 'cyberspace'\n",
    "NResults = set()\n",
    "for entry in speechesDF['POS-sents'][32:42]:\n",
    "    for sentence in entry:\n",
    "        for (ent1, kind1),(ent2,kind2) in zip(sentence[:-1], sentence[1:]):\n",
    "            if (kind1,ent2.lower())==(NTarget,Word):\n",
    "                NResults.add(ent1)\n",
    "            else:\n",
    "                continue\n",
    "\n",
    "print(NResults)"
   ]
  },
  {
   "cell_type": "code",
   "execution_count": 244,
   "metadata": {
    "collapsed": true
   },
   "outputs": [],
   "source": [
    "import networkx as nx"
   ]
  },
  {
   "cell_type": "code",
   "execution_count": null,
   "metadata": {
    "collapsed": true
   },
   "outputs": [],
   "source": []
  }
 ],
 "metadata": {
  "kernelspec": {
   "display_name": "Python 3",
   "language": "python",
   "name": "python3"
  },
  "language_info": {
   "codemirror_mode": {
    "name": "ipython",
    "version": 3
   },
   "file_extension": ".py",
   "mimetype": "text/x-python",
   "name": "python",
   "nbconvert_exporter": "python",
   "pygments_lexer": "ipython3",
   "version": "3.6.3"
  }
 },
 "nbformat": 4,
 "nbformat_minor": 2
}
