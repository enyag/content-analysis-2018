{
 "cells": [
  {
   "cell_type": "markdown",
   "metadata": {},
   "source": [
    "# Week 5 - Sampling & Reliability\n",
    "\n",
    "Up until this week, we have assumed that the corpus you have used for analysis assignments represented a *meaningful* assemblage of texts from which reasonable inferences could be drawn about the social game, social world and social actors that produced it. This week, we ask you to articulate what your sample represents in context of your final project, and draw upon methods we have developed over the last three weeks to draw reasonable and representative samples. \n",
    "\n",
    "This week we also pivot from our recent work on unsupervized machine learning approaches to explore how we can get *human* readings of content at scale. We want to gather and utilize human responses for several reasons. First, we may want to use crowdsourced human scores as the primary method of coding, extracting or organizing content (as it was in the two of the assigned readings). Second, we may want to validate or tune a computational algorithm we may have developed in terms of how it is associated with human meanings or experience. Finally, we may want to use human coding on a sample of data as the basis for training a model or algorithm to then extrapolate *human-like* annotations to the entire population. Here intelligent sampling is critical to maximize effective maching training. \n",
    "\n",
    "For this notebook we will be using the following packages"
   ]
  },
  {
   "cell_type": "code",
   "execution_count": 4,
   "metadata": {
    "collapsed": true
   },
   "outputs": [],
   "source": [
    "#Special module written for this class\n",
    "#This provides access to data and to helper functions from previous weeks\n",
    "#Make sure you update it before starting this notebook\n",
    "import lucem_illud #pip install -U git+git://github.com/Computational-Content-Analysis-2018/lucem_illud.git\n",
    "\n",
    "#All these packages need to be installed from pip\n",
    "import numpy as np #For arrays\n",
    "import scipy as sp #For some stats\n",
    "import pandas #Gives us DataFrames\n",
    "import matplotlib.pyplot as plt #For graphics\n",
    "import seaborn #Makes the graphics look nicer\n",
    "import pyanno #On python3 make sure to pip install pyanno3\n",
    "\n",
    "#We need to import these this way due to how pyanno is setup\n",
    "from pyanno.measures import pairwise_matrix, agreement, cohens_kappa, cohens_weighted_kappa, fleiss_kappa, krippendorffs_alpha, pearsons_rho, scotts_pi, spearmans_rho\n",
    "from pyanno.annotations import AnnotationsContainer\n",
    "from pyanno.models import ModelA, ModelBt, ModelB\n",
    "\n",
    "from functools import reduce\n",
    "from itertools import permutations\n",
    "import math\n",
    "\n",
    "\n",
    "#This 'magic' command makes the plots work better\n",
    "#in the notebook, don't use it outside of a notebook.\n",
    "#Also you can ignore the warning\n",
    "%matplotlib inline\n",
    "\n",
    "import os #For looking through files\n",
    "import os.path #For managing file paths"
   ]
  },
  {
   "cell_type": "markdown",
   "metadata": {},
   "source": [
    "## <span style=\"color:red\">*Pitch Your Project*</span>\n",
    "\n",
    "<span style=\"color:red\">In the three cells immediately following, describe **WHAT** you are planning to analyze for your final project (i.e., texts, contexts and the social game, world and actors you intend to learn about through your analysis) (<200 words), **WHY** you are going to do it (i.e., why would theory and/or the average person benefit from knowing the results of your investigation) (<200 words), and **HOW** you plan to investigate it (i.e., what are the approaches and operations you plan to perform, in sequence, to yield this insight) (<400 words)."
   ]
  },
  {
   "cell_type": "markdown",
   "metadata": {},
   "source": [
    "## ***What?*** \n",
    "For my final project I will be looking at a corpus of New York Times articles that contain the word cyber. The idea is to look at a corpus of articles from a span of ten years, and analyze how over time the discourse on cyber, particularly that related to security, has changed. Additionally, I will consider other aspects of cyber, such as its relation to \"popular\" trends such as Cyber Monday, have also evolved over time. "
   ]
  },
  {
   "cell_type": "markdown",
   "metadata": {},
   "source": [
    "## ***Why?***\n",
    "The concept of cyber is relatively new, and as a result has been rapidly changing in recent years. While its been linked to popular trends such as \"Cyber Monday\", I am particularly interested in its relation to securitization. There are various international relations theories on how an issue becomes securitized, and discourse usually has an important role in this. As such, by analyzing the change in discourse on cybersecurity, I hope to provide futher insight into how this new and quickly evolving phenomena is entering the realm of security. "
   ]
  },
  {
   "cell_type": "markdown",
   "metadata": {},
   "source": [
    "## ***How?***\n",
    "I have recently downloaded an overall corpus that I will be basing my research on. This corpus contains all New York Times articles that mention \"cyber\" from the past ten years. The corpus contains close to 2,000 articles. If given enough time, I will attempt to add a couple more years to the corpus; However, given that this has been a slowly developing project, and I have had many challenges developing this corpus, I am satisfied with the current conditions of the corpus. I hope to be able to apply methods to the overall corpus, in addition to sub-sections of the corpus. Specifically, given my particular interest in cyber as it relates to security, I will apply methods to parts of the corpus that are more related to security than others. To do so, I will rely on clustering, as it will provide me with the tools to break up the corpus into different sub-groups."
   ]
  },
  {
   "cell_type": "markdown",
   "metadata": {},
   "source": [
    "## <span style=\"color:red\">*Pitch Your Sample*</span>\n",
    "\n",
    "<span style=\"color:red\">In the cell immediately following, describe the rationale behind your proposed sample design for your final project. What is the social game, social work, or social actors you about whom you are seeking to make inferences? What are its virtues with respect to your research questions? What are its limitations? What are alternatives? What would be a reasonable path to \"scale up\" your sample for further analysis (i.e., high-profile publication)? (<200 words)."
   ]
  },
  {
   "cell_type": "markdown",
   "metadata": {},
   "source": [
    "## ***Which (words)?***\n",
    "Using New York Times articles is representative of a unique actor within the realm of international relations. While they include information, in a supposedly unbiased manner, related to government officials and state actors, they are also inevitably linked to the general public. In many ways, the serve as a bridge between the two types of actors. As such, I am aware that much of the discourse I will look at will be initially based on an effort to represent facts, rather than opinion. However, as facts develop, so does the discourse revolving around how to describe those facts. This change will inform the securitization of \"cyber\". I will specifically look at patterns surrounding the use of the word cyber, as well as broader analysis of the corpus, particulalry that related to clustering. "
   ]
  },
  {
   "cell_type": "markdown",
   "metadata": {},
   "source": [
    "## <span style=\"color:red\">*Exercise 1*</span>\n",
    "\n",
    "<span style=\"color:red\">In the cells immediately following, demonstrate three approaches drawn from any of the last three weeks to create subsamples of your corpus (e.g., for crowd-sourced subcoding like we'll be doing this week). Methods of subsampling include (a) corpus linguistic approaches drawing on word presence or co-presence, conditional frequencies, weighted words (e.g., tf.idf), KL or JS divergences, etc.; (b) hierarchical or flat clustering approaches; (c) topic modeling; or (d) word-embedding. (<200 words)."
   ]
  },
  {
   "cell_type": "markdown",
   "metadata": {},
   "source": [
    "I spent a significant amount of time this week finalizing my corpus. As I'm sure you have noticed, I was having a really hard time developing my corpus, which as a result produced lackluster homework assignments for the last few weeks. This week, I spent more time reviewing HW 1 and applying it to a new data set. As such, in order to spend more time on the significant portions of this week's homework - maingly, the sampling aspects - I decided to use Exercise 1 as efficiently as possible. As you will see, I have limited it to mainly clustering, and reducing it to methods related to HW 3. I will continue to expand upon this with my new corpus, but this week I aimed to priotize Exercise 2 and 3, involving Mechanical Turk, as well as the supplement from 4th week. "
   ]
  },
  {
   "cell_type": "code",
   "execution_count": 5,
   "metadata": {},
   "outputs": [],
   "source": [
    "nytCorpus = pandas.read_csv('/Users/Enya/Desktop/content-analysis-2018/nytFull.csv')"
   ]
  },
  {
   "cell_type": "code",
   "execution_count": 12,
   "metadata": {},
   "outputs": [
    {
     "name": "stdout",
     "output_type": "stream",
     "text": [
      "                                                article                  date\n",
      "0     Blogs                                      (Bi...    : January 6 2014  \n",
      "1         Gabriel Vaughn, the commando turned human ...   : January 10 2014  \n",
      "2         WASHINGTON -- The National Security Agency...   : January 15 2014  \n",
      "3         TOKYO -- An arms race between the two most...   : January 17 2014  \n",
      "4         Following is the text of President Obama's...   : January 18 2014  \n",
      "5         WASHINGTON -- Google, which briefly consid...   : January 22 2014  \n",
      "6         If the Air Force cheating scandal disclose...   : January 20 2014  \n",
      "7         WASHINGTON -- The heads of the House and S...   : January 20 2014  \n",
      "8     Blogs                                (You're t...   : January 21 2014  \n",
      "9     Blogs                                      (Bi...   : January 22 2014  \n",
      "10        WASHINGTON -- A three-year study by the Pe...   : January 24 2014  \n",
      "11    Blogs                                    (Deal...   : January 24 2014  \n",
      "12    Blogs                                    (Deal...   : January 27 2014  \n",
      "13        Nearly six years after the financial crisi...   : January 28 2014  \n",
      "14    Blogs                                   (In Tr...   : January 29 2014  \n",
      "15    Blogs                                    (Arts...   : January 29 2014  \n",
      "16        Saying he wanted to avoid turning the tria...   : January 30 2014  \n",
      "17        WASHINGTON -- In nominating Vice Adm. Mich...   : January 31 2014  \n",
      "18    Blogs                         (The New York Ti...   : January 31 2014  \n",
      "19        Data breaches at Target and Neiman Marcus ...  : February 12 2014  \n",
      "20    Blogs                                   (In Tr...  : February 14 2014  \n",
      "21    Blogs                                   (Sinos...  : February 20 2014  \n",
      "22        WASHINGTON -- Not long after the uprising ...  : February 25 2014  \n",
      "23        CAMBRIDGE, Mass. -- THE conventional wisdo...  : February 26 2014  \n",
      "24         HIGHLIGHT: The Lunchbox,\" by Ritesh Batra...   : February 7 2017  \n",
      "25    Blogs                                   (India...  : February 28 2014  \n",
      "26        If anyone can make you root for the murder...      : March 2 2014  \n",
      "27        WASHINGTON -- Despite rising anxiety over ...      : March 3 2014  \n",
      "28        WASHINGTON -- Gen. Keith B. Alexander, the...      : March 5 2014  \n",
      "29        A French convert to Islam was convicted of...      : March 6 2014  \n",
      "...                                                 ...                   ...\n",
      "1922      Following is a transcript of the ''underca...   : October 29 2015  \n",
      "1923      The notices arrived in employee mailboxes:...  : November 18 2015  \n",
      "1924      THE BIG BOOK OF SHERLOCK HOLMES STORIESEdi...   : November 1 2015  \n",
      "1925      WASHINGTON --  A case about false informat...   : November 3 2015  \n",
      "1926      After a long period of quiet, the price of...   : November 5 2015  \n",
      "1927      These days, the programs being announced b...   : November 8 2015  \n",
      "1928      Billing it as the largest hacking case eve...  : November 11 2015  \n",
      "1929      Following is a transcript of the main Repu...  : November 11 2015  \n",
      "1930  Blogs                                      (Ne...  : November 11 2015  \n",
      "1931  Blogs                                      (We...  : November 18 2015  \n",
      "1932  Blogs                                      (We...  : November 18 2015  \n",
      "1933      If you are watching computer-generated may...  : November 17 2015  \n",
      "1934      As every American knows, after the turkey ...  : November 22 2015  \n",
      "1935      Last year on the Friday after Thanksgiving...  : November 24 2015  \n",
      "1936      WASHINGTON --  Four months after a histori...  : November 25 2015  \n",
      "1937  Blogs                                   (Dot E...  : November 25 2015  \n",
      "1938      In 1939, the nation's largest retailers se...  : November 26 2015  \n",
      "1939      Before lining up at a retail store or firi...  : November 26 2015  \n",
      "1940      Early one weekend morning in January 2014,...  : November 29 2015  \n",
      "1941      If the lines at Target or Macy's this Blac...  : November 30 2015  \n",
      "1942      Cyber Monday, the online version of Black ...   : December 1 2015  \n",
      "1943  Blogs                                  (Opinio...   : December 1 2015  \n",
      "1944      Something about the Council of Senior Cent...   : December 2 2015  \n",
      "1945      A federal appeals court declined on Thursd...   : December 4 2015  \n",
      "1946  Blogs                                    (Word...  : December 10 2015  \n",
      "1947      PHILADELPHIA --  Keenan Reynolds never cam...  : December 11 2015  \n",
      "1948      Tiny School, Bold Idea  In last week's Big...  : December 13 2015  \n",
      "1949      Following is a transcript of the main Repu...  : December 16 2015  \n",
      "1950      Why go through all the fuss and bother of ...  : December 20 2015  \n",
      "1951      George Osborne, the British chancellor of ...  : December 25 2015  \n",
      "\n",
      "[1952 rows x 2 columns]\n"
     ]
    }
   ],
   "source": [
    "print (nytCorpus)"
   ]
  },
  {
   "cell_type": "code",
   "execution_count": 6,
   "metadata": {
    "collapsed": true
   },
   "outputs": [],
   "source": [
    "import requests #for http requests\n",
    "import nltk #the Natural Language Toolkit\n",
    "import pandas #gives us DataFrames\n",
    "import matplotlib.pyplot as plt #For graphics\n",
    "import matplotlib.cm #Still for graphics\n",
    "import seaborn as sns #Makes the graphics look nicer\n",
    "import wordcloud #Makes word clouds\n",
    "import numpy as np #For divergences/distances\n",
    "import scipy #For divergences/distances\n",
    "import seaborn as sns #makes our plots look nicer\n",
    "import sklearn\n",
    "import sklearn.feature_extraction.text\n",
    "import sklearn.pipeline\n",
    "import sklearn.preprocessing\n",
    "import sklearn.datasets\n",
    "import sklearn.cluster\n",
    "import sklearn.decomposition\n",
    "import sklearn.metrics\n",
    "import sklearn.manifold #For a manifold plot\n",
    "from nltk.corpus import stopwords #For stopwords\n",
    "import json #For API responses\n",
    "import urllib.parse #For joining urls\n",
    "import gensim #For topic modeling"
   ]
  },
  {
   "cell_type": "code",
   "execution_count": 7,
   "metadata": {
    "collapsed": true
   },
   "outputs": [],
   "source": [
    "nytCorpus['tokenized-article'] = nytCorpus.apply(lambda row: nltk.word_tokenize(row['article']), axis=1)"
   ]
  },
  {
   "cell_type": "code",
   "execution_count": 8,
   "metadata": {},
   "outputs": [
    {
     "data": {
      "text/plain": [
       "[(',', 145850),\n",
       " ('the', 115434),\n",
       " ('.', 110114),\n",
       " ('to', 62330),\n",
       " ('of', 59576),\n",
       " ('a', 54399),\n",
       " ('and', 53770),\n",
       " ('in', 40227),\n",
       " ('[', 36516),\n",
       " (']', 36516),\n",
       " ('#', 36461),\n",
       " ('that', 32631),\n",
       " (\"'s\", 25461),\n",
       " (\"''\", 25006),\n",
       " (':', 23341),\n",
       " ('is', 21357),\n",
       " ('on', 19559),\n",
       " ('for', 19499),\n",
       " ('it', 15197),\n",
       " ('with', 14438),\n",
       " ('was', 13809),\n",
       " ('The', 13335),\n",
       " ('said', 12918),\n",
       " ('I', 12215),\n",
       " ('as', 11847),\n",
       " ('Mr.', 11395),\n",
       " ('have', 11349),\n",
       " ('at', 11090),\n",
       " ('are', 10630),\n",
       " ('by', 10384),\n",
       " ('be', 10290),\n",
       " ('--', 10062),\n",
       " ('he', 9998),\n",
       " ('not', 9808),\n",
       " (')', 9622),\n",
       " ('(', 9584),\n",
       " ('an', 9465),\n",
       " ('from', 9331),\n",
       " ('you', 9321),\n",
       " ('has', 8906),\n",
       " ('``', 8298),\n",
       " ('they', 7388),\n",
       " ('who', 7338),\n",
       " ('this', 7310),\n",
       " ('we', 7282),\n",
       " ('or', 7275),\n",
       " ('about', 7202),\n",
       " ('his', 7117),\n",
       " ('had', 6332),\n",
       " ('their', 6191),\n",
       " (\"n't\", 5859),\n",
       " ('more', 5854),\n",
       " ('would', 5613),\n",
       " ('its', 5604),\n",
       " ('but', 5429),\n",
       " ('do', 5292),\n",
       " ('?', 5244),\n",
       " ('will', 5231),\n",
       " ('\\\\xD0', 5172),\n",
       " ('been', 5121),\n",
       " ('were', 5002),\n",
       " ('But', 4901),\n",
       " ('one', 4813),\n",
       " ('which', 4784),\n",
       " ('can', 4412),\n",
       " ('what', 4283),\n",
       " ('x43e', 4260),\n",
       " ('like', 4213),\n",
       " ('And', 4135),\n",
       " ('people', 4081),\n",
       " ('up', 4036),\n",
       " ('$', 3894),\n",
       " ('our', 3870),\n",
       " ('out', 3865),\n",
       " ('In', 3774),\n",
       " ('It', 3742),\n",
       " ('than', 3708),\n",
       " ('United', 3648),\n",
       " ('all', 3584),\n",
       " ('when', 3511),\n",
       " ('also', 3504),\n",
       " ('x435', 3489),\n",
       " (';', 3451),\n",
       " ('into', 3432),\n",
       " ('States', 3373),\n",
       " ('other', 3364),\n",
       " ('there', 3334),\n",
       " ('x438', 3325),\n",
       " ('American', 3311),\n",
       " ('them', 3272),\n",
       " ('her', 3266),\n",
       " ('some', 3247),\n",
       " ('x430', 3165),\n",
       " ('new', 3114),\n",
       " ('could', 3105),\n",
       " ('if', 3062),\n",
       " ('A', 2998),\n",
       " ('security', 2967),\n",
       " ('so', 2966),\n",
       " ('government', 2964),\n",
       " ('Trump', 2955),\n",
       " ('year', 2946),\n",
       " ('time', 2820),\n",
       " ('just', 2794),\n",
       " ('she', 2756),\n",
       " ('did', 2725),\n",
       " ('over', 2714),\n",
       " ('how', 2696),\n",
       " (\"'re\", 2683),\n",
       " ('last', 2634),\n",
       " ('He', 2618),\n",
       " ('after', 2608),\n",
       " ('no', 2579),\n",
       " ('x442', 2528),\n",
       " ('·', 2508),\n",
       " ('years', 2488),\n",
       " ('because', 2487),\n",
       " ('your', 2459),\n",
       " ('China', 2448),\n",
       " (\"'\", 2438),\n",
       " ('most', 2406),\n",
       " ('two', 2345),\n",
       " ('now', 2339),\n",
       " ('We', 2292),\n",
       " ('first', 2272),\n",
       " ('say', 2266),\n",
       " ('North', 2241),\n",
       " ('x441', 2235),\n",
       " ('Obama', 2221),\n",
       " ('online', 2204),\n",
       " ('my', 2170),\n",
       " ('even', 2131),\n",
       " ('make', 2124),\n",
       " ('get', 2114),\n",
       " ('world', 2098),\n",
       " ('know', 2098),\n",
       " ('only', 2097),\n",
       " ('New', 2095),\n",
       " ('company', 2076),\n",
       " ('many', 2068),\n",
       " ('those', 2065),\n",
       " ('president', 2044),\n",
       " ('any', 2040),\n",
       " ('-', 2032),\n",
       " ('computer', 1983),\n",
       " ('x440', 1968),\n",
       " ('country', 1966),\n",
       " ('information', 1965),\n",
       " ('him', 1955),\n",
       " ('ENGLISH', 1953),\n",
       " ('LOAD-DATE', 1952),\n",
       " ('LANGUAGE', 1952),\n",
       " ('PUBLICATION-TYPE', 1951),\n",
       " ('me', 1934),\n",
       " ('officials', 1926),\n",
       " ('way', 1924),\n",
       " ('think', 1904),\n",
       " ('where', 1895),\n",
       " ('going', 1891),\n",
       " ('against', 1881),\n",
       " ('intelligence', 1843),\n",
       " ('before', 1835),\n",
       " ('That', 1823),\n",
       " ('This', 1815),\n",
       " ('percent', 1807),\n",
       " ('may', 1798),\n",
       " ('should', 1786),\n",
       " ('much', 1785),\n",
       " ('very', 1780),\n",
       " ('Web', 1777),\n",
       " ('Ms.', 1769),\n",
       " ('through', 1736),\n",
       " ('military', 1716),\n",
       " ('companies', 1673),\n",
       " ('want', 1665),\n",
       " ('x432', 1664),\n",
       " ('Russia', 1663),\n",
       " ('made', 1650),\n",
       " ('attacks', 1620),\n",
       " ('back', 1620),\n",
       " ('work', 1598),\n",
       " ('They', 1593),\n",
       " ('attack', 1585),\n",
       " ('President', 1564),\n",
       " ('use', 1562),\n",
       " ('these', 1562),\n",
       " ('Internet', 1552),\n",
       " (\"'ve\", 1548),\n",
       " ('Russian', 1527),\n",
       " ('us', 1499),\n",
       " ('including', 1492),\n",
       " ('x43a', 1488),\n",
       " ('...', 1475),\n",
       " ('Chinese', 1473),\n",
       " ('nuclear', 1473),\n",
       " ('day', 1473),\n",
       " ('being', 1465),\n",
       " ('used', 1462),\n",
       " ('then', 1458),\n",
       " ('You', 1437)]"
      ]
     },
     "execution_count": 8,
     "metadata": {},
     "output_type": "execute_result"
    }
   ],
   "source": [
    "countsDict = {}\n",
    "for word in nytCorpus['tokenized-article'].sum():\n",
    "    if word in countsDict:\n",
    "        countsDict[word] +=1\n",
    "    else:\n",
    "        countsDict[word] =1\n",
    "word_counts = sorted(countsDict.items(), key = lambda x : x[1], reverse = True)\n",
    "word_counts[:200]"
   ]
  },
  {
   "cell_type": "markdown",
   "metadata": {},
   "source": [
    "Word Count Vectors"
   ]
  },
  {
   "cell_type": "code",
   "execution_count": 9,
   "metadata": {},
   "outputs": [
    {
     "name": "stdout",
     "output_type": "stream",
     "text": [
      "(1952, 54277)\n"
     ]
    }
   ],
   "source": [
    "#First it needs to be initialized\n",
    "nytCountVectorizer = sklearn.feature_extraction.text.CountVectorizer()\n",
    "nytVects = nytCountVectorizer.fit_transform(nytCorpus['article'])\n",
    "print(nytVects.shape)"
   ]
  },
  {
   "cell_type": "code",
   "execution_count": 10,
   "metadata": {},
   "outputs": [
    {
     "data": {
      "text/plain": [
       "12597"
      ]
     },
     "execution_count": 10,
     "metadata": {},
     "output_type": "execute_result"
    }
   ],
   "source": [
    "nytCountVectorizer.vocabulary_.get('cyberspace')"
   ]
  },
  {
   "cell_type": "code",
   "execution_count": 11,
   "metadata": {},
   "outputs": [
    {
     "name": "stdout",
     "output_type": "stream",
     "text": [
      "(1952, 54277)\n"
     ]
    }
   ],
   "source": [
    "#initialize\n",
    "nytTFTransformer = sklearn.feature_extraction.text.TfidfTransformer().fit(nytVects)\n",
    "#train\n",
    "nytTF = nytTFTransformer.transform(nytVects)\n",
    "print(nytTF.shape)"
   ]
  },
  {
   "cell_type": "code",
   "execution_count": 12,
   "metadata": {},
   "outputs": [
    {
     "data": {
      "text/plain": [
       "[('blogs', 0.020435635294312207),\n",
       " ('bits', 0.029250144053687147),\n",
       " ('highlight', 0.016756894537129953),\n",
       " ('palo', 0.3361598151900464),\n",
       " ('alto', 0.3285859832236995),\n",
       " ('networks', 0.165726580899064),\n",
       " ('has', 0.030603925122319162),\n",
       " ('acquired', 0.08164754299869989),\n",
       " ('morta', 0.3478837627611025),\n",
       " ('security', 0.2564173460140077),\n",
       " ('silicon', 0.13319175417157098),\n",
       " ('valley', 0.12783294989948377),\n",
       " ('start', 0.06330004425494012),\n",
       " ('up', 0.03542143052452713),\n",
       " ('run', 0.04524456876428658),\n",
       " ('by', 0.037828894066321894),\n",
       " ('former', 0.03598838352926722),\n",
       " ('employees', 0.057094556748949726),\n",
       " ('of', 0.1242490513282417),\n",
       " ('the', 0.23004041583886242),\n",
       " ('national', 0.03229161333572668),\n",
       " ('agency', 0.04093876654594465),\n",
       " ('and', 0.10655373283800713),\n",
       " ('united', 0.03065085336548207),\n",
       " ('states', 0.03007515234525378),\n",
       " ('air', 0.05143544888883928),\n",
       " ('force', 0.048820037449433515),\n",
       " ('it', 0.018827285516128896),\n",
       " ('8217', 0.038854510543410326),\n",
       " ('second', 0.04503010474862569)]"
      ]
     },
     "execution_count": 12,
     "metadata": {},
     "output_type": "execute_result"
    }
   ],
   "source": [
    "list(zip(nytCountVectorizer.vocabulary_.keys(), nytTF.data))[:30]"
   ]
  },
  {
   "cell_type": "code",
   "execution_count": 13,
   "metadata": {
    "collapsed": true
   },
   "outputs": [],
   "source": [
    "nytTFVectorizer = sklearn.feature_extraction.text.TfidfVectorizer(max_df=0.2, max_features=1000, min_df=1, stop_words='english',)\n",
    "nytTFVects = nytTFVectorizer.fit_transform(nytCorpus['article'])"
   ]
  },
  {
   "cell_type": "code",
   "execution_count": 14,
   "metadata": {
    "collapsed": true
   },
   "outputs": [],
   "source": [
    "#Clustering below. Used silhouette to determine number of clusters.\n",
    "\n",
    "def plotSilhouette(n_clusters, X):\n",
    "    fig, (ax1, ax2) = plt.subplots(ncols=2, figsize = (15,5))\n",
    "    \n",
    "    ax1.set_xlim([-0.1, 1])\n",
    "    ax1.set_ylim([0, len(X) + (n_clusters + 1) * 10])\n",
    "    clusterer = sklearn.cluster.KMeans(n_clusters=n_clusters, random_state=10)\n",
    "    cluster_labels = clusterer.fit_predict(X)\n",
    "    \n",
    "    silhouette_avg = sklearn.metrics.silhouette_score(X, cluster_labels)\n",
    "\n",
    "    # Compute the silhouette scores for each sample\n",
    "    sample_silhouette_values = sklearn.metrics.silhouette_samples(X, cluster_labels)\n",
    "\n",
    "    y_lower = 10\n",
    "    \n",
    "    for i in range(n_clusters):\n",
    "        ith_cluster_silhouette_values = sample_silhouette_values[cluster_labels == i]\n",
    "\n",
    "        ith_cluster_silhouette_values.sort()\n",
    "\n",
    "        size_cluster_i = ith_cluster_silhouette_values.shape[0]\n",
    "        y_upper = y_lower + size_cluster_i\n",
    "\n",
    "        color = matplotlib.cm.spectral(float(i) / n_clusters)\n",
    "        ax1.fill_betweenx(np.arange(y_lower, y_upper),\n",
    "                          0, ith_cluster_silhouette_values,\n",
    "                          facecolor=color, edgecolor=color, alpha=0.7)\n",
    "\n",
    "        ax1.text(-0.05, y_lower + 0.5 * size_cluster_i, str(i))\n",
    "\n",
    "        y_lower = y_upper + 10\n",
    "    \n",
    "    ax1.set_title(\"The silhouette plot for the various clusters.\")\n",
    "    ax1.set_xlabel(\"The silhouette coefficient values\")\n",
    "    ax1.set_ylabel(\"Cluster label\")\n",
    "\n",
    "    ax1.axvline(x=silhouette_avg, color=\"red\", linestyle=\"--\")\n",
    "\n",
    "    ax1.set_yticks([])  # Clear the yaxis labels / ticks\n",
    "    ax1.set_xticks([-0.1, 0, 0.2, 0.4, 0.6, 0.8, 1])\n",
    "\n",
    "    # 2nd Plot showing the actual clusters formed\n",
    "    colors = matplotlib.cm.spectral(cluster_labels.astype(float) / n_clusters)\n",
    "    ax2.scatter(reduced_data[:, 0], reduced_data[:, 1], marker='.', s=30, lw=0, alpha=0.7,\n",
    "                c=colors)\n",
    "\n",
    "    # Labeling the clusters\n",
    "    centers = clusterer.cluster_centers_\n",
    "    projected_centers = pca.transform(centers)\n",
    "    # Draw white circles at cluster centers\n",
    "    ax2.scatter(projected_centers[:, 0], projected_centers[:, 1],\n",
    "                marker='o', c=\"white\", alpha=1, s=200)\n",
    "\n",
    "    for i, c in enumerate(projected_centers):\n",
    "        ax2.scatter(c[0], c[1], marker='$%d$' % i, alpha=1, s=50)\n",
    "\n",
    "    ax2.set_title(\"The visualization of the clustered data.\")\n",
    "    ax2.set_xlabel(\"PC 1\")\n",
    "    ax2.set_ylabel(\"PC 2\")\n",
    "\n",
    "    plt.suptitle((\"Silhouette analysis for KMeans clustering on sample data \"\n",
    "                  \"with n_clusters = %d\" % n_clusters),\n",
    "                 fontsize=14, fontweight='bold')\n",
    "    plt.show()\n",
    "    print(\"For n_clusters = {}, The average silhouette_score is : {:.3f}\".format(n_clusters, silhouette_avg))\n"
   ]
  },
  {
   "cell_type": "code",
   "execution_count": 15,
   "metadata": {
    "collapsed": true
   },
   "outputs": [],
   "source": [
    "PCA = sklearn.decomposition.PCA\n",
    "pca = PCA(n_components = 2).fit(nytTFVects.toarray())\n",
    "reduced_data = pca.transform(nytTFVects.toarray())"
   ]
  },
  {
   "cell_type": "code",
   "execution_count": 16,
   "metadata": {},
   "outputs": [
    {
     "data": {
      "image/png": "[encoded data removed]",
      "text/plain": [
       "<matplotlib.figure.Figure at 0x12b00f5f8>"
      ]
     },
     "metadata": {},
     "output_type": "display_data"
    },
    {
     "name": "stdout",
     "output_type": "stream",
     "text": [
      "For n_clusters = 5, The average silhouette_score is : 0.033\n"
     ]
    }
   ],
   "source": [
    "X = nytTFVects.toarray()\n",
    "plotSilhouette(5, X)"
   ]
  },
  {
   "cell_type": "code",
   "execution_count": 17,
   "metadata": {},
   "outputs": [
    {
     "data": {
      "image/png": "[encoded data removed]",
      "text/plain": [
       "<matplotlib.figure.Figure at 0x122b4d710>"
      ]
     },
     "metadata": {},
     "output_type": "display_data"
    },
    {
     "name": "stdout",
     "output_type": "stream",
     "text": [
      "For n_clusters = 10, The average silhouette_score is : 0.038\n"
     ]
    }
   ],
   "source": [
    "X = nytTFVects.toarray()\n",
    "plotSilhouette(10, X)"
   ]
  },
  {
   "cell_type": "code",
   "execution_count": 18,
   "metadata": {},
   "outputs": [
    {
     "data": {
      "image/png": "[encoded data removed]",
      "text/plain": [
       "<matplotlib.figure.Figure at 0x122bf3b70>"
      ]
     },
     "metadata": {},
     "output_type": "display_data"
    },
    {
     "name": "stdout",
     "output_type": "stream",
     "text": [
      "For n_clusters = 15, The average silhouette_score is : 0.047\n"
     ]
    }
   ],
   "source": [
    "X = nytTFVects.toarray()\n",
    "plotSilhouette(15, X)"
   ]
  },
  {
   "cell_type": "code",
   "execution_count": 22,
   "metadata": {},
   "outputs": [
    {
     "data": {
      "text/plain": [
       "KMeans(algorithm='auto', copy_x=True, init='k-means++', max_iter=300,\n",
       "    n_clusters=8, n_init=10, n_jobs=1, precompute_distances='auto',\n",
       "    random_state=None, tol=0.0001, verbose=0)"
      ]
     },
     "execution_count": 22,
     "metadata": {},
     "output_type": "execute_result"
    }
   ],
   "source": [
    "nytnumClusters = 8\n",
    "km = sklearn.cluster.KMeans(n_clusters=nytnumClusters, init='k-means++')\n",
    "km.fit(nytTFVects)"
   ]
  },
  {
   "cell_type": "code",
   "execution_count": 23,
   "metadata": {},
   "outputs": [
    {
     "name": "stdout",
     "output_type": "stream",
     "text": [
      "for our clusters:\n",
      "Homogeneity: 0.241\n",
      "Completeness: 1.000\n",
      "V-measure: 0.388\n"
     ]
    }
   ],
   "source": [
    "print(\"for our clusters:\")\n",
    "print(\"Homogeneity: {:0.3f}\".format(sklearn.metrics.homogeneity_score(nytCorpus['article'], km.labels_)))\n",
    "print(\"Completeness: {:0.3f}\".format(sklearn.metrics.completeness_score(nytCorpus['article'], km.labels_)))\n",
    "print(\"V-measure: {:0.3f}\".format(sklearn.metrics.v_measure_score(nytCorpus['article'], km.labels_)))"
   ]
  },
  {
   "cell_type": "code",
   "execution_count": 24,
   "metadata": {},
   "outputs": [
    {
     "name": "stdout",
     "output_type": "stream",
     "text": [
      "Top terms per cluster:\n",
      "Cluster 0:\n",
      " iran\n",
      " nuclear\n",
      " computers\n",
      " networks\n",
      " cybersecurity\n",
      " software\n",
      " iranian\n",
      " researchers\n",
      " pentagon\n",
      " command\n",
      "\n",
      "\n",
      "Cluster 1:\n",
      " police\n",
      " sites\n",
      " sony\n",
      " students\n",
      " google\n",
      " users\n",
      " privacy\n",
      " video\n",
      " mail\n",
      " anonymous\n",
      "\n",
      "\n",
      "Cluster 2:\n",
      " book\n",
      " film\n",
      " music\n",
      " movie\n",
      " art\n",
      " love\n",
      " novel\n",
      " books\n",
      " women\n",
      " series\n",
      "\n",
      "\n",
      "Cluster 3:\n",
      " bank\n",
      " financial\n",
      " billion\n",
      " banks\n",
      " dealbook\n",
      " jpmorgan\n",
      " firm\n",
      " firms\n",
      " credit\n",
      " businesses\n",
      "\n",
      "\n",
      "Cluster 4:\n",
      " chinese\n",
      " xi\n",
      " beijing\n",
      " economic\n",
      " asia\n",
      " theft\n",
      " hacking\n",
      " espionage\n",
      " equipment\n",
      " property\n",
      "\n",
      "\n",
      "Cluster 5:\n",
      " north\n",
      " korea\n",
      " missile\n",
      " korean\n",
      " nuclear\n",
      " kim\n",
      " trump\n",
      " missiles\n",
      " south\n",
      " test\n",
      "\n",
      "\n",
      "Cluster 6:\n",
      " shopping\n",
      " sales\n",
      " retailers\n",
      " thanksgiving\n",
      " holiday\n",
      " black\n",
      " stores\n",
      " shoppers\n",
      " deals\n",
      " retail\n",
      "\n",
      "\n",
      "Cluster 7:\n",
      " trump\n",
      " russian\n",
      " russia\n",
      " election\n",
      " putin\n",
      " clinton\n",
      " comey\n",
      " committee\n",
      " donald\n",
      " hacking\n",
      "\n",
      "\n"
     ]
    }
   ],
   "source": [
    "terms = nytTFVectorizer.get_feature_names()\n",
    "print(\"Top terms per cluster:\")\n",
    "order_centroids = km.cluster_centers_.argsort()[:, ::-1]\n",
    "for i in range(nytnumClusters):\n",
    "    print(\"Cluster %d:\" % i)\n",
    "    for ind in order_centroids[i, :10]:\n",
    "        print(' %s' % terms[ind])\n",
    "    print('\\n')"
   ]
  },
  {
   "cell_type": "code",
   "execution_count": 25,
   "metadata": {
    "collapsed": true
   },
   "outputs": [],
   "source": [
    "nytCorpus['cluster'] = km.labels_"
   ]
  },
  {
   "cell_type": "code",
   "execution_count": 26,
   "metadata": {
    "collapsed": true
   },
   "outputs": [],
   "source": [
    "nytCorpus.to_csv('nytCorpusCluster', index=False, header = True)"
   ]
  },
  {
   "cell_type": "code",
   "execution_count": 62,
   "metadata": {},
   "outputs": [
    {
     "data": {
      "text/plain": [
       "pandas.core.series.Series"
      ]
     },
     "execution_count": 62,
     "metadata": {},
     "output_type": "execute_result"
    }
   ],
   "source": [
    "type (nytCorpus['cluster'])"
   ]
  },
  {
   "cell_type": "code",
   "execution_count": 63,
   "metadata": {
    "collapsed": true
   },
   "outputs": [],
   "source": [
    "nytCorpus['cluster'] = nytCorpus['cluster'].astype(str)"
   ]
  },
  {
   "cell_type": "code",
   "execution_count": 64,
   "metadata": {
    "collapsed": true
   },
   "outputs": [],
   "source": [
    "cyberMon = nytCorpus[nytCorpus['cluster'].str.contains('3', na = False)]\n",
    "usElection = nytCorpus[nytCorpus['cluster'].str.contains('2', na = False)]\n",
    "cybersec = nytCorpus[nytCorpus['cluster'].str.contains('6', na = False)]"
   ]
  },
  {
   "cell_type": "code",
   "execution_count": 68,
   "metadata": {},
   "outputs": [
    {
     "name": "stdout",
     "output_type": "stream",
     "text": [
      "147 175 264\n"
     ]
    }
   ],
   "source": [
    "print (len(cyberMon), len(usElection), len(cybersec))"
   ]
  },
  {
   "cell_type": "code",
   "execution_count": null,
   "metadata": {
    "collapsed": true
   },
   "outputs": [],
   "source": [
    "# articles from cyberMon: 158, 392, 1118, 1935\n",
    "# usElection: 679, 1335, 1433, 1607\n",
    "# cybersec: 51, 857, 1128, 1834"
   ]
  },
  {
   "cell_type": "markdown",
   "metadata": {},
   "source": [
    "For my survey I decided to use excerpts from the random speeches above and ask the responders what category (based on the clusters I initially found) the excerpts best fit. I used the code (in hashtag below) to obtain the text to then copy and paste into the survey."
   ]
  },
  {
   "cell_type": "code",
   "execution_count": null,
   "metadata": {
    "collapsed": true
   },
   "outputs": [],
   "source": [
    "#nytCorpus.loc[number]['article']"
   ]
  },
  {
   "cell_type": "markdown",
   "metadata": {},
   "source": [
    "# Example Annotation Dataset"
   ]
  },
  {
   "cell_type": "raw",
   "metadata": {},
   "source": [
    "# Load Rzhetsky et al (2009)'s sample dataset, which can be found [here](https://github.com/enthought/uchicago-pyanno/tree/master/data). This data is the result of a content analytic / content extraction study in which Andrey Rzhetsky and colleagues from the National Library of Medicine, published [here](http://journals.plos.org/ploscompbiol/article?id=10.1371/journal.pcbi.1000391) in [PLOS Computational Biology](http://journals.plos.org/ploscompbiol/), gave eight annotators 10,000 sentence chunks from biomedical text in biomedical abstracts and articles, then asked them, in a loop design schematically illustrated below that provided 3 independent codings for each document. The sampling strategy pursued diversity by drawing from PubMed abstracts (1000) and full-text articles (9000: 20% from abstracts, 10% from introductions, 20% from methods, 25% from results, and 25% from discussions.) The dataset extract here involves respondents codes for sentences in terms of their *Evidence*: {0, 1, 2, 3, -1} where 0 is the complete lack of evidence, 3 is direct evidence present within the sentence, and -1 is didn't respond. (They also crowdsourced and analyzed *polarity*, *certainty*, and *number*). For example, consider the following two abutting sentence chunks: *\"Because null mutations in toxR and toxT abolish CT and TcpA expression in the El Tor biotype and also attenuate virulence...\"* [i.e., average certainty = 0], *\"...it is likely that the ToxR regulon has functional similarities between the two biotypes despite the clear differences in the inducing parameters observed in vitro\"* [i.e., average certainty = 1].\""
   ]
  },
  {
   "cell_type": "code",
   "execution_count": 93,
   "metadata": {
    "collapsed": true
   },
   "outputs": [],
   "source": [
    "x = np.loadtxt(\"../data/pyAnno/testdata_numerical.txt\")\n",
    "anno = AnnotationsContainer.from_array(x, missing_values=[-1])"
   ]
  },
  {
   "cell_type": "markdown",
   "metadata": {},
   "source": [
    "Interrogate the AnnotationsContainer object."
   ]
  },
  {
   "cell_type": "code",
   "execution_count": 94,
   "metadata": {},
   "outputs": [
    {
     "data": {
      "text/plain": [
       "array([[ 1,  2,  3, ..., -1, -1, -1],\n",
       "       [ 0,  0,  0, ..., -1, -1, -1],\n",
       "       [ 2,  2,  1, ..., -1, -1, -1],\n",
       "       ...,\n",
       "       [ 2,  2, -1, ..., -1, -1,  1],\n",
       "       [ 2,  2, -1, ..., -1, -1,  3],\n",
       "       [ 1,  1, -1, ..., -1, -1,  0]])"
      ]
     },
     "execution_count": 94,
     "metadata": {},
     "output_type": "execute_result"
    }
   ],
   "source": [
    "anno.annotations"
   ]
  },
  {
   "cell_type": "code",
   "execution_count": 95,
   "metadata": {},
   "outputs": [
    {
     "data": {
      "text/plain": [
       "[1.0, 2.0, 3.0, 4.0]"
      ]
     },
     "execution_count": 95,
     "metadata": {},
     "output_type": "execute_result"
    }
   ],
   "source": [
    "anno.labels"
   ]
  },
  {
   "cell_type": "code",
   "execution_count": 96,
   "metadata": {},
   "outputs": [
    {
     "data": {
      "text/plain": [
       "[-1]"
      ]
     },
     "execution_count": 96,
     "metadata": {},
     "output_type": "execute_result"
    }
   ],
   "source": [
    "anno.missing_values"
   ]
  },
  {
   "cell_type": "markdown",
   "metadata": {},
   "source": [
    "# Annotation Statistics"
   ]
  },
  {
   "cell_type": "markdown",
   "metadata": {},
   "source": [
    "First, we assume categorical codes...that each code is qualitatively distinct from each other. Two measures are primarily used for this: Scott's $\\pi$, Cohen's $\\kappa$, and Krippendorff's $\\alpha$ which each measure the extent of agreement between two annotators, but take into account the possibility of the agreement occurring by chance in slightly different ways. Any agreement measure begins with the frequency of codes:"
   ]
  },
  {
   "cell_type": "code",
   "execution_count": null,
   "metadata": {
    "collapsed": true
   },
   "outputs": [],
   "source": [
    "pyanno.measures.agreement.labels_frequency(anno.annotations,4)"
   ]
  },
  {
   "cell_type": "markdown",
   "metadata": {},
   "source": [
    "Now consider the \"confusion matrix\" or matrix of coded agreements between any two coders:"
   ]
  },
  {
   "cell_type": "code",
   "execution_count": null,
   "metadata": {
    "collapsed": true
   },
   "outputs": [],
   "source": [
    "c = pyanno.measures.agreement.confusion_matrix(anno.annotations[:,0], anno.annotations[:,1],4)\n",
    "print(c)\n",
    "ac = seaborn.heatmap(c)\n",
    "plt.show()"
   ]
  },
  {
   "cell_type": "markdown",
   "metadata": {},
   "source": [
    "Scott's $\\pi$ is computed as:\n",
    "\n",
    "$\\pi = \\frac{\\text{Pr}(a)-\\text{Pr}(e)}{1-\\text{Pr}(e)}$\n",
    "\n",
    "Where Pr($a$) is relative observed agreement, and Pr($e$) is expected agreement using joint proportions calculated from the confusion matrix or matrix of coded agreements between any two coders:"
   ]
  },
  {
   "cell_type": "code",
   "execution_count": null,
   "metadata": {
    "collapsed": true
   },
   "outputs": [],
   "source": [
    "scotts_pi(anno.annotations[:,0], anno.annotations[:,1])"
   ]
  },
  {
   "cell_type": "markdown",
   "metadata": {},
   "source": [
    "The generalization of Scott's $\\pi$ to $n$ coders is Fleiss' $\\kappa$ (Fleiss called it $\\kappa$ because he thought he was generalizing Cohen's $\\kappa$)"
   ]
  },
  {
   "cell_type": "code",
   "execution_count": null,
   "metadata": {
    "collapsed": true
   },
   "outputs": [],
   "source": [
    "fleiss_kappa(anno.annotations[::])"
   ]
  },
  {
   "cell_type": "markdown",
   "metadata": {},
   "source": [
    "Krippendorff's $\\alpha$ generalizes of Fleiss' $\\kappa$ to $n$ coders and takes into account the fact that annotations here are not categorically different, but ordinal, by adding a weight matrix in which off-diagonal cells contain weights indicating the seriousness of the disagreement between each score. When produced with no arguments, it simply produces an arithmetic distance (e.g., 3-1=2), such that cells one off the diagonal are weighted 1, two off 2, etc."
   ]
  },
  {
   "cell_type": "code",
   "execution_count": null,
   "metadata": {
    "collapsed": true
   },
   "outputs": [],
   "source": [
    "krippendorffs_alpha(anno.annotations[::])"
   ]
  },
  {
   "cell_type": "markdown",
   "metadata": {},
   "source": [
    "Like Scott's $\\pi$, Cohen's $\\kappa$ also takes into account the possibility of the agreement occurring by chance, but in the following way:\n",
    "\n",
    "$\\kappa = \\frac{p_o-p_e}{1-p_e}=1-\\frac{1-p_o}{p_e}$\n",
    "\n",
    "where $p_o$ is the relative observed agreement among raters, and $p_e$ is the hypothetical probability of chance agreement, using the observed data to calculate the probabilities of each observer randomly saying each category. If the raters are in complete agreement then $\\kappa = 1$. If there is no agreement among the raters other than what would be expected by chance (as given by $p_e$), $\\kappa ≤ 0 $. Here, Cohen's $\\kappa$ statistic for the first two annotators is computed. This is probably the most common metric of agreement."
   ]
  },
  {
   "cell_type": "code",
   "execution_count": null,
   "metadata": {
    "collapsed": true
   },
   "outputs": [],
   "source": [
    "cohens_kappa(anno.annotations[:,0], anno.annotations[:,1])"
   ]
  },
  {
   "cell_type": "code",
   "execution_count": null,
   "metadata": {
    "collapsed": true
   },
   "outputs": [],
   "source": [
    "m = pairwise_matrix(cohens_kappa, anno.annotations)\n",
    "print(m)"
   ]
  },
  {
   "cell_type": "code",
   "execution_count": null,
   "metadata": {
    "collapsed": true
   },
   "outputs": [],
   "source": [
    "ax = seaborn.heatmap(m)\n",
    "plt.show()"
   ]
  },
  {
   "cell_type": "markdown",
   "metadata": {},
   "source": [
    "You can see that this 8 by 3 loop design will be less stable than an 8 choose 3 combinatorial design, because each codes with more others. "
   ]
  },
  {
   "cell_type": "markdown",
   "metadata": {},
   "source": [
    "One can also assess the average Cohen's $\\kappa$ for all pairs of coders that have coded against one another:"
   ]
  },
  {
   "cell_type": "code",
   "execution_count": null,
   "metadata": {
    "collapsed": true
   },
   "outputs": [],
   "source": [
    "def pairwise_metric_average(metric, array):\n",
    "    \"\"\"Calculate the pairwise metric average for the real elements of metric function run on an array of annotations\"\"\"\n",
    "    p = permutations(range(array[0,:].size),2)\n",
    "    m = [metric(array[:,x[0]], array[:,x[1]]) for x in p]\n",
    "    clean_m = [c for c in m if not math.isnan(c)]\n",
    "    return reduce(lambda a, b: a + b, clean_m)/len(clean_m)    \n",
    " \n",
    "pairwise_metric_average(cohens_kappa, anno.annotations)"
   ]
  },
  {
   "cell_type": "markdown",
   "metadata": {},
   "source": [
    "As recognized with Krippendorff's flexible $\\alpha$, our scores are *not* categorical, but rather ordered and her considered metric. Weighted $\\kappa$ allows you to count disagreements differently and is useful when codes are ordered as they are here. Here a weight matrix is added to the calculation, in which off-diagonal cells contain weights indicating the seriousness of the disagreement between each score. When automatically produced, it simply produces an arithmetic distance (e.g., 3-1=2), such that cells one off the diagonal are weighted 1, two off 2, etc. Here\n",
    "\n",
    "$\\kappa = 1-\\frac{\\sum^k_{i=1}\\sum^k_{j=1}w_{ij}x_{ij}}{\\sum^k_{i=1}\\sum^k_{j=1}w_{ij}m_{ij}}$\n",
    "\n",
    "where $\\kappa$ = $n$ codes and $w_{ij}$,$x_{ij}$, and $m_{ij}$ represent elements in the weight, observed, and expected matrices, respectively. (Obviously, when diagonal cells contain weights of 0 and off-diagonal cells weights of 1, this equals $\\kappa$)."
   ]
  },
  {
   "cell_type": "code",
   "execution_count": null,
   "metadata": {
    "collapsed": true
   },
   "outputs": [],
   "source": [
    "cohens_weighted_kappa(anno.annotations[:,0], anno.annotations[:,1])"
   ]
  },
  {
   "cell_type": "markdown",
   "metadata": {},
   "source": [
    "Or averaged over the total:"
   ]
  },
  {
   "cell_type": "code",
   "execution_count": null,
   "metadata": {
    "collapsed": true
   },
   "outputs": [],
   "source": [
    "pairwise_metric_average(cohens_weighted_kappa,anno.annotations)"
   ]
  },
  {
   "cell_type": "markdown",
   "metadata": {},
   "source": [
    "Alternatively, if the annontation data can be understood as indicating real values, we can assess not agreement, but rather the correlation of values (Pearson's $\\rho$) or correlation of ranks (Spearman's $\\rho$) for pairs of coders:"
   ]
  },
  {
   "cell_type": "code",
   "execution_count": null,
   "metadata": {
    "collapsed": true
   },
   "outputs": [],
   "source": [
    "n = pairwise_matrix(pearsons_rho, anno.annotations)\n",
    "m = pairwise_matrix(spearmans_rho, anno.annotations)\n",
    "an = seaborn.heatmap(n)\n",
    "plt.show()\n",
    "am = seaborn.heatmap(m)\n",
    "plt.show()"
   ]
  },
  {
   "cell_type": "markdown",
   "metadata": {},
   "source": [
    "Or averaged over all comparable pairs:"
   ]
  },
  {
   "cell_type": "code",
   "execution_count": null,
   "metadata": {
    "collapsed": true
   },
   "outputs": [],
   "source": [
    "print(pairwise_metric_average(pearsons_rho,anno.annotations), pairwise_metric_average(spearmans_rho,anno.annotations))"
   ]
  },
  {
   "cell_type": "markdown",
   "metadata": {},
   "source": [
    "## <span style=\"color:red\">*Excercise 2*</span>\n",
    "\n",
    "<span style=\"color:red\">Perform a content annotation survey of some kind in which at least 3 people evaluate and code each piece of content, using Amazon Mechanical Turk as described in the MTurk slides on this week's Canvas page.  With the resulting data, calculate, visualize and discuss inter-coder agreement or covariation with appropriate metrics. What does this means for the reliability of human assessments regarding content in your domain?"
   ]
  },
  {
   "cell_type": "code",
   "execution_count": 118,
   "metadata": {
    "collapsed": true
   },
   "outputs": [],
   "source": [
    "mturkResultsDF = pandas.read_csv(\"../5-Reliability/mturkCyber_results.csv\")"
   ]
  },
  {
   "cell_type": "code",
   "execution_count": 119,
   "metadata": {},
   "outputs": [
    {
     "data": {
      "text/html": [
       "<div>\n",
       "<style scoped>\n",
       "    .dataframe tbody tr th:only-of-type {\n",
       "        vertical-align: middle;\n",
       "    }\n",
       "\n",
       "    .dataframe tbody tr th {\n",
       "        vertical-align: top;\n",
       "    }\n",
       "\n",
       "    .dataframe thead th {\n",
       "        text-align: right;\n",
       "    }\n",
       "</style>\n",
       "<table border=\"1\" class=\"dataframe\">\n",
       "  <thead>\n",
       "    <tr style=\"text-align: right;\">\n",
       "      <th></th>\n",
       "      <th>Answer.Topic</th>\n",
       "      <th>Answer.Topic1</th>\n",
       "      <th>Answer.Topic10</th>\n",
       "      <th>Answer.Topic11</th>\n",
       "      <th>Answer.Topic12</th>\n",
       "      <th>Answer.Topic2</th>\n",
       "      <th>Answer.Topic3</th>\n",
       "      <th>Answer.Topic4</th>\n",
       "      <th>Answer.Topic5</th>\n",
       "      <th>Answer.Topic6</th>\n",
       "      <th>Answer.Topic7</th>\n",
       "      <th>Answer.Topic8</th>\n",
       "      <th>Answer.Topic9</th>\n",
       "    </tr>\n",
       "  </thead>\n",
       "  <tbody>\n",
       "    <tr>\n",
       "      <th>0</th>\n",
       "      <td>Other, NOT Cyber</td>\n",
       "      <td>Other, NOT Cyber</td>\n",
       "      <td>Other, Cyber</td>\n",
       "      <td>Other, NOT Cyber</td>\n",
       "      <td>Security</td>\n",
       "      <td>Other, Cyber</td>\n",
       "      <td>Other, Cyber</td>\n",
       "      <td>Other, NOT Cyber</td>\n",
       "      <td>Other, NOT Cyber</td>\n",
       "      <td>Security</td>\n",
       "      <td>Other, NOT Cyber</td>\n",
       "      <td>Other, NOT Cyber</td>\n",
       "      <td>Other, NOT Cyber</td>\n",
       "    </tr>\n",
       "    <tr>\n",
       "      <th>1</th>\n",
       "      <td>Other, NOT Cyber</td>\n",
       "      <td>U.S. 2016 Election</td>\n",
       "      <td>Security</td>\n",
       "      <td>U.S. 2016 Election</td>\n",
       "      <td>Cyber Monday</td>\n",
       "      <td>Security</td>\n",
       "      <td>Cyber Monday</td>\n",
       "      <td>U.S. 2016 Election</td>\n",
       "      <td>U.S. 2016 Election</td>\n",
       "      <td>Security</td>\n",
       "      <td>U.S. 2016 Election</td>\n",
       "      <td>Security</td>\n",
       "      <td>Other, NOT Cyber</td>\n",
       "    </tr>\n",
       "    <tr>\n",
       "      <th>2</th>\n",
       "      <td>Other, NOT Cyber</td>\n",
       "      <td>U.S. 2016 Election</td>\n",
       "      <td>U.S. 2016 Election</td>\n",
       "      <td>U.S. 2016 Election</td>\n",
       "      <td>U.S. 2016 Election</td>\n",
       "      <td>Security</td>\n",
       "      <td>U.S. 2016 Election</td>\n",
       "      <td>Cyber Monday</td>\n",
       "      <td>U.S. 2016 Election</td>\n",
       "      <td>Security</td>\n",
       "      <td>Cyber Monday</td>\n",
       "      <td>Security</td>\n",
       "      <td>U.S. 2016 Election</td>\n",
       "    </tr>\n",
       "    <tr>\n",
       "      <th>3</th>\n",
       "      <td>Other, NOT Cyber</td>\n",
       "      <td>Other, Cyber</td>\n",
       "      <td>Other, NOT Cyber</td>\n",
       "      <td>Cyber Monday</td>\n",
       "      <td>Cyber Monday</td>\n",
       "      <td>Security</td>\n",
       "      <td>Other, Cyber</td>\n",
       "      <td>U.S. 2016 Election</td>\n",
       "      <td>U.S. 2016 Election</td>\n",
       "      <td>Security</td>\n",
       "      <td>Other, NOT Cyber</td>\n",
       "      <td>Security</td>\n",
       "      <td>Cyber Monday</td>\n",
       "    </tr>\n",
       "    <tr>\n",
       "      <th>4</th>\n",
       "      <td>Other, NOT Cyber</td>\n",
       "      <td>Other, NOT Cyber</td>\n",
       "      <td>Security</td>\n",
       "      <td>Other, NOT Cyber</td>\n",
       "      <td>Security</td>\n",
       "      <td>Other, Cyber</td>\n",
       "      <td>Security</td>\n",
       "      <td>Security</td>\n",
       "      <td>Other, NOT Cyber</td>\n",
       "      <td>Cyber Monday</td>\n",
       "      <td>Other, NOT Cyber</td>\n",
       "      <td>Other, NOT Cyber</td>\n",
       "      <td>U.S. 2016 Election</td>\n",
       "    </tr>\n",
       "    <tr>\n",
       "      <th>5</th>\n",
       "      <td>Other, NOT Cyber</td>\n",
       "      <td>Other, NOT Cyber</td>\n",
       "      <td>U.S. 2016 Election</td>\n",
       "      <td>Cyber Monday</td>\n",
       "      <td>Security</td>\n",
       "      <td>Security</td>\n",
       "      <td>Security</td>\n",
       "      <td>Security</td>\n",
       "      <td>U.S. 2016 Election</td>\n",
       "      <td>Security</td>\n",
       "      <td>U.S. 2016 Election</td>\n",
       "      <td>Cyber Monday</td>\n",
       "      <td>Cyber Monday</td>\n",
       "    </tr>\n",
       "    <tr>\n",
       "      <th>6</th>\n",
       "      <td>Other, NOT Cyber</td>\n",
       "      <td>Other, NOT Cyber</td>\n",
       "      <td>Other, NOT Cyber</td>\n",
       "      <td>Other, NOT Cyber</td>\n",
       "      <td>Security</td>\n",
       "      <td>Other, Cyber</td>\n",
       "      <td>Other, Cyber</td>\n",
       "      <td>Other, NOT Cyber</td>\n",
       "      <td>Other, NOT Cyber</td>\n",
       "      <td>Security</td>\n",
       "      <td>Other, Cyber</td>\n",
       "      <td>Other, NOT Cyber</td>\n",
       "      <td>Other, NOT Cyber</td>\n",
       "    </tr>\n",
       "    <tr>\n",
       "      <th>7</th>\n",
       "      <td>Other, NOT Cyber</td>\n",
       "      <td>U.S. 2016 Election</td>\n",
       "      <td>Cyber Monday</td>\n",
       "      <td>Security</td>\n",
       "      <td>Security</td>\n",
       "      <td>Cyber Monday</td>\n",
       "      <td>U.S. 2016 Election</td>\n",
       "      <td>Cyber Monday</td>\n",
       "      <td>Cyber Monday</td>\n",
       "      <td>Security</td>\n",
       "      <td>U.S. 2016 Election</td>\n",
       "      <td>U.S. 2016 Election</td>\n",
       "      <td>Cyber Monday</td>\n",
       "    </tr>\n",
       "    <tr>\n",
       "      <th>8</th>\n",
       "      <td>Other, NOT Cyber</td>\n",
       "      <td>Security</td>\n",
       "      <td>Security</td>\n",
       "      <td>Cyber Monday</td>\n",
       "      <td>Cyber Monday</td>\n",
       "      <td>Cyber Monday</td>\n",
       "      <td>U.S. 2016 Election</td>\n",
       "      <td>Cyber Monday</td>\n",
       "      <td>Other, Cyber</td>\n",
       "      <td>U.S. 2016 Election</td>\n",
       "      <td>Security</td>\n",
       "      <td>Cyber Monday</td>\n",
       "      <td>Other, Cyber</td>\n",
       "    </tr>\n",
       "    <tr>\n",
       "      <th>9</th>\n",
       "      <td>Other, NOT Cyber</td>\n",
       "      <td>Other, NOT Cyber</td>\n",
       "      <td>Other, NOT Cyber</td>\n",
       "      <td>Cyber Monday</td>\n",
       "      <td>Other, Cyber</td>\n",
       "      <td>Security</td>\n",
       "      <td>Security</td>\n",
       "      <td>Other, NOT Cyber</td>\n",
       "      <td>Other, NOT Cyber</td>\n",
       "      <td>Other, Cyber</td>\n",
       "      <td>Other, NOT Cyber</td>\n",
       "      <td>Cyber Monday</td>\n",
       "      <td>Cyber Monday</td>\n",
       "    </tr>\n",
       "    <tr>\n",
       "      <th>10</th>\n",
       "      <td>Other, NOT Cyber</td>\n",
       "      <td>Cyber Monday</td>\n",
       "      <td>Cyber Monday</td>\n",
       "      <td>Other, Cyber</td>\n",
       "      <td>Other, Cyber</td>\n",
       "      <td>Security</td>\n",
       "      <td>U.S. 2016 Election</td>\n",
       "      <td>Other, NOT Cyber</td>\n",
       "      <td>Other, Cyber</td>\n",
       "      <td>Cyber Monday</td>\n",
       "      <td>Security</td>\n",
       "      <td>Other, Cyber</td>\n",
       "      <td>Cyber Monday</td>\n",
       "    </tr>\n",
       "    <tr>\n",
       "      <th>11</th>\n",
       "      <td>Other, NOT Cyber</td>\n",
       "      <td>Other, NOT Cyber</td>\n",
       "      <td>Security</td>\n",
       "      <td>Cyber Monday</td>\n",
       "      <td>Security</td>\n",
       "      <td>Security</td>\n",
       "      <td>Security</td>\n",
       "      <td>Other, NOT Cyber</td>\n",
       "      <td>Other, NOT Cyber</td>\n",
       "      <td>Security</td>\n",
       "      <td>U.S. 2016 Election</td>\n",
       "      <td>Other, Cyber</td>\n",
       "      <td>Other, Cyber</td>\n",
       "    </tr>\n",
       "    <tr>\n",
       "      <th>12</th>\n",
       "      <td>Other, NOT Cyber</td>\n",
       "      <td>Other, Cyber</td>\n",
       "      <td>Security</td>\n",
       "      <td>Security</td>\n",
       "      <td>Other, Cyber</td>\n",
       "      <td>Other, Cyber</td>\n",
       "      <td>Security</td>\n",
       "      <td>Other, Cyber</td>\n",
       "      <td>Security</td>\n",
       "      <td>Other, Cyber</td>\n",
       "      <td>Security</td>\n",
       "      <td>Cyber Monday</td>\n",
       "      <td>Security</td>\n",
       "    </tr>\n",
       "    <tr>\n",
       "      <th>13</th>\n",
       "      <td>Other, NOT Cyber</td>\n",
       "      <td>Security</td>\n",
       "      <td>Security</td>\n",
       "      <td>Security</td>\n",
       "      <td>U.S. 2016 Election</td>\n",
       "      <td>Cyber Monday</td>\n",
       "      <td>Cyber Monday</td>\n",
       "      <td>Other, Cyber</td>\n",
       "      <td>Other, Cyber</td>\n",
       "      <td>Security</td>\n",
       "      <td>Security</td>\n",
       "      <td>U.S. 2016 Election</td>\n",
       "      <td>Cyber Monday</td>\n",
       "    </tr>\n",
       "    <tr>\n",
       "      <th>14</th>\n",
       "      <td>Other, NOT Cyber</td>\n",
       "      <td>Security</td>\n",
       "      <td>Security</td>\n",
       "      <td>Cyber Monday</td>\n",
       "      <td>U.S. 2016 Election</td>\n",
       "      <td>Other, Cyber</td>\n",
       "      <td>Security</td>\n",
       "      <td>Other, NOT Cyber</td>\n",
       "      <td>U.S. 2016 Election</td>\n",
       "      <td>Other, Cyber</td>\n",
       "      <td>Cyber Monday</td>\n",
       "      <td>Other, NOT Cyber</td>\n",
       "      <td>Other, Cyber</td>\n",
       "    </tr>\n",
       "    <tr>\n",
       "      <th>15</th>\n",
       "      <td>Other, NOT Cyber</td>\n",
       "      <td>Other, NOT Cyber</td>\n",
       "      <td>U.S. 2016 Election</td>\n",
       "      <td>Cyber Monday</td>\n",
       "      <td>Security</td>\n",
       "      <td>Other, Cyber</td>\n",
       "      <td>Security</td>\n",
       "      <td>Security</td>\n",
       "      <td>U.S. 2016 Election</td>\n",
       "      <td>Security</td>\n",
       "      <td>Other, Cyber</td>\n",
       "      <td>Other, NOT Cyber</td>\n",
       "      <td>Cyber Monday</td>\n",
       "    </tr>\n",
       "    <tr>\n",
       "      <th>16</th>\n",
       "      <td>Other, NOT Cyber</td>\n",
       "      <td>Other, NOT Cyber</td>\n",
       "      <td>U.S. 2016 Election</td>\n",
       "      <td>Other, NOT Cyber</td>\n",
       "      <td>Other, Cyber</td>\n",
       "      <td>Other, Cyber</td>\n",
       "      <td>Other, Cyber</td>\n",
       "      <td>Other, NOT Cyber</td>\n",
       "      <td>U.S. 2016 Election</td>\n",
       "      <td>Other, Cyber</td>\n",
       "      <td>Other, NOT Cyber</td>\n",
       "      <td>Other, NOT Cyber</td>\n",
       "      <td>Cyber Monday</td>\n",
       "    </tr>\n",
       "    <tr>\n",
       "      <th>17</th>\n",
       "      <td>Other, NOT Cyber</td>\n",
       "      <td>Security</td>\n",
       "      <td>U.S. 2016 Election</td>\n",
       "      <td>Other, Cyber</td>\n",
       "      <td>Cyber Monday</td>\n",
       "      <td>Cyber Monday</td>\n",
       "      <td>Cyber Monday</td>\n",
       "      <td>U.S. 2016 Election</td>\n",
       "      <td>Other, Cyber</td>\n",
       "      <td>Cyber Monday</td>\n",
       "      <td>Other, Cyber</td>\n",
       "      <td>Security</td>\n",
       "      <td>Other, Cyber</td>\n",
       "    </tr>\n",
       "    <tr>\n",
       "      <th>18</th>\n",
       "      <td>Other, NOT Cyber</td>\n",
       "      <td>Other, NOT Cyber</td>\n",
       "      <td>U.S. 2016 Election</td>\n",
       "      <td>Other, NOT Cyber</td>\n",
       "      <td>Other, Cyber</td>\n",
       "      <td>Other, Cyber</td>\n",
       "      <td>Security</td>\n",
       "      <td>Security</td>\n",
       "      <td>U.S. 2016 Election</td>\n",
       "      <td>Other, Cyber</td>\n",
       "      <td>U.S. 2016 Election</td>\n",
       "      <td>Other, NOT Cyber</td>\n",
       "      <td>Other, NOT Cyber</td>\n",
       "    </tr>\n",
       "    <tr>\n",
       "      <th>19</th>\n",
       "      <td>Other, NOT Cyber</td>\n",
       "      <td>Other, NOT Cyber</td>\n",
       "      <td>Security</td>\n",
       "      <td>Other, NOT Cyber</td>\n",
       "      <td>Security</td>\n",
       "      <td>Other, Cyber</td>\n",
       "      <td>Security</td>\n",
       "      <td>Security</td>\n",
       "      <td>Other, NOT Cyber</td>\n",
       "      <td>Cyber Monday</td>\n",
       "      <td>Other, NOT Cyber</td>\n",
       "      <td>Other, NOT Cyber</td>\n",
       "      <td>U.S. 2016 Election</td>\n",
       "    </tr>\n",
       "    <tr>\n",
       "      <th>20</th>\n",
       "      <td>Other, NOT Cyber</td>\n",
       "      <td>Security</td>\n",
       "      <td>Other, Cyber</td>\n",
       "      <td>Cyber Monday</td>\n",
       "      <td>Other, Cyber</td>\n",
       "      <td>Other, Cyber</td>\n",
       "      <td>Other, Cyber</td>\n",
       "      <td>Other, NOT Cyber</td>\n",
       "      <td>U.S. 2016 Election</td>\n",
       "      <td>Other, Cyber</td>\n",
       "      <td>Security</td>\n",
       "      <td>Cyber Monday</td>\n",
       "      <td>Cyber Monday</td>\n",
       "    </tr>\n",
       "    <tr>\n",
       "      <th>21</th>\n",
       "      <td>Other, NOT Cyber</td>\n",
       "      <td>Other, NOT Cyber</td>\n",
       "      <td>Security</td>\n",
       "      <td>Other, NOT Cyber</td>\n",
       "      <td>Other, Cyber</td>\n",
       "      <td>Security</td>\n",
       "      <td>Security</td>\n",
       "      <td>Other, NOT Cyber</td>\n",
       "      <td>U.S. 2016 Election</td>\n",
       "      <td>Other, Cyber</td>\n",
       "      <td>Other, NOT Cyber</td>\n",
       "      <td>Other, NOT Cyber</td>\n",
       "      <td>Other, Cyber</td>\n",
       "    </tr>\n",
       "    <tr>\n",
       "      <th>22</th>\n",
       "      <td>Other, NOT Cyber</td>\n",
       "      <td>U.S. 2016 Election</td>\n",
       "      <td>Other, Cyber</td>\n",
       "      <td>Other, NOT Cyber</td>\n",
       "      <td>Other, Cyber</td>\n",
       "      <td>Security</td>\n",
       "      <td>Cyber Monday</td>\n",
       "      <td>Other, NOT Cyber</td>\n",
       "      <td>U.S. 2016 Election</td>\n",
       "      <td>Other, Cyber</td>\n",
       "      <td>Cyber Monday</td>\n",
       "      <td>Other, NOT Cyber</td>\n",
       "      <td>Other, Cyber</td>\n",
       "    </tr>\n",
       "    <tr>\n",
       "      <th>23</th>\n",
       "      <td>Other, NOT Cyber</td>\n",
       "      <td>Other, Cyber</td>\n",
       "      <td>Other, NOT Cyber</td>\n",
       "      <td>Other, NOT Cyber</td>\n",
       "      <td>U.S. 2016 Election</td>\n",
       "      <td>Cyber Monday</td>\n",
       "      <td>Other, Cyber</td>\n",
       "      <td>Security</td>\n",
       "      <td>U.S. 2016 Election</td>\n",
       "      <td>Other, Cyber</td>\n",
       "      <td>Security</td>\n",
       "      <td>Cyber Monday</td>\n",
       "      <td>Security</td>\n",
       "    </tr>\n",
       "    <tr>\n",
       "      <th>24</th>\n",
       "      <td>Other, NOT Cyber</td>\n",
       "      <td>Other, NOT Cyber</td>\n",
       "      <td>Security</td>\n",
       "      <td>Cyber Monday</td>\n",
       "      <td>Security</td>\n",
       "      <td>Other, Cyber</td>\n",
       "      <td>Other, Cyber</td>\n",
       "      <td>Security</td>\n",
       "      <td>U.S. 2016 Election</td>\n",
       "      <td>Other, Cyber</td>\n",
       "      <td>Security</td>\n",
       "      <td>Other, NOT Cyber</td>\n",
       "      <td>Other, Cyber</td>\n",
       "    </tr>\n",
       "    <tr>\n",
       "      <th>25</th>\n",
       "      <td>Other, NOT Cyber</td>\n",
       "      <td>Other, NOT Cyber</td>\n",
       "      <td>Other, Cyber</td>\n",
       "      <td>U.S. 2016 Election</td>\n",
       "      <td>U.S. 2016 Election</td>\n",
       "      <td>Other, Cyber</td>\n",
       "      <td>Security</td>\n",
       "      <td>Other, Cyber</td>\n",
       "      <td>U.S. 2016 Election</td>\n",
       "      <td>Security</td>\n",
       "      <td>Cyber Monday</td>\n",
       "      <td>Cyber Monday</td>\n",
       "      <td>Other, Cyber</td>\n",
       "    </tr>\n",
       "    <tr>\n",
       "      <th>26</th>\n",
       "      <td>NaN</td>\n",
       "      <td>Other, NOT Cyber</td>\n",
       "      <td>Security</td>\n",
       "      <td>Other, NOT Cyber</td>\n",
       "      <td>Security</td>\n",
       "      <td>Other, Cyber</td>\n",
       "      <td>Security</td>\n",
       "      <td>Security</td>\n",
       "      <td>Other, NOT Cyber</td>\n",
       "      <td>Cyber Monday</td>\n",
       "      <td>Other, NOT Cyber</td>\n",
       "      <td>Other, NOT Cyber</td>\n",
       "      <td>U.S. 2016 Election</td>\n",
       "    </tr>\n",
       "    <tr>\n",
       "      <th>27</th>\n",
       "      <td>Other, NOT Cyber</td>\n",
       "      <td>Other, Cyber</td>\n",
       "      <td>Other, NOT Cyber</td>\n",
       "      <td>Other, NOT Cyber</td>\n",
       "      <td>Security</td>\n",
       "      <td>Security</td>\n",
       "      <td>U.S. 2016 Election</td>\n",
       "      <td>Cyber Monday</td>\n",
       "      <td>U.S. 2016 Election</td>\n",
       "      <td>Other, Cyber</td>\n",
       "      <td>Security</td>\n",
       "      <td>Cyber Monday</td>\n",
       "      <td>Other, NOT Cyber</td>\n",
       "    </tr>\n",
       "    <tr>\n",
       "      <th>28</th>\n",
       "      <td>Other, NOT Cyber</td>\n",
       "      <td>Cyber Monday</td>\n",
       "      <td>Security</td>\n",
       "      <td>Other, NOT Cyber</td>\n",
       "      <td>Other, Cyber</td>\n",
       "      <td>Security</td>\n",
       "      <td>Other, Cyber</td>\n",
       "      <td>Security</td>\n",
       "      <td>U.S. 2016 Election</td>\n",
       "      <td>Other, Cyber</td>\n",
       "      <td>Security</td>\n",
       "      <td>Other, NOT Cyber</td>\n",
       "      <td>Cyber Monday</td>\n",
       "    </tr>\n",
       "    <tr>\n",
       "      <th>29</th>\n",
       "      <td>Other, NOT Cyber</td>\n",
       "      <td>Other, NOT Cyber</td>\n",
       "      <td>Other, Cyber</td>\n",
       "      <td>Cyber Monday</td>\n",
       "      <td>Security</td>\n",
       "      <td>Other, Cyber</td>\n",
       "      <td>Other, Cyber</td>\n",
       "      <td>Security</td>\n",
       "      <td>U.S. 2016 Election</td>\n",
       "      <td>Other, Cyber</td>\n",
       "      <td>U.S. 2016 Election</td>\n",
       "      <td>Other, NOT Cyber</td>\n",
       "      <td>Other, Cyber</td>\n",
       "    </tr>\n",
       "    <tr>\n",
       "      <th>30</th>\n",
       "      <td>Other, NOT Cyber</td>\n",
       "      <td>Other, NOT Cyber</td>\n",
       "      <td>U.S. 2016 Election</td>\n",
       "      <td>Cyber Monday</td>\n",
       "      <td>Security</td>\n",
       "      <td>Security</td>\n",
       "      <td>Other, Cyber</td>\n",
       "      <td>Other, NOT Cyber</td>\n",
       "      <td>U.S. 2016 Election</td>\n",
       "      <td>Security</td>\n",
       "      <td>U.S. 2016 Election</td>\n",
       "      <td>Cyber Monday</td>\n",
       "      <td>Cyber Monday</td>\n",
       "    </tr>\n",
       "    <tr>\n",
       "      <th>31</th>\n",
       "      <td>Other, NOT Cyber</td>\n",
       "      <td>Other, NOT Cyber</td>\n",
       "      <td>U.S. 2016 Election</td>\n",
       "      <td>Cyber Monday</td>\n",
       "      <td>U.S. 2016 Election</td>\n",
       "      <td>Security</td>\n",
       "      <td>U.S. 2016 Election</td>\n",
       "      <td>Other, NOT Cyber</td>\n",
       "      <td>U.S. 2016 Election</td>\n",
       "      <td>Security</td>\n",
       "      <td>U.S. 2016 Election</td>\n",
       "      <td>Cyber Monday</td>\n",
       "      <td>Cyber Monday</td>\n",
       "    </tr>\n",
       "    <tr>\n",
       "      <th>32</th>\n",
       "      <td>Other, NOT Cyber</td>\n",
       "      <td>Other, NOT Cyber</td>\n",
       "      <td>Security</td>\n",
       "      <td>Cyber Monday</td>\n",
       "      <td>Security</td>\n",
       "      <td>Other, Cyber</td>\n",
       "      <td>Security</td>\n",
       "      <td>Other, NOT Cyber</td>\n",
       "      <td>Other, NOT Cyber</td>\n",
       "      <td>Security</td>\n",
       "      <td>Other, NOT Cyber</td>\n",
       "      <td>Cyber Monday</td>\n",
       "      <td>Cyber Monday</td>\n",
       "    </tr>\n",
       "    <tr>\n",
       "      <th>33</th>\n",
       "      <td>Other, NOT Cyber</td>\n",
       "      <td>Other, Cyber</td>\n",
       "      <td>Other, Cyber</td>\n",
       "      <td>Cyber Monday</td>\n",
       "      <td>Other, Cyber</td>\n",
       "      <td>Other, Cyber</td>\n",
       "      <td>Other, Cyber</td>\n",
       "      <td>Other, Cyber</td>\n",
       "      <td>Other, Cyber</td>\n",
       "      <td>Other, Cyber</td>\n",
       "      <td>Cyber Monday</td>\n",
       "      <td>Other, Cyber</td>\n",
       "      <td>Cyber Monday</td>\n",
       "    </tr>\n",
       "    <tr>\n",
       "      <th>34</th>\n",
       "      <td>Other, NOT Cyber</td>\n",
       "      <td>Other, NOT Cyber</td>\n",
       "      <td>Security</td>\n",
       "      <td>Cyber Monday</td>\n",
       "      <td>Cyber Monday</td>\n",
       "      <td>Cyber Monday</td>\n",
       "      <td>U.S. 2016 Election</td>\n",
       "      <td>Security</td>\n",
       "      <td>U.S. 2016 Election</td>\n",
       "      <td>Cyber Monday</td>\n",
       "      <td>Other, NOT Cyber</td>\n",
       "      <td>Cyber Monday</td>\n",
       "      <td>Other, Cyber</td>\n",
       "    </tr>\n",
       "    <tr>\n",
       "      <th>35</th>\n",
       "      <td>Other, NOT Cyber</td>\n",
       "      <td>Other, NOT Cyber</td>\n",
       "      <td>Security</td>\n",
       "      <td>Cyber Monday</td>\n",
       "      <td>Security</td>\n",
       "      <td>Security</td>\n",
       "      <td>Other, Cyber</td>\n",
       "      <td>Other, NOT Cyber</td>\n",
       "      <td>U.S. 2016 Election</td>\n",
       "      <td>Other, Cyber</td>\n",
       "      <td>Other, NOT Cyber</td>\n",
       "      <td>Other, NOT Cyber</td>\n",
       "      <td>Other, NOT Cyber</td>\n",
       "    </tr>\n",
       "    <tr>\n",
       "      <th>36</th>\n",
       "      <td>Other, NOT Cyber</td>\n",
       "      <td>Other, NOT Cyber</td>\n",
       "      <td>Security</td>\n",
       "      <td>U.S. 2016 Election</td>\n",
       "      <td>Security</td>\n",
       "      <td>Other, Cyber</td>\n",
       "      <td>Cyber Monday</td>\n",
       "      <td>Security</td>\n",
       "      <td>U.S. 2016 Election</td>\n",
       "      <td>Other, Cyber</td>\n",
       "      <td>Security</td>\n",
       "      <td>Other, NOT Cyber</td>\n",
       "      <td>Other, Cyber</td>\n",
       "    </tr>\n",
       "    <tr>\n",
       "      <th>37</th>\n",
       "      <td>Other, NOT Cyber</td>\n",
       "      <td>Other, NOT Cyber</td>\n",
       "      <td>Security</td>\n",
       "      <td>Security</td>\n",
       "      <td>Other, Cyber</td>\n",
       "      <td>Security</td>\n",
       "      <td>Cyber Monday</td>\n",
       "      <td>Other, Cyber</td>\n",
       "      <td>Other, NOT Cyber</td>\n",
       "      <td>Cyber Monday</td>\n",
       "      <td>Cyber Monday</td>\n",
       "      <td>Other, NOT Cyber</td>\n",
       "      <td>Other, NOT Cyber</td>\n",
       "    </tr>\n",
       "    <tr>\n",
       "      <th>38</th>\n",
       "      <td>Other, NOT Cyber</td>\n",
       "      <td>Other, NOT Cyber</td>\n",
       "      <td>U.S. 2016 Election</td>\n",
       "      <td>Cyber Monday</td>\n",
       "      <td>Security</td>\n",
       "      <td>Security</td>\n",
       "      <td>Security</td>\n",
       "      <td>Other, NOT Cyber</td>\n",
       "      <td>U.S. 2016 Election</td>\n",
       "      <td>Security</td>\n",
       "      <td>Other, NOT Cyber</td>\n",
       "      <td>Cyber Monday</td>\n",
       "      <td>Cyber Monday</td>\n",
       "    </tr>\n",
       "    <tr>\n",
       "      <th>39</th>\n",
       "      <td>Other, NOT Cyber</td>\n",
       "      <td>Other, Cyber</td>\n",
       "      <td>Cyber Monday</td>\n",
       "      <td>Cyber Monday</td>\n",
       "      <td>U.S. 2016 Election</td>\n",
       "      <td>Cyber Monday</td>\n",
       "      <td>Cyber Monday</td>\n",
       "      <td>Security</td>\n",
       "      <td>U.S. 2016 Election</td>\n",
       "      <td>Other, NOT Cyber</td>\n",
       "      <td>Cyber Monday</td>\n",
       "      <td>Security</td>\n",
       "      <td>U.S. 2016 Election</td>\n",
       "    </tr>\n",
       "    <tr>\n",
       "      <th>40</th>\n",
       "      <td>Other, NOT Cyber</td>\n",
       "      <td>Other, NOT Cyber</td>\n",
       "      <td>Security</td>\n",
       "      <td>Cyber Monday</td>\n",
       "      <td>Security</td>\n",
       "      <td>Other, Cyber</td>\n",
       "      <td>U.S. 2016 Election</td>\n",
       "      <td>Other, NOT Cyber</td>\n",
       "      <td>U.S. 2016 Election</td>\n",
       "      <td>Security</td>\n",
       "      <td>U.S. 2016 Election</td>\n",
       "      <td>Cyber Monday</td>\n",
       "      <td>Cyber Monday</td>\n",
       "    </tr>\n",
       "    <tr>\n",
       "      <th>41</th>\n",
       "      <td>Other, NOT Cyber</td>\n",
       "      <td>Other, NOT Cyber</td>\n",
       "      <td>Other, Cyber</td>\n",
       "      <td>Cyber Monday</td>\n",
       "      <td>Other, Cyber</td>\n",
       "      <td>Other, Cyber</td>\n",
       "      <td>Other, Cyber</td>\n",
       "      <td>Security</td>\n",
       "      <td>U.S. 2016 Election</td>\n",
       "      <td>Other, Cyber</td>\n",
       "      <td>Other, NOT Cyber</td>\n",
       "      <td>Other, NOT Cyber</td>\n",
       "      <td>Other, Cyber</td>\n",
       "    </tr>\n",
       "    <tr>\n",
       "      <th>42</th>\n",
       "      <td>Other, NOT Cyber</td>\n",
       "      <td>Security</td>\n",
       "      <td>Other, Cyber</td>\n",
       "      <td>Cyber Monday</td>\n",
       "      <td>Cyber Monday</td>\n",
       "      <td>Other, Cyber</td>\n",
       "      <td>Security</td>\n",
       "      <td>Other, Cyber</td>\n",
       "      <td>U.S. 2016 Election</td>\n",
       "      <td>U.S. 2016 Election</td>\n",
       "      <td>Security</td>\n",
       "      <td>Security</td>\n",
       "      <td>Cyber Monday</td>\n",
       "    </tr>\n",
       "    <tr>\n",
       "      <th>43</th>\n",
       "      <td>Other, NOT Cyber</td>\n",
       "      <td>Other, NOT Cyber</td>\n",
       "      <td>Security</td>\n",
       "      <td>Cyber Monday</td>\n",
       "      <td>Security</td>\n",
       "      <td>Security</td>\n",
       "      <td>Security</td>\n",
       "      <td>Other, NOT Cyber</td>\n",
       "      <td>U.S. 2016 Election</td>\n",
       "      <td>Security</td>\n",
       "      <td>Other, NOT Cyber</td>\n",
       "      <td>Other, NOT Cyber</td>\n",
       "      <td>Other, NOT Cyber</td>\n",
       "    </tr>\n",
       "    <tr>\n",
       "      <th>44</th>\n",
       "      <td>Other, NOT Cyber</td>\n",
       "      <td>Cyber Monday</td>\n",
       "      <td>Other, Cyber</td>\n",
       "      <td>Cyber Monday</td>\n",
       "      <td>Security</td>\n",
       "      <td>Security</td>\n",
       "      <td>Security</td>\n",
       "      <td>Cyber Monday</td>\n",
       "      <td>Security</td>\n",
       "      <td>Other, Cyber</td>\n",
       "      <td>Other, Cyber</td>\n",
       "      <td>Other, Cyber</td>\n",
       "      <td>Other, Cyber</td>\n",
       "    </tr>\n",
       "    <tr>\n",
       "      <th>45</th>\n",
       "      <td>Other, NOT Cyber</td>\n",
       "      <td>Other, NOT Cyber</td>\n",
       "      <td>Cyber Monday</td>\n",
       "      <td>Other, Cyber</td>\n",
       "      <td>Security</td>\n",
       "      <td>Cyber Monday</td>\n",
       "      <td>Cyber Monday</td>\n",
       "      <td>Other, NOT Cyber</td>\n",
       "      <td>U.S. 2016 Election</td>\n",
       "      <td>Security</td>\n",
       "      <td>Cyber Monday</td>\n",
       "      <td>Other, NOT Cyber</td>\n",
       "      <td>Other, NOT Cyber</td>\n",
       "    </tr>\n",
       "    <tr>\n",
       "      <th>46</th>\n",
       "      <td>Other, NOT Cyber</td>\n",
       "      <td>Other, NOT Cyber</td>\n",
       "      <td>Other, Cyber</td>\n",
       "      <td>Other, NOT Cyber</td>\n",
       "      <td>Cyber Monday</td>\n",
       "      <td>Other, NOT Cyber</td>\n",
       "      <td>Cyber Monday</td>\n",
       "      <td>Security</td>\n",
       "      <td>U.S. 2016 Election</td>\n",
       "      <td>Cyber Monday</td>\n",
       "      <td>Security</td>\n",
       "      <td>Other, NOT Cyber</td>\n",
       "      <td>Other, NOT Cyber</td>\n",
       "    </tr>\n",
       "    <tr>\n",
       "      <th>47</th>\n",
       "      <td>Other, NOT Cyber</td>\n",
       "      <td>Security</td>\n",
       "      <td>Cyber Monday</td>\n",
       "      <td>Cyber Monday</td>\n",
       "      <td>Cyber Monday</td>\n",
       "      <td>Cyber Monday</td>\n",
       "      <td>Cyber Monday</td>\n",
       "      <td>Other, Cyber</td>\n",
       "      <td>Cyber Monday</td>\n",
       "      <td>Other, Cyber</td>\n",
       "      <td>Other, NOT Cyber</td>\n",
       "      <td>Cyber Monday</td>\n",
       "      <td>Other, NOT Cyber</td>\n",
       "    </tr>\n",
       "    <tr>\n",
       "      <th>48</th>\n",
       "      <td>Other, NOT Cyber</td>\n",
       "      <td>Other, NOT Cyber</td>\n",
       "      <td>Security</td>\n",
       "      <td>Other, NOT Cyber</td>\n",
       "      <td>Security</td>\n",
       "      <td>Security</td>\n",
       "      <td>Security</td>\n",
       "      <td>Other, NOT Cyber</td>\n",
       "      <td>U.S. 2016 Election</td>\n",
       "      <td>Security</td>\n",
       "      <td>Security</td>\n",
       "      <td>Other, NOT Cyber</td>\n",
       "      <td>Cyber Monday</td>\n",
       "    </tr>\n",
       "    <tr>\n",
       "      <th>49</th>\n",
       "      <td>Other, NOT Cyber</td>\n",
       "      <td>Other, Cyber</td>\n",
       "      <td>Cyber Monday</td>\n",
       "      <td>Cyber Monday</td>\n",
       "      <td>Other, Cyber</td>\n",
       "      <td>Security</td>\n",
       "      <td>Other, Cyber</td>\n",
       "      <td>Security</td>\n",
       "      <td>U.S. 2016 Election</td>\n",
       "      <td>Cyber Monday</td>\n",
       "      <td>Other, NOT Cyber</td>\n",
       "      <td>Other, NOT Cyber</td>\n",
       "      <td>Other, Cyber</td>\n",
       "    </tr>\n",
       "    <tr>\n",
       "      <th>50</th>\n",
       "      <td>Other, NOT Cyber</td>\n",
       "      <td>U.S. 2016 Election</td>\n",
       "      <td>U.S. 2016 Election</td>\n",
       "      <td>Security</td>\n",
       "      <td>Security</td>\n",
       "      <td>Cyber Monday</td>\n",
       "      <td>Cyber Monday</td>\n",
       "      <td>Other, Cyber</td>\n",
       "      <td>Security</td>\n",
       "      <td>Cyber Monday</td>\n",
       "      <td>Other, Cyber</td>\n",
       "      <td>Cyber Monday</td>\n",
       "      <td>Cyber Monday</td>\n",
       "    </tr>\n",
       "    <tr>\n",
       "      <th>51</th>\n",
       "      <td>Other, NOT Cyber</td>\n",
       "      <td>Other, NOT Cyber</td>\n",
       "      <td>U.S. 2016 Election</td>\n",
       "      <td>Cyber Monday</td>\n",
       "      <td>Security</td>\n",
       "      <td>Other, Cyber</td>\n",
       "      <td>Other, Cyber</td>\n",
       "      <td>Other, NOT Cyber</td>\n",
       "      <td>U.S. 2016 Election</td>\n",
       "      <td>Security</td>\n",
       "      <td>U.S. 2016 Election</td>\n",
       "      <td>Other, NOT Cyber</td>\n",
       "      <td>Cyber Monday</td>\n",
       "    </tr>\n",
       "  </tbody>\n",
       "</table>\n",
       "</div>"
      ],
      "text/plain": [
       "        Answer.Topic       Answer.Topic1      Answer.Topic10  \\\n",
       "0   Other, NOT Cyber    Other, NOT Cyber        Other, Cyber   \n",
       "1   Other, NOT Cyber  U.S. 2016 Election            Security   \n",
       "2   Other, NOT Cyber  U.S. 2016 Election  U.S. 2016 Election   \n",
       "3   Other, NOT Cyber        Other, Cyber    Other, NOT Cyber   \n",
       "4   Other, NOT Cyber    Other, NOT Cyber            Security   \n",
       "5   Other, NOT Cyber    Other, NOT Cyber  U.S. 2016 Election   \n",
       "6   Other, NOT Cyber    Other, NOT Cyber    Other, NOT Cyber   \n",
       "7   Other, NOT Cyber  U.S. 2016 Election        Cyber Monday   \n",
       "8   Other, NOT Cyber            Security            Security   \n",
       "9   Other, NOT Cyber    Other, NOT Cyber    Other, NOT Cyber   \n",
       "10  Other, NOT Cyber        Cyber Monday        Cyber Monday   \n",
       "11  Other, NOT Cyber    Other, NOT Cyber            Security   \n",
       "12  Other, NOT Cyber        Other, Cyber            Security   \n",
       "13  Other, NOT Cyber            Security            Security   \n",
       "14  Other, NOT Cyber            Security            Security   \n",
       "15  Other, NOT Cyber    Other, NOT Cyber  U.S. 2016 Election   \n",
       "16  Other, NOT Cyber    Other, NOT Cyber  U.S. 2016 Election   \n",
       "17  Other, NOT Cyber            Security  U.S. 2016 Election   \n",
       "18  Other, NOT Cyber    Other, NOT Cyber  U.S. 2016 Election   \n",
       "19  Other, NOT Cyber    Other, NOT Cyber            Security   \n",
       "20  Other, NOT Cyber            Security        Other, Cyber   \n",
       "21  Other, NOT Cyber    Other, NOT Cyber            Security   \n",
       "22  Other, NOT Cyber  U.S. 2016 Election        Other, Cyber   \n",
       "23  Other, NOT Cyber        Other, Cyber    Other, NOT Cyber   \n",
       "24  Other, NOT Cyber    Other, NOT Cyber            Security   \n",
       "25  Other, NOT Cyber    Other, NOT Cyber        Other, Cyber   \n",
       "26               NaN    Other, NOT Cyber            Security   \n",
       "27  Other, NOT Cyber        Other, Cyber    Other, NOT Cyber   \n",
       "28  Other, NOT Cyber        Cyber Monday            Security   \n",
       "29  Other, NOT Cyber    Other, NOT Cyber        Other, Cyber   \n",
       "30  Other, NOT Cyber    Other, NOT Cyber  U.S. 2016 Election   \n",
       "31  Other, NOT Cyber    Other, NOT Cyber  U.S. 2016 Election   \n",
       "32  Other, NOT Cyber    Other, NOT Cyber            Security   \n",
       "33  Other, NOT Cyber        Other, Cyber        Other, Cyber   \n",
       "34  Other, NOT Cyber    Other, NOT Cyber            Security   \n",
       "35  Other, NOT Cyber    Other, NOT Cyber            Security   \n",
       "36  Other, NOT Cyber    Other, NOT Cyber            Security   \n",
       "37  Other, NOT Cyber    Other, NOT Cyber            Security   \n",
       "38  Other, NOT Cyber    Other, NOT Cyber  U.S. 2016 Election   \n",
       "39  Other, NOT Cyber        Other, Cyber        Cyber Monday   \n",
       "40  Other, NOT Cyber    Other, NOT Cyber            Security   \n",
       "41  Other, NOT Cyber    Other, NOT Cyber        Other, Cyber   \n",
       "42  Other, NOT Cyber            Security        Other, Cyber   \n",
       "43  Other, NOT Cyber    Other, NOT Cyber            Security   \n",
       "44  Other, NOT Cyber        Cyber Monday        Other, Cyber   \n",
       "45  Other, NOT Cyber    Other, NOT Cyber        Cyber Monday   \n",
       "46  Other, NOT Cyber    Other, NOT Cyber        Other, Cyber   \n",
       "47  Other, NOT Cyber            Security        Cyber Monday   \n",
       "48  Other, NOT Cyber    Other, NOT Cyber            Security   \n",
       "49  Other, NOT Cyber        Other, Cyber        Cyber Monday   \n",
       "50  Other, NOT Cyber  U.S. 2016 Election  U.S. 2016 Election   \n",
       "51  Other, NOT Cyber    Other, NOT Cyber  U.S. 2016 Election   \n",
       "\n",
       "        Answer.Topic11      Answer.Topic12     Answer.Topic2  \\\n",
       "0     Other, NOT Cyber            Security      Other, Cyber   \n",
       "1   U.S. 2016 Election        Cyber Monday          Security   \n",
       "2   U.S. 2016 Election  U.S. 2016 Election          Security   \n",
       "3         Cyber Monday        Cyber Monday          Security   \n",
       "4     Other, NOT Cyber            Security      Other, Cyber   \n",
       "5         Cyber Monday            Security          Security   \n",
       "6     Other, NOT Cyber            Security      Other, Cyber   \n",
       "7             Security            Security      Cyber Monday   \n",
       "8         Cyber Monday        Cyber Monday      Cyber Monday   \n",
       "9         Cyber Monday        Other, Cyber          Security   \n",
       "10        Other, Cyber        Other, Cyber          Security   \n",
       "11        Cyber Monday            Security          Security   \n",
       "12            Security        Other, Cyber      Other, Cyber   \n",
       "13            Security  U.S. 2016 Election      Cyber Monday   \n",
       "14        Cyber Monday  U.S. 2016 Election      Other, Cyber   \n",
       "15        Cyber Monday            Security      Other, Cyber   \n",
       "16    Other, NOT Cyber        Other, Cyber      Other, Cyber   \n",
       "17        Other, Cyber        Cyber Monday      Cyber Monday   \n",
       "18    Other, NOT Cyber        Other, Cyber      Other, Cyber   \n",
       "19    Other, NOT Cyber            Security      Other, Cyber   \n",
       "20        Cyber Monday        Other, Cyber      Other, Cyber   \n",
       "21    Other, NOT Cyber        Other, Cyber          Security   \n",
       "22    Other, NOT Cyber        Other, Cyber          Security   \n",
       "23    Other, NOT Cyber  U.S. 2016 Election      Cyber Monday   \n",
       "24        Cyber Monday            Security      Other, Cyber   \n",
       "25  U.S. 2016 Election  U.S. 2016 Election      Other, Cyber   \n",
       "26    Other, NOT Cyber            Security      Other, Cyber   \n",
       "27    Other, NOT Cyber            Security          Security   \n",
       "28    Other, NOT Cyber        Other, Cyber          Security   \n",
       "29        Cyber Monday            Security      Other, Cyber   \n",
       "30        Cyber Monday            Security          Security   \n",
       "31        Cyber Monday  U.S. 2016 Election          Security   \n",
       "32        Cyber Monday            Security      Other, Cyber   \n",
       "33        Cyber Monday        Other, Cyber      Other, Cyber   \n",
       "34        Cyber Monday        Cyber Monday      Cyber Monday   \n",
       "35        Cyber Monday            Security          Security   \n",
       "36  U.S. 2016 Election            Security      Other, Cyber   \n",
       "37            Security        Other, Cyber          Security   \n",
       "38        Cyber Monday            Security          Security   \n",
       "39        Cyber Monday  U.S. 2016 Election      Cyber Monday   \n",
       "40        Cyber Monday            Security      Other, Cyber   \n",
       "41        Cyber Monday        Other, Cyber      Other, Cyber   \n",
       "42        Cyber Monday        Cyber Monday      Other, Cyber   \n",
       "43        Cyber Monday            Security          Security   \n",
       "44        Cyber Monday            Security          Security   \n",
       "45        Other, Cyber            Security      Cyber Monday   \n",
       "46    Other, NOT Cyber        Cyber Monday  Other, NOT Cyber   \n",
       "47        Cyber Monday        Cyber Monday      Cyber Monday   \n",
       "48    Other, NOT Cyber            Security          Security   \n",
       "49        Cyber Monday        Other, Cyber          Security   \n",
       "50            Security            Security      Cyber Monday   \n",
       "51        Cyber Monday            Security      Other, Cyber   \n",
       "\n",
       "         Answer.Topic3       Answer.Topic4       Answer.Topic5  \\\n",
       "0         Other, Cyber    Other, NOT Cyber    Other, NOT Cyber   \n",
       "1         Cyber Monday  U.S. 2016 Election  U.S. 2016 Election   \n",
       "2   U.S. 2016 Election        Cyber Monday  U.S. 2016 Election   \n",
       "3         Other, Cyber  U.S. 2016 Election  U.S. 2016 Election   \n",
       "4             Security            Security    Other, NOT Cyber   \n",
       "5             Security            Security  U.S. 2016 Election   \n",
       "6         Other, Cyber    Other, NOT Cyber    Other, NOT Cyber   \n",
       "7   U.S. 2016 Election        Cyber Monday        Cyber Monday   \n",
       "8   U.S. 2016 Election        Cyber Monday        Other, Cyber   \n",
       "9             Security    Other, NOT Cyber    Other, NOT Cyber   \n",
       "10  U.S. 2016 Election    Other, NOT Cyber        Other, Cyber   \n",
       "11            Security    Other, NOT Cyber    Other, NOT Cyber   \n",
       "12            Security        Other, Cyber            Security   \n",
       "13        Cyber Monday        Other, Cyber        Other, Cyber   \n",
       "14            Security    Other, NOT Cyber  U.S. 2016 Election   \n",
       "15            Security            Security  U.S. 2016 Election   \n",
       "16        Other, Cyber    Other, NOT Cyber  U.S. 2016 Election   \n",
       "17        Cyber Monday  U.S. 2016 Election        Other, Cyber   \n",
       "18            Security            Security  U.S. 2016 Election   \n",
       "19            Security            Security    Other, NOT Cyber   \n",
       "20        Other, Cyber    Other, NOT Cyber  U.S. 2016 Election   \n",
       "21            Security    Other, NOT Cyber  U.S. 2016 Election   \n",
       "22        Cyber Monday    Other, NOT Cyber  U.S. 2016 Election   \n",
       "23        Other, Cyber            Security  U.S. 2016 Election   \n",
       "24        Other, Cyber            Security  U.S. 2016 Election   \n",
       "25            Security        Other, Cyber  U.S. 2016 Election   \n",
       "26            Security            Security    Other, NOT Cyber   \n",
       "27  U.S. 2016 Election        Cyber Monday  U.S. 2016 Election   \n",
       "28        Other, Cyber            Security  U.S. 2016 Election   \n",
       "29        Other, Cyber            Security  U.S. 2016 Election   \n",
       "30        Other, Cyber    Other, NOT Cyber  U.S. 2016 Election   \n",
       "31  U.S. 2016 Election    Other, NOT Cyber  U.S. 2016 Election   \n",
       "32            Security    Other, NOT Cyber    Other, NOT Cyber   \n",
       "33        Other, Cyber        Other, Cyber        Other, Cyber   \n",
       "34  U.S. 2016 Election            Security  U.S. 2016 Election   \n",
       "35        Other, Cyber    Other, NOT Cyber  U.S. 2016 Election   \n",
       "36        Cyber Monday            Security  U.S. 2016 Election   \n",
       "37        Cyber Monday        Other, Cyber    Other, NOT Cyber   \n",
       "38            Security    Other, NOT Cyber  U.S. 2016 Election   \n",
       "39        Cyber Monday            Security  U.S. 2016 Election   \n",
       "40  U.S. 2016 Election    Other, NOT Cyber  U.S. 2016 Election   \n",
       "41        Other, Cyber            Security  U.S. 2016 Election   \n",
       "42            Security        Other, Cyber  U.S. 2016 Election   \n",
       "43            Security    Other, NOT Cyber  U.S. 2016 Election   \n",
       "44            Security        Cyber Monday            Security   \n",
       "45        Cyber Monday    Other, NOT Cyber  U.S. 2016 Election   \n",
       "46        Cyber Monday            Security  U.S. 2016 Election   \n",
       "47        Cyber Monday        Other, Cyber        Cyber Monday   \n",
       "48            Security    Other, NOT Cyber  U.S. 2016 Election   \n",
       "49        Other, Cyber            Security  U.S. 2016 Election   \n",
       "50        Cyber Monday        Other, Cyber            Security   \n",
       "51        Other, Cyber    Other, NOT Cyber  U.S. 2016 Election   \n",
       "\n",
       "         Answer.Topic6       Answer.Topic7       Answer.Topic8  \\\n",
       "0             Security    Other, NOT Cyber    Other, NOT Cyber   \n",
       "1             Security  U.S. 2016 Election            Security   \n",
       "2             Security        Cyber Monday            Security   \n",
       "3             Security    Other, NOT Cyber            Security   \n",
       "4         Cyber Monday    Other, NOT Cyber    Other, NOT Cyber   \n",
       "5             Security  U.S. 2016 Election        Cyber Monday   \n",
       "6             Security        Other, Cyber    Other, NOT Cyber   \n",
       "7             Security  U.S. 2016 Election  U.S. 2016 Election   \n",
       "8   U.S. 2016 Election            Security        Cyber Monday   \n",
       "9         Other, Cyber    Other, NOT Cyber        Cyber Monday   \n",
       "10        Cyber Monday            Security        Other, Cyber   \n",
       "11            Security  U.S. 2016 Election        Other, Cyber   \n",
       "12        Other, Cyber            Security        Cyber Monday   \n",
       "13            Security            Security  U.S. 2016 Election   \n",
       "14        Other, Cyber        Cyber Monday    Other, NOT Cyber   \n",
       "15            Security        Other, Cyber    Other, NOT Cyber   \n",
       "16        Other, Cyber    Other, NOT Cyber    Other, NOT Cyber   \n",
       "17        Cyber Monday        Other, Cyber            Security   \n",
       "18        Other, Cyber  U.S. 2016 Election    Other, NOT Cyber   \n",
       "19        Cyber Monday    Other, NOT Cyber    Other, NOT Cyber   \n",
       "20        Other, Cyber            Security        Cyber Monday   \n",
       "21        Other, Cyber    Other, NOT Cyber    Other, NOT Cyber   \n",
       "22        Other, Cyber        Cyber Monday    Other, NOT Cyber   \n",
       "23        Other, Cyber            Security        Cyber Monday   \n",
       "24        Other, Cyber            Security    Other, NOT Cyber   \n",
       "25            Security        Cyber Monday        Cyber Monday   \n",
       "26        Cyber Monday    Other, NOT Cyber    Other, NOT Cyber   \n",
       "27        Other, Cyber            Security        Cyber Monday   \n",
       "28        Other, Cyber            Security    Other, NOT Cyber   \n",
       "29        Other, Cyber  U.S. 2016 Election    Other, NOT Cyber   \n",
       "30            Security  U.S. 2016 Election        Cyber Monday   \n",
       "31            Security  U.S. 2016 Election        Cyber Monday   \n",
       "32            Security    Other, NOT Cyber        Cyber Monday   \n",
       "33        Other, Cyber        Cyber Monday        Other, Cyber   \n",
       "34        Cyber Monday    Other, NOT Cyber        Cyber Monday   \n",
       "35        Other, Cyber    Other, NOT Cyber    Other, NOT Cyber   \n",
       "36        Other, Cyber            Security    Other, NOT Cyber   \n",
       "37        Cyber Monday        Cyber Monday    Other, NOT Cyber   \n",
       "38            Security    Other, NOT Cyber        Cyber Monday   \n",
       "39    Other, NOT Cyber        Cyber Monday            Security   \n",
       "40            Security  U.S. 2016 Election        Cyber Monday   \n",
       "41        Other, Cyber    Other, NOT Cyber    Other, NOT Cyber   \n",
       "42  U.S. 2016 Election            Security            Security   \n",
       "43            Security    Other, NOT Cyber    Other, NOT Cyber   \n",
       "44        Other, Cyber        Other, Cyber        Other, Cyber   \n",
       "45            Security        Cyber Monday    Other, NOT Cyber   \n",
       "46        Cyber Monday            Security    Other, NOT Cyber   \n",
       "47        Other, Cyber    Other, NOT Cyber        Cyber Monday   \n",
       "48            Security            Security    Other, NOT Cyber   \n",
       "49        Cyber Monday    Other, NOT Cyber    Other, NOT Cyber   \n",
       "50        Cyber Monday        Other, Cyber        Cyber Monday   \n",
       "51            Security  U.S. 2016 Election    Other, NOT Cyber   \n",
       "\n",
       "         Answer.Topic9  \n",
       "0     Other, NOT Cyber  \n",
       "1     Other, NOT Cyber  \n",
       "2   U.S. 2016 Election  \n",
       "3         Cyber Monday  \n",
       "4   U.S. 2016 Election  \n",
       "5         Cyber Monday  \n",
       "6     Other, NOT Cyber  \n",
       "7         Cyber Monday  \n",
       "8         Other, Cyber  \n",
       "9         Cyber Monday  \n",
       "10        Cyber Monday  \n",
       "11        Other, Cyber  \n",
       "12            Security  \n",
       "13        Cyber Monday  \n",
       "14        Other, Cyber  \n",
       "15        Cyber Monday  \n",
       "16        Cyber Monday  \n",
       "17        Other, Cyber  \n",
       "18    Other, NOT Cyber  \n",
       "19  U.S. 2016 Election  \n",
       "20        Cyber Monday  \n",
       "21        Other, Cyber  \n",
       "22        Other, Cyber  \n",
       "23            Security  \n",
       "24        Other, Cyber  \n",
       "25        Other, Cyber  \n",
       "26  U.S. 2016 Election  \n",
       "27    Other, NOT Cyber  \n",
       "28        Cyber Monday  \n",
       "29        Other, Cyber  \n",
       "30        Cyber Monday  \n",
       "31        Cyber Monday  \n",
       "32        Cyber Monday  \n",
       "33        Cyber Monday  \n",
       "34        Other, Cyber  \n",
       "35    Other, NOT Cyber  \n",
       "36        Other, Cyber  \n",
       "37    Other, NOT Cyber  \n",
       "38        Cyber Monday  \n",
       "39  U.S. 2016 Election  \n",
       "40        Cyber Monday  \n",
       "41        Other, Cyber  \n",
       "42        Cyber Monday  \n",
       "43    Other, NOT Cyber  \n",
       "44        Other, Cyber  \n",
       "45    Other, NOT Cyber  \n",
       "46    Other, NOT Cyber  \n",
       "47    Other, NOT Cyber  \n",
       "48        Cyber Monday  \n",
       "49        Other, Cyber  \n",
       "50        Cyber Monday  \n",
       "51        Cyber Monday  "
      ]
     },
     "execution_count": 119,
     "metadata": {},
     "output_type": "execute_result"
    }
   ],
   "source": [
    "mturkResultsDF"
   ]
  },
  {
   "cell_type": "code",
   "execution_count": 122,
   "metadata": {},
   "outputs": [
    {
     "data": {
      "text/html": [
       "<div>\n",
       "<style scoped>\n",
       "    .dataframe tbody tr th:only-of-type {\n",
       "        vertical-align: middle;\n",
       "    }\n",
       "\n",
       "    .dataframe tbody tr th {\n",
       "        vertical-align: top;\n",
       "    }\n",
       "\n",
       "    .dataframe thead th {\n",
       "        text-align: right;\n",
       "    }\n",
       "</style>\n",
       "<table border=\"1\" class=\"dataframe\">\n",
       "  <thead>\n",
       "    <tr style=\"text-align: right;\">\n",
       "      <th></th>\n",
       "      <th>Answer.Topic</th>\n",
       "      <th>Answer.Topic1</th>\n",
       "      <th>Answer.Topic10</th>\n",
       "      <th>Answer.Topic11</th>\n",
       "      <th>Answer.Topic12</th>\n",
       "      <th>Answer.Topic2</th>\n",
       "      <th>Answer.Topic3</th>\n",
       "      <th>Answer.Topic4</th>\n",
       "      <th>Answer.Topic5</th>\n",
       "      <th>Answer.Topic6</th>\n",
       "      <th>Answer.Topic7</th>\n",
       "      <th>Answer.Topic8</th>\n",
       "      <th>Answer.Topic9</th>\n",
       "    </tr>\n",
       "  </thead>\n",
       "  <tbody>\n",
       "    <tr>\n",
       "      <th>0</th>\n",
       "      <td>5.0</td>\n",
       "      <td>5</td>\n",
       "      <td>4</td>\n",
       "      <td>5</td>\n",
       "      <td>2</td>\n",
       "      <td>4</td>\n",
       "      <td>4</td>\n",
       "      <td>5</td>\n",
       "      <td>5</td>\n",
       "      <td>2</td>\n",
       "      <td>5</td>\n",
       "      <td>5</td>\n",
       "      <td>5</td>\n",
       "    </tr>\n",
       "    <tr>\n",
       "      <th>1</th>\n",
       "      <td>5.0</td>\n",
       "      <td>1</td>\n",
       "      <td>2</td>\n",
       "      <td>1</td>\n",
       "      <td>3</td>\n",
       "      <td>2</td>\n",
       "      <td>3</td>\n",
       "      <td>1</td>\n",
       "      <td>1</td>\n",
       "      <td>2</td>\n",
       "      <td>1</td>\n",
       "      <td>2</td>\n",
       "      <td>5</td>\n",
       "    </tr>\n",
       "    <tr>\n",
       "      <th>2</th>\n",
       "      <td>5.0</td>\n",
       "      <td>1</td>\n",
       "      <td>1</td>\n",
       "      <td>1</td>\n",
       "      <td>1</td>\n",
       "      <td>2</td>\n",
       "      <td>1</td>\n",
       "      <td>3</td>\n",
       "      <td>1</td>\n",
       "      <td>2</td>\n",
       "      <td>3</td>\n",
       "      <td>2</td>\n",
       "      <td>1</td>\n",
       "    </tr>\n",
       "    <tr>\n",
       "      <th>3</th>\n",
       "      <td>5.0</td>\n",
       "      <td>4</td>\n",
       "      <td>5</td>\n",
       "      <td>3</td>\n",
       "      <td>3</td>\n",
       "      <td>2</td>\n",
       "      <td>4</td>\n",
       "      <td>1</td>\n",
       "      <td>1</td>\n",
       "      <td>2</td>\n",
       "      <td>5</td>\n",
       "      <td>2</td>\n",
       "      <td>3</td>\n",
       "    </tr>\n",
       "    <tr>\n",
       "      <th>4</th>\n",
       "      <td>5.0</td>\n",
       "      <td>5</td>\n",
       "      <td>2</td>\n",
       "      <td>5</td>\n",
       "      <td>2</td>\n",
       "      <td>4</td>\n",
       "      <td>2</td>\n",
       "      <td>2</td>\n",
       "      <td>5</td>\n",
       "      <td>3</td>\n",
       "      <td>5</td>\n",
       "      <td>5</td>\n",
       "      <td>1</td>\n",
       "    </tr>\n",
       "    <tr>\n",
       "      <th>5</th>\n",
       "      <td>5.0</td>\n",
       "      <td>5</td>\n",
       "      <td>1</td>\n",
       "      <td>3</td>\n",
       "      <td>2</td>\n",
       "      <td>2</td>\n",
       "      <td>2</td>\n",
       "      <td>2</td>\n",
       "      <td>1</td>\n",
       "      <td>2</td>\n",
       "      <td>1</td>\n",
       "      <td>3</td>\n",
       "      <td>3</td>\n",
       "    </tr>\n",
       "    <tr>\n",
       "      <th>6</th>\n",
       "      <td>5.0</td>\n",
       "      <td>5</td>\n",
       "      <td>5</td>\n",
       "      <td>5</td>\n",
       "      <td>2</td>\n",
       "      <td>4</td>\n",
       "      <td>4</td>\n",
       "      <td>5</td>\n",
       "      <td>5</td>\n",
       "      <td>2</td>\n",
       "      <td>4</td>\n",
       "      <td>5</td>\n",
       "      <td>5</td>\n",
       "    </tr>\n",
       "    <tr>\n",
       "      <th>7</th>\n",
       "      <td>5.0</td>\n",
       "      <td>1</td>\n",
       "      <td>3</td>\n",
       "      <td>2</td>\n",
       "      <td>2</td>\n",
       "      <td>3</td>\n",
       "      <td>1</td>\n",
       "      <td>3</td>\n",
       "      <td>3</td>\n",
       "      <td>2</td>\n",
       "      <td>1</td>\n",
       "      <td>1</td>\n",
       "      <td>3</td>\n",
       "    </tr>\n",
       "    <tr>\n",
       "      <th>8</th>\n",
       "      <td>5.0</td>\n",
       "      <td>2</td>\n",
       "      <td>2</td>\n",
       "      <td>3</td>\n",
       "      <td>3</td>\n",
       "      <td>3</td>\n",
       "      <td>1</td>\n",
       "      <td>3</td>\n",
       "      <td>4</td>\n",
       "      <td>1</td>\n",
       "      <td>2</td>\n",
       "      <td>3</td>\n",
       "      <td>4</td>\n",
       "    </tr>\n",
       "    <tr>\n",
       "      <th>9</th>\n",
       "      <td>5.0</td>\n",
       "      <td>5</td>\n",
       "      <td>5</td>\n",
       "      <td>3</td>\n",
       "      <td>4</td>\n",
       "      <td>2</td>\n",
       "      <td>2</td>\n",
       "      <td>5</td>\n",
       "      <td>5</td>\n",
       "      <td>4</td>\n",
       "      <td>5</td>\n",
       "      <td>3</td>\n",
       "      <td>3</td>\n",
       "    </tr>\n",
       "    <tr>\n",
       "      <th>10</th>\n",
       "      <td>5.0</td>\n",
       "      <td>3</td>\n",
       "      <td>3</td>\n",
       "      <td>4</td>\n",
       "      <td>4</td>\n",
       "      <td>2</td>\n",
       "      <td>1</td>\n",
       "      <td>5</td>\n",
       "      <td>4</td>\n",
       "      <td>3</td>\n",
       "      <td>2</td>\n",
       "      <td>4</td>\n",
       "      <td>3</td>\n",
       "    </tr>\n",
       "    <tr>\n",
       "      <th>11</th>\n",
       "      <td>5.0</td>\n",
       "      <td>5</td>\n",
       "      <td>2</td>\n",
       "      <td>3</td>\n",
       "      <td>2</td>\n",
       "      <td>2</td>\n",
       "      <td>2</td>\n",
       "      <td>5</td>\n",
       "      <td>5</td>\n",
       "      <td>2</td>\n",
       "      <td>1</td>\n",
       "      <td>4</td>\n",
       "      <td>4</td>\n",
       "    </tr>\n",
       "    <tr>\n",
       "      <th>12</th>\n",
       "      <td>5.0</td>\n",
       "      <td>4</td>\n",
       "      <td>2</td>\n",
       "      <td>2</td>\n",
       "      <td>4</td>\n",
       "      <td>4</td>\n",
       "      <td>2</td>\n",
       "      <td>4</td>\n",
       "      <td>2</td>\n",
       "      <td>4</td>\n",
       "      <td>2</td>\n",
       "      <td>3</td>\n",
       "      <td>2</td>\n",
       "    </tr>\n",
       "    <tr>\n",
       "      <th>13</th>\n",
       "      <td>5.0</td>\n",
       "      <td>2</td>\n",
       "      <td>2</td>\n",
       "      <td>2</td>\n",
       "      <td>1</td>\n",
       "      <td>3</td>\n",
       "      <td>3</td>\n",
       "      <td>4</td>\n",
       "      <td>4</td>\n",
       "      <td>2</td>\n",
       "      <td>2</td>\n",
       "      <td>1</td>\n",
       "      <td>3</td>\n",
       "    </tr>\n",
       "    <tr>\n",
       "      <th>14</th>\n",
       "      <td>5.0</td>\n",
       "      <td>2</td>\n",
       "      <td>2</td>\n",
       "      <td>3</td>\n",
       "      <td>1</td>\n",
       "      <td>4</td>\n",
       "      <td>2</td>\n",
       "      <td>5</td>\n",
       "      <td>1</td>\n",
       "      <td>4</td>\n",
       "      <td>3</td>\n",
       "      <td>5</td>\n",
       "      <td>4</td>\n",
       "    </tr>\n",
       "    <tr>\n",
       "      <th>15</th>\n",
       "      <td>5.0</td>\n",
       "      <td>5</td>\n",
       "      <td>1</td>\n",
       "      <td>3</td>\n",
       "      <td>2</td>\n",
       "      <td>4</td>\n",
       "      <td>2</td>\n",
       "      <td>2</td>\n",
       "      <td>1</td>\n",
       "      <td>2</td>\n",
       "      <td>4</td>\n",
       "      <td>5</td>\n",
       "      <td>3</td>\n",
       "    </tr>\n",
       "    <tr>\n",
       "      <th>16</th>\n",
       "      <td>5.0</td>\n",
       "      <td>5</td>\n",
       "      <td>1</td>\n",
       "      <td>5</td>\n",
       "      <td>4</td>\n",
       "      <td>4</td>\n",
       "      <td>4</td>\n",
       "      <td>5</td>\n",
       "      <td>1</td>\n",
       "      <td>4</td>\n",
       "      <td>5</td>\n",
       "      <td>5</td>\n",
       "      <td>3</td>\n",
       "    </tr>\n",
       "    <tr>\n",
       "      <th>17</th>\n",
       "      <td>5.0</td>\n",
       "      <td>2</td>\n",
       "      <td>1</td>\n",
       "      <td>4</td>\n",
       "      <td>3</td>\n",
       "      <td>3</td>\n",
       "      <td>3</td>\n",
       "      <td>1</td>\n",
       "      <td>4</td>\n",
       "      <td>3</td>\n",
       "      <td>4</td>\n",
       "      <td>2</td>\n",
       "      <td>4</td>\n",
       "    </tr>\n",
       "    <tr>\n",
       "      <th>18</th>\n",
       "      <td>5.0</td>\n",
       "      <td>5</td>\n",
       "      <td>1</td>\n",
       "      <td>5</td>\n",
       "      <td>4</td>\n",
       "      <td>4</td>\n",
       "      <td>2</td>\n",
       "      <td>2</td>\n",
       "      <td>1</td>\n",
       "      <td>4</td>\n",
       "      <td>1</td>\n",
       "      <td>5</td>\n",
       "      <td>5</td>\n",
       "    </tr>\n",
       "    <tr>\n",
       "      <th>19</th>\n",
       "      <td>5.0</td>\n",
       "      <td>5</td>\n",
       "      <td>2</td>\n",
       "      <td>5</td>\n",
       "      <td>2</td>\n",
       "      <td>4</td>\n",
       "      <td>2</td>\n",
       "      <td>2</td>\n",
       "      <td>5</td>\n",
       "      <td>3</td>\n",
       "      <td>5</td>\n",
       "      <td>5</td>\n",
       "      <td>1</td>\n",
       "    </tr>\n",
       "    <tr>\n",
       "      <th>20</th>\n",
       "      <td>5.0</td>\n",
       "      <td>2</td>\n",
       "      <td>4</td>\n",
       "      <td>3</td>\n",
       "      <td>4</td>\n",
       "      <td>4</td>\n",
       "      <td>4</td>\n",
       "      <td>5</td>\n",
       "      <td>1</td>\n",
       "      <td>4</td>\n",
       "      <td>2</td>\n",
       "      <td>3</td>\n",
       "      <td>3</td>\n",
       "    </tr>\n",
       "    <tr>\n",
       "      <th>21</th>\n",
       "      <td>5.0</td>\n",
       "      <td>5</td>\n",
       "      <td>2</td>\n",
       "      <td>5</td>\n",
       "      <td>4</td>\n",
       "      <td>2</td>\n",
       "      <td>2</td>\n",
       "      <td>5</td>\n",
       "      <td>1</td>\n",
       "      <td>4</td>\n",
       "      <td>5</td>\n",
       "      <td>5</td>\n",
       "      <td>4</td>\n",
       "    </tr>\n",
       "    <tr>\n",
       "      <th>22</th>\n",
       "      <td>5.0</td>\n",
       "      <td>1</td>\n",
       "      <td>4</td>\n",
       "      <td>5</td>\n",
       "      <td>4</td>\n",
       "      <td>2</td>\n",
       "      <td>3</td>\n",
       "      <td>5</td>\n",
       "      <td>1</td>\n",
       "      <td>4</td>\n",
       "      <td>3</td>\n",
       "      <td>5</td>\n",
       "      <td>4</td>\n",
       "    </tr>\n",
       "    <tr>\n",
       "      <th>23</th>\n",
       "      <td>5.0</td>\n",
       "      <td>4</td>\n",
       "      <td>5</td>\n",
       "      <td>5</td>\n",
       "      <td>1</td>\n",
       "      <td>3</td>\n",
       "      <td>4</td>\n",
       "      <td>2</td>\n",
       "      <td>1</td>\n",
       "      <td>4</td>\n",
       "      <td>2</td>\n",
       "      <td>3</td>\n",
       "      <td>2</td>\n",
       "    </tr>\n",
       "    <tr>\n",
       "      <th>24</th>\n",
       "      <td>5.0</td>\n",
       "      <td>5</td>\n",
       "      <td>2</td>\n",
       "      <td>3</td>\n",
       "      <td>2</td>\n",
       "      <td>4</td>\n",
       "      <td>4</td>\n",
       "      <td>2</td>\n",
       "      <td>1</td>\n",
       "      <td>4</td>\n",
       "      <td>2</td>\n",
       "      <td>5</td>\n",
       "      <td>4</td>\n",
       "    </tr>\n",
       "    <tr>\n",
       "      <th>25</th>\n",
       "      <td>5.0</td>\n",
       "      <td>5</td>\n",
       "      <td>4</td>\n",
       "      <td>1</td>\n",
       "      <td>1</td>\n",
       "      <td>4</td>\n",
       "      <td>2</td>\n",
       "      <td>4</td>\n",
       "      <td>1</td>\n",
       "      <td>2</td>\n",
       "      <td>3</td>\n",
       "      <td>3</td>\n",
       "      <td>4</td>\n",
       "    </tr>\n",
       "    <tr>\n",
       "      <th>26</th>\n",
       "      <td>NaN</td>\n",
       "      <td>5</td>\n",
       "      <td>2</td>\n",
       "      <td>5</td>\n",
       "      <td>2</td>\n",
       "      <td>4</td>\n",
       "      <td>2</td>\n",
       "      <td>2</td>\n",
       "      <td>5</td>\n",
       "      <td>3</td>\n",
       "      <td>5</td>\n",
       "      <td>5</td>\n",
       "      <td>1</td>\n",
       "    </tr>\n",
       "    <tr>\n",
       "      <th>27</th>\n",
       "      <td>5.0</td>\n",
       "      <td>4</td>\n",
       "      <td>5</td>\n",
       "      <td>5</td>\n",
       "      <td>2</td>\n",
       "      <td>2</td>\n",
       "      <td>1</td>\n",
       "      <td>3</td>\n",
       "      <td>1</td>\n",
       "      <td>4</td>\n",
       "      <td>2</td>\n",
       "      <td>3</td>\n",
       "      <td>5</td>\n",
       "    </tr>\n",
       "    <tr>\n",
       "      <th>28</th>\n",
       "      <td>5.0</td>\n",
       "      <td>3</td>\n",
       "      <td>2</td>\n",
       "      <td>5</td>\n",
       "      <td>4</td>\n",
       "      <td>2</td>\n",
       "      <td>4</td>\n",
       "      <td>2</td>\n",
       "      <td>1</td>\n",
       "      <td>4</td>\n",
       "      <td>2</td>\n",
       "      <td>5</td>\n",
       "      <td>3</td>\n",
       "    </tr>\n",
       "    <tr>\n",
       "      <th>29</th>\n",
       "      <td>5.0</td>\n",
       "      <td>5</td>\n",
       "      <td>4</td>\n",
       "      <td>3</td>\n",
       "      <td>2</td>\n",
       "      <td>4</td>\n",
       "      <td>4</td>\n",
       "      <td>2</td>\n",
       "      <td>1</td>\n",
       "      <td>4</td>\n",
       "      <td>1</td>\n",
       "      <td>5</td>\n",
       "      <td>4</td>\n",
       "    </tr>\n",
       "    <tr>\n",
       "      <th>30</th>\n",
       "      <td>5.0</td>\n",
       "      <td>5</td>\n",
       "      <td>1</td>\n",
       "      <td>3</td>\n",
       "      <td>2</td>\n",
       "      <td>2</td>\n",
       "      <td>4</td>\n",
       "      <td>5</td>\n",
       "      <td>1</td>\n",
       "      <td>2</td>\n",
       "      <td>1</td>\n",
       "      <td>3</td>\n",
       "      <td>3</td>\n",
       "    </tr>\n",
       "    <tr>\n",
       "      <th>31</th>\n",
       "      <td>5.0</td>\n",
       "      <td>5</td>\n",
       "      <td>1</td>\n",
       "      <td>3</td>\n",
       "      <td>1</td>\n",
       "      <td>2</td>\n",
       "      <td>1</td>\n",
       "      <td>5</td>\n",
       "      <td>1</td>\n",
       "      <td>2</td>\n",
       "      <td>1</td>\n",
       "      <td>3</td>\n",
       "      <td>3</td>\n",
       "    </tr>\n",
       "    <tr>\n",
       "      <th>32</th>\n",
       "      <td>5.0</td>\n",
       "      <td>5</td>\n",
       "      <td>2</td>\n",
       "      <td>3</td>\n",
       "      <td>2</td>\n",
       "      <td>4</td>\n",
       "      <td>2</td>\n",
       "      <td>5</td>\n",
       "      <td>5</td>\n",
       "      <td>2</td>\n",
       "      <td>5</td>\n",
       "      <td>3</td>\n",
       "      <td>3</td>\n",
       "    </tr>\n",
       "    <tr>\n",
       "      <th>33</th>\n",
       "      <td>5.0</td>\n",
       "      <td>4</td>\n",
       "      <td>4</td>\n",
       "      <td>3</td>\n",
       "      <td>4</td>\n",
       "      <td>4</td>\n",
       "      <td>4</td>\n",
       "      <td>4</td>\n",
       "      <td>4</td>\n",
       "      <td>4</td>\n",
       "      <td>3</td>\n",
       "      <td>4</td>\n",
       "      <td>3</td>\n",
       "    </tr>\n",
       "    <tr>\n",
       "      <th>34</th>\n",
       "      <td>5.0</td>\n",
       "      <td>5</td>\n",
       "      <td>2</td>\n",
       "      <td>3</td>\n",
       "      <td>3</td>\n",
       "      <td>3</td>\n",
       "      <td>1</td>\n",
       "      <td>2</td>\n",
       "      <td>1</td>\n",
       "      <td>3</td>\n",
       "      <td>5</td>\n",
       "      <td>3</td>\n",
       "      <td>4</td>\n",
       "    </tr>\n",
       "    <tr>\n",
       "      <th>35</th>\n",
       "      <td>5.0</td>\n",
       "      <td>5</td>\n",
       "      <td>2</td>\n",
       "      <td>3</td>\n",
       "      <td>2</td>\n",
       "      <td>2</td>\n",
       "      <td>4</td>\n",
       "      <td>5</td>\n",
       "      <td>1</td>\n",
       "      <td>4</td>\n",
       "      <td>5</td>\n",
       "      <td>5</td>\n",
       "      <td>5</td>\n",
       "    </tr>\n",
       "    <tr>\n",
       "      <th>36</th>\n",
       "      <td>5.0</td>\n",
       "      <td>5</td>\n",
       "      <td>2</td>\n",
       "      <td>1</td>\n",
       "      <td>2</td>\n",
       "      <td>4</td>\n",
       "      <td>3</td>\n",
       "      <td>2</td>\n",
       "      <td>1</td>\n",
       "      <td>4</td>\n",
       "      <td>2</td>\n",
       "      <td>5</td>\n",
       "      <td>4</td>\n",
       "    </tr>\n",
       "    <tr>\n",
       "      <th>37</th>\n",
       "      <td>5.0</td>\n",
       "      <td>5</td>\n",
       "      <td>2</td>\n",
       "      <td>2</td>\n",
       "      <td>4</td>\n",
       "      <td>2</td>\n",
       "      <td>3</td>\n",
       "      <td>4</td>\n",
       "      <td>5</td>\n",
       "      <td>3</td>\n",
       "      <td>3</td>\n",
       "      <td>5</td>\n",
       "      <td>5</td>\n",
       "    </tr>\n",
       "    <tr>\n",
       "      <th>38</th>\n",
       "      <td>5.0</td>\n",
       "      <td>5</td>\n",
       "      <td>1</td>\n",
       "      <td>3</td>\n",
       "      <td>2</td>\n",
       "      <td>2</td>\n",
       "      <td>2</td>\n",
       "      <td>5</td>\n",
       "      <td>1</td>\n",
       "      <td>2</td>\n",
       "      <td>5</td>\n",
       "      <td>3</td>\n",
       "      <td>3</td>\n",
       "    </tr>\n",
       "    <tr>\n",
       "      <th>39</th>\n",
       "      <td>5.0</td>\n",
       "      <td>4</td>\n",
       "      <td>3</td>\n",
       "      <td>3</td>\n",
       "      <td>1</td>\n",
       "      <td>3</td>\n",
       "      <td>3</td>\n",
       "      <td>2</td>\n",
       "      <td>1</td>\n",
       "      <td>5</td>\n",
       "      <td>3</td>\n",
       "      <td>2</td>\n",
       "      <td>1</td>\n",
       "    </tr>\n",
       "    <tr>\n",
       "      <th>40</th>\n",
       "      <td>5.0</td>\n",
       "      <td>5</td>\n",
       "      <td>2</td>\n",
       "      <td>3</td>\n",
       "      <td>2</td>\n",
       "      <td>4</td>\n",
       "      <td>1</td>\n",
       "      <td>5</td>\n",
       "      <td>1</td>\n",
       "      <td>2</td>\n",
       "      <td>1</td>\n",
       "      <td>3</td>\n",
       "      <td>3</td>\n",
       "    </tr>\n",
       "    <tr>\n",
       "      <th>41</th>\n",
       "      <td>5.0</td>\n",
       "      <td>5</td>\n",
       "      <td>4</td>\n",
       "      <td>3</td>\n",
       "      <td>4</td>\n",
       "      <td>4</td>\n",
       "      <td>4</td>\n",
       "      <td>2</td>\n",
       "      <td>1</td>\n",
       "      <td>4</td>\n",
       "      <td>5</td>\n",
       "      <td>5</td>\n",
       "      <td>4</td>\n",
       "    </tr>\n",
       "    <tr>\n",
       "      <th>42</th>\n",
       "      <td>5.0</td>\n",
       "      <td>2</td>\n",
       "      <td>4</td>\n",
       "      <td>3</td>\n",
       "      <td>3</td>\n",
       "      <td>4</td>\n",
       "      <td>2</td>\n",
       "      <td>4</td>\n",
       "      <td>1</td>\n",
       "      <td>1</td>\n",
       "      <td>2</td>\n",
       "      <td>2</td>\n",
       "      <td>3</td>\n",
       "    </tr>\n",
       "    <tr>\n",
       "      <th>43</th>\n",
       "      <td>5.0</td>\n",
       "      <td>5</td>\n",
       "      <td>2</td>\n",
       "      <td>3</td>\n",
       "      <td>2</td>\n",
       "      <td>2</td>\n",
       "      <td>2</td>\n",
       "      <td>5</td>\n",
       "      <td>1</td>\n",
       "      <td>2</td>\n",
       "      <td>5</td>\n",
       "      <td>5</td>\n",
       "      <td>5</td>\n",
       "    </tr>\n",
       "    <tr>\n",
       "      <th>44</th>\n",
       "      <td>5.0</td>\n",
       "      <td>3</td>\n",
       "      <td>4</td>\n",
       "      <td>3</td>\n",
       "      <td>2</td>\n",
       "      <td>2</td>\n",
       "      <td>2</td>\n",
       "      <td>3</td>\n",
       "      <td>2</td>\n",
       "      <td>4</td>\n",
       "      <td>4</td>\n",
       "      <td>4</td>\n",
       "      <td>4</td>\n",
       "    </tr>\n",
       "    <tr>\n",
       "      <th>45</th>\n",
       "      <td>5.0</td>\n",
       "      <td>5</td>\n",
       "      <td>3</td>\n",
       "      <td>4</td>\n",
       "      <td>2</td>\n",
       "      <td>3</td>\n",
       "      <td>3</td>\n",
       "      <td>5</td>\n",
       "      <td>1</td>\n",
       "      <td>2</td>\n",
       "      <td>3</td>\n",
       "      <td>5</td>\n",
       "      <td>5</td>\n",
       "    </tr>\n",
       "    <tr>\n",
       "      <th>46</th>\n",
       "      <td>5.0</td>\n",
       "      <td>5</td>\n",
       "      <td>4</td>\n",
       "      <td>5</td>\n",
       "      <td>3</td>\n",
       "      <td>5</td>\n",
       "      <td>3</td>\n",
       "      <td>2</td>\n",
       "      <td>1</td>\n",
       "      <td>3</td>\n",
       "      <td>2</td>\n",
       "      <td>5</td>\n",
       "      <td>5</td>\n",
       "    </tr>\n",
       "    <tr>\n",
       "      <th>47</th>\n",
       "      <td>5.0</td>\n",
       "      <td>2</td>\n",
       "      <td>3</td>\n",
       "      <td>3</td>\n",
       "      <td>3</td>\n",
       "      <td>3</td>\n",
       "      <td>3</td>\n",
       "      <td>4</td>\n",
       "      <td>3</td>\n",
       "      <td>4</td>\n",
       "      <td>5</td>\n",
       "      <td>3</td>\n",
       "      <td>5</td>\n",
       "    </tr>\n",
       "    <tr>\n",
       "      <th>48</th>\n",
       "      <td>5.0</td>\n",
       "      <td>5</td>\n",
       "      <td>2</td>\n",
       "      <td>5</td>\n",
       "      <td>2</td>\n",
       "      <td>2</td>\n",
       "      <td>2</td>\n",
       "      <td>5</td>\n",
       "      <td>1</td>\n",
       "      <td>2</td>\n",
       "      <td>2</td>\n",
       "      <td>5</td>\n",
       "      <td>3</td>\n",
       "    </tr>\n",
       "    <tr>\n",
       "      <th>49</th>\n",
       "      <td>5.0</td>\n",
       "      <td>4</td>\n",
       "      <td>3</td>\n",
       "      <td>3</td>\n",
       "      <td>4</td>\n",
       "      <td>2</td>\n",
       "      <td>4</td>\n",
       "      <td>2</td>\n",
       "      <td>1</td>\n",
       "      <td>3</td>\n",
       "      <td>5</td>\n",
       "      <td>5</td>\n",
       "      <td>4</td>\n",
       "    </tr>\n",
       "    <tr>\n",
       "      <th>50</th>\n",
       "      <td>5.0</td>\n",
       "      <td>1</td>\n",
       "      <td>1</td>\n",
       "      <td>2</td>\n",
       "      <td>2</td>\n",
       "      <td>3</td>\n",
       "      <td>3</td>\n",
       "      <td>4</td>\n",
       "      <td>2</td>\n",
       "      <td>3</td>\n",
       "      <td>4</td>\n",
       "      <td>3</td>\n",
       "      <td>3</td>\n",
       "    </tr>\n",
       "    <tr>\n",
       "      <th>51</th>\n",
       "      <td>5.0</td>\n",
       "      <td>5</td>\n",
       "      <td>1</td>\n",
       "      <td>3</td>\n",
       "      <td>2</td>\n",
       "      <td>4</td>\n",
       "      <td>4</td>\n",
       "      <td>5</td>\n",
       "      <td>1</td>\n",
       "      <td>2</td>\n",
       "      <td>1</td>\n",
       "      <td>5</td>\n",
       "      <td>3</td>\n",
       "    </tr>\n",
       "  </tbody>\n",
       "</table>\n",
       "</div>"
      ],
      "text/plain": [
       "    Answer.Topic  Answer.Topic1  Answer.Topic10  Answer.Topic11  \\\n",
       "0            5.0              5               4               5   \n",
       "1            5.0              1               2               1   \n",
       "2            5.0              1               1               1   \n",
       "3            5.0              4               5               3   \n",
       "4            5.0              5               2               5   \n",
       "5            5.0              5               1               3   \n",
       "6            5.0              5               5               5   \n",
       "7            5.0              1               3               2   \n",
       "8            5.0              2               2               3   \n",
       "9            5.0              5               5               3   \n",
       "10           5.0              3               3               4   \n",
       "11           5.0              5               2               3   \n",
       "12           5.0              4               2               2   \n",
       "13           5.0              2               2               2   \n",
       "14           5.0              2               2               3   \n",
       "15           5.0              5               1               3   \n",
       "16           5.0              5               1               5   \n",
       "17           5.0              2               1               4   \n",
       "18           5.0              5               1               5   \n",
       "19           5.0              5               2               5   \n",
       "20           5.0              2               4               3   \n",
       "21           5.0              5               2               5   \n",
       "22           5.0              1               4               5   \n",
       "23           5.0              4               5               5   \n",
       "24           5.0              5               2               3   \n",
       "25           5.0              5               4               1   \n",
       "26           NaN              5               2               5   \n",
       "27           5.0              4               5               5   \n",
       "28           5.0              3               2               5   \n",
       "29           5.0              5               4               3   \n",
       "30           5.0              5               1               3   \n",
       "31           5.0              5               1               3   \n",
       "32           5.0              5               2               3   \n",
       "33           5.0              4               4               3   \n",
       "34           5.0              5               2               3   \n",
       "35           5.0              5               2               3   \n",
       "36           5.0              5               2               1   \n",
       "37           5.0              5               2               2   \n",
       "38           5.0              5               1               3   \n",
       "39           5.0              4               3               3   \n",
       "40           5.0              5               2               3   \n",
       "41           5.0              5               4               3   \n",
       "42           5.0              2               4               3   \n",
       "43           5.0              5               2               3   \n",
       "44           5.0              3               4               3   \n",
       "45           5.0              5               3               4   \n",
       "46           5.0              5               4               5   \n",
       "47           5.0              2               3               3   \n",
       "48           5.0              5               2               5   \n",
       "49           5.0              4               3               3   \n",
       "50           5.0              1               1               2   \n",
       "51           5.0              5               1               3   \n",
       "\n",
       "    Answer.Topic12  Answer.Topic2  Answer.Topic3  Answer.Topic4  \\\n",
       "0                2              4              4              5   \n",
       "1                3              2              3              1   \n",
       "2                1              2              1              3   \n",
       "3                3              2              4              1   \n",
       "4                2              4              2              2   \n",
       "5                2              2              2              2   \n",
       "6                2              4              4              5   \n",
       "7                2              3              1              3   \n",
       "8                3              3              1              3   \n",
       "9                4              2              2              5   \n",
       "10               4              2              1              5   \n",
       "11               2              2              2              5   \n",
       "12               4              4              2              4   \n",
       "13               1              3              3              4   \n",
       "14               1              4              2              5   \n",
       "15               2              4              2              2   \n",
       "16               4              4              4              5   \n",
       "17               3              3              3              1   \n",
       "18               4              4              2              2   \n",
       "19               2              4              2              2   \n",
       "20               4              4              4              5   \n",
       "21               4              2              2              5   \n",
       "22               4              2              3              5   \n",
       "23               1              3              4              2   \n",
       "24               2              4              4              2   \n",
       "25               1              4              2              4   \n",
       "26               2              4              2              2   \n",
       "27               2              2              1              3   \n",
       "28               4              2              4              2   \n",
       "29               2              4              4              2   \n",
       "30               2              2              4              5   \n",
       "31               1              2              1              5   \n",
       "32               2              4              2              5   \n",
       "33               4              4              4              4   \n",
       "34               3              3              1              2   \n",
       "35               2              2              4              5   \n",
       "36               2              4              3              2   \n",
       "37               4              2              3              4   \n",
       "38               2              2              2              5   \n",
       "39               1              3              3              2   \n",
       "40               2              4              1              5   \n",
       "41               4              4              4              2   \n",
       "42               3              4              2              4   \n",
       "43               2              2              2              5   \n",
       "44               2              2              2              3   \n",
       "45               2              3              3              5   \n",
       "46               3              5              3              2   \n",
       "47               3              3              3              4   \n",
       "48               2              2              2              5   \n",
       "49               4              2              4              2   \n",
       "50               2              3              3              4   \n",
       "51               2              4              4              5   \n",
       "\n",
       "    Answer.Topic5  Answer.Topic6  Answer.Topic7  Answer.Topic8  Answer.Topic9  \n",
       "0               5              2              5              5              5  \n",
       "1               1              2              1              2              5  \n",
       "2               1              2              3              2              1  \n",
       "3               1              2              5              2              3  \n",
       "4               5              3              5              5              1  \n",
       "5               1              2              1              3              3  \n",
       "6               5              2              4              5              5  \n",
       "7               3              2              1              1              3  \n",
       "8               4              1              2              3              4  \n",
       "9               5              4              5              3              3  \n",
       "10              4              3              2              4              3  \n",
       "11              5              2              1              4              4  \n",
       "12              2              4              2              3              2  \n",
       "13              4              2              2              1              3  \n",
       "14              1              4              3              5              4  \n",
       "15              1              2              4              5              3  \n",
       "16              1              4              5              5              3  \n",
       "17              4              3              4              2              4  \n",
       "18              1              4              1              5              5  \n",
       "19              5              3              5              5              1  \n",
       "20              1              4              2              3              3  \n",
       "21              1              4              5              5              4  \n",
       "22              1              4              3              5              4  \n",
       "23              1              4              2              3              2  \n",
       "24              1              4              2              5              4  \n",
       "25              1              2              3              3              4  \n",
       "26              5              3              5              5              1  \n",
       "27              1              4              2              3              5  \n",
       "28              1              4              2              5              3  \n",
       "29              1              4              1              5              4  \n",
       "30              1              2              1              3              3  \n",
       "31              1              2              1              3              3  \n",
       "32              5              2              5              3              3  \n",
       "33              4              4              3              4              3  \n",
       "34              1              3              5              3              4  \n",
       "35              1              4              5              5              5  \n",
       "36              1              4              2              5              4  \n",
       "37              5              3              3              5              5  \n",
       "38              1              2              5              3              3  \n",
       "39              1              5              3              2              1  \n",
       "40              1              2              1              3              3  \n",
       "41              1              4              5              5              4  \n",
       "42              1              1              2              2              3  \n",
       "43              1              2              5              5              5  \n",
       "44              2              4              4              4              4  \n",
       "45              1              2              3              5              5  \n",
       "46              1              3              2              5              5  \n",
       "47              3              4              5              3              5  \n",
       "48              1              2              2              5              3  \n",
       "49              1              3              5              5              4  \n",
       "50              2              3              4              3              3  \n",
       "51              1              2              1              5              3  "
      ]
     },
     "execution_count": 122,
     "metadata": {},
     "output_type": "execute_result"
    }
   ],
   "source": [
    "mturkResultsDF.replace('U.S. 2016 Election', 1 , inplace=True)\n",
    "mturkResultsDF.replace('Security', 2 , inplace=True)\n",
    "mturkResultsDF.replace('Cyber Monday', 3 , inplace=True)\n",
    "mturkResultsDF.replace('Other, Cyber', 4 , inplace=True)\n",
    "mturkResultsDF.replace('Other, NOT Cyber', 5 , inplace=True)\n",
    "mturkResultsDF"
   ]
  },
  {
   "cell_type": "code",
   "execution_count": 130,
   "metadata": {
    "collapsed": true
   },
   "outputs": [],
   "source": [
    "response = []\n",
    "\n",
    "for index,row in mturkResultsDF.iterrows():\n",
    "    r = [row['Answer.Topic1'], row['Answer.Topic2'],row['Answer.Topic3'],row['Answer.Topic4'],row['Answer.Topic5'],row['Answer.Topic6'],row['Answer.Topic7'],row['Answer.Topic8'],row['Answer.Topic9'],row['Answer.Topic10'],row['Answer.Topic11'],row['Answer.Topic12']]\n",
    "    response.append(r)"
   ]
  },
  {
   "cell_type": "code",
   "execution_count": 131,
   "metadata": {
    "collapsed": true
   },
   "outputs": [],
   "source": [
    "anno = AnnotationsContainer.from_array(response, missing_values=[-1])"
   ]
  },
  {
   "cell_type": "code",
   "execution_count": 132,
   "metadata": {},
   "outputs": [
    {
     "data": {
      "text/plain": [
       "array([[4, 3, 3, 4, 4, 1, 4, 4, 4, 3, 4, 1],\n",
       "       [0, 1, 2, 0, 0, 1, 0, 1, 4, 1, 0, 2],\n",
       "       [0, 1, 0, 2, 0, 1, 2, 1, 0, 0, 0, 0],\n",
       "       [3, 1, 3, 0, 0, 1, 4, 1, 2, 4, 2, 2],\n",
       "       [4, 3, 1, 1, 4, 2, 4, 4, 0, 1, 4, 1],\n",
       "       [4, 1, 1, 1, 0, 1, 0, 2, 2, 0, 2, 1],\n",
       "       [4, 3, 3, 4, 4, 1, 3, 4, 4, 4, 4, 1],\n",
       "       [0, 2, 0, 2, 2, 1, 0, 0, 2, 2, 1, 1],\n",
       "       [1, 2, 0, 2, 3, 0, 1, 2, 3, 1, 2, 2],\n",
       "       [4, 1, 1, 4, 4, 3, 4, 2, 2, 4, 2, 3],\n",
       "       [2, 1, 0, 4, 3, 2, 1, 3, 2, 2, 3, 3],\n",
       "       [4, 1, 1, 4, 4, 1, 0, 3, 3, 1, 2, 1],\n",
       "       [3, 3, 1, 3, 1, 3, 1, 2, 1, 1, 1, 3],\n",
       "       [1, 2, 2, 3, 3, 1, 1, 0, 2, 1, 1, 0],\n",
       "       [1, 3, 1, 4, 0, 3, 2, 4, 3, 1, 2, 0],\n",
       "       [4, 3, 1, 1, 0, 1, 3, 4, 2, 0, 2, 1],\n",
       "       [4, 3, 3, 4, 0, 3, 4, 4, 2, 0, 4, 3],\n",
       "       [1, 2, 2, 0, 3, 2, 3, 1, 3, 0, 3, 2],\n",
       "       [4, 3, 1, 1, 0, 3, 0, 4, 4, 0, 4, 3],\n",
       "       [4, 3, 1, 1, 4, 2, 4, 4, 0, 1, 4, 1],\n",
       "       [1, 3, 3, 4, 0, 3, 1, 2, 2, 3, 2, 3],\n",
       "       [4, 1, 1, 4, 0, 3, 4, 4, 3, 1, 4, 3],\n",
       "       [0, 1, 2, 4, 0, 3, 2, 4, 3, 3, 4, 3],\n",
       "       [3, 2, 3, 1, 0, 3, 1, 2, 1, 4, 4, 0],\n",
       "       [4, 3, 3, 1, 0, 3, 1, 4, 3, 1, 2, 1],\n",
       "       [4, 3, 1, 3, 0, 1, 2, 2, 3, 3, 0, 0],\n",
       "       [4, 3, 1, 1, 4, 2, 4, 4, 0, 1, 4, 1],\n",
       "       [3, 1, 0, 2, 0, 3, 1, 2, 4, 4, 4, 1],\n",
       "       [2, 1, 3, 1, 0, 3, 1, 4, 2, 1, 4, 3],\n",
       "       [4, 3, 3, 1, 0, 3, 0, 4, 3, 3, 2, 1],\n",
       "       [4, 1, 3, 4, 0, 1, 0, 2, 2, 0, 2, 1],\n",
       "       [4, 1, 0, 4, 0, 1, 0, 2, 2, 0, 2, 0],\n",
       "       [4, 3, 1, 4, 4, 1, 4, 2, 2, 1, 2, 1],\n",
       "       [3, 3, 3, 3, 3, 3, 2, 3, 2, 3, 2, 3],\n",
       "       [4, 2, 0, 1, 0, 2, 4, 2, 3, 1, 2, 2],\n",
       "       [4, 1, 3, 4, 0, 3, 4, 4, 4, 1, 2, 1],\n",
       "       [4, 3, 2, 1, 0, 3, 1, 4, 3, 1, 0, 1],\n",
       "       [4, 1, 2, 3, 4, 2, 2, 4, 4, 1, 1, 3],\n",
       "       [4, 1, 1, 4, 0, 1, 4, 2, 2, 0, 2, 1],\n",
       "       [3, 2, 2, 1, 0, 4, 2, 1, 0, 2, 2, 0],\n",
       "       [4, 3, 0, 4, 0, 1, 0, 2, 2, 1, 2, 1],\n",
       "       [4, 3, 3, 1, 0, 3, 4, 4, 3, 3, 2, 3],\n",
       "       [1, 3, 1, 3, 0, 0, 1, 1, 2, 3, 2, 2],\n",
       "       [4, 1, 1, 4, 0, 1, 4, 4, 4, 1, 2, 1],\n",
       "       [2, 1, 1, 2, 1, 3, 3, 3, 3, 3, 2, 1],\n",
       "       [4, 2, 2, 4, 0, 1, 2, 4, 4, 2, 3, 1],\n",
       "       [4, 4, 2, 1, 0, 2, 1, 4, 4, 3, 4, 2],\n",
       "       [1, 2, 2, 3, 2, 3, 4, 2, 4, 2, 2, 2],\n",
       "       [4, 1, 1, 4, 0, 1, 1, 4, 2, 1, 4, 1],\n",
       "       [3, 1, 3, 1, 0, 2, 4, 4, 3, 2, 2, 3],\n",
       "       [0, 2, 2, 3, 1, 2, 3, 2, 2, 0, 1, 1],\n",
       "       [4, 3, 3, 4, 0, 1, 0, 4, 2, 0, 2, 1]])"
      ]
     },
     "execution_count": 132,
     "metadata": {},
     "output_type": "execute_result"
    }
   ],
   "source": [
    "anno.annotations"
   ]
  },
  {
   "cell_type": "code",
   "execution_count": 133,
   "metadata": {},
   "outputs": [
    {
     "data": {
      "text/plain": [
       "[1.0, 2.0, 3.0, 4.0, 5.0]"
      ]
     },
     "execution_count": 133,
     "metadata": {},
     "output_type": "execute_result"
    }
   ],
   "source": [
    "anno.labels"
   ]
  },
  {
   "cell_type": "code",
   "execution_count": 137,
   "metadata": {},
   "outputs": [
    {
     "data": {
      "text/plain": [
       "array([0.14423077, 0.24679487, 0.20032051, 0.19871795, 0.2099359 ])"
      ]
     },
     "execution_count": 137,
     "metadata": {},
     "output_type": "execute_result"
    }
   ],
   "source": [
    "pyanno.measures.agreement.labels_frequency(anno.annotations,0)"
   ]
  },
  {
   "cell_type": "code",
   "execution_count": null,
   "metadata": {
    "collapsed": true
   },
   "outputs": [],
   "source": [
    "#Confusion Matrix"
   ]
  },
  {
   "cell_type": "code",
   "execution_count": 154,
   "metadata": {},
   "outputs": [
    {
     "name": "stdout",
     "output_type": "stream",
     "text": [
      "[[ 0.  3.  2.  0.  0.]\n",
      " [ 0.  0.  4.  3.  0.]\n",
      " [ 0.  3.  0.  0.  0.]\n",
      " [ 0.  3.  2.  2.  0.]\n",
      " [ 0. 11.  2. 16.  1.]]\n"
     ]
    },
    {
     "data": {
      "image/png": "[encoded data removed]",
      "text/plain": [
       "<matplotlib.figure.Figure at 0x1252cacf8>"
      ]
     },
     "metadata": {},
     "output_type": "display_data"
    }
   ],
   "source": [
    "c = pyanno.measures.agreement.confusion_matrix(anno.annotations[:,0], anno.annotations[:,1],5)\n",
    "print(c)\n",
    "ac = seaborn.heatmap(c)\n",
    "plt.show()"
   ]
  },
  {
   "cell_type": "code",
   "execution_count": 155,
   "metadata": {},
   "outputs": [
    {
     "data": {
      "text/plain": [
       "-0.2508591065292097"
      ]
     },
     "execution_count": 155,
     "metadata": {},
     "output_type": "execute_result"
    }
   ],
   "source": [
    "scotts_pi(anno.annotations[:,0], anno.annotations[:,1])"
   ]
  },
  {
   "cell_type": "code",
   "execution_count": 156,
   "metadata": {},
   "outputs": [
    {
     "data": {
      "text/plain": [
       "0.03265990436560385"
      ]
     },
     "execution_count": 156,
     "metadata": {},
     "output_type": "execute_result"
    }
   ],
   "source": [
    "fleiss_kappa(anno.annotations[::])"
   ]
  },
  {
   "cell_type": "code",
   "execution_count": 157,
   "metadata": {},
   "outputs": [
    {
     "data": {
      "text/plain": [
       "0.07626741959451422"
      ]
     },
     "execution_count": 157,
     "metadata": {},
     "output_type": "execute_result"
    }
   ],
   "source": [
    "krippendorffs_alpha(anno.annotations[::])"
   ]
  },
  {
   "cell_type": "code",
   "execution_count": 158,
   "metadata": {},
   "outputs": [
    {
     "data": {
      "text/plain": [
       "-0.08103521425540942"
      ]
     },
     "execution_count": 158,
     "metadata": {},
     "output_type": "execute_result"
    }
   ],
   "source": [
    "cohens_kappa(anno.annotations[:,0], anno.annotations[:,1])"
   ]
  },
  {
   "cell_type": "code",
   "execution_count": 159,
   "metadata": {},
   "outputs": [
    {
     "name": "stdout",
     "output_type": "stream",
     "text": [
      "[[ 1.         -0.08103521  0.04666667  0.12696747  0.08110557 -0.01313003\n",
      "   0.15217391  0.21551724  0.04455673  0.01541171  0.07230047 -0.04610226]\n",
      " [-0.08103521  1.          0.21417405 -0.04193849  0.00557769  0.16407982\n",
      "  -0.02006242  0.05699482 -0.01157943  0.15426318 -0.05513895  0.0828434 ]\n",
      " [ 0.04666667  0.21417405  1.         -0.05548038  0.02315422  0.1929643\n",
      "   0.04265828 -0.04266212 -0.04094631  0.18431373 -0.10884052  0.21986549]\n",
      " [ 0.12696747 -0.04193849 -0.05548038  1.          0.06145251 -0.13358071\n",
      "   0.09390126  0.04278607 -0.02831461  0.07706679 -0.02662994  0.03480278]\n",
      " [ 0.08110557  0.00557769  0.02315422  0.06145251  1.         -0.0594947\n",
      "   0.12930233  0.04931973  0.03786575  0.1149954   0.1641286   0.08103448]\n",
      " [-0.01313003  0.16407982  0.1929643  -0.13358071 -0.0594947   1.\n",
      "  -0.11777877 -0.00862069 -0.00321543  0.05081401 -0.10198675  0.30961232]\n",
      " [ 0.15217391 -0.02006242  0.04265828  0.09390126  0.12930233 -0.11777877\n",
      "   1.          0.04725169 -0.00630063  0.15584416  0.05762082 -0.11445508]\n",
      " [ 0.21551724  0.05699482 -0.04266212  0.04278607  0.04931973 -0.00862069\n",
      "   0.04725169  1.          0.1596474  -0.05984389  0.23449001 -0.01098901]\n",
      " [ 0.04455673 -0.01157943 -0.04094631 -0.02831461  0.03786575 -0.00321543\n",
      "  -0.00630063  0.1596474   1.          0.07061901  0.17671093 -0.0039491 ]\n",
      " [ 0.01541171  0.15426318  0.18431373  0.07706679  0.1149954   0.05081401\n",
      "   0.15584416 -0.05984389  0.07061901  1.          0.05208333  0.10208228]\n",
      " [ 0.07230047 -0.05513895 -0.10884052 -0.02662994  0.1641286  -0.10198675\n",
      "   0.05762082  0.23449001  0.17671093  0.05208333  1.          0.05413599]\n",
      " [-0.04610226  0.0828434   0.21986549  0.03480278  0.08103448  0.30961232\n",
      "  -0.11445508 -0.01098901 -0.0039491   0.10208228  0.05413599  1.        ]]\n"
     ]
    }
   ],
   "source": [
    "m = pairwise_matrix(cohens_kappa, anno.annotations)\n",
    "print(m)"
   ]
  },
  {
   "cell_type": "code",
   "execution_count": 160,
   "metadata": {},
   "outputs": [
    {
     "data": {
      "image/png": "[encoded data removed]",
      "text/plain": [
       "<matplotlib.figure.Figure at 0x11c5be0b8>"
      ]
     },
     "metadata": {},
     "output_type": "display_data"
    }
   ],
   "source": [
    "ax = seaborn.heatmap(m)\n",
    "plt.show()"
   ]
  },
  {
   "cell_type": "code",
   "execution_count": 161,
   "metadata": {},
   "outputs": [
    {
     "data": {
      "text/plain": [
       "0.04941031768283482"
      ]
     },
     "execution_count": 161,
     "metadata": {},
     "output_type": "execute_result"
    }
   ],
   "source": [
    "def pairwise_metric_average(metric, array):\n",
    "    \"\"\"Calculate the pairwise metric average for the real elements of metric function run on an array of annotations\"\"\"\n",
    "    p = permutations(range(array[0,:].size),2)\n",
    "    m = [metric(array[:,response[0]], array[:,response[1]]) for response in p]\n",
    "    clean_m = [c for c in m if not math.isnan(c)]\n",
    "    return reduce(lambda a, b: a + b, clean_m)/len(clean_m)    \n",
    " \n",
    "pairwise_metric_average(cohens_kappa, anno.annotations)"
   ]
  },
  {
   "cell_type": "code",
   "execution_count": 162,
   "metadata": {},
   "outputs": [
    {
     "data": {
      "text/plain": [
       "0.05049594229035137"
      ]
     },
     "execution_count": 162,
     "metadata": {},
     "output_type": "execute_result"
    }
   ],
   "source": [
    "cohens_weighted_kappa(anno.annotations[:,0], anno.annotations[:,1])"
   ]
  },
  {
   "cell_type": "code",
   "execution_count": 163,
   "metadata": {},
   "outputs": [
    {
     "data": {
      "text/plain": [
       "0.07187809541569443"
      ]
     },
     "execution_count": 163,
     "metadata": {},
     "output_type": "execute_result"
    }
   ],
   "source": [
    "pairwise_metric_average(cohens_weighted_kappa,anno.annotations)"
   ]
  },
  {
   "cell_type": "code",
   "execution_count": 164,
   "metadata": {},
   "outputs": [
    {
     "data": {
      "image/png": "[encoded data removed]",
      "text/plain": [
       "<matplotlib.figure.Figure at 0x125a38a20>"
      ]
     },
     "metadata": {},
     "output_type": "display_data"
    },
    {
     "data": {
      "image/png": "[encoded data removed]",
      "text/plain": [
       "<matplotlib.figure.Figure at 0x12522ba90>"
      ]
     },
     "metadata": {},
     "output_type": "display_data"
    }
   ],
   "source": [
    "n = pairwise_matrix(pearsons_rho, anno.annotations)\n",
    "m = pairwise_matrix(spearmans_rho, anno.annotations)\n",
    "an = seaborn.heatmap(n)\n",
    "plt.show()\n",
    "am = seaborn.heatmap(m)\n",
    "plt.show()"
   ]
  },
  {
   "cell_type": "code",
   "execution_count": 165,
   "metadata": {},
   "outputs": [
    {
     "name": "stdout",
     "output_type": "stream",
     "text": [
      "0.11158415085235257 0.10813045969605206\n"
     ]
    }
   ],
   "source": [
    "print(pairwise_metric_average(pearsons_rho,anno.annotations), pairwise_metric_average(spearmans_rho,anno.annotations))"
   ]
  },
  {
   "cell_type": "markdown",
   "metadata": {},
   "source": [
    "I am not convinced by the accuracy of these surveys given the Scotts Pi or Cohens Kappa results found above. While my data set contained over 50 survey responses, each with 12 texts being measured, I believe that the responses were too varied, which suggest that the bases of my survey - cluster representation - may have been less accurate than initially thought. Alternatively, there may have been issues with the formation of my survey which lead to such varied responses. "
   ]
  },
  {
   "cell_type": "markdown",
   "metadata": {},
   "source": [
    "# Models"
   ]
  },
  {
   "cell_type": "markdown",
   "metadata": {},
   "source": [
    "However, what if some coders are better than others. The prior measures all rely on the assumption that all coders are equally good. What if some are worse than others? Now we use Rzhetsky et al (2009) and Dawid & Skene's models to make inference about true label classes by downweighting bad or deviant coders. Pyanno provides two relevant models: ModelB and ModelBt. Model B with $\\theta$s models the relationship between each coder and code. Model B is a Bayesian generalization of the Dawid & Skene model from the reading. The following image schematically describes these models. <img src=\"../data/pyanno/Bmodel.png\">"
   ]
  },
  {
   "cell_type": "markdown",
   "metadata": {},
   "source": [
    "The models should provide very similar results. To estimate the parameters for any models, we first need to create a new model. "
   ]
  },
  {
   "cell_type": "code",
   "execution_count": 170,
   "metadata": {},
   "outputs": [
    {
     "name": "stdout",
     "output_type": "stream",
     "text": [
      "[[[0.73912532 0.1187446  0.11656892 0.01065885 0.01490232]\n",
      "  [0.08910658 0.72387226 0.11761321 0.03567265 0.03373529]\n",
      "  [0.03373718 0.13676689 0.60332017 0.1229507  0.10322506]\n",
      "  [0.03281661 0.03947706 0.07339316 0.62886438 0.22544879]\n",
      "  [0.08537758 0.02538174 0.05873938 0.08859708 0.74190422]]\n",
      "\n",
      " [[0.72787553 0.12460346 0.06087877 0.01639697 0.07024527]\n",
      "  [0.1172219  0.63860928 0.12601975 0.10494735 0.01320172]\n",
      "  [0.03752935 0.0419433  0.53880029 0.27753156 0.1041955 ]\n",
      "  [0.06308621 0.09151332 0.02910705 0.53503383 0.28125958]\n",
      "  [0.02068863 0.0186071  0.02892152 0.28254861 0.64923414]]\n",
      "\n",
      " [[0.8524793  0.06317235 0.04854649 0.00140928 0.03439258]\n",
      "  [0.21497209 0.46001943 0.23471962 0.03675342 0.05353545]\n",
      "  [0.02372    0.22796129 0.52778168 0.16029811 0.06023892]\n",
      "  [0.02293811 0.04889713 0.09531019 0.66884938 0.16400519]\n",
      "  [0.00800459 0.02289861 0.04869542 0.2577979  0.66260348]]\n",
      "\n",
      " [[0.6400192  0.09885147 0.1743343  0.00767184 0.07912319]\n",
      "  [0.02943096 0.75040985 0.1212429  0.0744546  0.02446169]\n",
      "  [0.14931523 0.14387671 0.52455212 0.15689797 0.02535797]\n",
      "  [0.00768555 0.0570183  0.09399704 0.51061561 0.3306835 ]\n",
      "  [0.0058456  0.0203298  0.14051395 0.18000434 0.65330631]]\n",
      "\n",
      " [[0.73917144 0.21412215 0.02978424 0.00245779 0.01446438]\n",
      "  [0.20517747 0.44927441 0.28359341 0.01023872 0.05171599]\n",
      "  [0.01003781 0.2149414  0.62652024 0.14167889 0.00682166]\n",
      "  [0.01719868 0.03050522 0.18958623 0.62972634 0.13298354]\n",
      "  [0.07582566 0.03993845 0.0329707  0.13595259 0.7153126 ]]\n",
      "\n",
      " [[0.43686643 0.26923488 0.14765178 0.09848595 0.04776097]\n",
      "  [0.15912528 0.60510619 0.13950164 0.07735192 0.01891497]\n",
      "  [0.02354547 0.25068513 0.59807367 0.12387337 0.00382236]\n",
      "  [0.08878137 0.05530418 0.08857655 0.67173368 0.09560422]\n",
      "  [0.10107985 0.08359098 0.11690337 0.20059596 0.49782985]]\n",
      "\n",
      " [[0.83195515 0.08943354 0.07343833 0.00143393 0.00373906]\n",
      "  [0.09245142 0.59072503 0.30138609 0.00109003 0.01434743]\n",
      "  [0.07241421 0.06949462 0.4774045  0.25101287 0.12967381]\n",
      "  [0.00798369 0.0341604  0.26176116 0.5607787  0.13531606]\n",
      "  [0.05411105 0.01396607 0.06346432 0.04003014 0.82842843]]\n",
      "\n",
      " [[0.6635074  0.24650014 0.03625962 0.00343664 0.05029621]\n",
      "  [0.08518032 0.57499776 0.27042801 0.04911156 0.02028234]\n",
      "  [0.00458685 0.13345544 0.66278613 0.16629754 0.03287403]\n",
      "  [0.00145638 0.11528234 0.08098064 0.66139984 0.1408808 ]\n",
      "  [0.04891373 0.00245647 0.08408165 0.05841629 0.80613186]]\n",
      "\n",
      " [[0.74333409 0.11819667 0.09459583 0.0400397  0.0038337 ]\n",
      "  [0.15699316 0.66868649 0.08959395 0.07026302 0.01446338]\n",
      "  [0.02639196 0.04172358 0.61414791 0.19791663 0.11981993]\n",
      "  [0.06209551 0.02757635 0.11647328 0.70513658 0.08871828]\n",
      "  [0.02488118 0.00343545 0.19163832 0.24132807 0.53871698]]\n",
      "\n",
      " [[0.61249134 0.1449854  0.03893088 0.1362854  0.06730698]\n",
      "  [0.13378087 0.59787332 0.05964119 0.17705713 0.03164749]\n",
      "  [0.01352315 0.17176788 0.69122393 0.09857162 0.02491342]\n",
      "  [0.03796046 0.04329374 0.18918981 0.56077916 0.16877684]\n",
      "  [0.0075039  0.00353862 0.21220606 0.10584867 0.67090276]]\n",
      "\n",
      " [[0.68642922 0.19782662 0.0143164  0.09196153 0.00946623]\n",
      "  [0.08980234 0.50111954 0.19280661 0.15729254 0.05897896]\n",
      "  [0.0511464  0.15359402 0.60827002 0.15163936 0.03535021]\n",
      "  [0.0243884  0.14728696 0.19675127 0.47622881 0.15534456]\n",
      "  [0.03383825 0.00622368 0.05734507 0.26929118 0.63330182]]\n",
      "\n",
      " [[0.75201242 0.11554847 0.07016629 0.03803948 0.02423333]\n",
      "  [0.09166819 0.47222751 0.38725409 0.0262892  0.022561  ]\n",
      "  [0.12432905 0.19831568 0.48517564 0.12875901 0.06342062]\n",
      "  [0.00328226 0.04905352 0.17405349 0.62967331 0.14393742]\n",
      "  [0.04248141 0.03957744 0.08542942 0.17535548 0.65715625]]]\n",
      "-1202.6417729440825\n"
     ]
    }
   ],
   "source": [
    "# create a new instance of model B, with 4 label classes\n",
    "model = ModelB.create_initial_state(5, 12)\n",
    "# other model parameters are initialized from the model prior\n",
    "print(model.theta)\n",
    "print(model.log_likelihood(anno.annotations))"
   ]
  },
  {
   "cell_type": "markdown",
   "metadata": {},
   "source": [
    "Now we train the model on our data. Pyanno allows one to use either MAP (maximum a posteriori estimation) or MLE (maximum likelihood estimation) to estimate model parameters. Note that the parameters here correspond to our estimation of the accuracy of each annotator-annotation pair. First we will train with MAP, and then you can optionally training with MLE."
   ]
  },
  {
   "cell_type": "code",
   "execution_count": 171,
   "metadata": {
    "collapsed": true
   },
   "outputs": [],
   "source": [
    "samples = model.sample_posterior_over_accuracy(anno.annotations, 200, burn_in_samples=100, thin_samples=3)"
   ]
  },
  {
   "cell_type": "code",
   "execution_count": 172,
   "metadata": {},
   "outputs": [
    {
     "name": "stdout",
     "output_type": "stream",
     "text": [
      "[[[8.00024135e-001 1.49981899e-001 4.99939663e-002 0.00000000e+000\n",
      "   4.04711821e-238]\n",
      "  [8.26853245e-002 2.97028663e-001 7.74669301e-002 9.86113427e-002\n",
      "   4.44207740e-001]\n",
      "  [9.51362689e-002 2.22247681e-001 5.21374198e-001 1.28266364e-001\n",
      "   3.29754875e-002]\n",
      "  [0.00000000e+000 4.34467438e-002 1.31104985e-001 6.95107520e-001\n",
      "   1.30340752e-001]\n",
      "  [0.00000000e+000 2.59738345e-205 4.55459394e-002 1.36637823e-001\n",
      "   8.17816238e-001]]\n",
      "\n",
      " [[7.49909494e-001 1.99877317e-001 5.02131890e-002 0.00000000e+000\n",
      "   0.00000000e+000]\n",
      "  [4.93292399e-002 5.37838571e-001 9.97975077e-002 3.13034681e-001\n",
      "   8.22987233e-050]\n",
      "  [3.20431234e-002 1.36982258e-001 7.02463578e-001 9.64248067e-002\n",
      "   3.20862336e-002]\n",
      "  [0.00000000e+000 4.42230439e-002 1.30335525e-001 6.95108258e-001\n",
      "   1.30333172e-001]\n",
      "  [0.00000000e+000 1.02482549e-085 4.57211060e-002 2.25605140e-001\n",
      "   7.28673754e-001]]\n",
      "\n",
      " [[8.00024135e-001 1.49981899e-001 4.99939663e-002 0.00000000e+000\n",
      "   0.00000000e+000]\n",
      "  [1.15186196e-001 5.37678554e-001 1.32648594e-001 2.14486657e-001\n",
      "   0.00000000e+000]\n",
      "  [1.27930216e-001 1.05190548e-001 6.38625277e-001 9.62108352e-002\n",
      "   3.20431234e-002]\n",
      "  [2.39592759e-077 4.42193201e-002 1.30340979e-001 6.95106529e-001\n",
      "   1.30333172e-001]\n",
      "  [0.00000000e+000 0.00000000e+000 9.12057689e-002 2.25605140e-001\n",
      "   6.83189091e-001]]\n",
      "\n",
      " [[7.49909494e-001 1.49981899e-001 1.00108607e-001 0.00000000e+000\n",
      "   0.00000000e+000]\n",
      "  [8.21952969e-002 4.76563274e-001 7.77162891e-002 8.34118203e-002\n",
      "   2.80113320e-001]\n",
      "  [6.41254223e-002 1.28764380e-001 5.52854043e-001 1.89923495e-001\n",
      "   6.43326592e-002]\n",
      "  [0.00000000e+000 4.34443908e-002 1.31104985e-001 6.95115326e-001\n",
      "   1.30335299e-001]\n",
      "  [0.00000000e+000 4.54969563e-002 4.55459394e-002 1.36637823e-001\n",
      "   7.72319281e-001]]\n",
      "\n",
      " [[7.99804912e-001 1.49981899e-001 5.02131890e-002 0.00000000e+000\n",
      "   0.00000000e+000]\n",
      "  [5.41960708e-001 2.74979784e-001 4.95354034e-002 1.76745318e-002\n",
      "   1.15849573e-001]\n",
      "  [6.53486136e-002 1.36473697e-001 5.44189098e-001 2.21905384e-001\n",
      "   3.20832073e-002]\n",
      "  [7.17998983e-067 4.42179313e-002 1.30335525e-001 6.95105791e-001\n",
      "   1.30340752e-001]\n",
      "  [4.56721229e-002 0.00000000e+000 4.55459394e-002 1.36637823e-001\n",
      "   7.72144115e-001]]\n",
      "\n",
      " [[7.49909494e-001 2.00096540e-001 4.99939663e-002 0.00000000e+000\n",
      "   0.00000000e+000]\n",
      "  [6.57229710e-002 4.95123860e-001 1.47998625e-001 2.91154545e-001\n",
      "   1.39603526e-056]\n",
      "  [6.41824146e-002 1.57948820e-001 5.76794060e-001 1.36988459e-001\n",
      "   6.40862469e-002]\n",
      "  [0.00000000e+000 4.34451293e-002 1.30338626e-001 6.95883073e-001\n",
      "   1.30333172e-001]\n",
      "  [0.00000000e+000 8.91301906e-002 9.10306022e-002 1.36650116e-001\n",
      "   6.83189091e-001]]\n",
      "\n",
      " [[7.50128717e-001 1.49981899e-001 9.98893846e-002 0.00000000e+000\n",
      "   0.00000000e+000]\n",
      "  [1.97501281e-001 3.95699897e-001 1.31320813e-001 4.48760337e-002\n",
      "   2.30601975e-001]\n",
      "  [6.35865462e-002 1.90223275e-001 5.13065345e-001 1.68496557e-001\n",
      "   6.46282767e-002]\n",
      "  [3.45577954e-235 4.34461191e-002 1.73778555e-001 6.52438077e-001\n",
      "   1.30337249e-001]\n",
      "  [3.58751386e-107 4.54846628e-002 4.57211107e-002 1.81938705e-001\n",
      "   7.26855522e-001]]\n",
      "\n",
      " [[7.50128717e-001 1.99877317e-001 4.99939663e-002 0.00000000e+000\n",
      "   0.00000000e+000]\n",
      "  [5.06139747e-002 2.95854553e-001 2.63143159e-001 4.45810283e-002\n",
      "   3.45807286e-001]\n",
      "  [9.34852606e-002 1.60514357e-001 5.76667192e-001 1.36859501e-001\n",
      "   3.24736894e-002]\n",
      "  [0.00000000e+000 4.34443908e-002 1.30338642e-001 6.95877604e-001\n",
      "   1.30339363e-001]\n",
      "  [0.00000000e+000 0.00000000e+000 4.55459394e-002 1.36637823e-001\n",
      "   8.17816238e-001]]\n",
      "\n",
      " [[7.99804912e-001 1.49981899e-001 5.02131890e-002 0.00000000e+000\n",
      "   1.26430442e-015]\n",
      "  [9.86907728e-002 2.79519481e-001 2.97406002e-001 2.08763623e-001\n",
      "   1.15620121e-001]\n",
      "  [6.40864801e-002 9.61531929e-002 6.05893321e-001 1.69374372e-001\n",
      "   6.44926344e-002]\n",
      "  [1.43823779e-274 4.34461191e-002 1.73774491e-001 6.52437674e-001\n",
      "   1.30341716e-001]\n",
      "  [0.00000000e+000 0.00000000e+000 4.55459441e-002 1.36650112e-001\n",
      "   8.17803944e-001]]\n",
      "\n",
      " [[7.99804912e-001 1.49981899e-001 5.02131890e-002 0.00000000e+000\n",
      "   0.00000000e+000]\n",
      "  [1.81163385e-001 5.43494863e-001 8.22330942e-002 1.27278996e-001\n",
      "   6.58296613e-002]\n",
      "  [9.56283664e-002 1.58508642e-001 6.08519384e-001 1.05241144e-001\n",
      "   3.21024632e-002]\n",
      "  [0.00000000e+000 4.34515736e-002 1.30335525e-001 6.95877938e-001\n",
      "   1.30334963e-001]\n",
      "  [5.91519448e-040 1.36268215e-104 4.57211060e-002 2.25788917e-001\n",
      "   7.28489977e-001]]\n",
      "\n",
      " [[7.99804912e-001 1.50201121e-001 4.99939663e-002 0.00000000e+000\n",
      "   0.00000000e+000]\n",
      "  [9.86818796e-002 2.81041653e-001 4.05935444e-001 3.27111399e-002\n",
      "   1.81629883e-001]\n",
      "  [3.20606871e-002 1.89171730e-001 5.86218342e-001 1.60433448e-001\n",
      "   3.21157931e-002]\n",
      "  [0.00000000e+000 4.34515724e-002 1.74548656e-001 6.51665862e-001\n",
      "   1.30333910e-001]\n",
      "  [0.00000000e+000 0.00000000e+000 4.55582375e-002 1.36812985e-001\n",
      "   8.17628778e-001]]\n",
      "\n",
      " [[7.99804912e-001 1.50201121e-001 4.99939663e-002 0.00000000e+000\n",
      "   0.00000000e+000]\n",
      "  [1.16218196e-001 5.71687775e-001 1.14780106e-001 1.97313924e-001\n",
      "   0.00000000e+000]\n",
      "  [9.40165122e-002 1.68329612e-001 5.77444023e-001 1.28166729e-001\n",
      "   3.20431234e-002]\n",
      "  [0.00000000e+000 4.42169416e-002 1.30335525e-001 6.95114361e-001\n",
      "   1.30333172e-001]\n",
      "  [0.00000000e+000 8.91301906e-002 9.10306022e-002 1.36650116e-001\n",
      "   6.83189091e-001]]]\n",
      "-830.0985809822162\n"
     ]
    },
    {
     "name": "stderr",
     "output_type": "stream",
     "text": [
      "/anaconda3/lib/python3.6/site-packages/pyanno/util.py:80: RuntimeWarning: divide by zero encountered in log\n",
      "  log_theta = ninf_to_num(log(theta))\n"
     ]
    }
   ],
   "source": [
    "model.map(anno.annotations)\n",
    "print(model.theta)\n",
    "print(model.log_likelihood(anno.annotations))"
   ]
  },
  {
   "cell_type": "markdown",
   "metadata": {},
   "source": [
    "Uncomment the cell below if you would rather train by MLE."
   ]
  },
  {
   "cell_type": "code",
   "execution_count": 173,
   "metadata": {
    "collapsed": true
   },
   "outputs": [],
   "source": [
    "#model = ModelB.create_initial_state(4,8)\n",
    "#model.mle(anno.annotations)\n",
    "#print(model.theta)\n",
    "#print(model.log_likelihood(anno.annotations))"
   ]
  },
  {
   "cell_type": "markdown",
   "metadata": {},
   "source": [
    "Once we have model parameters estimated, we can now make inferences about the true label classes. We can calculate the posterior distribution over the true label classes."
   ]
  },
  {
   "cell_type": "code",
   "execution_count": 174,
   "metadata": {},
   "outputs": [
    {
     "name": "stdout",
     "output_type": "stream",
     "text": [
      "[[0.00000000e+000 4.15284693e-002 1.15498248e-009 7.69794693e-006\n",
      "  9.58463832e-001]\n",
      " [5.20322657e-015 9.99584361e-001 4.15639076e-004 0.00000000e+000\n",
      "  0.00000000e+000]\n",
      " [9.98028825e-001 1.96411189e-003 7.06333925e-006 0.00000000e+000\n",
      "  0.00000000e+000]\n",
      " [0.00000000e+000 9.98966153e-001 1.03384730e-003 0.00000000e+000\n",
      "  0.00000000e+000]\n",
      " [0.00000000e+000 9.99999928e-001 7.15878951e-008 1.74855041e-280\n",
      "  0.00000000e+000]\n",
      " [7.96769018e-243 9.99997377e-001 2.62263047e-006 0.00000000e+000\n",
      "  0.00000000e+000]\n",
      " [0.00000000e+000 5.37088270e-003 1.18026648e-009 9.27378348e-006\n",
      "  9.94619842e-001]\n",
      " [4.38501011e-003 1.16783886e-002 9.83936601e-001 0.00000000e+000\n",
      "  0.00000000e+000]\n",
      " [0.00000000e+000 5.09211041e-003 9.94907890e-001 0.00000000e+000\n",
      "  0.00000000e+000]\n",
      " [0.00000000e+000 9.99954665e-001 1.33965931e-005 3.19386669e-005\n",
      "  0.00000000e+000]\n",
      " [0.00000000e+000 3.10892230e-003 9.96891078e-001 4.23630074e-078\n",
      "  0.00000000e+000]\n",
      " [0.00000000e+000 9.99998422e-001 1.57817161e-006 5.42465988e-241\n",
      "  0.00000000e+000]\n",
      " [0.00000000e+000 9.99553148e-001 4.07070980e-004 3.97811827e-005\n",
      "  0.00000000e+000]\n",
      " [0.00000000e+000 6.64596413e-002 9.33540359e-001 0.00000000e+000\n",
      "  0.00000000e+000]\n",
      " [0.00000000e+000 9.99987400e-001 1.25995514e-005 0.00000000e+000\n",
      "  0.00000000e+000]\n",
      " [0.00000000e+000 9.99998415e-001 1.58513800e-006 0.00000000e+000\n",
      "  0.00000000e+000]\n",
      " [0.00000000e+000 9.99999908e-001 9.18640787e-008 0.00000000e+000\n",
      "  1.34681503e-040]\n",
      " [0.00000000e+000 2.26913125e-004 9.99773087e-001 0.00000000e+000\n",
      "  0.00000000e+000]\n",
      " [0.00000000e+000 9.99999985e-001 1.48258470e-008 0.00000000e+000\n",
      "  0.00000000e+000]\n",
      " [0.00000000e+000 9.99999928e-001 7.15878951e-008 1.74855041e-280\n",
      "  0.00000000e+000]\n",
      " [0.00000000e+000 9.99526052e-001 4.73948419e-004 1.06981134e-068\n",
      "  2.31157787e-210]\n",
      " [0.00000000e+000 9.99999993e-001 7.28919793e-009 1.03156431e-071\n",
      "  0.00000000e+000]\n",
      " [0.00000000e+000 9.99890129e-001 1.09871470e-004 0.00000000e+000\n",
      "  0.00000000e+000]\n",
      " [0.00000000e+000 9.99663599e-001 3.36401223e-004 0.00000000e+000\n",
      "  0.00000000e+000]\n",
      " [0.00000000e+000 9.99999849e-001 1.51009424e-007 5.49675462e-072\n",
      "  3.13278792e-110]\n",
      " [0.00000000e+000 9.99874943e-001 1.25056972e-004 0.00000000e+000\n",
      "  0.00000000e+000]\n",
      " [0.00000000e+000 9.99999928e-001 7.15878951e-008 1.74855041e-280\n",
      "  0.00000000e+000]\n",
      " [0.00000000e+000 9.99531750e-001 4.68249664e-004 1.13718779e-145\n",
      "  0.00000000e+000]\n",
      " [0.00000000e+000 9.99992322e-001 7.67791597e-006 1.66832225e-071\n",
      "  1.10261262e-193]\n",
      " [0.00000000e+000 9.99999713e-001 2.86729853e-007 5.99050746e-303\n",
      "  3.50269498e-111]\n",
      " [0.00000000e+000 9.99994889e-001 5.11126377e-006 0.00000000e+000\n",
      "  3.23296562e-235]\n",
      " [0.00000000e+000 9.99965231e-001 3.47690476e-005 0.00000000e+000\n",
      "  0.00000000e+000]\n",
      " [0.00000000e+000 9.99996994e-001 2.97826706e-006 2.80746941e-008\n",
      "  0.00000000e+000]\n",
      " [0.00000000e+000 9.59950651e-006 9.29973789e-005 9.99897300e-001\n",
      "  1.02834050e-007]\n",
      " [0.00000000e+000 9.83814872e-001 1.61851279e-002 7.47058073e-147\n",
      "  0.00000000e+000]\n",
      " [0.00000000e+000 9.99999957e-001 4.25391088e-008 1.92905463e-072\n",
      "  7.08794714e-191]\n",
      " [0.00000000e+000 9.99999635e-001 3.64633604e-007 0.00000000e+000\n",
      "  0.00000000e+000]\n",
      " [0.00000000e+000 9.98641751e-001 1.23272814e-003 1.25520912e-004\n",
      "  0.00000000e+000]\n",
      " [0.00000000e+000 9.99998059e-001 1.94054717e-006 0.00000000e+000\n",
      "  0.00000000e+000]\n",
      " [0.00000000e+000 6.02843079e-056 1.00000000e+000 0.00000000e+000\n",
      "  0.00000000e+000]\n",
      " [0.00000000e+000 9.99991543e-001 8.45670084e-006 0.00000000e+000\n",
      "  0.00000000e+000]\n",
      " [0.00000000e+000 9.99729531e-001 5.50472640e-007 8.81138961e-068\n",
      "  2.69918535e-004]\n",
      " [0.00000000e+000 9.91906101e-001 8.09389939e-003 0.00000000e+000\n",
      "  0.00000000e+000]\n",
      " [0.00000000e+000 9.99999987e-001 1.25794260e-008 1.79720384e-075\n",
      "  0.00000000e+000]\n",
      " [0.00000000e+000 7.08012509e-001 2.74220493e-001 1.77669982e-002\n",
      "  0.00000000e+000]\n",
      " [0.00000000e+000 9.86020304e-001 1.01338515e-002 7.23188589e-070\n",
      "  3.84584440e-003]\n",
      " [0.00000000e+000 1.94162496e-047 1.34538611e-003 5.13940310e-069\n",
      "  9.98654614e-001]\n",
      " [0.00000000e+000 8.59612636e-004 9.99086226e-001 5.41614120e-005\n",
      "  2.43418732e-210]\n",
      " [0.00000000e+000 9.99999990e-001 9.64934087e-009 3.01976905e-076\n",
      "  0.00000000e+000]\n",
      " [0.00000000e+000 9.99408990e-001 5.91010225e-004 8.36980721e-069\n",
      "  2.20534660e-089]\n",
      " [0.00000000e+000 1.54603996e-002 9.84539600e-001 0.00000000e+000\n",
      "  0.00000000e+000]\n",
      " [0.00000000e+000 9.99999735e-001 2.64897998e-007 0.00000000e+000\n",
      "  1.67080498e-149]]\n"
     ]
    }
   ],
   "source": [
    "posterior = model.infer_labels(anno.annotations)\n",
    "print(posterior)"
   ]
  },
  {
   "cell_type": "markdown",
   "metadata": {},
   "source": [
    "Let's turn the posterior of the first 100 samples into a heatmap and compare with the raw vote tallies."
   ]
  },
  {
   "cell_type": "code",
   "execution_count": 175,
   "metadata": {
    "collapsed": true
   },
   "outputs": [],
   "source": [
    "def makeQuestionComparison(model, anno_target, num_questions = 12):\n",
    "    votes = []\n",
    "    for r in anno_target.annotations:\n",
    "        v = [0] * len(anno_target.labels)\n",
    "        votes.append(v)\n",
    "        for a in r:\n",
    "            if a > -1:\n",
    "                v[a] += 1\n",
    "    votes_array = np.array(votes)\n",
    "    posterior = model.infer_labels(anno_target.annotations)\n",
    "    fig, (ax1, ax2) = plt.subplots(ncols=2, figsize = (15, 10), sharey=True)\n",
    "\n",
    "    seaborn.heatmap(votes_array[:num_questions], annot = True, ax=ax2)\n",
    "    seaborn.heatmap(np.nan_to_num(posterior,0)[:num_questions], annot=True, ax =ax1)\n",
    "    ax1.set_title(\"Model\")\n",
    "    ax2.set_title(\"Votes\")\n",
    "    return fig, (ax1, ax2)"
   ]
  },
  {
   "cell_type": "code",
   "execution_count": 176,
   "metadata": {},
   "outputs": [
    {
     "data": {
      "text/plain": [
       "(<matplotlib.figure.Figure at 0x1233bad30>,\n",
       " (<matplotlib.axes._subplots.AxesSubplot at 0x1233bacf8>,\n",
       "  <matplotlib.axes._subplots.AxesSubplot at 0x125dbf630>))"
      ]
     },
     "execution_count": 176,
     "metadata": {},
     "output_type": "execute_result"
    },
    {
     "data": {
      "image/png": "[encoded data removed]",
      "text/plain": [
       "<matplotlib.figure.Figure at 0x1233bad30>"
      ]
     },
     "metadata": {},
     "output_type": "display_data"
    }
   ],
   "source": [
    "makeQuestionComparison(model, anno)"
   ]
  },
  {
   "cell_type": "markdown",
   "metadata": {},
   "source": [
    "This differs markedly from taking annotator scores at face value. As you can see (the model-based probabilities are on left; the raw votes on right), the models helps us break ties between coders and in some cases dramatically downgrades the estimates from particularly bad coders."
   ]
  },
  {
   "cell_type": "markdown",
   "metadata": {},
   "source": [
    "Let's try everything again with ModelBt, which constrains ModelB so that each coder has a single estimate over the accuracy of all of their codes."
   ]
  },
  {
   "cell_type": "code",
   "execution_count": 177,
   "metadata": {},
   "outputs": [
    {
     "name": "stdout",
     "output_type": "stream",
     "text": [
      "[0.71223406 0.65636533 0.89826945 0.75974687 0.70003226 0.86170643\n",
      " 0.81106118 0.83517025 0.63345997 0.74544312 0.80320061 0.84135379]\n",
      "-1248.6474167788083\n"
     ]
    }
   ],
   "source": [
    "# create a new instance of model B, with 4 label classes and 8 annotators.\n",
    "model = ModelBt.create_initial_state(5, 12)\n",
    "print(model.theta)\n",
    "print(model.log_likelihood(anno.annotations))"
   ]
  },
  {
   "cell_type": "code",
   "execution_count": 178,
   "metadata": {},
   "outputs": [
    {
     "name": "stdout",
     "output_type": "stream",
     "text": [
      "[0.10465578 0.50010778 0.59499181 0.19411637 0.11332942 0.77548206\n",
      " 0.0855587  0.16825588 0.19823029 0.37128086 0.08875227 0.70729277]\n",
      "-946.2690960490393\n"
     ]
    }
   ],
   "source": [
    "model.map(anno.annotations)\n",
    "print(model.theta)\n",
    "print(model.log_likelihood(anno.annotations))"
   ]
  },
  {
   "cell_type": "code",
   "execution_count": 179,
   "metadata": {},
   "outputs": [
    {
     "data": {
      "text/plain": [
       "array([[0.18373868, 0.58240577, 0.58830476, ..., 0.47612431, 0.12570275,\n",
       "        0.54495304],\n",
       "       [0.18373868, 0.58240577, 0.58830476, ..., 0.47612431, 0.12570275,\n",
       "        0.54495304],\n",
       "       [0.18373868, 0.58240577, 0.58830476, ..., 0.47612431, 0.12570275,\n",
       "        0.54495304],\n",
       "       ...,\n",
       "       [0.12080669, 0.51370661, 0.44021389, ..., 0.29688795, 0.14433891,\n",
       "        0.66779605],\n",
       "       [0.12080669, 0.51370661, 0.44021389, ..., 0.29688795, 0.14433891,\n",
       "        0.66779605],\n",
       "       [0.12080669, 0.51370661, 0.44021389, ..., 0.29688795, 0.14433891,\n",
       "        0.66779605]])"
      ]
     },
     "execution_count": 179,
     "metadata": {},
     "output_type": "execute_result"
    }
   ],
   "source": [
    "model.sample_posterior_over_accuracy(anno.annotations, 200, burn_in_samples=100, thin_samples=3)"
   ]
  },
  {
   "cell_type": "code",
   "execution_count": 180,
   "metadata": {},
   "outputs": [
    {
     "name": "stdout",
     "output_type": "stream",
     "text": [
      "[[3.24663221e-03 6.54585452e-01 9.55259730e-04 3.41212656e-01\n",
      "  3.79892510e-12]\n",
      " [1.88457760e-04 8.95406783e-01 9.37865552e-02 1.06182037e-02\n",
      "  2.41663835e-10]\n",
      " [1.50873163e-01 8.24729462e-01 1.29545651e-03 2.31019185e-02\n",
      "  5.31653033e-10]\n",
      " [6.62695511e-03 9.08697004e-01 1.47408110e-02 6.99352297e-02\n",
      "  5.17857310e-10]\n",
      " [4.75928853e-03 9.39241086e-01 1.95627884e-02 3.64368370e-02\n",
      "  5.90961407e-12]\n",
      " [9.88884529e-05 9.99467078e-01 2.00698109e-05 4.13964200e-04\n",
      "  4.45426686e-12]\n",
      " [4.55444727e-03 9.18266910e-01 1.34005942e-03 7.58385832e-02\n",
      "  3.36357272e-11]\n",
      " [1.00699221e-02 9.50633569e-01 1.63979240e-02 2.28985848e-02\n",
      "  5.26973638e-10]\n",
      " [9.41578586e-01 7.23773884e-03 4.00888319e-02 1.10948432e-02\n",
      "  5.04987597e-10]\n",
      " [3.45713250e-03 1.22743136e-01 3.17123402e-04 8.73482608e-01\n",
      "  3.06496584e-11]\n",
      " [3.78507616e-01 1.45649778e-01 2.85993370e-01 1.89849233e-01\n",
      "  2.70227346e-09]\n",
      " [3.34115923e-05 9.99821185e-01 1.02334061e-05 1.35170355e-04\n",
      "  8.95290957e-13]\n",
      " [2.18215670e-03 3.37145875e-03 5.19535010e-04 9.93926849e-01\n",
      "  9.50162651e-11]\n",
      " [4.12617436e-01 1.77214503e-01 3.60997715e-01 4.91703446e-02\n",
      "  2.29717105e-09]\n",
      " [4.17943867e-02 8.28752571e-02 3.62837042e-04 8.74967519e-01\n",
      "  2.87113896e-10]\n",
      " [1.05409120e-03 9.96373647e-01 9.89472524e-05 2.47331447e-03\n",
      "  1.43786365e-11]\n",
      " [2.03157903e-04 2.53988646e-04 4.89504009e-05 9.99493903e-01\n",
      "  3.89309001e-13]\n",
      " [2.45530182e-03 6.16239724e-04 9.96777980e-01 1.50478014e-04\n",
      "  4.69743971e-11]\n",
      " [4.42950291e-04 8.37768853e-03 2.88355871e-04 9.90891005e-01\n",
      "  6.22027423e-12]\n",
      " [4.75928853e-03 9.39241086e-01 1.95627884e-02 3.64368370e-02\n",
      "  5.90961407e-12]\n",
      " [3.64262953e-05 1.88236142e-05 6.53562205e-06 9.99938214e-01\n",
      "  2.98907290e-12]\n",
      " [1.52822297e-03 2.50687939e-01 8.79497804e-04 7.46904341e-01\n",
      "  6.91756606e-12]\n",
      " [4.00295868e-04 1.01176950e-02 1.08360619e-03 9.88398403e-01\n",
      "  2.21468997e-11]\n",
      " [6.31480055e-02 6.88048228e-03 1.21750191e-02 9.17796493e-01\n",
      "  5.12052450e-10]\n",
      " [8.23312483e-04 2.00170908e-02 1.84593224e-04 9.78975004e-01\n",
      "  2.65283406e-11]\n",
      " [1.35925070e-02 8.65456254e-01 6.29111600e-04 1.20322127e-01\n",
      "  1.43739347e-10]\n",
      " [4.75928853e-03 9.39241086e-01 1.95627884e-02 3.64368370e-02\n",
      "  5.90961407e-12]\n",
      " [8.05197849e-02 5.85764740e-01 6.14799918e-03 3.27567474e-01\n",
      "  1.06207788e-09]\n",
      " [3.43007438e-04 3.45271925e-03 9.12777938e-05 9.96112996e-01\n",
      "  9.20913296e-12]\n",
      " [1.31926564e-04 9.69451128e-03 7.90341789e-05 9.90094528e-01\n",
      "  1.13581938e-11]\n",
      " [5.52206677e-04 9.85751772e-01 1.12072575e-04 1.35839486e-02\n",
      "  2.39652591e-11]\n",
      " [2.31002801e-01 7.51146201e-01 8.25433357e-04 1.70255645e-02\n",
      "  1.76508162e-10]\n",
      " [3.56214359e-04 9.96914051e-01 3.26756089e-05 2.69705883e-03\n",
      "  1.33695001e-12]\n",
      " [3.81956623e-04 5.76687896e-04 1.62051915e-05 9.99025150e-01\n",
      "  1.66312950e-11]\n",
      " [5.19080334e-02 5.93703411e-02 8.56392110e-01 3.23295155e-02\n",
      "  1.31643870e-10]\n",
      " [1.74980078e-03 4.72121636e-01 3.92319288e-04 5.25736244e-01\n",
      "  2.01063176e-11]\n",
      " [1.69067030e-03 1.05509645e-01 1.46761152e-02 8.78123569e-01\n",
      "  1.39830300e-10]\n",
      " [3.01929552e-02 1.67875967e-01 2.69929433e-01 5.32001645e-01\n",
      "  2.51484981e-10]\n",
      " [2.54546022e-04 9.99327323e-01 1.93344745e-05 3.98796996e-04\n",
      "  1.54733202e-12]\n",
      " [5.23699727e-01 1.26140053e-01 2.55361788e-01 9.47983673e-02\n",
      "  6.44656872e-08]\n",
      " [2.31812281e-03 9.81882879e-01 1.89117985e-04 1.56098799e-02\n",
      "  4.04404155e-11]\n",
      " [3.68295470e-05 1.04793091e-04 8.25747814e-06 9.99850120e-01\n",
      "  4.44130014e-13]\n",
      " [2.65073009e-01 4.71433550e-02 4.11189459e-02 6.46664689e-01\n",
      "  1.63401665e-09]\n",
      " [4.56403734e-05 9.99775222e-01 1.02329357e-05 1.68904266e-04\n",
      "  5.24436757e-13]\n",
      " [5.12841054e-03 8.99767023e-01 2.64823917e-04 9.48397423e-02\n",
      "  2.23303127e-10]\n",
      " [2.44638848e-03 9.64757885e-01 2.92686091e-02 3.52711705e-03\n",
      "  7.51105592e-11]\n",
      " [2.16256116e-03 2.30288916e-03 9.76630028e-01 1.89045218e-02\n",
      "  1.07434655e-10]\n",
      " [1.91014306e-02 1.34842217e-02 4.86322275e-01 4.81092073e-01\n",
      "  3.07841126e-10]\n",
      " [1.21898786e-04 9.99357604e-01 6.93789588e-05 4.51118679e-04\n",
      "  1.47433987e-12]\n",
      " [8.55453531e-03 9.74047025e-02 6.25941946e-02 8.31446567e-01\n",
      "  2.20636302e-10]\n",
      " [1.36029977e-02 3.58006958e-02 9.42193090e-01 8.40321581e-03\n",
      "  5.36299731e-10]\n",
      " [1.83225046e-03 8.17341455e-01 4.59559799e-04 1.80366734e-01\n",
      "  6.43436691e-11]]\n"
     ]
    }
   ],
   "source": [
    "posterior = model.infer_labels(anno.annotations)\n",
    "print(posterior)"
   ]
  },
  {
   "cell_type": "markdown",
   "metadata": {},
   "source": [
    "Let's visualize the posterior of the first 10 samples according to ModelBt."
   ]
  },
  {
   "cell_type": "code",
   "execution_count": 181,
   "metadata": {},
   "outputs": [
    {
     "data": {
      "text/plain": [
       "(<matplotlib.figure.Figure at 0x1249f5e48>,\n",
       " (<matplotlib.axes._subplots.AxesSubplot at 0x125e85e80>,\n",
       "  <matplotlib.axes._subplots.AxesSubplot at 0x11c8baa90>))"
      ]
     },
     "execution_count": 181,
     "metadata": {},
     "output_type": "execute_result"
    },
    {
     "data": {
      "image/png": "[encoded data removed]",
      "text/plain": [
       "<matplotlib.figure.Figure at 0x1249f5e48>"
      ]
     },
     "metadata": {},
     "output_type": "display_data"
    }
   ],
   "source": [
    "makeQuestionComparison(model, anno)"
   ]
  },
  {
   "cell_type": "markdown",
   "metadata": {},
   "source": [
    "The property of these scores is that they enable us to identify the most likely code assuming coders of unequal quality, which also allows us to break ties when we know coder identity. We may also use the posterior themselves rather than the most probably code outcome."
   ]
  },
  {
   "cell_type": "markdown",
   "metadata": {},
   "source": [
    "## Visualizing coder accuracy"
   ]
  },
  {
   "cell_type": "markdown",
   "metadata": {},
   "source": [
    "Let's make a plot of the accuracy for each annotator inferred from ModelBt. This might be helpful if you wanted to ban a \"troll\" from your crowdsourcing enterprise. The coder a very low accuracy likelihood is an outlier and should be \"dropped from the team.\""
   ]
  },
  {
   "cell_type": "code",
   "execution_count": 182,
   "metadata": {
    "collapsed": true
   },
   "outputs": [],
   "source": [
    "model = ModelBt.create_initial_state(5,12)\n",
    "model.mle(anno.annotations)\n",
    "samples = model.sample_posterior_over_accuracy(anno.annotations, 200, burn_in_samples=100, thin_samples=3)\n",
    "y =  samples.mean(axis=0)\n",
    "y_ci = samples.std(axis=0)"
   ]
  },
  {
   "cell_type": "code",
   "execution_count": 183,
   "metadata": {},
   "outputs": [
    {
     "data": {
      "image/png": "[encoded data removed]",
      "text/plain": [
       "<matplotlib.figure.Figure at 0x11cadc978>"
      ]
     },
     "metadata": {},
     "output_type": "display_data"
    }
   ],
   "source": [
    "plt.figure()\n",
    "plt.errorbar(range(12),y, yerr = y_ci)\n",
    "plt.show()"
   ]
  },
  {
   "cell_type": "markdown",
   "metadata": {},
   "source": [
    "# Hotel Reviews"
   ]
  },
  {
   "cell_type": "markdown",
   "metadata": {},
   "source": [
    "If we want to do a simpler analysis we can look at a different data set, here are some hotel reviews from [expedia](https://www.kaggle.com/c/expedia-hotel-recommendations)"
   ]
  },
  {
   "cell_type": "code",
   "execution_count": null,
   "metadata": {
    "collapsed": true
   },
   "outputs": [],
   "source": [
    "df_hotels = pandas.read_csv('../data/hot_Reviews.csv', index_col=0)\n",
    "df_hotels[:5]"
   ]
  },
  {
   "cell_type": "markdown",
   "metadata": {},
   "source": [
    "Here a rank of 0 is a missing value and to simplify things more we will convert from a 1-10 scale to a 1-5 scale, with 0 as missing"
   ]
  },
  {
   "cell_type": "code",
   "execution_count": null,
   "metadata": {
    "collapsed": true
   },
   "outputs": [],
   "source": [
    "df_hotels = df_hotels.apply(lambda x: x // 2) #integer divide by 2 rounds all values"
   ]
  },
  {
   "cell_type": "markdown",
   "metadata": {},
   "source": [
    "And we can visualize all the reviews as a heatmap with the missing values greyed out"
   ]
  },
  {
   "cell_type": "code",
   "execution_count": null,
   "metadata": {
    "collapsed": true
   },
   "outputs": [],
   "source": [
    "fig, ax = plt.subplots(figsize = (20,20))\n",
    "seaborn.heatmap(df_hotels, cmap='rainbow', ax = ax)\n",
    "plt.show()"
   ]
  },
  {
   "cell_type": "markdown",
   "metadata": {},
   "source": [
    "To give the dataframe to pyanno we need to convert to np array and change the nans to intergers, lets use -1"
   ]
  },
  {
   "cell_type": "code",
   "execution_count": null,
   "metadata": {
    "collapsed": true
   },
   "outputs": [],
   "source": [
    "hot_mat = np.array(df_hotels.fillna(-1).as_matrix())\n",
    "anno_hot = AnnotationsContainer.from_array(hot_mat, missing_values=[-1])"
   ]
  },
  {
   "cell_type": "code",
   "execution_count": null,
   "metadata": {
    "collapsed": true
   },
   "outputs": [],
   "source": [
    "anno_hot.annotations"
   ]
  },
  {
   "cell_type": "code",
   "execution_count": null,
   "metadata": {
    "collapsed": true
   },
   "outputs": [],
   "source": [
    "anno_hot.labels"
   ]
  },
  {
   "cell_type": "code",
   "execution_count": null,
   "metadata": {
    "collapsed": true
   },
   "outputs": [],
   "source": [
    "anno_hot.missing_values"
   ]
  },
  {
   "cell_type": "markdown",
   "metadata": {},
   "source": [
    "Look at coder agreement"
   ]
  },
  {
   "cell_type": "code",
   "execution_count": null,
   "metadata": {
    "collapsed": true
   },
   "outputs": [],
   "source": [
    "pyanno.measures.agreement.labels_frequency(anno_hot.annotations, 6)#6 possible catagories"
   ]
  },
  {
   "cell_type": "code",
   "execution_count": null,
   "metadata": {
    "collapsed": true
   },
   "outputs": [],
   "source": [
    "c = pyanno.measures.agreement.confusion_matrix(anno_hot.annotations[:,0], anno_hot.annotations[:,1], 6) #6 possible catagories\n",
    "print(c)\n",
    "ac = seaborn.heatmap(c)\n",
    "plt.show()"
   ]
  },
  {
   "cell_type": "markdown",
   "metadata": {},
   "source": [
    "Most agreement is on 2 i.e. an average hotel and there's little agreement as rating go higher, likely due to scarcity in the sample"
   ]
  },
  {
   "cell_type": "code",
   "execution_count": null,
   "metadata": {
    "collapsed": true
   },
   "outputs": [],
   "source": [
    "scotts_pi(anno_hot.annotations[:,0], anno_hot.annotations[:,1])"
   ]
  },
  {
   "cell_type": "code",
   "execution_count": null,
   "metadata": {
    "collapsed": true
   },
   "outputs": [],
   "source": [
    "krippendorffs_alpha(anno_hot.annotations[::])"
   ]
  },
  {
   "cell_type": "code",
   "execution_count": null,
   "metadata": {
    "collapsed": true
   },
   "outputs": [],
   "source": [
    "cohens_kappa(anno_hot.annotations[:,0], anno_hot.annotations[:,1])"
   ]
  },
  {
   "cell_type": "code",
   "execution_count": null,
   "metadata": {
    "collapsed": true
   },
   "outputs": [],
   "source": [
    "m = pairwise_matrix(cohens_kappa, anno_hot.annotations)\n",
    "fig, ax = plt.subplots(figsize = (15, 15))\n",
    "seaborn.heatmap(m, ax =ax)"
   ]
  },
  {
   "cell_type": "markdown",
   "metadata": {},
   "source": [
    "And to look at what model Bt thinkgs the correct reviews are:"
   ]
  },
  {
   "cell_type": "code",
   "execution_count": null,
   "metadata": {
    "collapsed": true
   },
   "outputs": [],
   "source": [
    "model_hot = ModelBt.create_initial_state(6, 49)\n",
    "model_hot.mle(anno_hot.annotations)\n",
    "#print(model.theta)\n",
    "print(model_hot.log_likelihood(anno_hot.annotations))"
   ]
  },
  {
   "cell_type": "code",
   "execution_count": null,
   "metadata": {
    "collapsed": true
   },
   "outputs": [],
   "source": [
    "makeQuestionComparison(model_hot, anno_hot)"
   ]
  },
  {
   "cell_type": "markdown",
   "metadata": {},
   "source": [
    "## <span style=\"color:red\">*Exercise 3*</span>\n",
    "\n",
    "<span style=\"color:red\">In the cells immediately following, use the results of your content annotation survey to predict high and low-quality analysts, then predict MLE or MAP estimates for your codes in question. What do these estimates suggest about the distribution of skill among your coders? How different are these estimates from a majority vote?"
   ]
  },
  {
   "cell_type": "code",
   "execution_count": 184,
   "metadata": {},
   "outputs": [
    {
     "name": "stdout",
     "output_type": "stream",
     "text": [
      "[0.7779622  0.80269807 0.60006881 0.62085785 0.88504998 0.82992979\n",
      " 0.60777341 0.92147786 0.62181771 0.73537586 0.76588243 0.69191327]\n",
      "-1234.2390824603726\n"
     ]
    }
   ],
   "source": [
    "# create a new instance of model B, with 5 label classes and 12 annotators.\n",
    "# Note: I accidently changed some of the code above already to be applied to my data\n",
    "# As such, this will seem repetitive, but in reality, it's not!\n",
    "model2 = ModelBt.create_initial_state(5, 12)\n",
    "print(model2.theta)\n",
    "print(model2.log_likelihood(anno.annotations))"
   ]
  },
  {
   "cell_type": "code",
   "execution_count": 185,
   "metadata": {
    "collapsed": true
   },
   "outputs": [],
   "source": [
    "sample2 = model2.sample_posterior_over_accuracy(anno.annotations, 200, burn_in_samples=100, thin_samples=3)"
   ]
  },
  {
   "cell_type": "code",
   "execution_count": 186,
   "metadata": {},
   "outputs": [
    {
     "name": "stdout",
     "output_type": "stream",
     "text": [
      "[0.16907085 0.84920319 0.59794863 0.49998344 0.08497841 0.60236794\n",
      " 0.38585153 0.16371089 0.207522   0.57089659 0.29768996 0.78115966]\n",
      "-994.5652577290574\n"
     ]
    }
   ],
   "source": [
    "model2.map(anno.annotations)\n",
    "print(model2.theta)\n",
    "print(model2.log_likelihood(anno.annotations))"
   ]
  },
  {
   "cell_type": "code",
   "execution_count": 187,
   "metadata": {},
   "outputs": [
    {
     "name": "stdout",
     "output_type": "stream",
     "text": [
      "[[3.18130995e-03 1.53309412e-01 2.81613943e-03 8.40693138e-01\n",
      "  2.05171410e-10]\n",
      " [1.29618277e-02 7.96961491e-01 1.89144533e-01 9.32148669e-04\n",
      "  4.02091854e-11]\n",
      " [7.79145700e-01 1.91102007e-01 2.85627818e-02 1.18951127e-03\n",
      "  4.89859720e-11]\n",
      " [1.74272712e-02 6.98251532e-01 2.63277487e-01 2.10437077e-02\n",
      "  2.39376049e-09]\n",
      " [1.02510192e-03 9.85556483e-01 5.24950960e-03 8.16890521e-03\n",
      "  1.50651286e-11]\n",
      " [1.92297357e-04 9.99745713e-01 4.76469664e-05 1.43426049e-05\n",
      "  4.80724143e-13]\n",
      " [5.71863956e-03 2.75584989e-01 5.06221858e-03 7.13634152e-01\n",
      "  7.81002099e-10]\n",
      " [3.71081594e-02 3.18223707e-01 6.43224926e-01 1.44320721e-03\n",
      "  5.94335754e-11]\n",
      " [2.31954803e-02 3.90119479e-03 9.72810546e-01 9.27788710e-05\n",
      "  9.81924446e-12]\n",
      " [9.18009821e-03 6.85202700e-01 1.13007910e-02 2.94316409e-01\n",
      "  2.26568907e-09]\n",
      " [9.23394729e-02 4.89419579e-01 3.77738108e-01 4.05028383e-02\n",
      "  9.47400807e-10]\n",
      " [7.31159670e-05 9.99874375e-01 4.36665470e-05 8.84255389e-06\n",
      "  5.36903265e-13]\n",
      " [4.19837328e-04 1.22745377e-02 2.91011626e-04 9.87014613e-01\n",
      "  6.40676083e-12]\n",
      " [5.63884018e-02 3.14158649e-01 6.26676057e-01 2.77689219e-03\n",
      "  7.69650781e-11]\n",
      " [6.94179920e-02 1.87834288e-01 4.93642675e-02 6.93383452e-01\n",
      "  6.25507002e-10]\n",
      " [1.68797192e-03 9.79058997e-01 1.34231019e-03 1.79107212e-02\n",
      "  8.30377944e-12]\n",
      " [4.59784239e-04 1.29542220e-04 2.15648503e-04 9.99195025e-01\n",
      "  3.85476615e-11]\n",
      " [2.06948930e-03 3.45121752e-05 9.97836267e-01 5.97320096e-05\n",
      "  1.48365855e-12]\n",
      " [6.70212096e-03 1.78787110e-02 1.19415543e-03 9.74225013e-01\n",
      "  2.32995871e-11]\n",
      " [1.02510192e-03 9.85556483e-01 5.24950960e-03 8.16890521e-03\n",
      "  1.50651286e-11]\n",
      " [1.62457890e-05 4.98224533e-05 5.38350430e-05 9.99880097e-01\n",
      "  2.66926830e-12]\n",
      " [8.59801677e-04 9.19365570e-01 2.04884545e-03 7.77257822e-02\n",
      "  3.83616882e-10]\n",
      " [1.47630832e-03 6.12638801e-02 6.46208131e-02 8.72638998e-01\n",
      "  3.95676431e-10]\n",
      " [1.40863127e-01 1.55744465e-01 4.14664048e-01 2.88728356e-01\n",
      "  3.65675518e-09]\n",
      " [5.00334357e-04 5.72979382e-01 2.02146646e-03 4.24498818e-01\n",
      "  1.30986453e-11]\n",
      " [4.14580554e-02 9.25628452e-02 8.03045391e-03 8.57948645e-01\n",
      "  5.72566781e-11]\n",
      " [1.02510192e-03 9.85556483e-01 5.24950960e-03 8.16890521e-03\n",
      "  1.50651286e-11]\n",
      " [4.83560536e-03 9.85099174e-01 6.06641030e-03 3.99880972e-03\n",
      "  3.15585054e-10]\n",
      " [4.30450157e-04 7.77693670e-01 8.74450912e-04 2.21001429e-01\n",
      "  2.34757512e-11]\n",
      " [5.45453762e-04 1.85852088e-02 8.76914612e-04 9.79992423e-01\n",
      "  5.68220827e-12]\n",
      " [4.54159239e-03 9.92317963e-01 1.12530460e-03 2.01513986e-03\n",
      "  4.54110965e-11]\n",
      " [8.44627413e-01 1.52167087e-01 2.46383931e-03 7.41660519e-04\n",
      "  9.94269862e-11]\n",
      " [6.50936516e-04 9.93114346e-01 8.01309236e-04 5.43340862e-03\n",
      "  3.01881257e-11]\n",
      " [4.61775441e-05 2.57205832e-05 1.82439164e-04 9.99745663e-01\n",
      "  7.04674075e-13]\n",
      " [9.58805760e-04 5.14384319e-03 9.93728951e-01 1.68400072e-04\n",
      "  1.35419155e-11]\n",
      " [3.83527767e-04 9.84275904e-01 1.54954084e-03 1.37910270e-02\n",
      "  1.05715302e-10]\n",
      " [1.30053949e-03 8.78429496e-01 1.08738033e-02 1.09396161e-01\n",
      "  2.00814144e-11]\n",
      " [4.63899131e-03 5.25174640e-01 3.72015760e-01 9.81706084e-02\n",
      "  1.75550088e-11]\n",
      " [3.05962034e-04 9.99446170e-01 1.90518138e-04 5.73494305e-05\n",
      "  1.93212435e-11]\n",
      " [2.05964990e-03 6.46709334e-04 9.97181835e-01 1.11806187e-04\n",
      "  3.42803081e-11]\n",
      " [2.04489491e-02 9.44284520e-01 4.53258631e-03 3.07339444e-02\n",
      "  1.82910222e-10]\n",
      " [1.55089221e-05 9.30091237e-05 6.26596303e-05 9.99828822e-01\n",
      "  1.02036257e-12]\n",
      " [1.08389884e-02 2.55538331e-02 1.08084610e-01 8.55522568e-01\n",
      "  7.34798933e-11]\n",
      " [1.08085853e-05 9.99934741e-01 4.36691832e-05 1.07816664e-05\n",
      "  2.97927024e-12]\n",
      " [2.34514582e-03 9.28434480e-01 1.14580119e-02 5.77623622e-02\n",
      "  3.57871666e-11]\n",
      " [2.27113916e-04 2.94624815e-02 9.69926294e-01 3.84110417e-04\n",
      "  2.49102416e-11]\n",
      " [8.01361885e-04 1.20775674e-02 9.82867034e-01 4.25403624e-03\n",
      "  8.39279085e-10]\n",
      " [2.24424529e-04 1.01738430e-04 9.97658275e-01 2.01556252e-03\n",
      "  9.01512090e-12]\n",
      " [4.30112392e-06 9.99980673e-01 1.07356857e-05 4.29041193e-06\n",
      "  7.63615136e-13]\n",
      " [2.95325009e-03 3.98954717e-01 3.84771015e-01 2.13321018e-01\n",
      "  2.38730771e-10]\n",
      " [7.18741309e-03 8.31203498e-03 9.78319751e-01 6.18080111e-03\n",
      "  2.53226920e-11]\n",
      " [4.75938962e-02 4.61651786e-01 1.50602465e-02 4.75694071e-01\n",
      "  3.72637206e-10]]\n"
     ]
    }
   ],
   "source": [
    "posterior2 = model2.infer_labels(anno.annotations)\n",
    "print(posterior2)"
   ]
  },
  {
   "cell_type": "code",
   "execution_count": 188,
   "metadata": {
    "collapsed": true
   },
   "outputs": [],
   "source": [
    "def makeQuestionComparison(model, anno_target, num_questions = 12):\n",
    "    votes = []\n",
    "    for r in anno_target.annotations:\n",
    "        v = [0] * len(anno_target.labels)\n",
    "        votes.append(v)\n",
    "        for a in r:\n",
    "            if a > -1:\n",
    "                v[a] += 1\n",
    "    votes_array = np.array(votes)\n",
    "    posterior = model.infer_labels(anno_target.annotations)\n",
    "    fig, (ax1, ax2) = plt.subplots(ncols=2, figsize = (15, 10), sharey=True)\n",
    "\n",
    "    seaborn.heatmap(votes_array[:num_questions], annot = True, ax=ax2)\n",
    "    seaborn.heatmap(np.nan_to_num(posterior,0)[:num_questions], annot=True, ax =ax1)\n",
    "    ax1.set_title(\"Model\")\n",
    "    ax2.set_title(\"Votes\")\n",
    "    return fig, (ax1, ax2)"
   ]
  },
  {
   "cell_type": "code",
   "execution_count": 189,
   "metadata": {},
   "outputs": [
    {
     "data": {
      "text/plain": [
       "(<matplotlib.figure.Figure at 0x125abbe10>,\n",
       " (<matplotlib.axes._subplots.AxesSubplot at 0x1252f9048>,\n",
       "  <matplotlib.axes._subplots.AxesSubplot at 0x123689e10>))"
      ]
     },
     "execution_count": 189,
     "metadata": {},
     "output_type": "execute_result"
    },
    {
     "data": {
      "image/png": "[encoded data removed]",
      "text/plain": [
       "<matplotlib.figure.Figure at 0x125abbe10>"
      ]
     },
     "metadata": {},
     "output_type": "display_data"
    }
   ],
   "source": [
    "makeQuestionComparison(model2, anno)"
   ]
  },
  {
   "cell_type": "code",
   "execution_count": 190,
   "metadata": {},
   "outputs": [
    {
     "name": "stdout",
     "output_type": "stream",
     "text": [
      "[0.72311128 0.63461767 0.82667588 0.86282048 0.71482917 0.66731511\n",
      " 0.89007143 0.84292302 0.88118913 0.90486998 0.87412762 0.89128098]\n",
      "-1305.4278556280863\n"
     ]
    }
   ],
   "source": [
    "# create a new instance of model B, with 2 label classes and 3 annotators.\n",
    "modelB2 = ModelBt.create_initial_state(5, 12)\n",
    "print(modelB2.theta)\n",
    "print(modelB2.log_likelihood(anno.annotations))"
   ]
  },
  {
   "cell_type": "code",
   "execution_count": 191,
   "metadata": {},
   "outputs": [
    {
     "name": "stdout",
     "output_type": "stream",
     "text": [
      "[0.56915411 0.6541762  0.79842521 0.70944779 0.12027487 0.84333653\n",
      " 0.60224616 0.19446283 0.31505118 0.75707781 0.25771645 0.80809483]\n",
      "-1060.2853425371452\n"
     ]
    }
   ],
   "source": [
    "modelB2.map(anno.annotations)\n",
    "print(modelB2.theta)\n",
    "print(modelB2.log_likelihood(anno.annotations))"
   ]
  },
  {
   "cell_type": "code",
   "execution_count": 192,
   "metadata": {},
   "outputs": [
    {
     "data": {
      "text/plain": [
       "array([[0.5651199 , 0.51654178, 0.75131071, ..., 0.46046567, 0.27115287,\n",
       "        0.55592905],\n",
       "       [0.5651199 , 0.51654178, 0.75131071, ..., 0.46046567, 0.27115287,\n",
       "        0.55592905],\n",
       "       [0.5651199 , 0.51654178, 0.75131071, ..., 0.46046567, 0.27115287,\n",
       "        0.55592905],\n",
       "       ...,\n",
       "       [0.53323754, 0.43088541, 0.52909686, ..., 0.46244272, 0.12412698,\n",
       "        0.6197255 ],\n",
       "       [0.53323754, 0.43088541, 0.52909686, ..., 0.46244272, 0.12412698,\n",
       "        0.6197255 ],\n",
       "       [0.52303662, 0.4023927 , 0.6361096 , ..., 0.38918138, 0.17812151,\n",
       "        0.60258382]])"
      ]
     },
     "execution_count": 192,
     "metadata": {},
     "output_type": "execute_result"
    }
   ],
   "source": [
    "modelB2.sample_posterior_over_accuracy(anno.annotations, 200, burn_in_samples=100, thin_samples=3)\n"
   ]
  },
  {
   "cell_type": "code",
   "execution_count": 193,
   "metadata": {},
   "outputs": [
    {
     "name": "stdout",
     "output_type": "stream",
     "text": [
      "[[1.26512837e-03 2.54872825e-01 4.96780697e-04 7.43365265e-01\n",
      "  2.91406629e-10]\n",
      " [1.65775722e-01 7.60771697e-01 7.31780231e-02 2.74557554e-04\n",
      "  7.01692284e-13]\n",
      " [9.95501052e-01 3.54166737e-03 9.41346827e-04 1.59338286e-05\n",
      "  2.21335191e-14]\n",
      " [3.74701592e-02 6.13063574e-01 1.18555699e-01 2.30910567e-01\n",
      "  2.89268528e-10]\n",
      " [1.01863931e-04 9.99265305e-01 4.68123818e-04 1.64707661e-04\n",
      "  7.09680810e-13]\n",
      " [1.75008571e-04 9.99819218e-01 4.10652848e-06 1.66646019e-06\n",
      "  1.22318793e-14]\n",
      " [2.04784391e-03 4.12558738e-01 8.04131302e-04 5.84589286e-01\n",
      "  9.70901899e-10]\n",
      " [4.31843359e-01 2.46769177e-01 3.21040690e-01 3.46773714e-04\n",
      "  4.81699834e-13]\n",
      " [2.79945911e-01 1.81846093e-01 5.37883380e-01 3.24616310e-04\n",
      "  4.48156589e-13]\n",
      " [4.73584501e-03 3.15366423e-01 4.58832190e-03 6.75309404e-01\n",
      "  5.51149421e-09]\n",
      " [1.47950587e-02 2.37704993e-02 9.56899184e-01 4.53525849e-03\n",
      "  4.98105990e-12]\n",
      " [2.01154158e-05 9.99975753e-01 1.81122241e-06 2.31995646e-06\n",
      "  5.11950841e-14]\n",
      " [1.76635621e-05 1.64003296e-02 6.69760307e-06 9.83575309e-01\n",
      "  9.64684092e-15]\n",
      " [2.41609751e-03 9.84406092e-01 1.28658579e-02 3.11952493e-04\n",
      "  8.11287221e-14]\n",
      " [1.29720630e-02 8.16403506e-01 4.65122736e-03 1.65973203e-01\n",
      "  7.25369966e-12]\n",
      " [2.18503413e-04 9.99171864e-01 3.21575090e-05 5.77474747e-04\n",
      "  8.93146593e-14]\n",
      " [3.98613905e-04 3.24781544e-05 4.22419846e-05 9.99526666e-01\n",
      "  1.33852095e-11]\n",
      " [7.07833432e-03 1.64770910e-04 9.92563457e-01 1.93437574e-04\n",
      "  3.17503361e-14]\n",
      " [3.42198788e-02 7.12380409e-02 3.25437584e-04 8.94216643e-01\n",
      "  5.90117664e-12]\n",
      " [1.01863931e-04 9.99265305e-01 4.68123818e-04 1.64707661e-04\n",
      "  7.09680810e-13]\n",
      " [2.56597312e-06 8.34088039e-05 4.54590752e-06 9.99909479e-01\n",
      "  2.50280652e-14]\n",
      " [5.00144389e-04 7.59204529e-01 3.59118366e-04 2.39936208e-01\n",
      "  2.09363732e-10]\n",
      " [8.71624114e-04 1.26774930e-03 1.13653075e-02 9.86495319e-01\n",
      "  2.15764403e-12]\n",
      " [1.17899665e-02 7.73763109e-02 3.67223087e-03 9.07161492e-01\n",
      "  1.21021205e-11]\n",
      " [6.23739718e-05 7.86901723e-01 6.21982148e-05 2.12973705e-01\n",
      "  3.17834650e-13]\n",
      " [1.46869667e-02 2.17564254e-01 2.63655611e-03 7.65112223e-01\n",
      "  3.31322550e-12]\n",
      " [1.01863931e-04 9.99265305e-01 4.68123818e-04 1.64707661e-04\n",
      "  7.09680810e-13]\n",
      " [1.78333187e-02 8.82473215e-01 7.62225772e-03 9.20712088e-02\n",
      "  3.58048362e-11]\n",
      " [1.01972772e-04 5.77917057e-01 7.11831716e-04 4.21269138e-01\n",
      "  1.36567215e-13]\n",
      " [1.41706747e-04 3.90962404e-03 2.33316469e-05 9.95925338e-01\n",
      "  1.19225380e-13]\n",
      " [2.62514324e-02 9.69172116e-01 6.15982715e-04 3.96046914e-03\n",
      "  1.79202113e-11]\n",
      " [9.91732004e-01 8.14540952e-03 8.71999409e-05 3.53863928e-05\n",
      "  2.53682664e-12]\n",
      " [2.51284545e-05 9.99875771e-01 2.43456949e-05 7.47553228e-05\n",
      "  2.34587211e-12]\n",
      " [1.72178878e-07 9.56400941e-08 1.04627277e-06 9.99998686e-01\n",
      "  9.40343874e-17]\n",
      " [5.69237083e-03 4.44321134e-02 9.49400283e-01 4.75233177e-04\n",
      "  1.14826380e-11]\n",
      " [5.37336183e-04 8.67135811e-01 5.35822080e-04 1.31791030e-01\n",
      "  2.97990766e-10]\n",
      " [1.08125283e-04 9.82227410e-01 8.85717393e-04 1.67787473e-02\n",
      "  3.96727947e-13]\n",
      " [1.05287359e-03 7.66128862e-02 8.54234629e-01 6.80996115e-02\n",
      "  2.95211217e-12]\n",
      " [2.82180747e-04 9.99661444e-01 4.01016786e-05 1.62735632e-05\n",
      "  7.06572620e-12]\n",
      " [3.41667487e-03 1.05614730e-03 9.95108344e-01 4.18833625e-04\n",
      "  2.37081199e-12]\n",
      " [2.04359435e-02 9.78028232e-01 3.77298891e-04 1.15852517e-03\n",
      "  1.09764051e-11]\n",
      " [1.39476558e-06 1.38366097e-05 1.39083542e-06 9.99983378e-01\n",
      "  4.30446040e-14]\n",
      " [1.77648313e-02 4.10295468e-01 2.54953555e-02 5.46444345e-01\n",
      "  8.23923422e-13]\n",
      " [1.81637557e-06 9.99995067e-01 1.81125739e-06 1.30585287e-06\n",
      "  1.00730821e-12]\n",
      " [5.62392390e-04 3.44969708e-01 1.58279995e-02 6.38639900e-01\n",
      "  3.07146989e-13]\n",
      " [1.45571427e-04 5.36262188e-02 9.46082866e-01 1.45343978e-04\n",
      "  1.33294800e-11]\n",
      " [2.38319764e-04 1.43188514e-02 9.83306924e-01 2.13590523e-03\n",
      "  2.34786448e-11]\n",
      " [1.36318013e-04 4.00111735e-04 9.88192137e-01 1.12714337e-02\n",
      "  8.29588463e-13]\n",
      " [2.99907789e-07 9.99999088e-01 3.96198599e-07 2.15613695e-07\n",
      "  2.07287991e-14]\n",
      " [4.52700193e-04 3.39812220e-02 1.21174625e-01 8.44391453e-01\n",
      "  2.64399272e-12]\n",
      " [3.47229647e-02 3.74568750e-03 9.49271983e-01 1.22593646e-02\n",
      "  2.87887220e-13]\n",
      " [1.41943840e-01 6.92571495e-01 3.44922140e-03 1.62035443e-01\n",
      "  9.35659149e-11]]\n"
     ]
    }
   ],
   "source": [
    "posterior = modelB2.infer_labels(anno.annotations)\n",
    "print(posterior)"
   ]
  },
  {
   "cell_type": "code",
   "execution_count": 194,
   "metadata": {},
   "outputs": [
    {
     "data": {
      "text/plain": [
       "(<matplotlib.figure.Figure at 0x11c8e5a20>,\n",
       " (<matplotlib.axes._subplots.AxesSubplot at 0x11ef34780>,\n",
       "  <matplotlib.axes._subplots.AxesSubplot at 0x124cc5f28>))"
      ]
     },
     "execution_count": 194,
     "metadata": {},
     "output_type": "execute_result"
    },
    {
     "data": {
      "image/png": "[encoded data removed]",
      "text/plain": [
       "<matplotlib.figure.Figure at 0x11c8e5a20>"
      ]
     },
     "metadata": {},
     "output_type": "display_data"
    }
   ],
   "source": [
    "makeQuestionComparison(modelB2, anno)"
   ]
  },
  {
   "cell_type": "code",
   "execution_count": 195,
   "metadata": {
    "collapsed": true
   },
   "outputs": [],
   "source": [
    "#Coder Accuracy\n",
    "model = ModelBt.create_initial_state(5,12)\n",
    "model.mle(anno.annotations)\n",
    "samples = model.sample_posterior_over_accuracy(anno.annotations, 200, burn_in_samples=100, thin_samples=3)\n",
    "y =  samples.mean(axis=0)\n",
    "y_ci = samples.std(axis=0)"
   ]
  },
  {
   "cell_type": "code",
   "execution_count": 196,
   "metadata": {},
   "outputs": [
    {
     "data": {
      "image/png": "[encoded data removed]",
      "text/plain": [
       "<matplotlib.figure.Figure at 0x123346470>"
      ]
     },
     "metadata": {},
     "output_type": "display_data"
    }
   ],
   "source": [
    "plt.figure()\n",
    "plt.errorbar(range(12),y, yerr = y_ci)\n",
    "plt.show()"
   ]
  },
  {
   "cell_type": "code",
   "execution_count": null,
   "metadata": {
    "collapsed": true
   },
   "outputs": [],
   "source": [
    "#Now that I'm looking at this, I'm wondering if my measures are correct, given that I actually had 50 response? I think I mixed up the variables."
   ]
  }
 ],
 "metadata": {
  "anaconda-cloud": {},
  "kernelspec": {
   "display_name": "Python 3",
   "language": "python",
   "name": "python3"
  },
  "language_info": {
   "codemirror_mode": {
    "name": "ipython",
    "version": 3
   },
   "file_extension": ".py",
   "mimetype": "text/x-python",
   "name": "python",
   "nbconvert_exporter": "python",
   "pygments_lexer": "ipython3",
   "version": "3.6.3"
  }
 },
 "nbformat": 4,
 "nbformat_minor": 1
}
